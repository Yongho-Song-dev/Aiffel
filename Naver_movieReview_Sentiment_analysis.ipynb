{
 "cells": [
  {
   "cell_type": "markdown",
   "metadata": {},
   "source": [
    "### 딥러닝을 활용한 Naver 영화 리뷰 감성 분석\n",
    "우선 Naver 데이터 셋을 받고 그 후 리뷰 분석을 시작해 봅시다. \n",
    "\n",
    "[네이버 영화 리뷰 데이터셋 ](https://github.com/e9t/nsmc \"네이버 영화리뷰 데이터셋\") "
   ]
  },
  {
   "cell_type": "markdown",
   "metadata": {},
   "source": [
    "- 데이터 준비 및 맞게 불러졌는지 확인"
   ]
  },
  {
   "cell_type": "code",
   "execution_count": 1,
   "metadata": {},
   "outputs": [
    {
     "ename": "SyntaxError",
     "evalue": "invalid syntax (<ipython-input-1-46fccf796064>, line 1)",
     "output_type": "error",
     "traceback": [
      "\u001b[0;36m  File \u001b[0;32m\"<ipython-input-1-46fccf796064>\"\u001b[0;36m, line \u001b[0;32m1\u001b[0m\n\u001b[0;31m    시작하기에 앞서 한국어 정보 처리를 위한 패키지를 다운 받읍시다.\u001b[0m\n\u001b[0m           ^\u001b[0m\n\u001b[0;31mSyntaxError\u001b[0m\u001b[0;31m:\u001b[0m invalid syntax\n"
     ]
    }
   ],
   "source": [
    "# 시작하기에 앞서 한국어 정보 처리를 위한 패키지를 다운 받읍시다.\n",
    "# konlpy 패키지 설치\n",
    "# 한국어 정보처리를 위한 파이썬 패키지 [우분투]\n",
    "# sudo apt-get install python3-dev; pip3 install konlpy   # Python 3.x\n",
    "\n",
    "# 2.MeCab 설치하기 (선택사항)\n",
    "# sudo apt-get install curl\n",
    "# bash <(curl -s https://raw.githubusercontent.com/konlpy/konlpy/master/scripts/mecab.sh)\n",
    "\n",
    "# [윈도우]\n",
    "# pip install konlpy"
   ]
  },
  {
   "cell_type": "code",
   "execution_count": 3,
   "metadata": {},
   "outputs": [],
   "source": [
    "import pandas as pd\n",
    "import urllib.request\n",
    "%matplotlib inline\n",
    "import matplotlib.pyplot as plt\n",
    "import re\n",
    "from konlpy.tag import Okt\n",
    "from tensorflow import keras\n",
    "from tensorflow.keras.preprocessing.text import Tokenizer\n",
    "import numpy as np\n",
    "from tensorflow.keras.preprocessing.sequence import pad_sequences\n",
    "from collections import Counter\n",
    "import tensorflow as tf\n",
    "tf.random.set_seed(14) # 실험환경 셋팅 seed 고정\n",
    "# 데이터를 읽어봅시다. "
   ]
  },
  {
   "cell_type": "code",
   "execution_count": 6,
   "metadata": {},
   "outputs": [
    {
     "data": {
      "text/html": [
       "<div>\n",
       "<style scoped>\n",
       "    .dataframe tbody tr th:only-of-type {\n",
       "        vertical-align: middle;\n",
       "    }\n",
       "\n",
       "    .dataframe tbody tr th {\n",
       "        vertical-align: top;\n",
       "    }\n",
       "\n",
       "    .dataframe thead th {\n",
       "        text-align: right;\n",
       "    }\n",
       "</style>\n",
       "<table border=\"1\" class=\"dataframe\">\n",
       "  <thead>\n",
       "    <tr style=\"text-align: right;\">\n",
       "      <th></th>\n",
       "      <th>id</th>\n",
       "      <th>document</th>\n",
       "      <th>label</th>\n",
       "    </tr>\n",
       "  </thead>\n",
       "  <tbody>\n",
       "    <tr>\n",
       "      <th>0</th>\n",
       "      <td>9976970</td>\n",
       "      <td>아 더빙.. 진짜 짜증나네요 목소리</td>\n",
       "      <td>0</td>\n",
       "    </tr>\n",
       "    <tr>\n",
       "      <th>1</th>\n",
       "      <td>3819312</td>\n",
       "      <td>흠...포스터보고 초딩영화줄....오버연기조차 가볍지 않구나</td>\n",
       "      <td>1</td>\n",
       "    </tr>\n",
       "    <tr>\n",
       "      <th>2</th>\n",
       "      <td>10265843</td>\n",
       "      <td>너무재밓었다그래서보는것을추천한다</td>\n",
       "      <td>0</td>\n",
       "    </tr>\n",
       "    <tr>\n",
       "      <th>3</th>\n",
       "      <td>9045019</td>\n",
       "      <td>교도소 이야기구먼 ..솔직히 재미는 없다..평점 조정</td>\n",
       "      <td>0</td>\n",
       "    </tr>\n",
       "    <tr>\n",
       "      <th>4</th>\n",
       "      <td>6483659</td>\n",
       "      <td>사이몬페그의 익살스런 연기가 돋보였던 영화!스파이더맨에서 늙어보이기만 했던 커스틴 ...</td>\n",
       "      <td>1</td>\n",
       "    </tr>\n",
       "  </tbody>\n",
       "</table>\n",
       "</div>"
      ],
      "text/plain": [
       "         id                                           document  label\n",
       "0   9976970                                아 더빙.. 진짜 짜증나네요 목소리      0\n",
       "1   3819312                  흠...포스터보고 초딩영화줄....오버연기조차 가볍지 않구나      1\n",
       "2  10265843                                  너무재밓었다그래서보는것을추천한다      0\n",
       "3   9045019                      교도소 이야기구먼 ..솔직히 재미는 없다..평점 조정      0\n",
       "4   6483659  사이몬페그의 익살스런 연기가 돋보였던 영화!스파이더맨에서 늙어보이기만 했던 커스틴 ...      1"
      ]
     },
     "execution_count": 6,
     "metadata": {},
     "output_type": "execute_result"
    }
   ],
   "source": [
    "train_data = pd.read_table('~/aiffel/sentiment_classification/ratings_train.txt')\n",
    "test_data = pd.read_table('~/aiffel/sentiment_classification/ratings_test.txt')\n",
    "\n",
    "train_data.head()"
   ]
  },
  {
   "cell_type": "markdown",
   "metadata": {},
   "source": [
    "- IMDB 데이터셋은 가공한 텍스트를 딕셔너리로 제공 했지만, <br>nsmc 데이터셋은 전혀 가공되지 않은 텍스트 파일로 이루어져 있다. \n",
    "\n",
    "따라서 이것을 가공하여 imdb.data_lodaer()과 동일하게 동작하는 data_loder를 만들어야 한다. "
   ]
  },
  {
   "cell_type": "markdown",
   "metadata": {},
   "source": [
    "### 가공 할때 생각해야 하는 요소들\n",
    "\n",
    "- 데이터의 중복 제거\n",
    "- NaN 결측치 제거\n",
    "- 한국어 토크나이저로 토큰화\n",
    "- 불용어(Stopwords) 제거\n",
    "- 사전word_to_index 구성\n",
    "- 텍스트 스트링을 사전 인덱스 스트링으로 변환\n",
    "- X_train, y_train, X_test, y_test, word_to_index 리턴\n"
   ]
  },
  {
   "cell_type": "markdown",
   "metadata": {},
   "source": [
    "##### Numpy 함수 \n",
    "- concatenate :<br>\n",
    "  Numpy 배열들을 하나로 합치는 함수"
   ]
  },
  {
   "cell_type": "code",
   "execution_count": 58,
   "metadata": {},
   "outputs": [
    {
     "name": "stdout",
     "output_type": "stream",
     "text": [
      "[[ 1  2]\n",
      " [ 3  4]\n",
      " [ 7  8]\n",
      " [ 9 10]\n",
      " [11 12]]\n",
      "[[ 1  2  7  9 11]\n",
      " [ 3  4  8 10 12]]\n",
      "[ 1  2  3  4  7  8  9 10 11 12]\n"
     ]
    }
   ],
   "source": [
    "import numpy as np\n",
    "\n",
    "a = np.array([[1, 2], [3, 4]])\n",
    "b = np.array([[7, 8], [9, 10], [11, 12]])\n",
    "\n",
    "print(np.concatenate((a, b), axis=0))\n",
    "print(np.concatenate((a, b.T), axis=1))\n",
    "print(np.concatenate((a, b), axis=None))"
   ]
  },
  {
   "cell_type": "code",
   "execution_count": 59,
   "metadata": {},
   "outputs": [
    {
     "data": {
      "text/plain": [
       "pandas.core.frame.DataFrame"
      ]
     },
     "execution_count": 59,
     "metadata": {},
     "output_type": "execute_result"
    }
   ],
   "source": [
    "type(train_data) #  train_data 형식 확인 pandas로 가져와서 DataFrame이다."
   ]
  },
  {
   "cell_type": "code",
   "execution_count": 7,
   "metadata": {},
   "outputs": [],
   "source": [
    "# 가공하고 load_data 해야한다.\n",
    "from konlpy.tag import Mecab\n",
    "tokenizer = Mecab()\n",
    "stopwords = ['의','가','이','은','들','는','좀','잘','걍','과','도','를','으로','자','에','와','한','하다']\n",
    "\n",
    "def load_data(train_data, test_data, num_words=10000):\n",
    "    train_data.drop_duplicates(subset=['document'], inplace=True)\n",
    "    train_data = train_data.dropna(how = 'any') \n",
    "    test_data.drop_duplicates(subset=['document'], inplace=True)\n",
    "    test_data = test_data.dropna(how = 'any') \n",
    "\n",
    "    X_train = []\n",
    "    for sentence in train_data['document']:\n",
    "        temp_X = tokenizer.morphs(sentence) # 토큰화\n",
    "        temp_X = [word for word in temp_X if not word in stopwords] # 불용어 제거\n",
    "        X_train.append(temp_X)\n",
    "\n",
    "    X_test = []\n",
    "    for sentence in test_data['document']:\n",
    "        temp_X = tokenizer.morphs(sentence) # 토큰화\n",
    "        temp_X = [word for word in temp_X if not word in stopwords] # 불용어 제거\n",
    "        X_test.append(temp_X)\n",
    "\n",
    "    # concatenate : Numpy 배열들을 하나로 합치는 함수\n",
    "\n",
    "    words = np.concatenate(X_train).tolist()\n",
    "    counter = Counter(words)\n",
    "    counter = counter.most_common(10000-4)\n",
    "    vocab = ['<PAD>', '<BOS>', '<UNK>', '<UNUSED>'] + [key for key, _ in counter]\n",
    "    word_to_index = {word:index for index, word in enumerate(vocab)}\n",
    "\n",
    "    def wordlist_to_indexlist(wordlist):\n",
    "        return [word_to_index[word] if word in word_to_index else word_to_index['<UNK>'] for word in wordlist]\n",
    "\n",
    "    X_train = list(map(wordlist_to_indexlist, X_train))\n",
    "    X_test = list(map(wordlist_to_indexlist, X_test))\n",
    "\n",
    "    return X_train, np.array(list(train_data['label'])), X_test, np.array(list(test_data['label'])), word_to_index"
   ]
  },
  {
   "cell_type": "code",
   "execution_count": 8,
   "metadata": {},
   "outputs": [],
   "source": [
    "x_train, y_train, x_test, y_test, word_to_index = load_data(train_data, test_data)"
   ]
  },
  {
   "cell_type": "code",
   "execution_count": 9,
   "metadata": {},
   "outputs": [
    {
     "name": "stdout",
     "output_type": "stream",
     "text": [
      "[32, 74, 919, 4, 4, 39, 228, 20, 33, 748]\n",
      "라벨:  0\n",
      "1번째 리뷰 문장 길이:  10\n"
     ]
    }
   ],
   "source": [
    "print(x_train[0])  # 1번째 리뷰데이터\n",
    "print('라벨: ', y_train[0])  # 1번째 리뷰데이터의 라벨\n",
    "print('1번째 리뷰 문장 길이: ', len(x_train[0]))"
   ]
  },
  {
   "cell_type": "code",
   "execution_count": 10,
   "metadata": {},
   "outputs": [],
   "source": [
    "# word_to_index -> index_to_word\n",
    "index_to_word = {index:word for word, index in word_to_index.items()}"
   ]
  },
  {
   "cell_type": "code",
   "execution_count": 3,
   "metadata": {},
   "outputs": [],
   "source": [
    "index_to_word\n",
    "# Git Hub에 올리니 스크롤이 없는 형태로 모든 정보를 다 나타내서 실행하지 않은 채로 \n",
    "# commit 진행"
   ]
  },
  {
   "cell_type": "code",
   "execution_count": 11,
   "metadata": {},
   "outputs": [],
   "source": [
    "# 문장 1개를 활용할 딕셔너리와 함께 주면, 단어 인덱스 리스트 벡터로 변환해 주는 함수입니다. \n",
    "# 단, 모든 문장은 <BOS>로 시작하는 것으로 합니다. \n",
    "def get_encoded_sentence(sentence, word_to_index):\n",
    "    return [word_to_index['<BOS>']]+[word_to_index[word] if word in word_to_index else word_to_index['<UNK>'] for word in sentence.split()]\n",
    "\n",
    "# 여러 개의 문장 리스트를 한꺼번에 단어 인덱스 리스트 벡터로 encode해 주는 함수입니다. \n",
    "def get_encoded_sentences(sentences, word_to_index):\n",
    "    return [get_encoded_sentence(sentence, word_to_index) for sentence in sentences]\n",
    "\n",
    "# 숫자 벡터로 encode된 문장을 원래대로 decode하는 함수입니다. \n",
    "def get_decoded_sentence(encoded_sentence, index_to_word):\n",
    "    return ' '.join(index_to_word[index] if index in index_to_word else '<UNK>' for index in encoded_sentence[1:])  #[1:]를 통해 <BOS>를 제외\n",
    "\n",
    "# 여러개의 숫자 벡터로 encode된 문장을 한꺼번에 원래대로 decode하는 함수입니다. \n",
    "def get_decoded_sentences(encoded_sentences, index_to_word):\n",
    "    return [get_decoded_sentence(encoded_sentence, index_to_word) for encoded_sentence in encoded_sentences]"
   ]
  },
  {
   "cell_type": "markdown",
   "metadata": {},
   "source": [
    "### 데이터 분석 , 패딩"
   ]
  },
  {
   "cell_type": "code",
   "execution_count": 6,
   "metadata": {},
   "outputs": [],
   "source": [
    "# train data 확인\n",
    "x_train\n",
    "# index_to_word와 동일"
   ]
  },
  {
   "cell_type": "code",
   "execution_count": 12,
   "metadata": {},
   "outputs": [
    {
     "name": "stdout",
     "output_type": "stream",
     "text": [
      "더 빙 . . 진짜 짜증 나 네요 목소리\n",
      "라벨:  1\n"
     ]
    }
   ],
   "source": [
    "print(get_decoded_sentence(x_train[0], index_to_word))\n",
    "print('라벨: ', y_train[1])"
   ]
  },
  {
   "cell_type": "code",
   "execution_count": 48,
   "metadata": {
    "scrolled": true
   },
   "outputs": [
    {
     "name": "stdout",
     "output_type": "stream",
     "text": [
      ". .. 포스터 보고 초딩 영화 줄 . ... 오버 연기 조차 가볍 지 않 구나\n",
      "라벨:  1\n"
     ]
    }
   ],
   "source": [
    "print(get_decoded_sentence(x_train[1], index_to_word))\n",
    "print('라벨: ', y_train[1])"
   ]
  },
  {
   "cell_type": "markdown",
   "metadata": {},
   "source": [
    "- 디코드 하면서 데이터 확인"
   ]
  },
  {
   "cell_type": "markdown",
   "metadata": {},
   "source": [
    "#### 패딩할 데이터 길이 확인"
   ]
  },
  {
   "cell_type": "code",
   "execution_count": 13,
   "metadata": {},
   "outputs": [
    {
     "name": "stdout",
     "output_type": "stream",
     "text": [
      "문장길이 평균 :  15.969355837799927\n",
      "문장길이 최대 :  116\n",
      "문장길이 표준편차 :  12.843536204665021\n",
      "pad_sequences maxlen :  51\n",
      "전체 문장의 0.9631000465856793%가 maxlen 설정값 이내에 포함됩니다. \n"
     ]
    }
   ],
   "source": [
    "total_data_text = list(x_train) + list(x_test)\n",
    "# 텍스트데이터 문장길이의 리스트를 생성한 후\n",
    "num_tokens = [len(tokens) for tokens in total_data_text]  # 문장의 길이로 이루어진 리스트 생성\n",
    "num_tokens = np.array(num_tokens)   # ndarray로 변환\n",
    "# 문장길이의 평균값, 최대값, 표준편차를 계산해 본다. \n",
    "print('문장길이 평균 : ', np.mean(num_tokens))\n",
    "print('문장길이 최대 : ', np.max(num_tokens))\n",
    "print('문장길이 표준편차 : ', np.std(num_tokens))\n",
    "\n",
    "# maxlen지정 : 최대 길이를 (평균 + 2.5*표준편차)로 지정  \n",
    "max_tokens = np.mean(num_tokens) + 2.8 * np.std(num_tokens)\n",
    "maxlen = int(max_tokens)\n",
    "print('pad_sequences maxlen : ', maxlen)\n",
    "print('전체 문장의 {}%가 maxlen 설정값 이내에 포함됩니다. '.format(np.sum(num_tokens < max_tokens) / len(num_tokens)))"
   ]
  },
  {
   "cell_type": "markdown",
   "metadata": {},
   "source": [
    "- keras.preprocessing.sequence.pad_sequences 패딩 진행\n",
    "- 영어의 경우 중요한 문장이 앞쪽에 있어서 pre 부분의 중요한 점이 많았지만, <br> 한국어 특성상 뒷쪽에 중요한 내용이 있어서 뒷 post를 먼저 진행한다."
   ]
  },
  {
   "cell_type": "code",
   "execution_count": 14,
   "metadata": {},
   "outputs": [],
   "source": [
    "# padding을 post(뒷쪽)으로 결정\n",
    "x_train = keras.preprocessing.sequence.pad_sequences(x_train,\n",
    "                                                        value=word_to_index[\"<PAD>\"],\n",
    "                                                        padding='post', # 혹은 'pre'\n",
    "                                                        maxlen=maxlen)\n",
    "\n",
    "x_test = keras.preprocessing.sequence.pad_sequences(x_test,\n",
    "                                                       value=word_to_index[\"<PAD>\"],\n",
    "                                                       padding='post', # 혹은 'pre'\n",
    "                                                       maxlen=maxlen)"
   ]
  },
  {
   "cell_type": "code",
   "execution_count": 15,
   "metadata": {},
   "outputs": [
    {
     "name": "stdout",
     "output_type": "stream",
     "text": [
      "(146182, 51)\n"
     ]
    }
   ],
   "source": [
    "print(x_train.shape)"
   ]
  },
  {
   "cell_type": "markdown",
   "metadata": {},
   "source": [
    "---"
    "## 모델 구성 및 설계"
    "- RNN, 1-D CNN"
   ]
  },
  {
   "cell_type": "markdown",
   "metadata": {},
   "source": [
    "  \n",
    "## 1.1 LSTM 모델 사용  \n",
   ]
  },
  {
   "cell_type": "code",
   "execution_count": 156,
   "metadata": {},
   "outputs": [
    {
     "name": "stdout",
     "output_type": "stream",
     "text": [
      "Model: \"sequential_8\"\n",
      "_________________________________________________________________\n",
      "Layer (type)                 Output Shape              Param #   \n",
      "=================================================================\n",
      "embedding_6 (Embedding)      (None, None, 32)          320000    \n",
      "_________________________________________________________________\n",
      "lstm_3 (LSTM)                (None, 32)                8320      \n",
      "_________________________________________________________________\n",
      "dense_12 (Dense)             (None, 8)                 264       \n",
      "_________________________________________________________________\n",
      "dense_13 (Dense)             (None, 1)                 9         \n",
      "=================================================================\n",
      "Total params: 328,593\n",
      "Trainable params: 328,593\n",
      "Non-trainable params: 0\n",
      "_________________________________________________________________\n"
     ]
    }
   ],
   "source": [
    "vocab_size = 10000    # 어휘 사전의 크기입니다(10,000개의 단어)\n",
    "word_vector_dim = 32  # 워드 벡터의 차원수 (변경가능한 하이퍼파라미터)\n",
    "\n",
    "# model 설계 \n",
    "model = keras.Sequential()\n",
    "model.add(keras.layers.Embedding(vocab_size, word_vector_dim, input_shape=(None,)))\n",
    "model.add(keras.layers.LSTM(32))   # 가장 널리 쓰이는 RNN인 LSTM 레이어를 사용하였습니다. \n",
    "                        # LSTM state 벡터의 차원수는 8로 하였습니다. (변경가능)\n",
    "                        # 1차시 8, 2차시 16\n",
    "model.add(keras.layers.Dense(8, activation='relu'))\n",
    "model.add(keras.layers.Dense(1, activation='sigmoid'))  # 최종 출력은 긍정/부정을 나타내는 1dim 입니다.\n",
    "\n",
    "model.summary()"
   ]
  },
  {
   "cell_type": "markdown",
   "metadata": {},
   "source": [
    "- 총 x_train data의 약10% 분리하기\n",
    "\n",
    "- 131564 : train data\n",
    "- 14618 : val data\n",
    "\n",
    "=> \n",
    "```\n",
    "1537/1537 - 2s - loss: 0.4190 - accuracy: 0.8388\n",
    "[0.4189649522304535, 0.8388022184371948]\n",
    "```\n",
    "\n",
    "- 총 x_train data의 약20% 분리하기\n",
    "\n",
    "- 116946 : train data\n",
    "- 29236 : val data\n",
    "\n",
    "=> \n",
    "```\n",
    "조금 더 나은 성능\n",
    "1537/1537 - 2s - loss: 0.4386 - accuracy: 0.8433\n",
    "[0.438597172498703, 0.8432573080062866]\n",
    "```\n",
    "---\n",
    "\n",
    "```\n",
    "model_vector_dim = 32\n",
    "LSTM(32) \n",
    "1537/1537 - 2s - loss: 0.4610 - accuracy: 0.8398\n",
    "[0.46100175380706787, 0.8397989869117737]\n",
    "```"
   ]
  },
  {
   "cell_type": "code",
   "execution_count": 157,
   "metadata": {},
   "outputs": [
    {
     "name": "stdout",
     "output_type": "stream",
     "text": [
      "(116946, 54)\n",
      "(116946,)\n",
      "(29236, 54)\n",
      "(29236,)\n"
     ]
    }
   ],
   "source": [
    "# validation set 분리\n",
    "separation_train = int(x_train.shape[0]*0.2)\n",
    "x_val = x_train[:separation_train]   \n",
    "y_val = y_train[:separation_train]\n",
    "\n",
    "# validation set을 제외한 나머지\n",
    "partial_x_train = x_train[separation_train:]  \n",
    "partial_y_train = y_train[separation_train:]\n",
    "\n",
    "print(partial_x_train.shape)\n",
    "print(partial_y_train.shape)\n",
    "print(x_val.shape)\n",
    "print(y_val.shape)"
   ]
  },
  {
   "cell_type": "markdown",
   "metadata": {},
   "source": [
    "- 1.1 LSTM모델 학습 "
   ]
  },
  {
   "cell_type": "code",
   "execution_count": 158,
   "metadata": {},
   "outputs": [
    {
     "name": "stdout",
     "output_type": "stream",
     "text": [
      "Epoch 1/15\n",
      "229/229 [==============================] - 2s 9ms/step - loss: 0.5404 - accuracy: 0.6891 - val_loss: 0.3625 - val_accuracy: 0.8444\n",
      "Epoch 2/15\n",
      "229/229 [==============================] - 2s 8ms/step - loss: 0.3438 - accuracy: 0.8537 - val_loss: 0.3462 - val_accuracy: 0.8497\n",
      "Epoch 3/15\n",
      "229/229 [==============================] - 2s 8ms/step - loss: 0.3202 - accuracy: 0.8638 - val_loss: 0.3443 - val_accuracy: 0.8509\n",
      "Epoch 4/15\n",
      "229/229 [==============================] - 2s 8ms/step - loss: 0.3041 - accuracy: 0.8711 - val_loss: 0.3525 - val_accuracy: 0.8434\n",
      "Epoch 5/15\n",
      "229/229 [==============================] - 2s 8ms/step - loss: 0.2927 - accuracy: 0.8753 - val_loss: 0.3601 - val_accuracy: 0.8498\n",
      "Epoch 6/15\n",
      "229/229 [==============================] - 2s 8ms/step - loss: 0.2804 - accuracy: 0.8789 - val_loss: 0.3711 - val_accuracy: 0.8465\n",
      "Epoch 7/15\n",
      "229/229 [==============================] - 2s 8ms/step - loss: 0.2669 - accuracy: 0.8840 - val_loss: 0.3556 - val_accuracy: 0.8501\n",
      "Epoch 8/15\n",
      "229/229 [==============================] - 2s 8ms/step - loss: 0.2546 - accuracy: 0.8889 - val_loss: 0.3679 - val_accuracy: 0.8491\n",
      "Epoch 9/15\n",
      "229/229 [==============================] - 2s 9ms/step - loss: 0.2442 - accuracy: 0.8931 - val_loss: 0.3862 - val_accuracy: 0.8482\n",
      "Epoch 10/15\n",
      "229/229 [==============================] - 2s 8ms/step - loss: 0.2327 - accuracy: 0.8986 - val_loss: 0.3947 - val_accuracy: 0.8511\n",
      "Epoch 11/15\n",
      "229/229 [==============================] - 2s 8ms/step - loss: 0.2214 - accuracy: 0.9038 - val_loss: 0.3841 - val_accuracy: 0.8503\n",
      "Epoch 12/15\n",
      "229/229 [==============================] - 2s 8ms/step - loss: 0.2094 - accuracy: 0.9096 - val_loss: 0.4187 - val_accuracy: 0.8464\n",
      "Epoch 13/15\n",
      "229/229 [==============================] - 2s 8ms/step - loss: 0.1997 - accuracy: 0.9149 - val_loss: 0.4148 - val_accuracy: 0.8428\n",
      "Epoch 14/15\n",
      "229/229 [==============================] - 2s 8ms/step - loss: 0.1898 - accuracy: 0.9199 - val_loss: 0.4486 - val_accuracy: 0.8404\n",
      "Epoch 15/15\n",
      "229/229 [==============================] - 2s 8ms/step - loss: 0.1818 - accuracy: 0.9246 - val_loss: 0.4455 - val_accuracy: 0.8403\n"
     ]
    }
   ],
   "source": [
    "# 모델 학습\n",
    "model.compile(optimizer='adam',\n",
    "              loss='binary_crossentropy',  # 0, 1 이진 문제므로 binary_crossentropy 사용\n",
    "              metrics=['accuracy'])\n",
    "              \n",
    "epochs=15  # 몇 epoch를 훈련하면 좋을지 결과를 보면서 바꾸어 봅시다. \n",
    "\n",
    "history = model.fit(partial_x_train,\n",
    "                    partial_y_train,\n",
    "                    epochs=epochs,\n",
    "                    batch_size=512,\n",
    "                    validation_data=(x_val, y_val),\n",
    "                    verbose=1)\n",
    "# batch_size -> 256"
   ]
  },
  {
   "cell_type": "code",
   "execution_count": 159,
   "metadata": {},
   "outputs": [
    {
     "name": "stdout",
     "output_type": "stream",
     "text": [
      "1537/1537 - 2s - loss: 0.4475 - accuracy: 0.8368\n",
      "[0.44747117161750793, 0.8367882370948792]\n"
     ]
    }
   ],
   "source": [
    "# 모델 평가\n",
    "model_results = model.evaluate(x_test,  y_test, verbose=2)\n",
    "print(model_results)"
   ]
  },
  {
   "cell_type": "code",
   "execution_count": 160,
   "metadata": {},
   "outputs": [
    {
     "name": "stdout",
     "output_type": "stream",
     "text": [
      "dict_keys(['loss', 'accuracy', 'val_loss', 'val_accuracy'])\n"
     ]
    }
   ],
   "source": [
    "history_dict = history.history\n",
    "print(history_dict.keys()) # epoch에 따른 그래프를 그려볼 수 있는 항목들"
   ]
  },
  {
   "cell_type": "markdown",
   "metadata": {},
   "source": [
    "- 그래프로 그려 시각화"
   ]
  },
  {
   "cell_type": "code",
   "execution_count": 161,
   "metadata": {},
   "outputs": [
    {
     "data": {
      "image/png": "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\n",
      "text/plain": [
       "<Figure size 432x288 with 1 Axes>"
      ]
     },
     "metadata": {
      "needs_background": "light"
     },
     "output_type": "display_data"
    }
   ],
   "source": [
    "import matplotlib.pyplot as plt\n",
    "\n",
    "acc = history_dict['accuracy']\n",
    "val_acc = history_dict['val_accuracy']\n",
    "loss = history_dict['loss']\n",
    "val_loss = history_dict['val_loss']\n",
    "\n",
    "epochs = range(1, len(acc) + 1)\n",
    "\n",
    "# \"bo\"는 \"파란색 점\"입니다\n",
    "plt.plot(epochs, loss, 'bo', label='Training loss')\n",
    "# b는 \"파란 실선\"입니다\n",
    "plt.plot(epochs, val_loss, 'b', label='Validation loss')\n",
    "plt.title('Training and validation loss')\n",
    "plt.xlabel('Epochs')\n",
    "plt.ylabel('Loss')\n",
    "plt.legend()\n",
    "\n",
    "plt.show()"
   ]
  },
  {
   "cell_type": "markdown",
   "metadata": {},
   "source": [
    "- Training and validation loss를 그려 보면, 몇 epoch까지의 트레이닝이 적절한지 최적점 추정\n",
    "\n",
    "\n",
    "- validation loss의 그래프가 train loss와의 이격이 너무 빠르게 발생 -> 문제"
   ]
  },
  {
   "cell_type": "code",
   "execution_count": 162,
   "metadata": {},
   "outputs": [
    {
     "data": {
      "image/png": "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\n",
      "text/plain": [
       "<Figure size 432x288 with 1 Axes>"
      ]
     },
     "metadata": {
      "needs_background": "light"
     },
     "output_type": "display_data"
    }
   ],
   "source": [
    "plt.clf()   # 그림을 초기화합니다\n",
    "\n",
    "plt.plot(epochs, acc, 'bo', label='Training acc')\n",
    "plt.plot(epochs, val_acc, 'b', label='Validation acc')\n",
    "plt.title('Training and validation accuracy')\n",
    "plt.xlabel('Epochs')\n",
    "plt.ylabel('Accuracy')\n",
    "plt.legend()\n",
    "\n",
    "plt.show()"
   ]
  },
  {
   "cell_type": "markdown",
   "metadata": {},
   "source": [
    "- 마찬가지로 빠른 이격 발생"
   ]
  },
  {
   "cell_type": "code",
   "execution_count": 163,
   "metadata": {
    "scrolled": false
   },
   "outputs": [
    {
     "data": {
      "image/png": "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\n",
      "text/plain": [
       "<Figure size 432x288 with 1 Axes>"
      ]
     },
     "metadata": {
      "needs_background": "light"
     },
     "output_type": "display_data"
    }
   ],
   "source": [
    "y_loss = history.history['loss']\n",
    "y_val_loss = history.history['val_loss']\n",
    "x_len = np.arange(len(y_loss))\n",
    "plt.plot(x_len, y_loss, marker='.', c='red', label='Traing set')\n",
    "plt.plot(x_len, y_val_loss, marker='.', c='blue', label='testing set')\n",
    "plt.grid()\n",
    "plt.xlabel('epoch')\n",
    "plt.ylabel('loss')\n",
    "plt.show()"
   ]
  },
  {
   "cell_type": "markdown",
   "metadata": {},
   "source": [
    "#### LSTM 모델 \n",
    "- 총 x_train data의 약10% 분리하기\n",
    "\n",
    "- 131564 : train data\n",
    "- 14618 : val data\n",
    "\n",
    "=> \n",
    "```\n",
    "1537/1537 - 2s - loss: 0.4190 - accuracy: 0.8388\n",
    "[0.4189649522304535, 0.8388022184371948]\n",
    "```\n",
    "\n",
    "- 총 x_train data의 약20% 분리하기\n",
    "\n",
    "- 116946 : train data\n",
    "- 29236 : val data\n",
    "\n",
    "=> \n",
    "```\n",
    "조금 더 나은 성능\n",
    "1537/1537 - 2s - loss: 0.4386 - accuracy: 0.8433\n",
    "[0.438597172498703, 0.8432573080062866]\n",
    "```\n",
    "---\n",
    "\n",
    "```\n",
    "model_vector_dim = 32\n",
    "LSTM(32) \n",
    "1537/1537 - 2s - loss: 0.4610 - accuracy: 0.8398\n",
    "[0.46100175380706787, 0.8397989869117737]\n",
    "```"
   ]
  },
  {
   "cell_type": "markdown",
   "metadata": {},
   "source": [
    "---\n",
    "\n",
    "### 1.2 GRU 모델 사용  "
   ]
  },
  {
   "cell_type": "code",
   "execution_count": 164,
   "metadata": {},
   "outputs": [
    {
     "name": "stdout",
     "output_type": "stream",
     "text": [
      "Model: \"sequential_9\"\n",
      "_________________________________________________________________\n",
      "Layer (type)                 Output Shape              Param #   \n",
      "=================================================================\n",
      "embedding_7 (Embedding)      (None, None, 30)          300000    \n",
      "_________________________________________________________________\n",
      "gru_3 (GRU)                  (None, 22)                3564      \n",
      "_________________________________________________________________\n",
      "dense_14 (Dense)             (None, 8)                 184       \n",
      "_________________________________________________________________\n",
      "dense_15 (Dense)             (None, 1)                 9         \n",
      "=================================================================\n",
      "Total params: 303,757\n",
      "Trainable params: 303,757\n",
      "Non-trainable params: 0\n",
      "_________________________________________________________________\n"
     ]
    }
   ],
   "source": [
    "vocab_size = 10000    # 어휘 사전의 크기입니다(10,000개의 단어)\n",
    "word_vector_dim = 30  # 워드 벡터의 차원수 (변경가능한 하이퍼파라미터)\n",
    "\n",
    "# model 설계 \n",
    "model = keras.Sequential()\n",
    "model.add(keras.layers.Embedding(vocab_size, word_vector_dim, input_shape=(None,)))\n",
    "model.add(keras.layers.GRU(22))   # RNN 모델 중 GRU 레이어를 사용하였습니다. \n",
    "                        # 1차시 8, 2차시 16...\n",
    "model.add(keras.layers.Dense(8, activation='relu'))\n",
    "model.add(keras.layers.Dense(1, activation='sigmoid'))  # 최종 출력은 긍정/부정을 나타내는 1dim 입니다.\n",
    "\n",
    "model.summary()"
   ]
  },
  {
   "cell_type": "code",
   "execution_count": 22,
   "metadata": {},
   "outputs": [
    {
     "name": "stdout",
     "output_type": "stream",
     "text": [
      "(116946, 51)\n",
      "(116946,)\n",
      "(29236, 51)\n",
      "(29236,)\n"
     ]
    }
   ],
   "source": [
    "# validation set 분리\n",
    "separation_train = int(x_train.shape[0]*0.2)\n",
    "x_val = x_train[:separation_train]   \n",
    "y_val = y_train[:separation_train]\n",
    "\n",
    "# validation set을 제외한 나머지 \n",
    "partial_x_train = x_train[separation_train:]  \n",
    "partial_y_train = y_train[separation_train:]\n",
    "\n",
    "print(partial_x_train.shape)\n",
    "print(partial_y_train.shape)\n",
    "print(x_val.shape)\n",
    "print(y_val.shape)"
   ]
  },
  {
   "cell_type": "markdown",
   "metadata": {},
   "source": [
    "- 1.2 GRU모델 학습 "
   ]
  },
  {
   "cell_type": "code",
   "execution_count": 166,
   "metadata": {},
   "outputs": [
    {
     "name": "stdout",
     "output_type": "stream",
     "text": [
      "Epoch 1/12\n",
      "229/229 [==============================] - 2s 8ms/step - loss: 0.6472 - accuracy: 0.5736 - val_loss: 0.4213 - val_accuracy: 0.8153\n",
      "Epoch 2/12\n",
      "229/229 [==============================] - 2s 7ms/step - loss: 0.3651 - accuracy: 0.8424 - val_loss: 0.3466 - val_accuracy: 0.8504\n",
      "Epoch 3/12\n",
      "229/229 [==============================] - 2s 9ms/step - loss: 0.3242 - accuracy: 0.8644 - val_loss: 0.3443 - val_accuracy: 0.8507\n",
      "Epoch 4/12\n",
      "229/229 [==============================] - 2s 8ms/step - loss: 0.3095 - accuracy: 0.8711 - val_loss: 0.3442 - val_accuracy: 0.8500\n",
      "Epoch 5/12\n",
      "229/229 [==============================] - 2s 8ms/step - loss: 0.2981 - accuracy: 0.8768 - val_loss: 0.3442 - val_accuracy: 0.8528\n",
      "Epoch 6/12\n",
      "229/229 [==============================] - 2s 8ms/step - loss: 0.2878 - accuracy: 0.8817 - val_loss: 0.3425 - val_accuracy: 0.8559\n",
      "Epoch 7/12\n",
      "229/229 [==============================] - 2s 8ms/step - loss: 0.2773 - accuracy: 0.8868 - val_loss: 0.3368 - val_accuracy: 0.8561\n",
      "Epoch 8/12\n",
      "229/229 [==============================] - 2s 8ms/step - loss: 0.2661 - accuracy: 0.8932 - val_loss: 0.3398 - val_accuracy: 0.8570\n",
      "Epoch 9/12\n",
      "229/229 [==============================] - 2s 8ms/step - loss: 0.2553 - accuracy: 0.8989 - val_loss: 0.3412 - val_accuracy: 0.8579\n",
      "Epoch 10/12\n",
      "229/229 [==============================] - 2s 8ms/step - loss: 0.2440 - accuracy: 0.9038 - val_loss: 0.3535 - val_accuracy: 0.8550\n",
      "Epoch 11/12\n",
      "229/229 [==============================] - 2s 8ms/step - loss: 0.2331 - accuracy: 0.9091 - val_loss: 0.3642 - val_accuracy: 0.8561\n",
      "Epoch 12/12\n",
      "229/229 [==============================] - 2s 8ms/step - loss: 0.2222 - accuracy: 0.9154 - val_loss: 0.3652 - val_accuracy: 0.8561\n"
     ]
    }
   ],
   "source": [
    "# 모델 학습\n",
    "model.compile(optimizer='adam',\n",
    "              loss='binary_crossentropy',  # 0, 1 이진 문제므로 binary_crossentropy 사용\n",
    "              metrics=['accuracy'])\n",
    "              \n",
    "epochs=12  # 몇 epoch를 훈련하면 좋을지 결과를 보면서 바꾸어 봅시다. \n",
    "\n",
    "history = model.fit(partial_x_train,\n",
    "                    partial_y_train,\n",
    "                    epochs=epochs,\n",
    "                    batch_size=512,\n",
    "                    validation_data=(x_val, y_val),\n",
    "                    verbose=1)\n",
    "# batch_size -> 256"
   ]
  },
  {
   "cell_type": "code",
   "execution_count": 167,
   "metadata": {},
   "outputs": [
    {
     "name": "stdout",
     "output_type": "stream",
     "text": [
      "1537/1537 - 2s - loss: 0.3730 - accuracy: 0.8503\n",
      "[0.3729948401451111, 0.8502756357192993]\n"
     ]
    }
   ],
   "source": [
    "# 모델 평가\n",
    "model_results = model.evaluate(x_test,  y_test, verbose=2)\n",
    "print(model_results)"
   ]
  },
  {
   "cell_type": "code",
   "execution_count": 168,
   "metadata": {},
   "outputs": [
    {
     "name": "stdout",
     "output_type": "stream",
     "text": [
      "dict_keys(['loss', 'accuracy', 'val_loss', 'val_accuracy'])\n"
     ]
    }
   ],
   "source": [
    "history_dict = history.history\n",
    "print(history_dict.keys()) # epoch에 따른 그래프를 그려볼 수 있는 항목들"
   ]
  },
  {
   "cell_type": "markdown",
   "metadata": {},
   "source": [
    "- 그래프로 그려 시각화"
   ]
  },
  {
   "cell_type": "code",
   "execution_count": 169,
   "metadata": {},
   "outputs": [
    {
     "data": {
      "image/png": "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\n",
      "text/plain": [
       "<Figure size 432x288 with 1 Axes>"
      ]
     },
     "metadata": {
      "needs_background": "light"
     },
     "output_type": "display_data"
    }
   ],
   "source": [
    "import matplotlib.pyplot as plt\n",
    "\n",
    "acc = history_dict['accuracy']\n",
    "val_acc = history_dict['val_accuracy']\n",
    "loss = history_dict['loss']\n",
    "val_loss = history_dict['val_loss']\n",
    "\n",
    "epochs = range(1, len(acc) + 1)\n",
    "\n",
    "# \"bo\"는 \"파란색 점\"입니다\n",
    "plt.plot(epochs, loss, 'bo', label='Training loss')\n",
    "# b는 \"파란 실선\"입니다\n",
    "plt.plot(epochs, val_loss, 'b', label='Validation loss')\n",
    "plt.title('Training and validation loss')\n",
    "plt.xlabel('Epochs')\n",
    "plt.ylabel('Loss')\n",
    "plt.legend()\n",
    "\n",
    "plt.show()"
   ]
  },
  {
   "cell_type": "markdown",
   "metadata": {},
   "source": [
    "- LSTM과 비교했을때 상대적으로 완만한 그래프를 그린다.\n",
    "\n",
    "\n",
    "- LSTM 보다 GRU로 했을때 모델의 학습이 더 잘 이루어졌다.\n"
   ]
  },
  {
   "cell_type": "code",
   "execution_count": 170,
   "metadata": {},
   "outputs": [
    {
     "data": {
      "image/png": "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\n",
      "text/plain": [
       "<Figure size 432x288 with 1 Axes>"
      ]
     },
     "metadata": {
      "needs_background": "light"
     },
     "output_type": "display_data"
    }
   ],
   "source": [
    "plt.clf()   # 그림을 초기화합니다\n",
    "\n",
    "plt.plot(epochs, acc, 'bo', label='Training acc')\n",
    "plt.plot(epochs, val_acc, 'b', label='Validation acc')\n",
    "plt.title('Training and validation accuracy')\n",
    "plt.xlabel('Epochs')\n",
    "plt.ylabel('Accuracy')\n",
    "plt.legend()\n",
    "\n",
    "plt.show()"
   ]
  },
  {
   "cell_type": "code",
   "execution_count": 171,
   "metadata": {
    "scrolled": true
   },
   "outputs": [
    {
     "data": {
      "image/png": "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\n",
      "text/plain": [
       "<Figure size 432x288 with 1 Axes>"
      ]
     },
     "metadata": {
      "needs_background": "light"
     },
     "output_type": "display_data"
    }
   ],
   "source": [
    "y_loss = history.history['loss']\n",
    "y_val_loss = history.history['val_loss']\n",
    "x_len = np.arange(len(y_loss))\n",
    "plt.plot(x_len, y_loss, marker='.', c='red', label='Traing set')\n",
    "plt.plot(x_len, y_val_loss, marker='.', c='blue', label='testing set')\n",
    "plt.grid()\n",
    "plt.xlabel('epoch')\n",
    "plt.ylabel('loss')\n",
    "plt.show()"
   ]
  },
  {
   "cell_type": "markdown",
   "metadata": {},
   "source": [
    "- LSTM 보다 GRU 모델의 그래프가 완만하고 더 좋은 결과가 나왔다."
   ]
  },
  {
   "cell_type": "markdown",
   "metadata": {},
   "source": [
    "#### GRU 모델 사용\n",
    "- x_train data의 약 20% 분리\n",
    "- LSTM과 동일\n",
    "\n",
    "``` \n",
    "post\n",
    "(GRU)(16)\n",
    "1537/1537 - 2s - loss: 0.3851 - accuracy: 0.8457\n",
    "[0.3850516974925995, 0.8456781506538391]\n",
    "# 그래프도 완만한 그래프를 그렸다.\n",
    "```\n",
    "\n",
    "```\n",
    "post\n",
    "GRU(32) \n",
    "1537/1537 - 2s - loss: 0.6588 - accuracy: 0.8339\n",
    "[0.6587523221969604, 0.833919882774353]\n",
    "```\n",
    "\n",
    "```\n",
    "pre\n",
    "word_vector_dim : 30\n",
    "GRU(22)\n",
    "1537/1537 - 2s - loss: 0.3730 - accuracy: 0.8503\n",
    "[0.3729948401451111, 0.8502756357192993]\n",
    "```"
   ]
  },
  {
   "cell_type": "markdown",
   "metadata": {},
   "source": [
    "## 1.3 &nbsp; 1-D CNN\n",
    "- CNN 계열은 RNN 계열보다 병렬처리가 효율적이기 때문에 학습속도가 더 빠르게 되는 장점이 있다.   (학습 속도 : CNN > RNN )"
   ]
  },
  {
   "cell_type": "code",
   "execution_count": 219,
   "metadata": {},
   "outputs": [
    {
     "name": "stdout",
     "output_type": "stream",
     "text": [
      "Model: \"sequential_18\"\n",
      "_________________________________________________________________\n",
      "Layer (type)                 Output Shape              Param #   \n",
      "=================================================================\n",
      "embedding_16 (Embedding)     (None, None, 25)          250000    \n",
      "_________________________________________________________________\n",
      "conv1d_20 (Conv1D)           (None, None, 32)          5632      \n",
      "_________________________________________________________________\n",
      "max_pooling1d_9 (MaxPooling1 (None, None, 32)          0         \n",
      "_________________________________________________________________\n",
      "conv1d_21 (Conv1D)           (None, None, 128)         28800     \n",
      "_________________________________________________________________\n",
      "global_max_pooling1d_8 (Glob (None, 128)               0         \n",
      "_________________________________________________________________\n",
      "dense_32 (Dense)             (None, 8)                 1032      \n",
      "_________________________________________________________________\n",
      "dense_33 (Dense)             (None, 1)                 9         \n",
      "=================================================================\n",
      "Total params: 285,473\n",
      "Trainable params: 285,473\n",
      "Non-trainable params: 0\n",
      "_________________________________________________________________\n"
     ]
    }
   ],
   "source": [
    "vocab_size = 10000  # 어휘 사전의 크기입니다\n",
    "word_vector_dim = 25   # 단어 하나를 표현하는 임베딩 벡터의 차원수입니다. \n",
    "\n",
    "model = keras.Sequential()\n",
    "model.add(keras.layers.Embedding(vocab_size, word_vector_dim, input_shape=(None,)))\n",
    "model.add(keras.layers.Conv1D(32, 7, activation='relu'))\n",
    "model.add(keras.layers.MaxPooling1D(4))\n",
    "model.add(keras.layers.Conv1D(128, 7, activation='relu'))\n",
    "\n",
    "model.add(keras.layers.GlobalMaxPooling1D()) \n",
    "\n",
    "model.add(keras.layers.Dense(8, activation='relu'))\n",
    "model.add(keras.layers.Dense(1, activation='sigmoid'))  # 최종 출력은 긍정/부정을 나타내는 1dim 입니다.\n",
    "\n",
    "model.summary()"
   ]
  },
  {
   "cell_type": "code",
   "execution_count": 220,
   "metadata": {},
   "outputs": [
    {
     "name": "stdout",
     "output_type": "stream",
     "text": [
      "(116946, 54)\n",
      "(116946,)\n",
      "(29236, 54)\n",
      "(29236,)\n"
     ]
    }
   ],
   "source": [
    "# validation set 분리\n",
    "separation_train = int(x_train.shape[0]*0.2)\n",
    "x_val = x_train[:separation_train]   \n",
    "y_val = y_train[:separation_train]\n",
    "\n",
    "# validation set을 제외한 나머지\n",
    "partial_x_train = x_train[separation_train:]  \n",
    "partial_y_train = y_train[separation_train:]\n",
    "\n",
    "print(partial_x_train.shape)\n",
    "print(partial_y_train.shape)\n",
    "print(x_val.shape)\n",
    "print(y_val.shape)"
   ]
  },
  {
   "cell_type": "code",
   "execution_count": 221,
   "metadata": {},
   "outputs": [
    {
     "name": "stdout",
     "output_type": "stream",
     "text": [
      "Epoch 1/10\n",
      "229/229 [==============================] - 13s 56ms/step - loss: 0.4612 - accuracy: 0.7664 - val_loss: 0.3401 - val_accuracy: 0.8519\n",
      "Epoch 2/10\n",
      "229/229 [==============================] - 1s 6ms/step - loss: 0.3141 - accuracy: 0.8660 - val_loss: 0.3288 - val_accuracy: 0.8587\n",
      "Epoch 3/10\n",
      "229/229 [==============================] - 1s 6ms/step - loss: 0.2767 - accuracy: 0.8857 - val_loss: 0.3318 - val_accuracy: 0.8575\n",
      "Epoch 4/10\n",
      "229/229 [==============================] - 1s 6ms/step - loss: 0.2430 - accuracy: 0.9022 - val_loss: 0.3455 - val_accuracy: 0.8560\n",
      "Epoch 5/10\n",
      "229/229 [==============================] - 1s 6ms/step - loss: 0.2048 - accuracy: 0.9201 - val_loss: 0.3693 - val_accuracy: 0.8518\n",
      "Epoch 6/10\n",
      "229/229 [==============================] - 1s 6ms/step - loss: 0.1651 - accuracy: 0.9393 - val_loss: 0.4119 - val_accuracy: 0.8490\n",
      "Epoch 7/10\n",
      "229/229 [==============================] - 1s 6ms/step - loss: 0.1305 - accuracy: 0.9543 - val_loss: 0.4753 - val_accuracy: 0.8442\n",
      "Epoch 8/10\n",
      "229/229 [==============================] - 1s 6ms/step - loss: 0.1011 - accuracy: 0.9664 - val_loss: 0.5251 - val_accuracy: 0.8410\n",
      "Epoch 9/10\n",
      "229/229 [==============================] - 2s 7ms/step - loss: 0.0802 - accuracy: 0.9740 - val_loss: 0.5895 - val_accuracy: 0.8368\n",
      "Epoch 10/10\n",
      "229/229 [==============================] - 1s 6ms/step - loss: 0.0654 - accuracy: 0.9791 - val_loss: 0.6729 - val_accuracy: 0.8354\n"
     ]
    }
   ],
   "source": [
    "# 모델 학습\n",
    "model.compile(optimizer='adam',\n",
    "              loss='binary_crossentropy',  # 0, 1 이진 문제므로 binary_crossentropy 사용\n",
    "              metrics=['accuracy'])\n",
    "              \n",
    "epochs=10  # 몇 epoch를 훈련하면 좋을지 결과를 보면서 바꾸어 봅시다. \n",
    "\n",
    "history = model.fit(partial_x_train,\n",
    "                    partial_y_train,\n",
    "                    epochs=epochs,\n",
    "                    batch_size=512,\n",
    "                    validation_data=(x_val, y_val),\n",
    "                    verbose=1)\n",
    "# batch_size -> 256"
   ]
  },
  {
   "cell_type": "code",
   "execution_count": 222,
   "metadata": {},
   "outputs": [
    {
     "name": "stdout",
     "output_type": "stream",
     "text": [
      "1537/1537 - 5s - loss: 0.6932 - accuracy: 0.8293\n",
      "[0.6932018399238586, 0.8293223977088928]\n"
     ]
    }
   ],
   "source": [
    "# 모델 평가\n",
    "model_results = model.evaluate(x_test,  y_test, verbose=2)\n",
    "print(model_results)"
   ]
  },
  {
   "cell_type": "code",
   "execution_count": 223,
   "metadata": {},
   "outputs": [
    {
     "name": "stdout",
     "output_type": "stream",
     "text": [
      "dict_keys(['loss', 'accuracy', 'val_loss', 'val_accuracy'])\n"
     ]
    }
   ],
   "source": [
    "history_dict = history.history\n",
    "print(history_dict.keys()) # epoch에 따른 그래프를 그려볼 수 있는 항목들"
   ]
  },
  {
   "cell_type": "markdown",
   "metadata": {},
   "source": [
    "- 그래프로 그려 시각화"
   ]
  },
  {
   "cell_type": "code",
   "execution_count": 224,
   "metadata": {},
   "outputs": [
    {
     "data": {
      "image/png": "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\n",
      "text/plain": [
       "<Figure size 432x288 with 1 Axes>"
      ]
     },
     "metadata": {
      "needs_background": "light"
     },
     "output_type": "display_data"
    }
   ],
   "source": [
    "import matplotlib.pyplot as plt\n",
    "\n",
    "acc = history_dict['accuracy']\n",
    "val_acc = history_dict['val_accuracy']\n",
    "loss = history_dict['loss']\n",
    "val_loss = history_dict['val_loss']\n",
    "\n",
    "epochs = range(1, len(acc) + 1)\n",
    "\n",
    "# \"bo\"는 \"파란색 점\"입니다\n",
    "plt.plot(epochs, loss, 'bo', label='Training loss')\n",
    "# b는 \"파란 실선\"입니다\n",
    "plt.plot(epochs, val_loss, 'b', label='Validation loss')\n",
    "plt.title('Training and validation loss')\n",
    "plt.xlabel('Epochs')\n",
    "plt.ylabel('Loss')\n",
    "plt.legend()\n",
    "\n",
    "plt.show()"
   ]
  },
  {
   "cell_type": "markdown",
   "metadata": {},
   "source": [
    "- Training and validation loss를 그려 보면, 몇 epoch까지의 트레이닝이 적절한지 최적점 추정\n",
    "\n",
    "\n",
    "- validation loss의 그래프가 train loss와의 이격이 너무 빠르게 발생 -> 문제"
   ]
  },
  {
   "cell_type": "code",
   "execution_count": 225,
   "metadata": {},
   "outputs": [
    {
     "data": {
      "image/png": "iVBORw0KGgoAAAANSUhEUgAAAYgAAAEWCAYAAAB8LwAVAAAAOXRFWHRTb2Z0d2FyZQBNYXRwbG90bGliIHZlcnNpb24zLjMuMiwgaHR0cHM6Ly9tYXRwbG90bGliLm9yZy8vihELAAAACXBIWXMAAAsTAAALEwEAmpwYAAAnGUlEQVR4nO3deZhU1Z3/8feHnWYVFFRaaZhRUYIsdlBxCUaTmGg0bo8QEkUSjVuMZrKYbXSS8Hsy0YzGXzQOSdQkkhBjIj/NuBsdnUmitor7hsgmooCKrErD9/fHvdVdXdzuLrCrq+j+vJ6nnrp7naqG+tQ5595zFRGYmZkV6lLuApiZWWVyQJiZWSYHhJmZZXJAmJlZJgeEmZllckCYmVkmB4QVTdIdkk5v623LSdJCSUeV4Lgh6Z/T6Wslfa+YbbfjdaZJunt7y2nWEvk6iI5N0tq82SrgPWBzOv+liJjd/qWqHJIWAl+MiHvb+LgB7BUR89tqW0k1wKtA94iob5OCmrWgW7kLYKUVEX1z0y19GUrq5i8dqxT+91gZ3MTUSUmaLGmppG9KWg5cL2knSX+RtELS2+l0dd4+D0j6Yjo9XdL/SLo83fZVSZ/czm1HSHpQ0hpJ90q6WtKNzZS7mDL+QNL/pse7W9LOees/L2mRpFWSvtPC53OQpOWSuuYtO0HSU+n0REl/l/SOpNcl/UxSj2aOdYOkH+bNfz3dZ5mkGQXbHiPpCUnvSloi6dK81Q+mz+9IWivp4Nxnm7f/JEmPSlqdPk8q9rPZxs95kKTr0/fwtqS5eeuOlzQvfQ+vSDo6Xd6kOU/Spbm/s6SatKntC5IWA39Nl/8x/TusTv+NjM7bv7ekn6R/z9Xpv7Hekv5L0pcL3s9Tkj6T9V6teQ6Izm1XYBAwHDiL5N/D9en8nsAG4Gct7H8g8CKwM/Bj4FeStB3b/g54BBgMXAp8voXXLKaMnwXOAIYAPYCvAUjaD/h5evzd09erJkNE/ANYB3y04Li/S6c3Axel7+dg4Ejg3BbKTVqGo9PyfAzYCyjs/1gHnAYMBI4Bzsn7Yjs8fR4YEX0j4u8Fxx4E/BdwVfre/gP4L0mDC97DVp9NhtY+59+SNFmOTo91RVqGicBvgK+n7+FwYGEzr5HlI8C+wCfS+TtIPqchwONAfpPo5cABwCSSf8ffALYAvwY+l9tI0lhgGHD7NpTDACLCj07yIPmPelQ6PRl4H+jVwvbjgLfz5h8gaaICmA7Mz1tXBQSw67ZsS/LlUw9U5a2/EbixyPeUVcbv5s2fC9yZTv8rMCdvXZ/0MziqmWP/ELgune5H8uU9vJltLwRuyZsP4J/T6RuAH6bT1wE/yttu7/xtM457JXBFOl2Tbtstb/104H/S6c8DjxTs/3dgemufzbZ8zsBuJF/EO2Vs95+58rb07y+dvzT3d857byNbKMPAdJsBJAG2ARibsV1P4C2Sfh1IguSaUvyf6ugP1yA6txURsTE3I6lK0n+mVfZ3SZo0BuY3sxRYnpuIiPXpZN9t3HZ34K28ZQBLmitwkWVcnje9Pq9Mu+cfOyLWAauaey2S2sKJknoCJwKPR8SitBx7p80uy9Ny/B+S2kRrmpQBWFTw/g6UdH/atLMaOLvI4+aOvahg2SKSX885zX02TbTyOe9B8jd7O2PXPYBXiixvlobPRlJXST9Km6nepbEmsnP66JX1WhHxHnAT8DlJXYCpJDUe20YOiM6t8BS2fwH2AQ6MiP40Nmk012zUFl4HBkmqylu2Rwvbf5Ayvp5/7PQ1Bze3cUQ8R/IF+0maNi9B0lT1Asmv1P7At7enDCQ1qHy/A24F9oiIAcC1ecdt7ZTDZSRNQvn2BF4rolyFWvqcl5D8zQZm7LcE+KdmjrmOpPaYs2vGNvnv8bPA8STNcANIahm5MqwENrbwWr8GppE0/a2PguY4K44DwvL1I6m2v5O2Z19S6hdMf5HXAZdK6iHpYODTJSrjzcCxkg5NO5S/T+v/B34HXEDyBfnHgnK8C6yVNAo4p8gy3ARMl7RfGlCF5e9H8ut8Y9qe/9m8dStImnZGNnPs24G9JX1WUjdJpwL7AX8psmyF5cj8nCPidZK+gWvSzuzuknIB8ivgDElHSuoiaVj6+QDMA6ak29cCJxdRhvdIanlVJLW0XBm2kDTX/Yek3dPaxsFpbY80ELYAP8G1h+3mgLB8VwK9SX6d/QO4s51edxpJR+8qknb/P5B8MWS5ku0sY0Q8C5xH8qX/OvA2sLSV3X5P0l/z14hYmbf8ayRf3muAX6RlLqYMd6Tv4a/A/PQ537nA9yWtIekzuSlv3/XATOB/lZw9dVDBsVcBx5L8+l9F0ml7bEG5i3UlLX/Onwc2kdSi3iTpgyEiHiHpBL8CWA38N421mu+R/OJ/G/g3mtbIsvyGpAb3GvBcWo58XwOeBh4l6XP4d5p+p/0GGEPSp2XbwRfKWcWR9AfghYgoeQ3GOi5JpwFnRcSh5S7Ljso1CCs7SR+W9E9pk8TRJO3Oc8tcLNuBpc135wKzyl2WHZkDwirBriSnYK4lOYf/nIh4oqwlsh2WpE+Q9Ne8QevNWNYCNzGZmVkm1yDMzCxThxqsb+edd46amppyF8PMbIfx2GOPrYyIXbLWdaiAqKmpoa6urtzFMDPbYUgqvPq+gZuYzMwskwPCzMwyOSDMzCxTh+qDyLJp0yaWLl3Kxo0bW9/Y2l2vXr2orq6me/fu5S6KmRXo8AGxdOlS+vXrR01NDc3fy8bKISJYtWoVS5cuZcSIEeUujpkV6PBNTBs3bmTw4MEOhwokicGDB7t2Z7adZs+Gmhro0iV5nj27tT22TYevQQAOhwrmv43Z9pk9G846C9ant9patCiZB5g2rW1eo8PXIMzMOqLvfKcxHHLWr0+WtxUHRAmtWrWKcePGMW7cOHbddVeGDRvWMP/++++3uG9dXR0XXHBBq68xadKktiqume1AFi/etuXbwwFRoC3b9AYPHsy8efOYN28eZ599NhdddFHDfI8ePaivr29239raWq666qpWX+Nvf/vb9hfQzHZYexberLaV5dvDAZEn16a3aBFENLbptWXHz/Tp0/nqV7/KEUccwTe/+U0eeeQRJk2axPjx45k0aRIvvvgiAA888ADHHnssAJdeeikzZsxg8uTJjBw5sklw9O3bt2H7yZMnc/LJJzNq1CimTZtGbqTe22+/nVGjRnHooYdywQUXNBw338KFCznssMOYMGECEyZMaBI8P/7xjxkzZgxjx47l4osvBmD+/PkcddRRjB07lgkTJvDKKx/kPvVmO5ZSdw4XY+ZMqKpquqyqKlneZiKiwzwOOOCAKPTcc89ttaw5w4dHJNHQ9DF8eNGHaNYll1wSl112WZx++ulxzDHHRH19fURErF69OjZt2hQREffcc0+ceOKJERFx//33xzHHHNOw78EHHxwbN26MFStWxKBBg+L999+PiIg+ffo0bN+/f/9YsmRJbN68OQ466KB46KGHYsOGDVFdXR0LFiyIiIgpU6Y0HDffunXrYsOGDRER8dJLL0Xus7z99tvj4IMPjnXr1kVExKpVqyIiYuLEifHnP/85IiI2bNjQsH57bMvfyKzcbrwxoqqq6XdEVVWyvBxlGT48Qkqet6cMQF00853aKc5iKlZ7tOkBnHLKKXTt2hWA1atXc/rpp/Pyyy8jiU2bNmXuc8wxx9CzZ0969uzJkCFDeOONN6iurm6yzcSJExuWjRs3joULF9K3b19GjhzZcJ3B1KlTmTVr65tsbdq0ifPPP5958+bRtWtXXnrpJQDuvfdezjjjDKrSnyqDBg1izZo1vPbaa5xwwglAcrGbWWfRUudwW509VKxp00r7mm5iytMebXoAffr0aZj+3ve+xxFHHMEzzzzDbbfd1uw1AT179myY7tq1a2b/RdY2UeQNoa644gqGDh3Kk08+SV1dXUMnekRsdSpqscc064ja64dkJXBA5GmXNr0Cq1evZtiwYQDccMMNbX78UaNGsWDBAhYuXAjAH/7wh2bLsdtuu9GlSxd++9vfsnnzZgA+/vGPc91117E+/cn01ltv0b9/f6qrq5k7dy4A7733XsN6s46uvX5IVgIHRJ5p02DWLBg+HKTkedas0lbhvvGNb/Ctb32LQw45pOFLuS317t2ba665hqOPPppDDz2UoUOHMmDAgK22O/fcc/n1r3/NQQcdxEsvvdRQyzn66KM57rjjqK2tZdy4cVx++eUA/Pa3v+Wqq65i//33Z9KkSSxfvrzNy25WicrxQ7JcOtQ9qWtra6PwhkHPP/88++67b5lKVBnWrl1L3759iQjOO+889tprLy666KJyF6uB/0a2o5k9O+lzWLw4qTnMnNn+/Q9tRdJjEVGbtc41iE7gF7/4BePGjWP06NGsXr2aL33pS+Uuktl2q4RTTKdNg4ULYcuW5HlHDYfW+CymTuCiiy6qqBqD2fZqj/GHrJFrEGa2w2iP8YeskQPCzHYYnekU00rggDCzHUZnOsW0EjggzGyH0ZlOMa0EDogSmzx5MnfddVeTZVdeeSXnnntui/vkTtf91Kc+xTvvvLPVNpdeemnDNQnNmTt3Ls8991zD/L/+679y7733bkPpzSpLOa5V6swcECU2depU5syZ02TZnDlzmDp1alH733777QwcOHC7XrswIL7//e9z1FFHbdexzCpFZznFtBI4IErs5JNP5i9/+QvvvfcekAyrvWzZMg499FDOOeccamtrGT16NJdccknm/jU1NaxcuRKAmTNnss8++3DUUUc1DAsOyXUOH/7whxk7diwnnXQS69ev529/+xu33norX//61xk3bhyvvPIK06dP5+abbwbgvvvuY/z48YwZM4YZM2Y0lK+mpoZLLrmECRMmMGbMGF544YWtyuShwc06h051HcSFF8K8eW17zHHj4Morm18/ePBgJk6cyJ133snxxx/PnDlzOPXUU5HEzJkzGTRoEJs3b+bII4/kqaeeYv/99888zmOPPcacOXN44oknqK+vZ8KECRxwwAEAnHjiiZx55pkAfPe73+VXv/oVX/7ylznuuOM49thjOfnkk5sca+PGjUyfPp377ruPvffem9NOO42f//znXHjhhQDsvPPOPP7441xzzTVcfvnl/PKXv2yy/5AhQ7jnnnvo1asXL7/8MlOnTqWuro477riDuXPn8vDDD1NVVcVbb70FwLRp07j44os54YQT2LhxI1u2bNn2D9rM2p1rEO0gv5kpv3nppptuYsKECYwfP55nn322SXNQoYceeogTTjiBqqoq+vfvz3HHHdew7plnnuGwww5jzJgxzJ49m2effbbF8rz44ouMGDGCvffeG4DTTz+dBx98sGH9iSeeCMABBxzQMMhfvk2bNnHmmWcyZswYTjnllIZyFzs0eFVhL6OZVaROVYNo6Zd+KX3mM5/hq1/9Ko8//jgbNmxgwoQJvPrqq1x++eU8+uij7LTTTkyfPr3Zob5zCofdzpk+fTpz585l7Nix3HDDDTzwwAMtHqe18bdyw4Y3N6x4/tDgW7ZsabgfhIcG79g60vhDVhzXINpB3759mTx5MjNmzGioPbz77rv06dOHAQMG8MYbb3DHHXe0eIzDDz+cW265hQ0bNrBmzRpuu+22hnVr1qxht912Y9OmTczOG5imX79+rFmzZqtjjRo1ioULFzJ//nwgGZn1Ix/5SNHvx0ODdz7tcTteqzwOiHYydepUnnzySaZMmQLA2LFjGT9+PKNHj2bGjBkccsghLe4/YcIETj31VMaNG8dJJ53EYYcd1rDuBz/4AQceeCAf+9jHGDVqVMPyKVOmcNlllzF+/PgmHcO9evXi+uuv55RTTmHMmDF06dKFs88+u+j34qHBOx8PcdE5ebhvKzv/jSpfly5JzaGQlJxuajuusg33LeloSS9Kmi/p4oz1O0m6RdJTkh6R9KG8dQslPS1pnqS6wn3NrP14iIvOqWQBIakrcDXwSWA/YKqk/Qo2+zYwLyL2B04Dflqw/oiIGNdcuplZ+/AQF51TKWsQE4H5EbEgIt4H5gDHF2yzH3AfQES8ANRIGtrWBelIzWgdjf82OwYPcdE5lTIghgFL8uaXpsvyPQmcCCBpIjAcqE7XBXC3pMckndXci0g6S1KdpLoVK1Zstb5Xr16sWrXKX0QVKCJYtWpVw2myVtk8xEXnU8rrILJO2i/8lv4R8FNJ84CngSeA3In3h0TEMklDgHskvRARDxbsT0TMAmZB0klduL66upqlS5eSFR5Wfr169aK6urr1Dc2s3ZUyIJYCe+TNVwPL8jeIiHeBMwCUXGH1avogIpalz29KuoWkyWqrgGhN9+7dGTFixPaU38ysUytlE9OjwF6SRkjqAUwBbs3fQNLAdB3AF4EHI+JdSX0k9Uu36QN8HHimhGU1M7MCJatBRES9pPOBu4CuwHUR8ayks9P11wL7Ar+RtBl4DvhCuvtQ4JZ02IZuwO8i4s5SldXMzLbW4S+UMzOz5pXtQjkzM9txOSDMKtzs2VBTkwx3UVPjAfKs/XSq4b7NdjS5UVRzA+XlRlEFX4dgpecahFkF8yiqVk4OCLMKtnjxti03a0sOCLMK5lFUrZwcEGYVzKOoWjk5IMwqmEdRtXLyWUxmFW7aNAeClYdrEGZmlskBYWZmmRwQZmaWyQFhZmaZHBBmZpbJAWFmZpkcEGZmlskBYWZmmRwQZmaWyQFhZmaZHBBmzfCd3Kyz81hMZhl8Jzcz1yDMMvlObmYOCLNMvpObmQPCLJPv5GbmgDDL5Du5mTkgzDL5Tm5mPovJrFm+k5t1dq5BmJlZJgeEmZllckCYmVkmB4SZmWVyQJiZWSYHhJmZZXJAmJlZJgeEmZllckCYmVkmB4RVHN+ox6wyeKgNqyi+UY9Z5ShpDULS0ZJelDRf0sUZ63eSdIukpyQ9IulDxe5rHZNv1GNWOUoWEJK6AlcDnwT2A6ZK2q9gs28D8yJif+A04KfbsK91QL5Rj1nlKGUNYiIwPyIWRMT7wBzg+IJt9gPuA4iIF4AaSUOL3Nc6IN+ox6xylDIghgFL8uaXpsvyPQmcCCBpIjAcqC5yX9L9zpJUJ6luxYoVbVR0KxffqMescpQyIJSxLArmfwTsJGke8GXgCaC+yH2ThRGzIqI2Imp32WWXD1BcqwS+UY9Z5SjlWUxLgT3y5quBZfkbRMS7wBkAkgS8mj6qWtvXOi7fqMesMpSyBvEosJekEZJ6AFOAW/M3kDQwXQfwReDBNDRa3dfMzEqrZDWIiKiXdD5wF9AVuC4inpV0drr+WmBf4DeSNgPPAV9oad9SldXMzLamiMym/cYNpGOB2yNiS/sUafvV1tZGXV1duYthZrbDkPRYRNRmrSumiWkK8LKkH0vat22LZmZmlarVgIiIzwHjgVeA6yX9PT21tF/JS2dmZmVTVCd12nH8J5IL1nYDTgAel/TlEpbNzMzKqNWAkPRpSbcAfwW6AxMj4pPAWOBrJS6fmZmVSTE1iFOAKyJi/4i4LCLeBIiI9cCMkpbO2pWH2TazfMWc5noJ8HpuRlJvYGhELIyI+0pWMmtXHmbbzAoVU4P4I5B/iuvmdJl1IB5m28wKFRMQ3dIRVQFIp3u0sL3tgDzMtpkVKiYgVkg6Ljcj6XhgZemKZOXgYbbNrFAxAXE28G1JiyUtAb4JfKm0xbL25mG2zaxQq53UEfEKcJCkviRDc6wpfbGsveU6or/znaRZac89k3BwB7VZ51XUYH2SjgFGA72SUbkhIr5fwnJZGXiYbTPLV8yFctcCp5Lc0Eck10UML3G5zMyszIrpg5gUEacBb0fEvwEH0/RmPmZm1gEVExAb0+f1knYHNgEjSlckMzOrBMX0QdwmaSBwGfA4yb2hf1HKQpmZWfm1GBCSugD3RcQ7wJ8k/QXoFRGr26NwZmZWPi02MaV3kftJ3vx7Dgczs86hmD6IuyWdpNz5rWZm1ikU0wfxVaAPUC9pI8mprhER/UtaMjMzK6tirqT2rUXNzDqhVgNC0uFZyyPiwbYvjpmZVYpi+iC+nvf4HnAbcGkJy9Qp+W5uZlZpimli+nT+vKQ9gB+XrESdkO/mZmaVqJgaRKGlwIfauiCdme/mZmaVqJg+iP9LcvU0JIEyDniyhGXqdHw3NzOrRMWc5lqXN10P/D4i/rdE5emU9twzaVbKWm5mVi7FBMTNwMaI2AwgqaukqohY38p+VqSZM5v2QYDv5mZm5VdMH8R9QO+8+d7AvaUpTuc0bRrMmgXDh4OUPM+a5Q5qMyuvYmoQvSJibW4mItZKqmppB9t2vpubmVWaYmoQ6yRNyM1IOgDYULoimZlZJSimBnEh8EdJy9L53UhuQWpt4J134Mkn4Ykn4Nlnk2W9ekHv3slje6d79kyaq8zMtlcxF8o9KmkUsA/JQH0vRMSmkpesg4mApUuTIJg3L3k88QQsXNi4zc47Q/fusGEDbNyYPD6IDxI0VVXJo0+fps9Z0717J1eAm1nHUsx1EOcBsyPimXR+J0lTI+KakpduB1VfDy++2DQM5s2DVauS9RLstRcceCB86UswfjyMHQu77tr0OFu2wHvvJUGxYUNjcGzPdOGyNWvgzTezt62v3/b3nBUqxQZMc9sOGABDhjh8zMqlmCamMyPi6txMRLwt6UzAAQGsXQtPPdW0VvD008kXOyRNPWPGwIknwrhxSRiMGQN9+7Z+7C5dGn/R77RTCd9EgU2bkqBYvx7WrUue86ezljU3/fbb8NprW++/ZUtxZeneHfbYIzmza889t37ssUcSKGbW9ooJiC6SFBEByXUQQI/SFqsyLV/eNAjmzYOXX06ajwAGDUpC4PzzG8Ngn32gWzGfcgXp3j159C/RHT8i4P33Ww6WdeuScFmyJLmifPFi+Otfk7ApDJfBgxsDIytIhg51LcRsexTz1XUXcJOka0mG3DgbuKOkpSqzLVtg/vytw2D58sZtamqSAJg2rTEMqqvdMVwMKalZ9ey57TWj+vokJHKhkf945ZUkRNasabpPrhZSGBy5MHEtxCxbMQHxTeAs4BySTuonSM5kapWko4GfAl2BX0bEjwrWDwBuBPZMy3J5RFyfrlsIrAE2A/URUVvMa26rLVvg8cebBsGTTya/YCH59b/ffvCJTyRBkHsMHFiK0lhrunVLvtiHD29+m9WrmwbHokWN0/ff33otpPCx++7JCQRVvvrHOplizmLaIukfwEiS01sHAX9qbb+0Kepq4GMkI8A+KunWiHgub7PzgOci4tOSdgFelDQ7It5P1x8RESu37S1tmwg4/PCkzb1fv6SzeMaMxiAYPTr5pWs7jgEDkn6eMWOy19fXw7Jl2bWQBQuSEHn33a336907CYrBg5Pn3CN/vnBd795bH8dsR9FsQEjaG5gCTAVWAX8AiIgjijz2RGB+RCxIjzcHOB7ID4gA+kkS0Bd4i2RAwHbTtSvcemvSZDRypNuqO4Nu3RprB83J1UIWLUqaFletgpUrGx+rViXrVq5M+kqakwuVYsIkN+9QsUrRUg3iBeAh4NMRMR9A0kXbcOxhwJK8+aXAgQXb/Ay4FVgG9ANOjYhc5T+AuyUF8J8RMSvrRSSdRdIExp7bOfzpUUdt127WgbVWC8lXX5+ERH54FIZJbnrhwtZDpaoqOzyqq2HEiOSHzMiRSf+N+7yslFoKiJNIahD3S7oTmEPSB1GsrG2jYP4TwDzgo8A/AfdIeigi3gUOiYhlkoaky1/Iug92GhyzAGprawuPb1Zy3brBLrskj2LV18Nbb7UcJrnpV1+FFSuSWk2+/v0bwyI/OEaOTPpo3DRqH1SzARERtwC3SOoDfAa4CBgq6efALRFxdyvHXgrskTdfTVJTyHcG8KP0FNr5kl4FRgGPRMSytBxvSrqFpMlqq4Aw2xF165ZcBDhkSPH7rFmThMWCBY3PCxbA88/D7bc3vfJegmHDssNjxIjkokzXPqw1xXRSrwNmA7MlDQJOAS4GWguIR4G9JI0AXiOpjXy2YJvFwJHAQ5KGkgznsSANpS4RsSad/jjw/eLfllnH068f7L9/8ii0ZUvSV1IYHq++Cvfem5y5la937yQo8sMjNz1iRHEXclrHp4jStcpI+hRwJclprtdFxExJZwNExLWSdgduIDltViS1iRsljQRuSQ/TDfhdRLR6+5za2tqoq6trbTOzTmfjxqT/ozA8ctOF144MGdJ8eOy2m5uvOhJJjzV3GUFJA6K9OSDMtl1E0t/RXHgsXgybNzfdZ8CA5Ar1XDNZ/qNwuTvTK1tLAbGDDQJhZm1Najxb6sMf3np9fX0y5EkuOJYvTwZ6fPNNeOMNeOEFePDBJGSyfm/mOvGzwqMwVHbZxaf5VhIHhJm1qFu3xv6KltTXJyGRHx656fzHyy8n6/LvwZ6vX7+WayS5ZdXVpRsvzBIOCDNrE926JV/cQ4cWt/26ddkBkh8sCxbAP/6RnOabNQJw//6N42nlxtvKn66udn/JB+GAMLOy6NOnuJoJJOHw1luN4bF8eXIDrtxov0uWQF1dEiSFhgxpOUR23TUZUcG25oAws4rXpUtjP8no0c1vt2HD1sGRm37xRbjnnuQeLvm6dUsGZGwpRAYN6pwd7Q4IM+swevdO7ta4117Z6yOSK9LzgyN/+uGH4U9/Su5XUnjcrADZfffkmpHcXRHzHx3hVrwOCDPrNKRkqP6BA5sfZ2vLlqQZqzBEcs933QWvv559xlahXr22vrVuc49itsnarpQ3JHNAmJnl6dIl6ZfYddfs034hqWEsW5YERe5uiIWP/DslFj7Wrm08kyv/UVhzKUbuhlivvPLB3ncWB4SZ2Tbq0SO5RUBNTdset76+8X7wrYVM/voeJboJtAPCzKxCdOuWXAfSr1+5S5LYwbtQzMysVBwQZmaWyQFhZmaZHBBmZpbJAWFmZpkcEGZmlskBYWZmmRwQZmaWyQFhZmaZHBBmZpbJAWFmZpkcEGZmlskBYWZmmRwQZmaWyQFhZmaZHBBmZpbJAWFmZpkcEGZmlskBYWZmmRwQZmaWyQFhZmaZHBBmZpbJAWFmZpkcEGZmlskBYWZmmRwQZmaWyQFhZmaZHBBmZpappAEh6WhJL0qaL+nijPUDJN0m6UlJz0o6o9h9zcystEoWEJK6AlcDnwT2A6ZK2q9gs/OA5yJiLDAZ+ImkHkXua2ZmJVTKGsREYH5ELIiI94E5wPEF2wTQT5KAvsBbQH2R+5qZWQmVMiCGAUvy5pemy/L9DNgXWAY8DXwlIrYUuS8Aks6SVCepbsWKFW1VdjOzTq+UAaGMZVEw/wlgHrA7MA74maT+Re6bLIyYFRG1EVG7yy67bH9pzcysiVIGxFJgj7z5apKaQr4zgD9HYj7wKjCqyH3NzKyEShkQjwJ7SRohqQcwBbi1YJvFwJEAkoYC+wALitzXzMxKqFupDhwR9ZLOB+4CugLXRcSzks5O118L/AC4QdLTJM1K34yIlQBZ+5aqrGZmtjVFZDbt75Bqa2ujrq6u3MUwM9thSHosImqz1vlKajMzy+SAMDOzTA4IMzPL5IAwM7NMDggzM8vkgDAzs0wOCDMzy+SAMDOzTA4IMzPL5IAwM7NMDggzM8vkgDAzs0wOCDMzy+SAMDOzTA4IMzPL5IAwM7NMDggzM8vkgDAzs0wOCDMzy+SAMDOzTA4IMzPL5IAwM7NMnT4gZs+Gmhro0iV5nj273CUyM6sM3cpdgHKaPRvOOgvWr0/mFy1K5gGmTStfuczMKkGnrkF85zuN4ZCzfn2y3Myss+vUAbF48bYtNzPrTDp1QOy557YtNzPrTDp1QMycCVVVTZdVVSXLzcw6u04dENOmwaxZMHw4SMnzrFnuoDYzg05+FhMkYeBAMDPbWqeuQZiZWfMcEGZmlskBYWZmmRwQZmaWyQFhZmaZFBHlLkObkbQCWFTucnxAOwMry12ICuHPoil/Hk3582j0QT6L4RGxS9aKDhUQHYGkuoioLXc5KoE/i6b8eTTlz6NRqT4LNzGZmVkmB4SZmWVyQFSeWeUuQAXxZ9GUP4+m/Hk0Ksln4T4IMzPL5BqEmZllckCYmVkmB0QFkLSHpPslPS/pWUlfKXeZyk1SV0lPSPpLuctSbpIGSrpZ0gvpv5GDy12mcpJ0Ufr/5BlJv5fUq9xlak+SrpP0pqRn8pYNknSPpJfT553a4rUcEJWhHviXiNgXOAg4T9J+ZS5TuX0FeL7chagQPwXujIhRwFg68eciaRhwAVAbER8CugJTyluqdncDcHTBsouB+yJiL+C+dP4Dc0BUgIh4PSIeT6fXkHwBDCtvqcpHUjVwDPDLcpel3CT1Bw4HfgUQEe9HxDtlLVT5dQN6S+oGVAHLylyedhURDwJvFSw+Hvh1Ov1r4DNt8VoOiAojqQYYDzxc5qKU05XAN4AtZS5HJRgJrACuT5vcfimpT7kLVS4R8RpwObAYeB1YHRF3l7dUFWFoRLwOyQ9OYEhbHNQBUUEk9QX+BFwYEe+WuzzlIOlY4M2IeKzcZakQ3YAJwM8jYjywjjZqPtgRpW3rxwMjgN2BPpI+V95SdVwOiAohqTtJOMyOiD+XuzxldAhwnKSFwBzgo5JuLG+RymopsDQicjXKm0kCo7M6Cng1IlZExCbgz8CkMpepErwhaTeA9PnNtjioA6ICSBJJG/PzEfEf5S5POUXEtyKiOiJqSDof/xoRnfYXYkQsB5ZI2idddCTwXBmLVG6LgYMkVaX/b46kE3fa57kVOD2dPh34f21x0G5tcRD7wA4BPg88LWleuuzbEXF7+YpkFeTLwGxJPYAFwBllLk/ZRMTDkm4GHic5++8JOtmQG5J+D0wGdpa0FLgE+BFwk6QvkIToKW3yWh5qw8zMsriJyczMMjkgzMwskwPCzMwyOSDMzCyTA8LMzDI5IMxaIWmzpHl5jza7kllSTf6onGaVxNdBmLVuQ0SMK3chzNqbaxBm20nSQkn/LumR9PHP6fLhku6T9FT6vGe6fKikWyQ9mT5yQ0R0lfSL9B4Hd0vqnW5/gaTn0uPMKdPbtE7MAWHWut4FTUyn5q17NyImAj8jGYWWdPo3EbE/MBu4Kl1+FfDfETGWZDylZ9PlewFXR8Ro4B3gpHT5xcD49Dhnl+atmTXPV1KbtULS2ojom7F8IfDRiFiQDra4PCIGS1oJ7BYRm9Llr0fEzpJWANUR8V7eMWqAe9IbvSDpm0D3iPihpDuBtcBcYG5ErC3xWzVrwjUIsw8mmplubpss7+VNb6axb/AY4GrgAOCx9AY5Zu3GAWH2wZya9/z3dPpvNN4GcxrwP+n0fcA50HDP7f7NHVRSF2CPiLif5OZJA4GtajFmpeRfJGat6503yi4k94fOneraU9LDJD+2pqbLLgCuk/R1krvB5UZf/QowKx1xczNJWLzezGt2BW6UNAAQcIVvNWrtzX0QZtsp7YOojYiV5S6LWSm4icnMzDK5BmFmZplcgzAzs0wOCDMzy+SAMDOzTA4IMzPL5IAwM7NM/x84H5n1S25/YAAAAABJRU5ErkJggg==\n",
      "text/plain": [
       "<Figure size 432x288 with 1 Axes>"
      ]
     },
     "metadata": {
      "needs_background": "light"
     },
     "output_type": "display_data"
    }
   ],
   "source": [
    "plt.clf()   # 그림을 초기화합니다\n",
    "\n",
    "plt.plot(epochs, acc, 'bo', label='Training acc')\n",
    "plt.plot(epochs, val_acc, 'b', label='Validation acc')\n",
    "plt.title('Training and validation accuracy')\n",
    "plt.xlabel('Epochs')\n",
    "plt.ylabel('Accuracy')\n",
    "plt.legend()\n",
    "\n",
    "plt.show()"
   ]
  },
  {
   "cell_type": "markdown",
   "metadata": {},
   "source": [
    "- LSTM과 마찬가지로 이격이 크게 발생"
   ]
  },
  {
   "cell_type": "code",
   "execution_count": 226,
   "metadata": {
    "scrolled": true
   },
   "outputs": [
    {
     "data": {
      "image/png": "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\n",
      "text/plain": [
       "<Figure size 432x288 with 1 Axes>"
      ]
     },
     "metadata": {
      "needs_background": "light"
     },
     "output_type": "display_data"
    }
   ],
   "source": [
    "y_loss = history.history['loss']\n",
    "y_val_loss = history.history['val_loss']\n",
    "x_len = np.arange(len(y_loss))\n",
    "plt.plot(x_len, y_loss, marker='.', c='red', label='Traing set')\n",
    "plt.plot(x_len, y_val_loss, marker='.', c='blue', label='testing set')\n",
    "plt.grid()\n",
    "plt.xlabel('epoch')\n",
    "plt.ylabel('loss')\n",
    "plt.show()"
   ]
  },
  {
   "cell_type": "markdown",
   "metadata": {},
   "source": [
    "---\n",
    "\n",
    "## 1.4 RNN + 1-d CNN\n"
   ]
  },
  {
   "cell_type": "code",
   "execution_count": 330,
   "metadata": {},
   "outputs": [
    {
     "name": "stdout",
     "output_type": "stream",
     "text": [
      "Model: \"sequential_44\"\n",
      "_________________________________________________________________\n",
      "Layer (type)                 Output Shape              Param #   \n",
      "=================================================================\n",
      "embedding_42 (Embedding)     (None, None, 20)          200000    \n",
      "_________________________________________________________________\n",
      "conv1d_71 (Conv1D)           (None, None, 32)          4512      \n",
      "_________________________________________________________________\n",
      "dropout_27 (Dropout)         (None, None, 32)          0         \n",
      "_________________________________________________________________\n",
      "conv1d_72 (Conv1D)           (None, None, 64)          14400     \n",
      "_________________________________________________________________\n",
      "max_pooling1d_50 (MaxPooling (None, None, 64)          0         \n",
      "_________________________________________________________________\n",
      "dropout_28 (Dropout)         (None, None, 64)          0         \n",
      "_________________________________________________________________\n",
      "gru_22 (GRU)                 (None, 32)                9408      \n",
      "_________________________________________________________________\n",
      "dense_64 (Dense)             (None, 8)                 264       \n",
      "_________________________________________________________________\n",
      "dense_65 (Dense)             (None, 1)                 9         \n",
      "=================================================================\n",
      "Total params: 228,593\n",
      "Trainable params: 228,593\n",
      "Non-trainable params: 0\n",
      "_________________________________________________________________\n"
     ]
    }
   ],
   "source": [
    "\n",
    "vocab_size = 10000  # 어휘 사전의 크기입니다\n",
    "word_vector_dim = 20   # 단어 하나를 표현하는 임베딩 벡터의 차원수입니다. \n",
    "\n",
    "model = keras.Sequential()\n",
    "model.add(keras.layers.Embedding(vocab_size, word_vector_dim, input_shape=(None,)))\n",
    "\n",
    "model.add(keras.layers.Conv1D(32, 7, activation='relu'))\n",
    "\n",
    "model.add(keras.layers.Dropout(0.3))\n",
    "\n",
    "model.add(keras.layers.Conv1D(64, 7, activation='relu'))\n",
    "model.add(keras.layers.MaxPooling1D(4))\n",
    "\n",
    "#model.add(keras.layers.Conv1D(128, 7, activation='relu'))\n",
    "#model.add(keras.layers.GlobalMaxPooling1D()) \n",
    "\n",
    "model.add(keras.layers.Dropout(0.2))\n",
    "\n",
    "\n",
    "model.add(keras.layers.GRU(32))\n",
    "\n",
    "\n",
    "model.add(keras.layers.Dense(8, activation='relu'))\n",
    "model.add(keras.layers.Dense(1, activation='sigmoid'))  # 최종 출력은 긍정/부정을 나타내는 1dim 입니다.\n",
    "\n",
    "model.summary()"
   ]
  },
  {
   "cell_type": "code",
   "execution_count": 331,
   "metadata": {},
   "outputs": [
    {
     "name": "stdout",
     "output_type": "stream",
     "text": [
      "(116946, 51)\n",
      "(116946,)\n",
      "(29236, 51)\n",
      "(29236,)\n"
     ]
    }
   ],
   "source": [
    "# validation set 분리\n",
    "separation_train = int(x_train.shape[0]*0.2)\n",
    "x_val = x_train[:separation_train]   \n",
    "y_val = y_train[:separation_train]\n",
    "\n",
    "# validation set을 제외한 나머지\n",
    "partial_x_train = x_train[separation_train:]  \n",
    "partial_y_train = y_train[separation_train:]\n",
    "\n",
    "print(partial_x_train.shape)\n",
    "print(partial_y_train.shape)\n",
    "print(x_val.shape)\n",
    "print(y_val.shape)"
   ]
  },
  {
   "cell_type": "markdown",
   "metadata": {},
   "source": [
    "- 1.3 RNN + 1-d Cnn"
   ]
  },
  {
   "cell_type": "code",
   "execution_count": 332,
   "metadata": {},
   "outputs": [
    {
     "name": "stdout",
     "output_type": "stream",
     "text": [
      "Epoch 1/9\n",
      "229/229 [==============================] - 2s 8ms/step - loss: 0.5970 - accuracy: 0.6939 - val_loss: 0.5349 - val_accuracy: 0.7782\n",
      "Epoch 2/9\n",
      "229/229 [==============================] - 1s 7ms/step - loss: 0.5028 - accuracy: 0.7953 - val_loss: 0.4992 - val_accuracy: 0.7870\n",
      "Epoch 3/9\n",
      "229/229 [==============================] - 1s 7ms/step - loss: 0.4598 - accuracy: 0.8141 - val_loss: 0.4832 - val_accuracy: 0.7901\n",
      "Epoch 4/9\n",
      "229/229 [==============================] - 1s 7ms/step - loss: 0.4238 - accuracy: 0.8302 - val_loss: 0.4768 - val_accuracy: 0.7893\n",
      "Epoch 5/9\n",
      "229/229 [==============================] - 2s 7ms/step - loss: 0.3933 - accuracy: 0.8435 - val_loss: 0.4730 - val_accuracy: 0.7893\n",
      "Epoch 6/9\n",
      "229/229 [==============================] - 2s 7ms/step - loss: 0.3674 - accuracy: 0.8540 - val_loss: 0.4765 - val_accuracy: 0.7869\n",
      "Epoch 7/9\n",
      "229/229 [==============================] - 1s 7ms/step - loss: 0.3451 - accuracy: 0.8624 - val_loss: 0.4859 - val_accuracy: 0.7874\n",
      "Epoch 8/9\n",
      "229/229 [==============================] - 2s 7ms/step - loss: 0.3244 - accuracy: 0.8700 - val_loss: 0.4982 - val_accuracy: 0.7858\n",
      "Epoch 9/9\n",
      "229/229 [==============================] - 2s 7ms/step - loss: 0.3072 - accuracy: 0.8781 - val_loss: 0.5112 - val_accuracy: 0.7889\n"
     ]
    }
   ],
   "source": [
    "# 모델 학습\n",
    "model.compile(optimizer='adam',\n",
    "              loss='binary_crossentropy',  # 0, 1 이진 문제므로 binary_crossentropy 사용\n",
    "              metrics=['accuracy'])\n",
    "              \n",
    "epochs=9  # 몇 epoch를 훈련하면 좋을지 결과를 보면서 바꾸어 봅시다. \n",
    "\n",
    "history = model.fit(partial_x_train,\n",
    "                    partial_y_train,\n",
    "                    epochs=epochs,\n",
    "                    batch_size=512,\n",
    "                    validation_data=(x_val, y_val),\n",
    "                    verbose=1)\n",
    "# batch_size -> 256"
   ]
  },
  {
   "cell_type": "code",
   "execution_count": 333,
   "metadata": {},
   "outputs": [
    {
     "name": "stdout",
     "output_type": "stream",
     "text": [
      "1537/1537 - 5s - loss: 0.5185 - accuracy: 0.7860\n",
      "[0.518547534942627, 0.7859511375427246]\n"
     ]
    }
   ],
   "source": [
    "# 모델 평가\n",
    "model_results = model.evaluate(x_test,  y_test, verbose=2)\n",
    "print(model_results)"
   ]
  },
  {
   "cell_type": "code",
   "execution_count": 334,
   "metadata": {},
   "outputs": [
    {
     "name": "stdout",
     "output_type": "stream",
     "text": [
      "dict_keys(['loss', 'accuracy', 'val_loss', 'val_accuracy'])\n"
     ]
    }
   ],
   "source": [
    "history_dict = history.history\n",
    "print(history_dict.keys()) # epoch에 따른 그래프를 그려볼 수 있는 항목들"
   ]
  },
  {
   "cell_type": "markdown",
   "metadata": {},
   "source": [
    "- 그래프로 그려 시각화"
   ]
  },
  {
   "cell_type": "code",
   "execution_count": 335,
   "metadata": {
    "scrolled": true
   },
   "outputs": [
    {
     "data": {
      "image/png": "iVBORw0KGgoAAAANSUhEUgAAAYgAAAEWCAYAAAB8LwAVAAAAOXRFWHRTb2Z0d2FyZQBNYXRwbG90bGliIHZlcnNpb24zLjMuMiwgaHR0cHM6Ly9tYXRwbG90bGliLm9yZy8vihELAAAACXBIWXMAAAsTAAALEwEAmpwYAAAsTklEQVR4nO3deZxU1Zn/8c9DA2KzKasGZDFBEWS12QQJbnGBuKAZIR0VzU+C+zIxmjgGRuX3Sn4yGcYZjdNxi0kb4rgQF1zigohLZBEVECeIIC0ugLIFkO72+f1xbnVXN7e7q5sqqpfv+/WqV9177j23nuqlnjrn3nuOuTsiIiKVNct2ACIiUj8pQYiISCwlCBERiaUEISIisZQgREQklhKEiIjEUoKQ/cLMnjGzC9O9bzaZ2VozOykDx3Uz+060fLeZ3ZzKvnV4nXwze76ucVZz3HFmVpTu48r+1zzbAUj9ZWY7klZzga+B0mj9J+5emOqx3P20TOzb2Ln7tHQcx8x6AR8BLdy9JDp2IZDy71CaHiUIqZK7t0ksm9la4P+4+wuV9zOz5okPHRFpPNTFJLWW6EIwsxvM7DPgfjM72MyeMrONZvZVtNw9qc58M/s/0fIUM1toZrOifT8ys9PquG9vM1tgZtvN7AUzu9PM/lhF3KnEeKuZvRYd73kz65S0/XwzW2dmm83spmp+PiPN7DMzy0kqO9vM3o2Wh5vZG2a2xcw+NbP/MrOWVRzrATO7LWn9+qjOBjO7uNK+483sbTPbZmbrzWxG0uYF0fMWM9thZqMSP9uk+sea2SIz2xo9H5vqz6Y6ZnZUVH+Lma0wszOStp1uZiujY35iZj+NyjtFv58tZvalmb1qZvq82s/0A5e6OgToAPQEphL+lu6P1nsAu4D/qqb+COADoBPw/4B7zczqsO9DwFtAR2AGcH41r5lKjD8ELgK6AC2BxAdWP+C30fG/Fb1ed2K4+5vAP4ATKh33oWi5FLg2ej+jgBOBy6qJmyiGU6N4Tgb6AJXPf/wDuAA4CBgPXGpmZ0XbxkbPB7l7G3d/o9KxOwBPA3dE7+03wNNm1rHSe9jrZ1NDzC2AJ4Hno3pXAoVmdmS0y72E7sq2wNHAS1H5PwNFQGegK/ALQOMC7WdKEFJX3wDT3f1rd9/l7pvd/VF33+nu24GZwHerqb/O3X/n7qXA74FDCR8EKe9rZj2AYcAv3X2Puy8EnqjqBVOM8X53/1933wU8DAyOys8FnnL3Be7+NXBz9DOoyp+AyQBm1hY4PSrD3Ze4+5vuXuLua4H/jokjzj9F8S13938QEmLy+5vv7u+5+zfu/m70eqkcF0JC+bu7/yGK60/AKuD7SftU9bOpzkigDfCr6Hf0EvAU0c8GKAb6mVk7d//K3ZcmlR8K9HT3Ynd/1TVw3H6nBCF1tdHddydWzCzXzP476oLZRujSOCi5m6WSzxIL7r4zWmxTy32/BXyZVAawvqqAU4zxs6TlnUkxfSv52NEH9OaqXovQWphoZgcAE4Gl7r4uiuOIqPvksyiO/0toTdSkQgzAukrvb4SZvRx1oW0FpqV43MSx11UqWwd0S1qv6mdTY8zunpxMk497DiF5rjOzV8xsVFR+O7AaeN7M1pjZjam9DUknJQipq8rf5v4ZOBIY4e7tKO/SqKrbKB0+BTqYWW5S2WHV7L8vMX6afOzoNTtWtbO7ryR8EJ5Gxe4lCF1Vq4A+URy/qEsMhG6yZA8RWlCHuXt74O6k49b07XsDoestWQ/gkxTiqum4h1U6f1B2XHdf5O5nErqf5hJaJrj7dnf/Z3c/nNCKuc7MTtzHWKSWlCAkXdoS+vS3RP3Z0zP9gtE38sXADDNrGX37/H41VfYlxkeACWY2JjqhfAs1//88BFxFSET/UymObcAOM+sLXJpiDA8DU8ysX5SgKsffltCi2m1mwwmJKWEjoUvs8CqOPQ84wsx+aGbNzew8oB+hO2hf/I1wbuRnZtbCzMYRfkdzot9Zvpm1d/diws+kFMDMJpjZd6JzTYny0thXkIxRgpB0mQ0cCGwC3gSe3U+vm0840bsZuA34M+F+jTizqWOM7r4CuJzwof8p8BXhJGp1/gSMA15y901J5T8lfHhvB34XxZxKDM9E7+ElQvfLS5V2uQy4xcy2A78k+jYe1d1JOOfyWnRl0MhKx94MTCC0sjYDPwMmVIq71tx9D3AGoSW1CbgLuMDdV0W7nA+sjbrapgE/isr7AC8AO4A3gLvcff6+xCK1ZzrvI42Jmf0ZWOXuGW/BiDR2akFIg2Zmw8zs22bWLLoM9ExCX7aI7CPdSS0N3SHAY4QTxkXApe7+dnZDEmkc1MUkIiKx1MUkIiKxGlUXU6dOnbxXr17ZDkNEpMFYsmTJJnfvHLetUSWIXr16sXjx4myHISLSYJhZ5Tvoy6iLSUREYilBiIhILCUIERGJldFzENGNS/8B5AD3uPuvYvYZRxg+oAWwyd2/m2pdEcmu4uJiioqK2L17d807S1a1atWK7t2706JFi5TrZCxBREMo30mY3KQIWGRmT0SjXCb2OYgwNsup7v6xmXVJta6IZF9RURFt27alV69eVD3fk2Sbu7N582aKioro3bt3yvUy2cU0HFjt7muiAbvmEIZBSPZD4DF3/xjA3b+oRd20KCyEXr2gWbPwXKgp3EVStnv3bjp27KjkUM+ZGR07dqx1Sy+TCaIbFSc3KaLi5CMARwAHR/PVLjGzC2pRFwAzm2pmi81s8caNG2sVYGEhTJ0K69aBe3ieOlVJQqQ2lBwahrr8njKZIOKiqTyuR3PgGMJ0h6cAN5vZESnWDYXuBe6e5+55nTvH3utRpZtugp07K5bt3BnKRUSaukwmiCIqzn7VnTC7VOV9nnX3f0Tjzi8ABqVYd599/HHtykWkftm8eTODBw9m8ODBHHLIIXTr1q1sfc+ePdXWXbx4MVdddVWNr3HsscemJdb58+czYcKEtBxrf8lkglgE9DGz3tEMXJPYe0L5vwDHRTNY5QIjgPdTrLvPelSesLGGchHZN+k+59exY0eWLVvGsmXLmDZtGtdee23ZesuWLSkpKamybl5eHnfccUeNr/H666/vW5ANWMYShLuXAFcAzxE+9B929xVmNs3MpkX7vE+Y1etd4C3C5azLq6qb7hhnzoTc3IplubmhXETSa3+d85syZQrXXXcdxx9/PDfccANvvfUWxx57LEOGDOHYY4/lgw8+ACp+o58xYwYXX3wx48aN4/DDD6+QONq0aVO2/7hx4zj33HPp27cv+fn5JEbDnjdvHn379mXMmDFcddVVNbYUvvzyS8466ywGDhzIyJEjeffddwF45ZVXylpAQ4YMYfv27Xz66aeMHTuWwYMHc/TRR/Pqq6+m9wdWHXdvNI9jjjnGa+uPf3Tv2dPdLDz/8Y+1PoRIk7Vy5cqU9+3Z0z2khoqPnj3TE8v06dP99ttv9wsvvNDHjx/vJSUl7u6+detWLy4udnf3v/71rz5x4kR3d3/55Zd9/PjxZXVHjRrlu3fv9o0bN3qHDh18z5497u7eunXrsv3btWvn69ev99LSUh85cqS/+uqrvmvXLu/evbuvWbPG3d0nTZpUdtxkya93xRVX+IwZM9zd/cUXX/RBgwa5u/uECRN84cKF7u6+fft2Ly4u9lmzZvltt93m7u4lJSW+bdu2Ov+M4n5fwGKv4jO1UQ3WVxf5+eEhIpm1P8/5/eAHPyAnJweArVu3cuGFF/L3v/8dM6O4uDi2zvjx4znggAM44IAD6NKlC59//jndu3evsM/w4cPLygYPHszatWtp06YNhx9+eNn9BZMnT6agoKDa+BYuXMijjz4KwAknnMDmzZvZunUro0eP5rrrriM/P5+JEyfSvXt3hg0bxsUXX0xxcTFnnXUWgwcP3pcfTa1oqA0R2S/25zm/1q1bly3ffPPNHH/88Sxfvpwnn3yyynsBDjjggLLlnJyc2PMXcft4HSZdi6tjZtx4443cc8897Nq1i5EjR7Jq1SrGjh3LggUL6NatG+effz4PPvhgrV+vrpQgRGS/yNY5v61bt9KtW7iN6oEHHkj78fv27cuaNWtYu3YtAH/+859rrDN27FgKo5Mv8+fPp1OnTrRr144PP/yQAQMGcMMNN5CXl8eqVatYt24dXbp04ZJLLuHHP/4xS5cuTft7qIoShIjsF/n5UFAAPXuCWXguKMh8F+/PfvYzfv7znzN69GhKS0vTfvwDDzyQu+66i1NPPZUxY8bQtWtX2rdvX22dGTNmsHjxYgYOHMiNN97I73//ewBmz57N0UcfzaBBgzjwwAM57bTTmD9/ftlJ60cffZSrr7467e+hKo1qTuq8vDzXhEEi+8/777/PUUcdle0wsm7Hjh20adMGd+fyyy+nT58+XHvttdkOay9xvy8zW+LueXH7qwUhIrKPfve73zF48GD69+/P1q1b+clPfpLtkNKiyV/FJCKyr6699tp62WLYV2pBiIhILCUIERGJpQQhIiKxlCBERCSWEoSINFjjxo3jueeeq1A2e/ZsLrvssmrrJC6HP/3009myZcte+8yYMYNZs2ZV+9pz585l5cryWZB/+ctf8sILL9Qi+nj1aVhwJQgRabAmT57MnDlzKpTNmTOHyZMnp1R/3rx5HHTQQXV67coJ4pZbbuGkk06q07HqKyUIEWmwzj33XJ566im+/vprANauXcuGDRsYM2YMl156KXl5efTv35/p06fH1u/VqxebNm0CYObMmRx55JGcdNJJZUOCQ7jHYdiwYQwaNIhzzjmHnTt38vrrr/PEE09w/fXXM3jwYD788EOmTJnCI488AsCLL77IkCFDGDBgABdffHFZfL169WL69OkMHTqUAQMGsGrVqmrfX7aHBdd9ECKSFtdcA8uWpfeYgwfD7NlVb+/YsSPDhw/n2Wef5cwzz2TOnDmcd955mBkzZ86kQ4cOlJaWcuKJJ/Luu+8ycODA2OMsWbKEOXPm8Pbbb1NSUsLQoUM55phjAJg4cSKXXHIJAP/yL//Cvffey5VXXskZZ5zBhAkTOPfccysca/fu3UyZMoUXX3yRI444ggsuuIDf/va3XHPNNQB06tSJpUuXctdddzFr1izuueeeKt/f9OnTGTJkCHPnzuWll17iggsuYNmyZcyaNYs777yT0aNHs2PHDlq1akVBQQGnnHIKN910E6WlpeysPJ9yHagFISINWnI3U3L30sMPP8zQoUMZMmQIK1asqNAdVNmrr77K2WefTW5uLu3ateOMM84o27Z8+XKOO+44BgwYQGFhIStWVD932QcffEDv3r054ogjALjwwgtZsGBB2faJEycCcMwxx5QN8FeVhQsXcv755wPxw4LfcccdbNmyhebNmzNs2DDuv/9+ZsyYwXvvvUfbtm2rPXYq1IIQkbSo7pt+Jp111llcd911LF26lF27djF06FA++ugjZs2axaJFizj44IOZMmVKlcN8J5hZbPmUKVOYO3cugwYN4oEHHmD+/PnVHqem8e0SQ4ZXNaR4TcdKDAs+fvx45s2bx8iRI3nhhRfKhgV/+umnOf/887n++uu54IILqj1+TdSCEJEGrU2bNowbN46LL764rPWwbds2WrduTfv27fn888955plnqj3G2LFjefzxx9m1axfbt2/nySefLNu2fft2Dj30UIqLi8uG6AZo27Yt27dv3+tYffv2Ze3ataxevRqAP/zhD3z3u9+t03vL9rDgakGISIM3efJkJk6cWNbVNGjQIIYMGUL//v05/PDDGT16dLX1hw4dynnnncfgwYPp2bMnxx13XNm2W2+9lREjRtCzZ08GDBhQlhQmTZrEJZdcwh133FF2chqgVatW3H///fzgBz+gpKSEYcOGMW3atDq9rxkzZnDRRRcxcOBAcnNzKwwL/vLLL5OTk0O/fv047bTTmDNnDrfffjstWrSgTZs2aZlYSMN9i0idabjvhkXDfYuISFooQYiISCwlCBHZJ42pm7oxq8vvSQlCROqsVatWbN68WUminnN3Nm/eTKtWrWpVT1cxiUidde/enaKiIjZu3JjtUKQGrVq1onv37rWqk9EEYWanAv8B5AD3uPuvKm0fB/wF+Cgqeszdb4m2rQW2A6VASVVn2UUke1q0aEHv3r2zHYZkSMYShJnlAHcCJwNFwCIze8LdK9/v/qq7VzW27fHuvilTMYqISNUyeQ5iOLDa3de4+x5gDnBmBl9PRETSKJMJohuwPmm9KCqrbJSZvWNmz5hZ/6RyB543syVmNrWqFzGzqWa22MwWqx9URCR9MnkOIm7kq8qXOiwFerr7DjM7HZgL9Im2jXb3DWbWBfirma1y9wWV6uPuBUABhDup0xa9iEgTl8kWRBFwWNJ6d2BD8g7uvs3dd0TL84AWZtYpWt8QPX8BPE7oshIRkf0kkwliEdDHzHqbWUtgEvBE8g5mdohFY+ya2fAons1m1trM2kblrYHvAcszGKuIiFSSsS4mdy8xsyuA5wiXud7n7ivMbFq0/W7gXOBSMysBdgGT3N3NrCvweJQ7mgMPufuzmYpVRET2ptFcRUSaMI3mKiIitaYEISIisZQgREQklhIEsGoVlJZmOwoRkfqlySeIr76CMWNg9GhYrgtpRUTKNPkEcdBBMHs2rF4NQ4bAzTfD7t3ZjkpEJPuafIIwgx/9CN5/HyZNgttug8GDYcFeg3qIiDQtTT5BJHTuDH/4Azz7LHz9NXz3u/CTn8CWLdmOTEQkO5QgKjnllHAu4rrr4J57oF8/eOyxbEclIrL/KUHEaN0a/u3f4G9/gy5d4JxzYOJE2LCh5roiIo2FEkQ18vJg0SL41a/gmWfgqKPg7rvhm2+yHZmISOYpQdSgRQu44QZ47z045hi49NJwfmLVqmxHJiKSWUoQKfrOd+DFF+G++2DFChg0CG69FfbsyXZkIiKZoQRRC2Zw0UXhktizz4Zf/hKGDoU33sh2ZCIi6acEUQddu8KcOfDkk7B1a7gL+8orYfv2bEcmIpI+ShD7YMIEWLkSLr8c7rwzXBL71FPZjkpEJD2UIPZR27bwn/8Jr70G7dvD978P550Hn3+e7chERPaNEkSajBoFS5fCLbfA3Lnhktj77oNGNGGfiDQxShBp1LJlGOzvnXegf3/48Y/hpJPCQIAiIg2NEkQG9O0Lr7wSbqpbvBgGDAg32xUXZzsyEWmMMjUCtRJEhjRrFgb7W7kSTjsNfv5zGDYsJAwRkbpyhw8/hAcfhKlTQ2/FgAGZea3mmTmsJHTrFgb7e+wxuOIKGDECrrkmnKto3Trb0YlIfVdcHLqtFy4Mj9deg88+C9vat4djjw2Tnn3zTfhimk5KEPvJxIlwwglw443wm9+EhHH33WH0WBGRhG3b4M03y5PBm2/Czp1hW69ecOKJ5bNg9u+f/qSQzLwRXWaTl5fnixtAH86CBaFp+MEHYbKif/936NQp21GJSDYUFVVsHbz7bnlrYNCgkAwSCaFbt/S/vpktcfe82G1KENmxezfMnBlOXrdvH6Y9zc8Pw3kAFBbCTTfBxx9Djx5h3/z8rIYsIvuotDSM5ZZIBgsXhv9xCF3OI0eWJ4ORI8N9VpmWtQRhZqcC/wHkAPe4+68qbR8H/AX4KCp6zN1vSaVunIaUIBLeew8uuSTMPXHKKfDb38Lrr4cWRqJZCZCbCwUFShIiDcnOnfDWW+UJ4fXXQxcSwKGHVmwdDBoEzbPQ6Z+VBGFmOcD/AicDRcAiYLK7r0zaZxzwU3efUNu6cRpigoDwreKuu+AXvwhNywMOgK++2nu/nj1h7dr9Hp6IpOjzz0MiSLQOli6FkpKwrX//8mQwZkw4n5DoMcim6hJEJvPVcGC1u6+JgpgDnAlU+yGfhroNTk5OGOzvzDPhssvg6afj90s0RUUk+9zDecTk7qLETbEHHADDh8NPfxqSwahR0KFDduOti0wmiG7A+qT1ImBEzH6jzOwdYAOhNbGiFnUxs6nAVIAePXqkIezs6dEjjBDbpQts2hS/XUSy4+uvYcmS8mTw2muweXPY1rFjSARTp4bnoUNDkmjoMpkg4hpPlfuzlgI93X2HmZ0OzAX6pFg3FLoXAAUQupjqHG09YRZOWF9yCezaVXFbTg5Mnw6nnx6mQ83JyUqIIo2eO6xfH+Z6efPN8Fi6tHyCsD59wsCciS6jI4+sH91F6ZbJBFEEHJa03p3QSijj7tuSlueZ2V1m1imVuo1Z4kT0TTfBunVwyCHhD3HDBrjttnCTXadO4aT26afD976ny2RF9sWuXWGUg0QyeOMN+PTTsK1Vq/CF7Oqrw5VFo0eHOWGagkwmiEVAHzPrDXwCTAJ+mLyDmR0CfO7ubmbDCUN/bAa21FS3scvPj79iafNmeP55eOaZ8CgsDN9cRowIQ3qcfnpo3mby5hmRhswd1qypmAzeeaf8ZPLhh4ebWkeODOcOBg4Mc9M3RZm+zPV0YDbhUtX73H2mmU0DcPe7zewK4FKgBNgFXOfur1dVt6bXa6hXMdXVN9+EPtF588Jj0aLwx9+lC5x6annr4uCDsx2pSPbs2BH+N5K7izZuDNtatw4nkxPJYMSI8P/TlOhGuSZi40Z47rmQLJ57Dr78MrQkRo0qb10MHtw4+0pFIHxp+vvfKyaD994L5RDOFSSSwciR4dLTbNx7UJ8oQTRBpaXhBp1nngkJY8mSUH7ooeWti5NPDndxizRUW7eGm0wTyeDNN8vvIWrfPrQIRo4MjxEjGualppmmBCF89ll56+L552HLlnAV1OjR5a2LAQPUupD665tvwvD5yecO3n8/dKuahdZAIhmMGhXmZdG5uJopQUgFJSXhHyzRuli2LJR361aeLE48Edq1y2qY0sRt3hxaB4nuorfeKh+mokOHil1Fw4apNVxXShBSrQ0b4Nlny1sX27eHftnjjitPGP36qXUhmVFaGq4qWrEiPJYvD/cc/O//hu3NmoUriRLJYOTIcB+C/h7TQwlCUlZcHAYUmzcvtDDeey+U9+hRnixOOAHatMlunNLwfPNNGC5m+fLyRLBiRegmSp4ys2fPMHBdIiHk5envLZOUIKTO1q8vv+fihRfCJYMtW8JRR4Wkcdhh4Tl5+Vvf0pUhTZk7fPJJeQJIJIOVK+Ef/yjfr1s3OProcO6gf/+wfNRR+2eIaymnBCFpsWdPGIPmmWfCt77168M3wi1bKu7XrFlIEnHJI/HcsaO6CBo69zB6aVwi2Lq1fL+uXcsTQCIZ9O8PBx2UtdAliRKEZNT27SFZJBJG4jmxvH59GOgs2YEH7p00KieU3NzsvB/Z26ZNFbuFEstfflm+T4cO5UkgORloGJj6LVvDfUsT0bZtOIndr1/8dvdwE19y8khOIs89F8a9qfxdpWPHqpNHjx7hng51ZaXXli3xieCLL8r3adcuJIBzzqmYCLp2VauwsdG/l2ScWRi+oEuXcMIxzp494WqquCTy0UdhHu/KXVk5OXt3ZXXtGoYWOfjg8I02sXzwwaFF0pQ/wEpKQtfPli3lj3XrKp403pA0JGbr1uGDf/z4iq2Cbt2a9s+xKVGCkHqhZcsww1avXlXvk+jKiksiixbBY4+VD8dc1WtUlTxqWm/VKt3vuPbiPuBr89ixI/64rVqF1t+JJ1ZMBD166Eazpk4JQhqMVLqytm0LQy18+WV4TjyS1xPLn34aTqh++WXFk6pxDjwwPnnUlFgOPrh8JNBMfcAnmIUTv8mPPn0qrrdvX3G9Wzfo3Vtzi0g8JQhpNMzCB2D79tW3ROKUloYP71QSy1dfha6Zt98OyzV9cCeu4U/HB3x1jzZt9I1f0ksJQoTwDbpDh7oN5lZcXDGpxCUWCK0JfcBLQ6IEIbKPWrQoPwkv0pjo+4qIiMRSghARkVhKECIiEksJQkREYqWUIMystZk1i5aPMLMzzKxFZkOT+qiwMFxC2qxZeC4szHZEIpIpqbYgFgCtzKwb8CJwEfBApoKS+qmwEKZODfcAuIfnqVOVJEQaq1QThLn7TmAi8J/ufjZQxf2s0ljddBPs3FmxbOfOUC4ijU/KCcLMRgH5wNNRme6haGI+/rh25SLSsKWaIK4Bfg487u4rzOxw4OWMRSX1Uo8etSsXkYYtpQTh7q+4+xnu/uvoZPUmd78qw7FJPTNz5t6T+OTmhnIRaXxSvYrpITNrZ2atgZXAB2Z2fQr1TjWzD8xstZndWM1+w8ys1MzOTSpba2bvmdkyM9M0cfVAfj4UFIRJ5c3Cc0FBKBeRxifV8wj93H2bmeUD84AbgCXA7VVVMLMc4E7gZKAIWGRmT7j7ypj9fg08F3OY4919U4oxyn6Qn6+EINJUpHoOokV038NZwF/cvRioaTLr4cBqd1/j7nuAOcCZMftdCTwKfBGzTUREsiTVBPHfwFqgNbDAzHoC22qo0w1Yn7ReFJWVie6rOBu4O6a+A8+b2RIzm5pinCIikiYpdTG5+x3AHUlF68zs+Bqqxc1aW7nVMRu4wd1Lbe9Jbke7+wYz6wL81cxWufuCvV4kJI+pAD10OY2ISNqkepK6vZn9xswWR49/I7QmqlMEHJa03h3YUGmfPGCOma0FzgXuMrOzANx9Q/T8BfA4octqL+5e4O557p7XuXPnVN6OiIikINUupvuA7cA/RY9twP011FkE9DGz3mbWEpgEPJG8g7v3dvde7t4LeAS4zN3nRmM/tYUwDhTwPWB5irGKiEgapHoV07fd/Zyk9X81s2XVVXD3EjO7gnB1Ug5wX3ST3bRoe9x5h4SuwONRt1Nz4CF3fzbFWEVEJA1STRC7zGyMuy8EMLPRwK6aKrn7PMJlscllsYnB3ackLa8BBqUYm4iIZECqCWIa8KCZtY/WvwIuzExIIiJSH6R6FdM7wCAzaxetbzOza4B3MxibiIhkUa1mlHP3be6euP/hugzEIyIi9cS+TDkad5+DiIg0EvuSIGoaakNERBqwas9BmNl24hOBAQdmJCIREakXqk0Q7t52fwUiIiL1y750MYmISCOmBCEiIrGUIKRRKCyEXr2gWbPwXFiY7YhEGr5U76QWqbcKC2HqVNi5M6yvWxfWQbPfiewLtSCkwbvppvLkkLBzZygXkbpTgpAG7+OPa1cuIqlRgpAGr6qJBDXBoMi+UYKQBm/mTMjNrViWmxvKRaTulCCkwcvPh4IC6NkTzMJzQYFOUIvsK13FJI1Cfr4Sgki6qQUhIiKxlCBERCSWEoSIiMRSghARkVhKECIiEksJQkREYilBiIhILCUIERGJldEEYWanmtkHZrbazG6sZr9hZlZqZufWtq6IiGRGxhKEmeUAdwKnAf2AyWbWr4r9fg08V9u6IiKSOZlsQQwHVrv7GnffA8wBzozZ70rgUeCLOtQVEZEMyWSC6AasT1ovisrKmFk34Gzg7trWFRGRzMpkgrCYMq+0Phu4wd1L61A37Gg21cwWm9nijRs31j5KERGJlckEUQQclrTeHdhQaZ88YI6ZrQXOBe4ys7NSrAuAuxe4e56753Xu3DlNoYukR2Eh9OoFzZqF58LCbEckkrpMDve9COhjZr2BT4BJwA+Td3D33ollM3sAeMrd55pZ85rqitR3hYUwdWr5fNnr1oV10NDk0jBkrAXh7iXAFYSrk94HHnb3FWY2zcym1aVupmIVyYSbbipPDgk7d4ZykYbA3GO79hukvLw8X7x4cbbDEAFCt1Lcv5cZfPPN/o9HJI6ZLXH3vLhtupNaJEN69KhduUh9owQhkiEzZ0JubsWy3NxQLtIQKEGIZEh+PhQUQM+eoVupZ8+wrhPU0lBk8iomkSYvP18JQRoutSBERCSWEoSIiMRSghARkVhKECIiEksJQkREYilBiIhILCUIERGJpQQhIiKxlCBERCSWEoSIiMRSghBpgjTTnaRCYzGJNDGa6U5SpRaESBOjme4kVUoQIk3Mxx/XrlyaLiUIkSZGM91JqpQgRJoYzXQnqVKCEGliNNOdpEpXMYk0QZrpTlKhFoSIiMRSghARkVhKECIiEksJQkREYmU0QZjZqWb2gZmtNrMbY7afaWbvmtkyM1tsZmOStq01s/cS2zIZp4iI7C1jVzGZWQ5wJ3AyUAQsMrMn3H1l0m4vAk+4u5vZQOBhoG/S9uPdfVOmYhQRkaplsgUxHFjt7mvcfQ8wBzgzeQd33+HuHq22BhwREakXMpkgugHrk9aLorIKzOxsM1sFPA1cnLTJgefNbImZTa3qRcxsatQ9tXjjxo1pCl1EskHDkNcvmUwQFlO2VwvB3R93977AWcCtSZtGu/tQ4DTgcjMbG/ci7l7g7nnunte5c+c0hC0i2ZAYhnzdOnAvH4ZcSSJ7MpkgioDDkta7Axuq2tndFwDfNrNO0fqG6PkL4HFCl5WINFIahrz+yWSCWAT0MbPeZtYSmAQ8kbyDmX3HzCxaHgq0BDabWWszaxuVtwa+ByzPYKwikmUahrz+ydhVTO5eYmZXAM8BOcB97r7CzKZF2+8GzgEuMLNiYBdwXnRFU1fg8Sh3NAcecvdnMxWriGRfjx6hWymuXLLDyi8iavjy8vJ88WLdMiHSEFWeChXCMOQaaTazzGyJu+fFbdOd1CJSL2gY8vpHw32LSL2hYcjrF7UgREQklhKEiIjEUoIQEZFYShAiIhJLCUJERGIpQYiISCwlCBGRGjTVUWZ1H4SISDUq3+GdGGUWGv89G2pBiIhUoymPMqsEISJSjaY8yqwShIhINaoaTbYpjDKrBCEiUo2ZM8Oosslyc0N5Y6cEISJSjaY8yqyuYhIRqUFTHWVWLQgREYmlBCEiIrGUIEREJJYShIiIxFKCEBFpoDI9RpSuYhIRaYD2xxhRakGIiDRA+2OMKCUIEZEGaH+MEaUEISLSAO2PMaIymiDM7FQz+8DMVpvZjTHbzzSzd81smZktNrMxqdYVEWnK9scYURlLEGaWA9wJnAb0AyabWb9Ku70IDHL3wcDFwD21qCsi0mTtjzGiMnkV03BgtbuvATCzOcCZwMrEDu6+I2n/1oCnWldEpKnL9BhRmexi6gasT1ovisoqMLOzzWwV8DShFZFy3aj+1Kh7avHGjRvTEriIiGQ2QVhMme9V4P64u/cFzgJurU3dqH6Bu+e5e17nzp3rGquIiFSSyQRRBByWtN4d2FDVzu6+APi2mXWqbV0REUm/TCaIRUAfM+ttZi2BScATyTuY2XfMzKLloUBLYHMqdUVEJLMydpLa3UvM7ArgOSAHuM/dV5jZtGj73cA5wAVmVgzsAs5zdwdi62YqVhER2ZuFz+PGwcw2AuvqWL0TsCmN4aSL4qodxVU7iqt2GmNcPd099gRuo0oQ+8LMFrt7XrbjqExx1Y7iqh3FVTtNLS4NtSEiIrGUIEREJJYSRLmCbAdQBcVVO4qrdhRX7TSpuHQOQkREYqkFISIisZQgREQkVpNPEGZ2n5l9YWbLsx1LgpkdZmYvm9n7ZrbCzK7OdkwAZtbKzN4ys3eiuP412zElM7McM3vbzJ7KdizJzGytmb2XmPck2/EkmNlBZvaIma2K/tZG1YOYjox+TonHNjO7JttxAZjZtdHf/XIz+5OZtcp2TABmdnUU04p0/6ya/DkIMxsL7AAedPejsx0PgJkdChzq7kvNrC2wBDjL3bM63Hk0LEprd99hZi2AhcDV7v5mNuNKMLPrgDygnbtPyHY8CWa2Fshz93p1g5WZ/R541d3viYa0yXX3LVkOq0w0L8wnwAh3r+sNsOmKpRvh772fu+8ys4eBee7+QJbjOhqYQ5giYQ/wLHCpu/89Hcdv8i2IaJDAL7MdRzJ3/9Tdl0bL24H3qWK48/3Jg8QcHi2iR734hmFm3YHxRJNOSfXMrB0wFrgXwN331KfkEDkR+DDbySFJc+BAM2sO5FI/BhA9CnjT3Xe6ewnwCnB2ug7e5BNEfWdmvYAhwN+yHApQ1o2zDPgC+Ku714u4gNnAz4BvshxHHAeeN7MlZjY128FEDgc2AvdH3XL3mFnrbAdVySTgT9kOAsDdPwFmAR8DnwJb3f357EYFwHJgrJl1NLNc4HQqjoS9T5Qg6jEzawM8Clzj7tuyHQ+Au5dGU8R2B4ZHTdysMrMJwBfuviTbsVRhtLsPJUyhe3nUrZltzYGhwG/dfQjwD6DezP0edXmdAfxPtmMBMLODCbNa9ga+BbQ2sx9lNypw9/eBXwN/JXQvvQOUpOv4ShD1VNTH/yhQ6O6PZTueyqLuiPnAqdmNBIDRwBlRX/8c4AQz+2N2Qyrn7hui5y+Axwn9xdlWBBQltQAfISSM+uI0YKm7f57tQCInAR+5+0Z3LwYeA47NckwAuPu97j7U3ccSusvTcv4BlCDqpehk8L3A++7+m2zHk2Bmnc3soGj5QMI/zaqsBgW4+8/dvbu79yJ0S7zk7ln/dgdgZq2jCw2IunC+R+gWyCp3/wxYb2ZHRkUnUr/mfJ9MPeleinwMjDSz3Oj/80TCucGsM7Mu0XMPYCJp/LllbD6IhsLM/gSMAzqZWREw3d3vzW5UjAbOB96L+vsBfuHu87IXEgCHAr+Pri5pBjzs7vXqktJ6qCvweDQvVnPgIXd/NrshlbkSKIy6c9YAF2U5HgCivvSTgZ9kO5YEd/+bmT0CLCV04bxN/Rl241Ez6wgUA5e7+1fpOnCTv8xVRETiqYtJRERiKUGIiEgsJQgREYmlBCEiIrGUIEREJJYShEgNzKy00gijabvj2Mx61aeRhEWSNfn7IERSsCsaXkSkSVELQqSOonkefh3NkfGWmX0nKu9pZi+a2bvRc4+ovKuZPR7Np/GOmSWGasgxs99F4/k/H92ljpldZWYro+PMydLblCZMCUKkZgdW6mI6L2nbNncfDvwXYURZouUH3X0gUAjcEZXfAbzi7oMI4x6tiMr7AHe6e39gC3BOVH4jMCQ6zrTMvDWRqulOapEamNkOd28TU74WOMHd10SDK37m7h3NbBNhwqfiqPxTd+9kZhuB7u7+ddIxehGGTe8Trd8AtHD328zsWcJkVnOBuUlzcYjsF2pBiOwbr2K5qn3ifJ20XEr5ucHxwJ3AMcCSaKIakf1GCUJk35yX9PxGtPw6YVRZgHzCVJUALwKXQtnES+2qOqiZNQMOc/eXCRMhHQTs1YoRySR9IxGp2YFJo+oCPOvuiUtdDzCzvxG+bE2Oyq4C7jOz6wmztiVGSb0aKDCzHxNaCpcSZieLkwP80czaAwb8ez2cElQaOZ2DEKmj6BxEnrtvynYsIpmgLiYREYmlFoSIiMRSC0JERGIpQYiISCwlCBERiaUEISIisZQgREQk1v8HVijsaaOrSQ4AAAAASUVORK5CYII=\n",
      "text/plain": [
       "<Figure size 432x288 with 1 Axes>"
      ]
     },
     "metadata": {
      "needs_background": "light"
     },
     "output_type": "display_data"
    }
   ],
   "source": [
    "import matplotlib.pyplot as plt\n",
    "\n",
    "acc = history_dict['accuracy']\n",
    "val_acc = history_dict['val_accuracy']\n",
    "loss = history_dict['loss']\n",
    "val_loss = history_dict['val_loss']\n",
    "\n",
    "epochs = range(1, len(acc) + 1)\n",
    "\n",
    "# \"bo\"는 \"파란색 점\"입니다\n",
    "plt.plot(epochs, loss, 'bo', label='Training loss')\n",
    "# b는 \"파란 실선\"입니다\n",
    "plt.plot(epochs, val_loss, 'b', label='Validation loss')\n",
    "plt.title('Training and validation loss')\n",
    "plt.xlabel('Epochs')\n",
    "plt.ylabel('Loss')\n",
    "plt.legend()\n",
    "\n",
    "plt.show()"
   ]
  },
  {
   "cell_type": "markdown",
   "metadata": {},
   "source": [
    "- Training and validation loss를 그려 보면, 몇 epoch까지의 트레이닝이 적절한지 최적점 추정\n",
    "\n",
    "\n",
    "- validation loss의 그래프가 train loss와의 이격이 너무 빠르게 발생 -> 문제"
   ]
  },
  {
   "cell_type": "code",
   "execution_count": 336,
   "metadata": {},
   "outputs": [
    {
     "data": {
      "image/png": "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\n",
      "text/plain": [
       "<Figure size 432x288 with 1 Axes>"
      ]
     },
     "metadata": {
      "needs_background": "light"
     },
     "output_type": "display_data"
    }
   ],
   "source": [
    "plt.clf()   # 그림을 초기화합니다\n",
    "\n",
    "plt.plot(epochs, acc, 'bo', label='Training acc')\n",
    "plt.plot(epochs, val_acc, 'b', label='Validation acc')\n",
    "plt.title('Training and validation accuracy')\n",
    "plt.xlabel('Epochs')\n",
    "plt.ylabel('Accuracy')\n",
    "plt.legend()\n",
    "\n",
    "plt.show()"
   ]
  },
  {
   "cell_type": "markdown",
   "metadata": {},
   "source": [
    "- LSTM, 1D-CNN과 같은 문제 발생\n",
    "\n",
    "- 1d-cnn + RNN을 합친다해서 더 좋은 모델이 되는건 아닌것같다."
   ]
  },
  {
   "cell_type": "code",
   "execution_count": 337,
   "metadata": {
    "scrolled": true
   },
   "outputs": [
    {
     "data": {
      "image/png": "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\n",
      "text/plain": [
       "<Figure size 432x288 with 1 Axes>"
      ]
     },
     "metadata": {
      "needs_background": "light"
     },
     "output_type": "display_data"
    }
   ],
   "source": [
    "y_loss = history.history['loss']\n",
    "y_val_loss = history.history['val_loss']\n",
    "x_len = np.arange(len(y_loss))\n",
    "plt.plot(x_len, y_loss, marker='.', c='red', label='Traing set')\n",
    "plt.plot(x_len, y_val_loss, marker='.', c='blue', label='testing set')\n",
    "plt.grid()\n",
    "plt.xlabel('epoch')\n",
    "plt.ylabel('loss')\n",
    "plt.show()"
   ]
  },
  {
   "cell_type": "markdown",
   "metadata": {},
   "source": [
    "### Word2Vec의 적용 [워드 임베딩] \n",
    "---\n",
    "#### 워드 임베딩(word embedding) 기법 \n",
    "\n",
    "- 라벨링 비용이 많이 드는 머신러닝 기반 감성분석의 비용을 절감하면서 정확도를 크게 향상시킬 수 있는 자연어처리 기법\n",
    "\n",
    "워드 임베딩으로 모델 학습 성능 개선"
   ]
  },
  {
   "cell_type": "code",
   "execution_count": 339,
   "metadata": {},
   "outputs": [
    {
     "name": "stdout",
     "output_type": "stream",
     "text": [
      "(10000, 20)\n"
     ]
    }
   ],
   "source": [
    "embedding_layer = model.layers[0]\n",
    "weights = embedding_layer.get_weights()[0]\n",
    "print(weights.shape)    # shape: (vocab_size, embedding_dim)\n",
    "# 10000개의 단어 사전"
   ]
  },
  {
   "cell_type": "code",
   "execution_count": 340,
   "metadata": {},
   "outputs": [],
   "source": [
    "import os\n",
    "\n",
    "# 학습한 Embedding 파라미터를 파일에 써서 저장합니다. \n",
    "word2vec_file_path = os.getenv('HOME')+'/aiffel/sentiment_classification/word2vec_ko.txt'\n",
    "f = open(word2vec_file_path, 'w')\n",
    "f.write('{} {}\\n'.format(vocab_size-4, word_vector_dim))  # 몇개의 벡터를 얼마 사이즈로 기재할지 타이틀을 씁니다.\n",
    "\n",
    "# 단어 개수(에서 특수문자 4개는 제외하고)만큼의 워드 벡터를 파일에 기록합니다. \n",
    "vectors = model.get_weights()[0]\n",
    "for i in range(4,vocab_size):\n",
    "    f.write('{} {}\\n'.format(index_to_word[i], ' '.join(map(str, list(vectors[i, :])))))\n",
    "f.close()"
   ]
  },
  {
   "cell_type": "markdown",
   "metadata": {},
   "source": [
    " 한국어 Word2Vec 임베딩 활용하여 성능개선"
   ]
  },
  {
   "cell_type": "markdown",
   "metadata": {},
   "source": [
    "- gensim에서 제공하는 패키지를 이용해, 위에 남긴 임베딩 파라미터를 읽어서 word vector로 활용할 수 있다."
   ]
  },
  {
   "cell_type": "code",
   "execution_count": 341,
   "metadata": {},
   "outputs": [
    {
     "data": {
      "text/plain": [
       "array([-0.08593687, -0.04961475, -0.14682527, -0.03745231,  0.00542662,\n",
       "       -0.03151956,  0.01963768, -0.00105669, -0.04979969, -0.08913935,\n",
       "       -0.1730272 , -0.08016104,  0.05221648,  0.00836838,  0.02334639,\n",
       "       -0.05327123,  0.05258184,  0.00158501, -0.04481374,  0.06737486],\n",
       "      dtype=float32)"
      ]
     },
     "execution_count": 341,
     "metadata": {},
     "output_type": "execute_result"
    }
   ],
   "source": [
    "from gensim.models.keyedvectors import Word2VecKeyedVectors\n",
    "\n",
    "word_vectors = Word2VecKeyedVectors.load_word2vec_format(word2vec_file_path, binary=False)\n",
    "vector = word_vectors['나무']\n",
    "vector"
   ]
  },
  {
   "cell_type": "markdown",
   "metadata": {},
   "source": [
    "- 학습된 워드 벡터에서 단어를 주어 해당 단어와 유사한 단어 나타내기"
   ]
  },
  {
   "cell_type": "code",
   "execution_count": 346,
   "metadata": {},
   "outputs": [
    {
     "data": {
      "text/plain": [
       "[('늙', 0.8662511110305786),\n",
       " ('동의', 0.8125020265579224),\n",
       " ('스러', 0.8049744367599487),\n",
       " ('출신', 0.7889511585235596),\n",
       " ('긴', 0.7855370044708252),\n",
       " ('갱', 0.7838460206985474),\n",
       " ('낡', 0.7802380919456482),\n",
       " ('헐리', 0.779589831829071),\n",
       " ('발버둥', 0.7788864374160767),\n",
       " ('때메', 0.7788003087043762)]"
      ]
     },
     "execution_count": 346,
     "metadata": {},
     "output_type": "execute_result"
    }
   ],
   "source": [
    "word_vectors.similar_by_word(\"하늘\")"
   ]
  },
  {
   "cell_type": "markdown",
   "metadata": {},
   "source": [
    "- 학습된 워드 벡터가 좋은 결과를 나타내지 않는다."
   ]
  },
  {
   "cell_type": "markdown",
   "metadata": {},
   "source": [
    "---"
   ]
  },
  {
   "cell_type": "markdown",
   "metadata": {},
   "source": [
    "###  한국어 Word2Vec 임베딩 활용\n",
    "### 1D-CNN + RNN \n",
    "- 최적의 하이퍼 파라미터 : Dropout 0.4, 0.,3  GRU(40)  \n",
    "\n",
    "losss : 0.3431110382080078   \n",
    "accuracy : 0.8551172614097595\n",
    "\n",
    "- 2번째로 높은 하이퍼 파라미터 : Dropout 0.3, 0.,2  GRU(32)\n",
    "   - Dropout의 값을 높여 준게 성능향상의 영향을 준것 같다.\n",
    "\n",
    "loss : 0.3554093539714813   \n",
    "accuracy : 0.8525133728981018  \n",
    "\n",
    "-  Word2Vec 활용한 후 월등한 성능 향상을 보여주었다.\n",
    "\n",
    "---"
   ]
  },
  {
   "cell_type": "code",
   "execution_count": 2,
   "metadata": {},
   "outputs": [],
   "source": [
    "from gensim import models\n",
    "import gensim\n",
    "import os\n",
    "word2vec_path = os.getenv('HOME')+'/aiffel/sentiment_classification/ko/ko.bin'\n",
    "word2vec_ko = gensim.models.Word2Vec.load(word2vec_path)"
   ]
  },
  {
   "cell_type": "code",
   "execution_count": 17,
   "metadata": {},
   "outputs": [
    {
     "name": "stderr",
     "output_type": "stream",
     "text": [
      "/home/ssac27/anaconda3/envs/aiffel/lib/python3.7/site-packages/ipykernel_launcher.py:1: DeprecationWarning: Call to deprecated `__getitem__` (Method will be removed in 4.0.0, use self.wv.__getitem__() instead).\n",
      "  \"\"\"Entry point for launching an IPython kernel.\n"
     ]
    },
    {
     "data": {
      "text/plain": [
       "array([ 1.1514541e+00, -6.9829971e-01,  5.1037413e-01, -7.2899258e-01,\n",
       "       -9.4888687e-01,  1.7572470e-01,  8.9921057e-01, -1.3143352e-01,\n",
       "        2.1661602e-01,  1.4544671e+00,  1.5468161e+00,  9.0732053e-02,\n",
       "       -1.3391463e+00,  9.5769143e-01,  1.5690635e+00,  2.0181141e+00,\n",
       "       -4.2060715e-01,  8.1535000e-01,  4.0587443e-01, -1.7204196e+00,\n",
       "       -1.8905382e+00, -8.3004087e-01,  7.1928662e-01,  1.7933643e+00,\n",
       "       -1.1815268e+00, -2.2641279e-01,  2.9251590e+00,  3.8957193e-01,\n",
       "        6.2811023e-01, -9.7262663e-01,  6.3567483e-01, -8.2137674e-01,\n",
       "       -4.8207602e-01, -5.2974856e-01,  1.2983459e+00, -8.8676381e-01,\n",
       "        8.2100493e-01,  2.3882358e+00,  3.1545445e-02,  1.1185359e+00,\n",
       "       -3.5426736e-01,  8.0915773e-01, -4.7398126e-01, -2.7063377e+00,\n",
       "       -5.2099943e-01, -2.5914320e-01,  9.6753508e-02,  1.5363537e+00,\n",
       "       -4.5348138e-01,  7.4460477e-01,  2.0737967e+00,  2.0052508e-01,\n",
       "        1.8644301e+00,  3.4138578e-01, -9.5809656e-01,  1.0188689e+00,\n",
       "       -1.8541212e+00, -5.6105685e-01, -2.7097157e-01,  1.0565305e+00,\n",
       "       -1.1489353e+00,  1.1745093e+00, -1.5997746e+00, -2.1800190e-01,\n",
       "       -4.6751663e-01,  2.1440783e+00,  4.2175183e-01,  3.9171103e-01,\n",
       "        2.1287914e-01,  2.3944439e-01,  2.1133012e-01, -5.3535080e-01,\n",
       "       -5.8560587e-02, -2.9062918e-01,  1.7869693e+00,  4.5450252e-01,\n",
       "       -8.8730282e-01,  2.8978720e-01, -5.0878668e-01,  6.2875825e-01,\n",
       "        1.8130373e+00, -9.0558863e-01, -7.0166248e-01, -7.9901379e-01,\n",
       "       -2.4403222e+00,  2.3464790e-01, -1.8990245e+00,  9.6791553e-01,\n",
       "       -3.1136098e+00,  2.8734350e+00,  1.6827358e+00, -1.4861928e+00,\n",
       "       -5.5450428e-01, -1.0877811e+00, -3.9173231e-01, -6.3277048e-01,\n",
       "        1.2860450e+00,  5.1373965e-01,  1.7313466e+00,  7.1722740e-01,\n",
       "       -7.3477256e-01,  9.9090761e-01, -2.4386568e-01,  4.7356698e-01,\n",
       "       -7.3452538e-01, -6.3668633e-01,  4.4444874e-01,  1.0188622e+00,\n",
       "        2.2005243e+00, -2.6881108e-01,  2.8495339e-01,  5.1675856e-01,\n",
       "       -5.8708215e-01, -7.1818614e-01, -1.0256622e+00, -4.9044579e-01,\n",
       "       -4.7837043e-01,  6.3297433e-01,  5.0968844e-01, -1.2241020e-02,\n",
       "       -1.8006127e+00, -8.8143654e-02, -2.1209644e-01, -1.3364152e+00,\n",
       "        9.5139122e-01,  2.8993234e-01, -2.8275909e+00, -2.6923304e+00,\n",
       "       -2.8677529e-01, -9.0991819e-01, -2.5198436e-01,  9.4988823e-01,\n",
       "       -5.6264836e-01, -1.2206920e-01, -1.1665378e+00, -4.8360741e-01,\n",
       "        2.4108380e-01, -1.5771779e+00,  1.2260160e-01,  6.3914430e-01,\n",
       "        1.7048271e-01, -1.7697518e-01,  2.8496686e-01,  6.7923945e-01,\n",
       "        1.9438329e+00, -6.6211361e-01,  1.5291334e+00,  3.2403622e-02,\n",
       "       -6.4286101e-01,  6.1995548e-01, -1.1939327e+00,  2.0338576e+00,\n",
       "        1.3120852e+00, -7.4677724e-01,  2.3605170e+00, -1.5984383e+00,\n",
       "        1.2604754e+00,  1.4638722e+00, -2.5111651e-01, -9.9261606e-01,\n",
       "       -1.9939311e+00, -1.8402356e+00,  5.9931082e-01, -7.8200859e-01,\n",
       "       -1.3147262e+00, -2.0218771e+00,  1.2410288e+00, -1.4097159e+00,\n",
       "        2.0133548e+00,  9.6482202e-02, -2.1510830e+00, -3.2339397e-01,\n",
       "       -6.1369991e-01,  2.8953350e-03, -9.2360723e-01, -1.0111343e+00,\n",
       "       -9.0209526e-01, -2.2557728e+00, -1.1921407e-01,  6.3787514e-01,\n",
       "       -6.3040268e-01, -1.9971715e+00,  5.3953701e-01,  7.0186764e-01,\n",
       "       -1.0779207e+00, -4.4967658e-03, -1.1343364e+00,  1.2717514e+00,\n",
       "       -1.2094957e+00,  6.0972057e-02,  6.2262893e-01,  2.0548224e+00,\n",
       "        1.6649312e+00, -1.7573558e+00,  5.7902467e-01,  1.9545678e+00,\n",
       "       -7.7034068e-01, -1.5687108e-01, -1.2515937e-01, -7.2267103e-01],\n",
       "      dtype=float32)"
      ]
     },
     "execution_count": 17,
     "metadata": {},
     "output_type": "execute_result"
    }
   ],
   "source": [
    "vector = word2vec_ko['바위']\n",
    "vector     # 200dim의 워드 벡터입니다."
   ]
  },
  {
   "cell_type": "markdown",
   "metadata": {},
   "source": [
    "- 유사성 확인하기"
   ]
  },
  {
   "cell_type": "code",
   "execution_count": 18,
   "metadata": {},
   "outputs": [
    {
     "name": "stderr",
     "output_type": "stream",
     "text": [
      "/home/ssac27/anaconda3/envs/aiffel/lib/python3.7/site-packages/ipykernel_launcher.py:1: DeprecationWarning: Call to deprecated `similar_by_word` (Method will be removed in 4.0.0, use self.wv.similar_by_word() instead).\n",
      "  \"\"\"Entry point for launching an IPython kernel.\n"
     ]
    },
    {
     "data": {
      "text/plain": [
       "[('셔츠', 0.8049362897872925),\n",
       " ('반바지', 0.7742342948913574),\n",
       " ('바지', 0.699009358882904),\n",
       " ('망토', 0.6981318593025208),\n",
       " ('허리띠', 0.6888015270233154),\n",
       " ('기모노', 0.6824862360954285),\n",
       " ('외투', 0.6823244094848633),\n",
       " ('저고리', 0.6793856620788574),\n",
       " ('선글라스', 0.6763491630554199),\n",
       " ('머리', 0.6734156012535095)]"
      ]
     },
     "execution_count": 18,
     "metadata": {},
     "output_type": "execute_result"
    }
   ],
   "source": [
    "word2vec_ko.similar_by_word(\"넥타이\")"
   ]
  },
  {
   "cell_type": "code",
   "execution_count": 19,
   "metadata": {},
   "outputs": [
    {
     "name": "stderr",
     "output_type": "stream",
     "text": [
      "/home/ssac27/anaconda3/envs/aiffel/lib/python3.7/site-packages/ipykernel_launcher.py:8: DeprecationWarning: Call to deprecated `__contains__` (Method will be removed in 4.0.0, use self.wv.__contains__() instead).\n",
      "  \n",
      "/home/ssac27/anaconda3/envs/aiffel/lib/python3.7/site-packages/ipykernel_launcher.py:9: DeprecationWarning: Call to deprecated `__getitem__` (Method will be removed in 4.0.0, use self.wv.__getitem__() instead).\n",
      "  if __name__ == '__main__':\n"
     ]
    }
   ],
   "source": [
    "vocab_size = 10000    # 어휘 사전의 크기입니다(20,000개의 단어)\n",
    "word_vector_dim = 200  # 워드 벡터의 차원수 (변경가능한 하이퍼파라미터)\n",
    "\n",
    "embedding_matrix = np.random.rand(vocab_size, word_vector_dim)\n",
    "\n",
    "# embedding_matrix에 Word2Vec 워드벡터를 단어 하나씩마다 차례차례 카피한다.\n",
    "for i in range(4,vocab_size):\n",
    "    if index_to_word[i] in word2vec_ko:\n",
    "        embedding_matrix[i] = word2vec_ko[index_to_word[i]]"
   ]
  },
  {
   "cell_type": "markdown",
   "metadata": {},
   "source": [
    "- Word2Vec의 워드 벡터로 모델 재학습"
   ]
  },
  {
   "cell_type": "code",
   "execution_count": 25,
   "metadata": {
    "scrolled": true
   },
   "outputs": [
    {
     "name": "stdout",
     "output_type": "stream",
     "text": [
      "Model: \"sequential_2\"\n",
      "_________________________________________________________________\n",
      "Layer (type)                 Output Shape              Param #   \n",
      "=================================================================\n",
      "embedding_2 (Embedding)      (None, 51, 200)           2000000   \n",
      "_________________________________________________________________\n",
      "conv1d_2 (Conv1D)            (None, 45, 32)            44832     \n",
      "_________________________________________________________________\n",
      "dropout (Dropout)            (None, 45, 32)            0         \n",
      "_________________________________________________________________\n",
      "conv1d_3 (Conv1D)            (None, 39, 64)            14400     \n",
      "_________________________________________________________________\n",
      "max_pooling1d_1 (MaxPooling1 (None, 7, 64)             0         \n",
      "_________________________________________________________________\n",
      "dropout_1 (Dropout)          (None, 7, 64)             0         \n",
      "_________________________________________________________________\n",
      "gru (GRU)                    (None, 32)                9408      \n",
      "_________________________________________________________________\n",
      "dense_2 (Dense)              (None, 8)                 264       \n",
      "_________________________________________________________________\n",
      "dense_3 (Dense)              (None, 1)                 9         \n",
      "=================================================================\n",
      "Total params: 2,068,913\n",
      "Trainable params: 2,068,913\n",
      "Non-trainable params: 0\n",
      "_________________________________________________________________\n"
     ]
    }
   ],
   "source": [
    "\n",
    "vocab_size = 10000  # 어휘 사전의 크기입니다\n",
    "word_vector_dim = 200   # 단어 하나를 표현하는 임베딩 벡터의 차원수입니다. \n",
    "\n",
    "model = keras.Sequential()\n",
    "model.add(keras.layers.Embedding(vocab_size, \n",
    "                                 word_vector_dim, \n",
    "                                 embeddings_initializer=Constant(embedding_matrix),  # 카피한 임베딩을 여기서 활용\n",
    "                                 input_length=maxlen, \n",
    "                                 trainable=True))   # trainable을 True로 주면 Fine-tuning\n",
    "\n",
    "model.add(keras.layers.Conv1D(32, 7, activation='relu'))\n",
    "\n",
    "model.add(keras.layers.Dropout(0.3))\n",
    "\n",
    "model.add(keras.layers.Conv1D(64, 7, activation='relu'))\n",
    "model.add(keras.layers.MaxPooling1D(5))\n",
    "\n",
    "#model.add(keras.layers.Conv1D(128, 7, activation='relu'))\n",
    "#model.add(keras.layers.GlobalMaxPooling1D()) \n",
    "\n",
    "model.add(keras.layers.Dropout(0.2))\n",
    "\n",
    "\n",
    "model.add(keras.layers.GRU(32))\n",
    "\n",
    "\n",
    "model.add(keras.layers.Dense(8, activation='relu'))\n",
    "model.add(keras.layers.Dense(1, activation='sigmoid'))  # 최종 출력은 긍정/부정을 나타내는 1dim 입니다.\n",
    "\n",
    "model.summary()"
   ]
  },
  {
   "cell_type": "code",
   "execution_count": 113,
   "metadata": {
    "scrolled": false
   },
   "outputs": [
    {
     "name": "stdout",
     "output_type": "stream",
     "text": [
      "Model: \"sequential_25\"\n",
      "_________________________________________________________________\n",
      "Layer (type)                 Output Shape              Param #   \n",
      "=================================================================\n",
      "embedding_25 (Embedding)     (None, 51, 200)           2000000   \n",
      "_________________________________________________________________\n",
      "conv1d_4 (Conv1D)            (None, 45, 32)            44832     \n",
      "_________________________________________________________________\n",
      "dropout_2 (Dropout)          (None, 45, 32)            0         \n",
      "_________________________________________________________________\n",
      "conv1d_5 (Conv1D)            (None, 39, 64)            14400     \n",
      "_________________________________________________________________\n",
      "max_pooling1d_2 (MaxPooling1 (None, 7, 64)             0         \n",
      "_________________________________________________________________\n",
      "dropout_3 (Dropout)          (None, 7, 64)             0         \n",
      "_________________________________________________________________\n",
      "gru_24 (GRU)                 (None, 40)                12720     \n",
      "_________________________________________________________________\n",
      "dense_46 (Dense)             (None, 8)                 328       \n",
      "_________________________________________________________________\n",
      "dense_47 (Dense)             (None, 1)                 9         \n",
      "=================================================================\n",
      "Total params: 2,072,289\n",
      "Trainable params: 2,072,289\n",
      "Non-trainable params: 0\n",
      "_________________________________________________________________\n"
     ]
    }
   ],
   "source": [
    "\n",
    "vocab_size = 10000  # 어휘 사전의 크기입니다\n",
    "word_vector_dim = 200   # 단어 하나를 표현하는 임베딩 벡터의 차원수입니다. \n",
    "\n",
    "model = keras.Sequential()\n",
    "model.add(keras.layers.Embedding(vocab_size, \n",
    "                                 word_vector_dim, \n",
    "                                 embeddings_initializer=Constant(embedding_matrix),  # 카피한 임베딩을 여기서 활용\n",
    "                                 input_length=maxlen, \n",
    "                                 trainable=True))   # trainable을 True로 주면 Fine-tuning\n",
    "\n",
    "model.add(keras.layers.Conv1D(32, 7, activation='relu'))\n",
    "\n",
    "model.add(keras.layers.Dropout(0.4))\n",
    "\n",
    "model.add(keras.layers.Conv1D(64, 7, activation='relu'))\n",
    "model.add(keras.layers.MaxPooling1D(5))\n",
    "\n",
    "#model.add(keras.layers.Conv1D(128, 7, activation='relu'))\n",
    "#model.add(keras.layers.GlobalMaxPooling1D()) \n",
    "\n",
    "model.add(keras.layers.Dropout(0.3))\n",
    "\n",
    "\n",
    "model.add(keras.layers.GRU(40))\n",
    "\n",
    "\n",
    "model.add(keras.layers.Dense(8, activation='relu'))\n",
    "model.add(keras.layers.Dense(1, activation='sigmoid'))  # 최종 출력은 긍정/부정을 나타내는 1dim 입니다.\n",
    "\n",
    "model.summary()"
   ]
  },
  {
   "cell_type": "code",
   "execution_count": 114,
   "metadata": {
    "scrolled": true
   },
   "outputs": [
    {
     "name": "stdout",
     "output_type": "stream",
     "text": [
      "Epoch 1/10\n",
      "229/229 [==============================] - 20s 89ms/step - loss: 0.6758 - accuracy: 0.5508 - val_loss: 0.5386 - val_accuracy: 0.7377\n",
      "Epoch 2/10\n",
      "229/229 [==============================] - 20s 86ms/step - loss: 0.4527 - accuracy: 0.7904 - val_loss: 0.3799 - val_accuracy: 0.8312\n",
      "Epoch 3/10\n",
      "229/229 [==============================] - 19s 85ms/step - loss: 0.3739 - accuracy: 0.8349 - val_loss: 0.3459 - val_accuracy: 0.8500\n",
      "Epoch 4/10\n",
      "229/229 [==============================] - 19s 85ms/step - loss: 0.3369 - accuracy: 0.8542 - val_loss: 0.3353 - val_accuracy: 0.8538\n",
      "Epoch 5/10\n",
      "229/229 [==============================] - 19s 85ms/step - loss: 0.3169 - accuracy: 0.8651 - val_loss: 0.3322 - val_accuracy: 0.8546\n",
      "Epoch 6/10\n",
      "229/229 [==============================] - 19s 85ms/step - loss: 0.3019 - accuracy: 0.8733 - val_loss: 0.3296 - val_accuracy: 0.8591\n",
      "Epoch 7/10\n",
      "229/229 [==============================] - 19s 85ms/step - loss: 0.2886 - accuracy: 0.8800 - val_loss: 0.3304 - val_accuracy: 0.8570\n",
      "Epoch 8/10\n",
      "229/229 [==============================] - 20s 86ms/step - loss: 0.2787 - accuracy: 0.8851 - val_loss: 0.3280 - val_accuracy: 0.8572\n",
      "Epoch 9/10\n",
      "229/229 [==============================] - 20s 85ms/step - loss: 0.2691 - accuracy: 0.8892 - val_loss: 0.3287 - val_accuracy: 0.8595\n",
      "Epoch 10/10\n",
      "229/229 [==============================] - 19s 85ms/step - loss: 0.2616 - accuracy: 0.8932 - val_loss: 0.3333 - val_accuracy: 0.8596\n"
     ]
    }
   ],
   "source": [
    "# 학습의 진행\n",
    "#Dropout 0.4, 0.,3  GRU(40)\n",
    "model.compile(optimizer='adam',\n",
    "              loss='binary_crossentropy',\n",
    "              metrics=['accuracy'])\n",
    "              \n",
    "epochs=10  # 몇 epoch를 훈련하면 좋을지 결과를 보면서 바꾸어 봅시다. \n",
    "\n",
    "history = model.fit(partial_x_train,\n",
    "                    partial_y_train,\n",
    "                    epochs=epochs,\n",
    "                    batch_size=512,\n",
    "                    validation_data=(x_val, y_val),\n",
    "                    verbose=1)"
   ]
  },
  {
   "cell_type": "code",
   "execution_count": 26,
   "metadata": {
    "scrolled": true
   },
   "outputs": [
    {
     "name": "stdout",
     "output_type": "stream",
     "text": [
      "Epoch 1/10\n",
      "229/229 [==============================] - 19s 84ms/step - loss: 0.6480 - accuracy: 0.6238 - val_loss: 0.5546 - val_accuracy: 0.7767\n",
      "Epoch 2/10\n",
      "229/229 [==============================] - 19s 83ms/step - loss: 0.5150 - accuracy: 0.8001 - val_loss: 0.4715 - val_accuracy: 0.8251\n",
      "Epoch 3/10\n",
      "229/229 [==============================] - 19s 85ms/step - loss: 0.4007 - accuracy: 0.8329 - val_loss: 0.3588 - val_accuracy: 0.8409\n",
      "Epoch 4/10\n",
      "229/229 [==============================] - 20s 85ms/step - loss: 0.3367 - accuracy: 0.8560 - val_loss: 0.3368 - val_accuracy: 0.8520\n",
      "Epoch 5/10\n",
      "229/229 [==============================] - 20s 87ms/step - loss: 0.3117 - accuracy: 0.8697 - val_loss: 0.3360 - val_accuracy: 0.8548\n",
      "Epoch 6/10\n",
      "229/229 [==============================] - 19s 84ms/step - loss: 0.2937 - accuracy: 0.8774 - val_loss: 0.3358 - val_accuracy: 0.8570\n",
      "Epoch 7/10\n",
      "229/229 [==============================] - 19s 83ms/step - loss: 0.2802 - accuracy: 0.8846 - val_loss: 0.3390 - val_accuracy: 0.8524\n",
      "Epoch 8/10\n",
      "229/229 [==============================] - 19s 83ms/step - loss: 0.2687 - accuracy: 0.8911 - val_loss: 0.3325 - val_accuracy: 0.8575\n",
      "Epoch 9/10\n",
      "229/229 [==============================] - 19s 83ms/step - loss: 0.2573 - accuracy: 0.8949 - val_loss: 0.3387 - val_accuracy: 0.8570\n",
      "Epoch 10/10\n",
      "229/229 [==============================] - 19s 83ms/step - loss: 0.2449 - accuracy: 0.9010 - val_loss: 0.3448 - val_accuracy: 0.8574\n"
     ]
    }
   ],
   "source": [
    "# 학습의 진행\n",
    "# Dropout 0.3 , 0.2 GRU(32) \n",
    "# -> GRU(40)이 더 나은 결과 발생\n",
    "model.compile(optimizer='adam',\n",
    "              loss='binary_crossentropy',\n",
    "              metrics=['accuracy'])\n",
    "              \n",
    "epochs=10  # 몇 epoch를 훈련하면 좋을지 결과를 보면서 바꾸어 봅시다. \n",
    "\n",
    "history = model.fit(partial_x_train,\n",
    "                    partial_y_train,\n",
    "                    epochs=epochs,\n",
    "                    batch_size=512,\n",
    "                    validation_data=(x_val, y_val),\n",
    "                    verbose=1)"
   ]
  },
  {
   "cell_type": "markdown",
   "metadata": {},
   "source": [
    "#### \n",
    "Dropout 0.4, 0.,3  GRU(40)"
   ]
  },
  {
   "cell_type": "code",
   "execution_count": 27,
   "metadata": {
    "scrolled": true
   },
   "outputs": [
    {
     "name": "stdout",
     "output_type": "stream",
     "text": [
      "1537/1537 - 2s - loss: 0.3554 - accuracy: 0.8525\n",
      "[0.3554093539714813, 0.8525133728981018]\n"
     ]
    }
   ],
   "source": [
    "# 테스트셋을 통한 모델 평가\n",
    "results = model.evaluate(x_test,  y_test, verbose=2)\n",
    "\n",
    "print(results)"
   ]
  },
  {
   "cell_type": "code",
   "execution_count": 115,
   "metadata": {
    "scrolled": true
   },
   "outputs": [
    {
     "name": "stdout",
     "output_type": "stream",
     "text": [
      "1537/1537 - 3s - loss: 0.3431 - accuracy: 0.8551\n",
      "[0.3431110382080078, 0.8551172614097595]\n"
     ]
    }
   ],
   "source": [
    "# 테스트셋을 통한 모델 평가\n",
    "results = model.evaluate(x_test,  y_test, verbose=2)\n",
    "\n",
    "print(results)"
   ]
  },
  {
   "cell_type": "code",
   "execution_count": 29,
   "metadata": {},
   "outputs": [
    {
     "name": "stdout",
     "output_type": "stream",
     "text": [
      "dict_keys(['loss', 'accuracy', 'val_loss', 'val_accuracy'])\n"
     ]
    }
   ],
   "source": [
    "history_dict = history.history\n",
    "print(history_dict.keys()) # epoch에 따른 그래프를 그려볼 수 있는 항목들"
   ]
  },
  {
   "cell_type": "markdown",
   "metadata": {},
   "source": [
    "---"
   ]
  },
  {
   "cell_type": "markdown",
   "metadata": {},
   "source": [
    "### 그래프로 시각화\n",
    "- Word2Vec를 하고 난 후의 성능이 어떻게 바뀌었는지 확인"
   ]
  },
  {
   "cell_type": "code",
   "execution_count": 31,
   "metadata": {
    "scrolled": true
   },
   "outputs": [
    {
     "data": {
      "image/png": "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\n",
      "text/plain": [
       "<Figure size 432x288 with 1 Axes>"
      ]
     },
     "metadata": {
      "needs_background": "light"
     },
     "output_type": "display_data"
    }
   ],
   "source": [
    "import matplotlib.pyplot as plt\n",
    "\n",
    "acc = history_dict['accuracy']\n",
    "val_acc = history_dict['val_accuracy']\n",
    "loss = history_dict['loss']\n",
    "val_loss = history_dict['val_loss']\n",
    "\n",
    "epochs = range(1, len(acc) + 1)\n",
    "\n",
    "# \"bo\"는 \"파란색 점\"입니다\n",
    "plt.plot(epochs, loss, 'bo', label='Training loss')\n",
    "# b는 \"파란 실선\"입니다\n",
    "plt.plot(epochs, val_loss, 'b', label='Validation loss')\n",
    "plt.title('Training and validation loss')\n",
    "plt.xlabel('Epochs')\n",
    "plt.ylabel('Loss')\n",
    "plt.legend()\n",
    "\n",
    "plt.show()"
   ]
  },
  {
   "cell_type": "code",
   "execution_count": 32,
   "metadata": {},
   "outputs": [
    {
     "data": {
      "image/png": "iVBORw0KGgoAAAANSUhEUgAAAYgAAAEWCAYAAAB8LwAVAAAAOXRFWHRTb2Z0d2FyZQBNYXRwbG90bGliIHZlcnNpb24zLjMuMiwgaHR0cHM6Ly9tYXRwbG90bGliLm9yZy8vihELAAAACXBIWXMAAAsTAAALEwEAmpwYAAAq10lEQVR4nO3deXwV1f3/8dcnYQ37JiKRzaq4IFuKsqgoamlxqQsVpCrarxTXFlur1rb6reX3sNVW67cupdalGkutFaqtO2rVapWguIBLESNEXNgEZFGWz++PMyE3l0lyE3Izl+T9fDzu486cWe7nTmA+95wzc8bcHRERkXR5SQcgIiK5SQlCRERiKUGIiEgsJQgREYmlBCEiIrGUIEREJJYShGTMzB4xszPre90kmVmpmR2Vhf26mX0lmr7VzH6aybp1+JxJZvZ4XeMUqY7pPojGzcw+T5ktAL4Atkbz33X34oaPKneYWSnwP+7+ZD3v14G93X1Rfa1rZn2A94Hm7r6lXgIVqUazpAOQ7HL3tuXT1Z0MzayZTjqSK/TvMTeoiamJMrPRZlZmZpea2cfAHWbWycz+YWbLzWx1NF2Yss0zZvY/0fRkM3vezK6L1n3fzL5ex3X7mtmzZrbOzJ40s5vM7J4q4s4kxqvN7N/R/h43s64py083sw/MbKWZXVHN8TnEzD42s/yUshPN7PVoepiZvWhmn5nZR2b2OzNrUcW+7jSzX6TMXxJts8zMzk5bd5yZvWpma81sqZldlbL42ej9MzP73MyGlx/blO1HmNlcM1sTvY/I9NjU8jh3NrM7ou+w2sxmpyw7wczmR9/hPTMbG5VXas4zs6vK/85m1idqavuOmS0BnorK/xr9HdZE/0YOSNm+tZn9Ovp7ron+jbU2s3+a2YVp3+d1M/tm3HeVqilBNG27A52B3sAUwr+HO6L5XsBG4HfVbH8w8A7QFfgV8Eczszqsey/wMtAFuAo4vZrPzCTG04CzgN2AFsAPAcxsf+CWaP97RJ9XSAx3/w+wHjgybb/3RtNbgWnR9xkOjAHOqyZuohjGRvEcDewNpPd/rAfOADoC44BzU05sh0XvHd29rbu/mLbvzsA/gRuj7/Yb4J9m1iXtO+xwbGLUdJzvJjRZHhDt6/oohmHAn4BLou9wGFBaxWfEORzYD/haNP8I4TjtBrwCpDaJXgcMBUYQ/h3/CNgG3AV8u3wlMxsI9AQerkUcAuDuejWRF+E/6lHR9GjgS6BVNesPAlanzD9DaKICmAwsSllWADiwe23WJZx8tgAFKcvvAe7J8DvFxfiTlPnzgEej6Z8BM1OWtYmOwVFV7PsXwO3RdDvCybt3Fet+H5iVMu/AV6LpO4FfRNO3A9ekrLdP6rox+70BuD6a7hOt2yxl+WTg+Wj6dODltO1fBCbXdGxqc5yBHoQTcaeY9X5fHm91//6i+avK/84p361fNTF0jNbpQEhgG4GBMeu1BFYR+nUgJJKbs/F/qrG/VINo2pa7+6byGTMrMLPfR1X2tYQmjY6pzSxpPi6fcPcN0WTbWq67B7AqpQxgaVUBZxjjxynTG1Ji2iN13+6+HlhZ1WcRagsnmVlL4CTgFXf/IIpjn6jZ5eMojv9HqE3UpFIMwAdp3+9gM3s6atpZA0zNcL/l+/4grewDwq/nclUdm0pqOM57Ev5mq2M23RN4L8N442w/NmaWb2bXRM1Ua6moiXSNXq3iPsvdvwDuA75tZnnAREKNR2pJCaJpS7+E7QfAvsDB7t6eiiaNqpqN6sNHQGczK0gp27Oa9Xcmxo9S9x19ZpeqVnb3hYQT7Nep3LwEoanqbcKv1PbAj+sSA6EGlepe4EFgT3fvANyast+aLjlcRmgSStUL+DCDuNJVd5yXEv5mHWO2WwrsVcU+1xNqj+V2j1kn9TueBpxAaIbrQKhllMewAthUzWfdBUwiNP1t8LTmOMmMEoSkakeotn8WtWdfme0PjH6RlwBXmVkLMxsOHJelGO8HjjWzUVGH8s+p+f/AvcBFhBPkX9PiWAt8bmb9gXMzjOE+YLKZ7R8lqPT42xF+nW+K2vNPS1m2nNC006+KfT8M7GNmp5lZMzM7Fdgf+EeGsaXHEXuc3f0jQt/AzVFndnMzK08gfwTOMrMxZpZnZj2j4wMwH5gQrV8EnJJBDF8QankFhFpaeQzbCM11vzGzPaLaxvCotkeUELYBv0a1hzpTgpBUNwCtCb/O/gM82kCfO4nQ0buS0O7/F8KJIc4N1DFGd18AnE846X8ErAbKatjsz4T+mqfcfUVK+Q8JJ+91wB+imDOJ4ZHoOzwFLIreU50H/NzM1hH6TO5L2XYDMB34t4Wrpw5J2/dK4FjCr/+VhE7bY9PiztQNVH+cTwc2E2pRnxL6YHD3lwmd4NcDa4B/UVGr+SnhF/9q4H+pXCOL8ydCDe5DYGEUR6ofAm8Acwl9Dr+k8jntT8AAQp+W1IFulJOcY2Z/Ad5296zXYKTxMrMzgCnuPirpWHZVqkFI4szsq2a2V9QkMZbQ7jw74bBkFxY1350HzEg6ll2ZEoTkgt0Jl2B+TriG/1x3fzXRiGSXZWZfI/TXfELNzVhSDTUxiYhILNUgREQkVqMarK9r167ep0+fpMMQEdllzJs3b4W7d4tb1qgSRJ8+fSgpKUk6DBGRXYaZpd99v52amEREJJYShIiIxFKCEBGRWI2qDyLO5s2bKSsrY9OmTTWvLA2uVatWFBYW0rx586RDEZE0jT5BlJWV0a5dO/r06UPVz7KRJLg7K1eupKysjL59+yYdjoikafRNTJs2baJLly5KDjnIzOjSpYtqdyJ1VFwMffpAXl54Ly6uaYvayWqCMLOxZvaOmS0ys8tilncys1nR82JfNrMDM922lnHszOaSRfrbiNRNcTFMmQIffADu4X3KlPpNEllLENGTp24iPGxlf2Bi9EzgVD8G5rv7QYTn8P62FtuKiDRZV1wBGzZULtuwIZTXl2zWIIYRnkO82N2/BGYSRulMtT8wB8Dd3wb6mFn3DLfNeStXrmTQoEEMGjSI3XffnZ49e26f//LLL6vdtqSkhIsuuqjGzxgxYkR9hSsiu5AlS2pXXhfZTBA9qfzs3TIqPxsX4DXCs36Jnp7VGyjMcFui7aaYWYmZlSxfvnyng67PNr0uXbowf/585s+fz9SpU5k2bdr2+RYtWrBly5Yqty0qKuLGG2+s8TNeeOGFugcoIrusXukPq62hvC6ymSDiGpfTh469BuhkZvOBC4FXgS0ZbhsK3We4e5G7F3XrFjucSMYaok1v8uTJXHzxxRxxxBFceumlvPzyy4wYMYLBgwczYsQI3nnnHQCeeeYZjj32WACuuuoqzj77bEaPHk2/fv0qJY62bdtuX3/06NGccsop9O/fn0mTJlE+Uu/DDz9M//79GTVqFBdddNH2/aYqLS3l0EMPZciQIQwZMqRS4vnVr37FgAEDGDhwIJddFrqDFi1axFFHHcXAgQMZMmQI7723M8+pF9m1ZLtzOBPTp0NBQeWygoJQXm/cPSsvwiMkH0uZvxy4vJr1DSgF2td22/LX0KFDPd3ChQt3KKtK797uITVUfvXunfEuqnTllVf6tdde62eeeaaPGzfOt2zZ4u7ua9as8c2bN7u7+xNPPOEnnXSSu7s//fTTPm7cuO3bDh8+3Ddt2uTLly/3zp07+5dffunu7m3atNm+fvv27X3p0qW+detWP+SQQ/y5557zjRs3emFhoS9evNjd3SdMmLB9v6nWr1/vGzdudHf3d99918uP5cMPP+zDhw/39evXu7v7ypUr3d192LBh/sADD7i7+8aNG7cvr4va/I1EknbPPe4FBZXPEQUFoTyJWHr3djcL73WJASjxKs6p2axBzAX2NrO+0QPiJwAPpq5gZh2jZQD/Azzr7msz2TYbGqJND2D8+PHk5+cDsGbNGsaPH8+BBx7ItGnTWLBgQew248aNo2XLlnTt2pXddtuNTz75ZId1hg0bRmFhIXl5eQwaNIjS0lLefvtt+vXrt/0+g4kTJ8buf/PmzZxzzjkMGDCA8ePHs3DhQgCefPJJzjrrLAqinyqdO3dm3bp1fPjhh5x44olAuNmtIP2njEiWJP3rvSE6hzM1aRKUlsK2beF90qT63X/WbpRz9y1mdgHwGJAP3O7uC8xsarT8VmA/4E9mtpXwUPLvVLdttmIt16tXaFaKK69Pbdq02T7905/+lCOOOIJZs2ZRWlrK6NGjY7dp2bLl9un8/PzY/ou4dTzDB0Jdf/31dO/enddee41t27bRqlUrINQw0y9FzXSfIvWtvBm4/ARd3gwM9X9yrEpD/ZDMBVm9D8LdH3b3fdx9L3efHpXdGiUH3P1Fd9/b3fu7+0nuvrq6bbOtQdr00qxZs4aePUP/+5133lnv++/fvz+LFy+mtLQUgL/85S9VxtGjRw/y8vK4++672bp1KwDHHHMMt99+Oxui/5GrVq2iffv2FBYWMnv2bAC++OKL7ctFsikXfr03ROdwrmj0d1LXxqRJMGMG9O4NZuF9xozs/jL50Y9+xOWXX87IkSO3n5TrU+vWrbn55psZO3Yso0aNonv37nTo0GGH9c477zzuuusuDjnkEN59993ttZyxY8dy/PHHU1RUxKBBg7juuusAuPvuu7nxxhs56KCDGDFiBB9//HG9xy6SLhd+vSfxQzIpjeqZ1EVFRZ7+wKC33nqL/fbbL6GIcsPnn39O27ZtcXfOP/989t57b6ZNm5Z0WNvpbySZ6tMnvhm4d+/QBt9QiotDrWXJklBzmD694Zq46puZzXP3orhlqkE0AX/4wx8YNGgQBxxwAGvWrOG73/1u0iHJLijpzmHInV/v2e4czhWNfjRXgWnTpuVUjUF2PbnQOZz6WY3l13uuUw1CRGqUC53D5ZrKr/dcoAQhIjXKhc5haXhKECJSo6Z0aadUUIIQyXHqHJakKEFk2ejRo3nssccqld1www2cd9551W5TfrnuN77xDT777LMd1rnqqqu235NQldmzZ28fMgPgZz/7GU8++WQtopekNcQAkplI4h4hSZ4SRJZNnDiRmTNnViqbOXNmlWMipXv44Yfp2LFjnT47PUH8/Oc/56ijjqrTviQZ6hyWJClBZNkpp5zCP/7xD7744gsgDKu9bNkyRo0axbnnnktRUREHHHAAV155Zez2ffr0YcWKFQBMnz6dfffdl6OOOmr7sOAQ7nP46le/ysCBAzn55JPZsGEDL7zwAg8++CCXXHIJgwYN4r333mPy5Mncf//9AMyZM4fBgwczYMAAzj777O3x9enThyuvvJIhQ4YwYMAA3n777R1i0tDgDUedw5KkJnUfxPe/D/Pn1+8+Bw2CG26oenmXLl0YNmwYjz76KCeccAIzZ87k1FNPxcyYPn06nTt3ZuvWrYwZM4bXX3+dgw46KHY/8+bNY+bMmbz66qts2bKFIUOGMHToUABOOukkzjnnHAB+8pOf8Mc//pELL7yQ448/nmOPPZZTTjml0r42bdrE5MmTmTNnDvvssw9nnHEGt9xyC9///vcB6Nq1K6+88go333wz1113Hbfddlul7XfbbTeeeOIJWrVqxX//+18mTpxISUkJjzzyCLNnz+all16ioKCAVatWATBp0iQuu+wyTjzxRDZt2sS2bdtqf6CbqIYaQFIkjmoQDSC1mSm1eem+++5jyJAhDB48mAULFlRqDkr33HPPceKJJ1JQUED79u05/vjjty978803OfTQQxkwYADFxcVVDhle7p133qFv377ss88+AJx55pk8++yz25efdNJJAAwdOnT7IH+pNDR4w1HnsCSpSdUgqvuln03f/OY3ufjii3nllVfYuHEjQ4YM4f333+e6665j7ty5dOrUicmTJ7Np06Zq95M+7Ha5yZMnM3v2bAYOHMidd97JM888U+1+ahp/q3zY8KqGFW8qQ4Pnwng7unNYkqQaRANo27Yto0eP5uyzz95ee1i7di1t2rShQ4cOfPLJJzzyyCPV7uOwww5j1qxZbNy4kXXr1vHQQw9tX7Zu3Tp69OjB5s2bKU65vKVdu3asW7duh33179+f0tJSFi1aBISRWQ8//PCMv09TGBo8V64eAnUOS3KUIBrIxIkTee2115gwYQIAAwcOZPDgwRxwwAGcffbZjBw5strthwwZwqmnnsqgQYM4+eSTOfTQQ7cvu/rqqzn44IM5+uij6d+///byCRMmcO211zJ48OBKHcOtWrXijjvuYPz48QwYMIC8vDymTp2a8XdpCkOD59LVQyJJ0XDfkrhc/Bvl5YWaQzqz8EtepLHQcN8itaShJUSUIERi6eohkSaSIBpTM1pjk6t/Gw0tIdIELnNt1aoVK1eupEuXLlVeJirJcHdWrly5/TLZXDNpkhKCNG2NPkEUFhZSVlbG8uXLkw5FYrRq1YrCwsKkwxCRGI0+QTRv3py+ffsmHYbUQi7coCYiTSBByK4lV559nAvc4Ysv4PPPw6ugALp2DZfgNjUbN8KHH0JZWXj/5JNwfPLzw/HIz694NeR8Xl647Hnr1srvcWXVLdvZslatYPLk+j/ujf4+CNm19OkTPzhd797hLuJclXoyX7eu4qSe+oorr2nd6Cb17fLzoXt36NGj+lf37tCiRTLHojbcYdWqihN/ahJInV69OulIc1v37lDX+0+ruw9CNQjJKQ05vLV7qKmsWQNr14b31Fd52bp1mZ3000/mVTGDtm13fO22G/TrV7msXbvw3qYNrF8PH31U8Vq6FObOhU8/jb+pr2vXyklj993jk0l0I3y927w5nLSqO/kvWwbpQ5CZhRNez56w115w2GFhurAwvPfsGb5Lfn445uWv8l/V1ZVlYz61VpH6Xt9lNS3LhqwmCDMbC/wWyAduc/dr0pZ3AO4BekWxXOfud0TLSoF1wFZgS1UZThqXTIe33rYtnMDTT+zVnejjyjI5qbdpE07U5Sfrtm2hWzfo27dyWfpJvaqy1q3rt5loy5aQJFKTR/rrrbfCyXrz5h23b9eu6ppIalLp1CmcvCEkxKp+7ZdPlzcDpWrZsuIkf/DBFdOpJ/8ePaB58/o7PlJ3WUsQZpYP3AQcDZQBc83sQXdPHdP6fGChux9nZt2Ad8ys2N2/jJYf4e4rshWj5J6rrw59Dqm/KvPyQnPJgQdWnOBjxiDcQX4+dOhQ8WrfPiSa1Pn05enz7dpl79dZfWnWDPbYI7yqs21baM5JTRwff1x5vqQkvK9fv+P2LVuGWk55gk3XqVPFyX7gwB1P/IWF0LlzRZKR3JfNGsQwYJG7LwYws5nACUBqgnCgnYUbFNoCq4Adx5eWRmvDBnj5ZXj+eXjuOXjxxcrJoVmzcFLv3TuzE3rqfOvWOhmlyssLzU5du8KAAdWvu25dfE3kk0/CsU0/+ffsueOd57Lry2aC6AksTZkvAw5OW+d3wIPAMqAdcKq7lw+F5sDjZubA7919RhZjlQayYgX8+98hGTz/PMybF5pIzEIN4fTTYdQoGDlS4x4lqbxJLXqmlDRR2UwQcb/d0rvSvgbMB44E9gKeMLPn3H0tMNLdl5nZblH52+7+bNr2mNkUYApAL51Rcoo7vP9+Re3g+eeh/BHXLVvCsGFwySUhIQwfHpooRCR3ZDNBlAF7pswXEmoKqc4CrvFwre0iM3sf6A+87O7LANz9UzObRWiy2iFBRDWLGRAuc633byEZ27oVXn+9Ihk8/3xoloBw8h85MlyrPWoUDB0art0WkdyVzQQxF9jbzPoCHwITgNPS1lkCjAGeM7PuwL7AYjNrA+S5+7po+hjg51mMVepgwwZ46aWKZPDiixWdx717w5FHhmQwahTsv3/TvMFLZFeWtQTh7lvM7ALgMcJlrre7+wIzmxotvxW4GrjTzN4gNEld6u4rzKwfMCsaXK8ZcK+7P5qtWCUzy5eH/oPyhJDafzBgQOg/OPTQUFPYc8+a9yciuU13Ukssd1i8uCIZxPUfjBoVEsLw4dCxY6Lhikgd6U5qyciaNfDgg/DQQzv2H4waBWedVdF/0LJlsrGKSPYpQTRxn30WksJf/wqPPw5ffhmuaR8zpqL/YL/91H8g0hQpQTRBqUnhscfC8At77gkXXADjx4fmIyUEEVGCaCI++wz+/veKmsLmzeFGtAsvVFIQkXg6JTRiq1fDnXfCuHFhDJ3Jk+GNN+Cii+A//wnDZ//613DIISE5FBeH4bbz8sJ7cXGi4YtIwlSDaGRWr66oKTzxRKgp9O4dksK3vgVf/Wr8+ER6UI+IpNNlro3A6tUwe3ZICk8+WZEUxo8Pr6qSQqpd9UE9IrJzdJlrI7RqVeWawpYt4WT+ve+FmkJRUe1GMm3IB/WIyK5BCWIXsmpV5ZrCli3hl/+0aaGmUNukkCrTB/WISNOhBJHjVq6sSApz5lQkhYsvDklh6ND6eebB9OmV+yAgjO8/ffrO71tEdk1KEDkoLin07Vv/SSFVeUf0FVeEZqVevUJyUAe1SNOlBJEj3OHuu8PVRE89FZJCv37wgx+EpDBkSPafjjZpkhKCiFRQgsgB7qFz+f/+ryIpfOtbMHiwHpkpIslRgkiYO/zwhyE5TJsWblxTUhCRXKA7qRPkDpdfDr/5TRjyQslBRHKJEkSCrrwSfvlLmDoVfvtbJQcRyS1KEAm5+urw+s534KablBxEJPcoQSTgmmvgZz+DM86AGTM0iqqI5CadmhrYb34T+h1OOw1uv13JQURyl05PDejGGyvua7jrLsjPTzoiEZGqKUE0kFtuCfc6nHhiuBmumS4wFpEcpwTRAG67Dc47D449FmbOhObNk45IRKRmShBZdtddYRC8sWPh/vuhRYukIxIRyYwSRBbdey+cdRaMGQMPPAAtWyYdkYhI5pQgsuS+++D00+Hww8ODfVq3TjoiEZHaUYLIglmzwmWsI0bAQw+F5yqIiOxqlCDq2UMPwamnwrBh8PDD0LZt0hGJiNRNVhOEmY01s3fMbJGZXRazvIOZPWRmr5nZAjM7K9Ntc9Ejj8App8CgQWG6XbvMty0uDk+Ky8sL78XFWQpSRCRDWUsQZpYP3AR8HdgfmGhm+6etdj6w0N0HAqOBX5tZiwy3zSlPPBHucTjwQHjsMejQIfNti4vDlU4ffBBGeP3ggzCvJCEiScpmDWIYsMjdF7v7l8BM4IS0dRxoZ2YGtAVWAVsy3DZnPP00HH887LsvPP44dOpUu+2vuKLys6AhzF9xRf3FKCJSW9lMED2BpSnzZVFZqt8B+wHLgDeA77n7tgy3BcDMpphZiZmVLF++vL5iz9hzz4Ub4PbaC558Erp0qf0+liypXbmISEPIZoKIG8Da0+a/BswH9gAGAb8zs/YZbhsK3We4e5G7F3Xr1q3u0dbBCy/AN74BvXrBnDlQ14/v1at25SIiDSGbCaIM2DNlvpBQU0h1FvCAB4uA94H+GW6bqJdfDndH9+gRkkP37nXf1/TpO14KW1AQykVEkpLNBDEX2NvM+ppZC2AC8GDaOkuAMQBm1h3YF1ic4baJeeUVOOaYUGN46inYY4+d29+kSeG5EL17hwcH9e4d5idNqp94RUTqImtjirr7FjO7AHgMyAdud/cFZjY1Wn4rcDVwp5m9QWhWutTdVwDEbZutWGvjtdfgqKOgY8eQHAoL62e/kyYpIYhIbjH32Kb9XVJRUZGXlJRkbf9vvglHHAGtWsG//gX9+mXto0REGoSZzXP3orhlupM6Q2+9FQbda9EiXNaq5CAijV2NCcLMjjWzJp1I3n0Xjjwy9A889RR85StJRyQikn2ZnPgnAP81s1+Z2X7ZDijXvPdeSA5bt4bksO++SUckItIwakwQ7v5tYDDwHnCHmb0Y3ZxWi5GGdk2lpSE5bNoULmXdP6cH+xARqV8ZNR25+1rgb4QhL3oAJwKvmNmFWYwtUUuXhg7ptWvDOEsDBiQdkYhIw8qkD+I4M5sFPAU0B4a5+9eBgcAPsxxfIj78MCSH1atDchg8OOmIREQaXib3QYwHrnf3Z1ML3X2DmZ2dnbCS89FHoVnp009DciiKvfhLRKTxyyRBXAl8VD5jZq2B7u5e6u5zshZZAj79NFzK+uGHYcjugw9OOiIRkeRk0gfxV2BbyvzWqKxRWbEi3CFdWgr//CeMHJl0RCIiycokQTSLnskAQDTdInshNbxVq+Doo+G//w2PDD388KQjEhFJXiYJYrmZHV8+Y2YnACuyF1LDWrs2DLy3cCHMnh2amEREJLMEMRX4sZktMbOlwKXAd7MbVsNp3Rr22w8eeAC+9rWkoxERyR01dlK7+3vAIWbWljC437rsh9VwmjeHu+9OOgoRkdyT0XDfZjYOOABoFR4fDe7+8yzGJSIiCcvkRrlbgVOBCwnPbBgP9M5yXCIikrBM+iBGuPsZwGp3/19gOJUfByoiIo1QJgliU/S+wcz2ADYDfbMXkoiI5IJM+iAeMrOOwLXAK4ADf8hmUCIikrxqE0T0oKA57v4Z8Dcz+wfQyt3XNERwIiKSnGqbmNx9G/DrlPkvlBxERJqGTPogHjezk638+lYREWkSMumDuBhoA2wxs02ES13d3dtnNTIREUlUJndSN/pHi4qIyI5qTBBmdlhcefoDhEREpHHJpInpkpTpVsAwYB5wZFYiEhGRnJBJE9NxqfNmtifwq6xFJCIiOSGTq5jSlQEH1ncgIiKSWzLpg/g/wt3TEBLKIOC1THZuZmOB3wL5wG3ufk3a8kuASSmx7Ad0c/dVZlYKrCM84nSLuxdl8pkiIlI/MumDKEmZ3gL82d3/XdNGZpYP3AQcTah1zDWzB919Yfk67n4tYQgPzOw4YJq7r0rZzRHu3mieXicisivJJEHcD2xy960QTvxmVuDuG2rYbhiwyN0XR9vNBE4AFlax/kTgz5mFLSIi2ZZJH8QcoHXKfGvgyQy26wksTZkvi8p2YGYFwFjgbynFTriLe56ZTanqQ8xsipmVmFnJ8uXLMwhLREQykUmCaOXun5fPRNMFGWwXNzSHx5QBHAf8O615aaS7DwG+Dpxfzf0YM9y9yN2LunXrlkFYIiKSiUwSxHozG1I+Y2ZDgY0ZbFdG5QcLFQLLqlh3AmnNS+6+LHr/FJhFaLISEZEGkkkfxPeBv5pZ+cm9B+ERpDWZC+xtZn2BDwlJ4LT0lcysA3A48O2UsjZAnruvi6aPAfQMbBGRBpTJjXJzzaw/sC+h2ehtd9+cwXZbzOwC4DHCZa63u/sCM5saLb81WvVE4HF3X5+yeXdgVjSAbDPgXnd/tBbfS0REdpK5V9UtEK1gdj5QHD00CDPrBEx095uzH17tFBUVeUlJSc0riogIAGY2r6r7zDLpgzinPDkAuPtq4Jx6ik1ERHJUJgkiL/VhQdENcC2yF5KIiOSCTDqpHwPuM7NbCZepTgUeyWpUIiKSuEwSxKXAFOBcQif1q4QrmUREpBGrsYnJ3bcB/wEWA0XAGOCtLMclIiIJq7IGYWb7EO5dmAisBP4C4O5HNExoIiKSpOqamN4GngOOc/dFAGY2rUGiEhGRxFXXxHQy8DHwtJn9wczGED++koiINEJVJgh3n+XupwL9gWeAaUB3M7vFzI5poPhERCQhmXRSr3f3Ync/ljDg3nzgsmwHJiIiyarVM6ndfZW7/97dj8xWQCIikhtqlSBERKTpUIIQEZFYShAiIhJLCUJERGIpQYiISCwlCBERiaUEISIisZQgREQklhKEiIjEUoIQEZFYShAiIhJLCUJERGIpQYiISCwlCBERiaUEISIisbKaIMxsrJm9Y2aLzGyHhwyZ2SVmNj96vWlmW82scybbiohIdmUtQZhZPnAT8HVgf2Cime2fuo67X+vug9x9EHA58C93X5XJtiIikl3ZrEEMAxa5+2J3/xKYCZxQzfoTgT/XcVsREaln2UwQPYGlKfNlUdkOzKwAGAv8rbbbiohIdmQzQVhMmVex7nHAv919VW23NbMpZlZiZiXLly+vQ5giIhInmwmiDNgzZb4QWFbFuhOoaF6q1bbuPsPdi9y9qFu3bjsRroiIpMpmgpgL7G1mfc2sBSEJPJi+kpl1AA4H/l7bbUVEJHuaZWvH7r7FzC4AHgPygdvdfYGZTY2W3xqteiLwuLuvr2nbbMUqIiI7MvequgV2PUVFRV5SUpJ0GCIiuwwzm+fuRXHLdCe1iIjEUoIQEZFYShAiIhJLCUJERGIpQYiISCwlCBERiaUEISIisZQgREQklhKEiIjEUoIQEZFYShAiIhJLCUJERGIpQYiISCwlCBERiaUEISIisZQgREQklhKEiIjEUoIQEZFYShAiIhJLCUJERGIpQYiISCwlCBERiaUEISIisZQgREQklhKEiIjEUoIQEZFYShAiIhIrqwnCzMaa2TtmtsjMLqtindFmNt/MFpjZv1LKS83sjWhZSTbjFBGRHTXL1o7NLB+4CTgaKAPmmtmD7r4wZZ2OwM3AWHdfYma7pe3mCHdfka0YRUSkatmsQQwDFrn7Ynf/EpgJnJC2zmnAA+6+BMDdP81iPCIiUgvZTBA9gaUp82VRWap9gE5m9oyZzTOzM1KWOfB4VD6lqg8xsylmVmJmJcuXL6+34EVEmrqsNTEBFlPmMZ8/FBgDtAZeNLP/uPu7wEh3XxY1Oz1hZm+7+7M77NB9BjADoKioKH3/IiJSR9msQZQBe6bMFwLLYtZ51N3XR30NzwIDAdx9WfT+KTCL0GQlIiINJJsJYi6wt5n1NbMWwATgwbR1/g4cambNzKwAOBh4y8zamFk7ADNrAxwDvJnFWEVEJE3WmpjcfYuZXQA8BuQDt7v7AjObGi2/1d3fMrNHgdeBbcBt7v6mmfUDZplZeYz3uvuj2YpVRER2ZO6Np9m+qKjIS0p0y4SISKbMbJ67F8Ut053UIiISSwlCRERiKUGIiEgsJQgREYmlBCEiIrGUIEREJJYShIiIxFKCEBGRWEoQIiISSwlCRERiNfkEUVwMffpAXl54Ly5OOiIRkdyQzedB5LziYpgyBTZsCPMffBDmASZNSi4uEZFc0KRrEFdcUZEcym3YEMpFRJq6Jp0gliypXbmISFPSpBNEr161KxcRaUqadIKYPh0KCiqXFRSEchGRpq5JJ4hJk2DGDOjdG8zC+4wZ6qAWEYEmfhUThGSghCAisqMmXYMQEZGqKUGIiEgsJQgREYmlBCEiIrGUIEREJJa5e9Ix1BszWw58kHQcO6krsCLpIHKEjkVlOh6V6XhU2Jlj0dvdu8UtaFQJojEwsxJ3L0o6jlygY1GZjkdlOh4VsnUs1MQkIiKxlCBERCSWEkTumZF0ADlEx6IyHY/KdDwqZOVYqA9CRERiqQYhIiKxlCBERCSWEkQOMLM9zexpM3vLzBaY2feSjilpZpZvZq+a2T+SjiVpZtbRzO43s7ejfyPDk44pSWY2Lfp/8qaZ/dnMWiUdU0Mys9vN7FMzezOlrLOZPWFm/43eO9XHZylB5IYtwA/cfT/gEOB8M9s/4ZiS9j3graSDyBG/BR519/7AQJrwcTGznsBFQJG7HwjkAxOSjarB3QmMTSu7DJjj7nsDc6L5naYEkQPc/SN3fyWaXkc4AfRMNqrkmFkhMA64LelYkmZm7YHDgD8CuPuX7v5ZokElrxnQ2syaAQXAsoTjaVDu/iywKq34BOCuaPou4Jv18VlKEDnGzPoAg4GXEg4lSTcAPwK2JRxHLugHLAfuiJrcbjOzNkkHlRR3/xC4DlgCfASscffHk40qJ3R3948g/OAEdquPnSpB5BAzawv8Dfi+u69NOp4kmNmxwKfuPi/pWHJEM2AIcIu7DwbWU0/NB7uiqG39BKAvsAfQxsy+nWxUjZcSRI4ws+aE5FDs7g8kHU+CRgLHm1kpMBM40szuSTakRJUBZe5eXqO8n5AwmqqjgPfdfbm7bwYeAEYkHFMu+MTMegBE75/Wx06VIHKAmRmhjfktd/9N0vEkyd0vd/dCd+9D6Hx8yt2b7C9Ed/8YWGpm+0ZFY4CFCYaUtCXAIWZWEP2/GUMT7rRP8SBwZjR9JvD3+thps/rYiey0kcDpwBtmNj8q+7G7P5xcSJJDLgSKzawFsBg4K+F4EuPuL5nZ/cArhKv/XqWJDblhZn8GRgNdzawMuBK4BrjPzL5DSKLj6+WzNNSGiIjEUROTiIjEUoIQEZFYShAiIhJLCUJERGIpQYiISCwlCJEamNlWM5uf8qq3O5nNrE/qqJwiuUT3QYjUbKO7D0o6CJGGphqESB2ZWamZ/dLMXo5eX4nKe5vZHDN7PXrvFZV3N7NZZvZa9CofIiLfzP4QPePgcTNrHa1/kZktjPYzM6GvKU2YEoRIzVqnNTGdmrJsrbsPA35HGIWWaPpP7n4QUAzcGJXfCPzL3QcSxlNaEJXvDdzk7gcAnwEnR+WXAYOj/UzNzlcTqZrupBapgZl97u5tY8pLgSPdfXE02OLH7t7FzFYAPdx9c1T+kbt3NbPlQKG7f5Gyjz7AE9GDXjCzS4Hm7v4LM3sU+ByYDcx298+z/FVFKlENQmTneBXTVa0T54uU6a1U9A2OA24ChgLzogfkiDQYJQiRnXNqyvuL0fQLVDwGcxLwfDQ9BzgXtj9zu31VOzWzPGBPd3+a8PCkjsAOtRiRbNIvEpGatU4ZZRfC86HLL3VtaWYvEX5sTYzKLgJuN7NLCE+DKx999XvAjGjEza2EZPFRFZ+ZD9xjZh0AA67Xo0aloakPQqSOoj6IIndfkXQsItmgJiYREYmlGoSIiMRSDUJERGIpQYiISCwlCBERiaUEISIisZQgREQk1v8HtG0xuPcycJIAAAAASUVORK5CYII=\n",
      "text/plain": [
       "<Figure size 432x288 with 1 Axes>"
      ]
     },
     "metadata": {
      "needs_background": "light"
     },
     "output_type": "display_data"
    }
   ],
   "source": [
    "plt.clf()   # 그림을 초기화합니다\n",
    "\n",
    "plt.plot(epochs, acc, 'bo', label='Training acc')\n",
    "plt.plot(epochs, val_acc, 'b', label='Validation acc')\n",
    "plt.title('Training and validation accuracy')\n",
    "plt.xlabel('Epochs')\n",
    "plt.ylabel('Accuracy')\n",
    "plt.legend()\n",
    "\n",
    "plt.show()"
   ]
  },
  {
   "cell_type": "code",
   "execution_count": 33,
   "metadata": {
    "scrolled": false
   },
   "outputs": [
    {
     "data": {
      "image/png": "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\n",
      "text/plain": [
       "<Figure size 432x288 with 1 Axes>"
      ]
     },
     "metadata": {
      "needs_background": "light"
     },
     "output_type": "display_data"
    }
   ],
   "source": [
    "y_loss = history.history['loss']\n",
    "y_val_loss = history.history['val_loss']\n",
    "x_len = np.arange(len(y_loss))\n",
    "plt.plot(x_len, y_loss, marker='.', c='red', label='Traing set')\n",
    "plt.plot(x_len, y_val_loss, marker='.', c='blue', label='testing set')\n",
    "plt.grid()\n",
    "plt.xlabel('epoch')\n",
    "plt.ylabel('loss')\n",
    "plt.show()"
   ]
  },
  {
   "cell_type": "markdown",
   "metadata": {},
   "source": [
    "- 위에서 진행했었던 워드 임베딩 사용전의 GRU + 1D-CNN보다 확연히 완만한 그래프 양상을 띄운다.\n",
    "\n",
    "- Word2Vec를 활용한 후 성능이 향상함을 확인할 수 있다."
   ]
  },
  {
   "cell_type": "markdown",
   "metadata": {},
   "source": [
    "---\n",
    "#### 아래가 1D-CNN + RNN를 활용한 모델의 그래프이다.\n",
    "\n",
    "- 위의 그래프와 비교 해봤을때 Word2Vec를 활용한 모델이 더 나은 결과를 나타냈다."
   ]
  },
  {
   "cell_type": "code",
   "execution_count": 337,
   "metadata": {
    "scrolled": true
   },
   "outputs": [
    {
     "data": {
      "image/png": "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\n",
      "text/plain": [
       "<Figure size 432x288 with 1 Axes>"
      ]
     },
     "metadata": {
      "needs_background": "light"
     },
     "output_type": "display_data"
    }
   ],
   "source": [
    "y_loss = history.history['loss']\n",
    "y_val_loss = history.history['val_loss']\n",
    "x_len = np.arange(len(y_loss))\n",
    "plt.plot(x_len, y_loss, marker='.', c='red', label='Traing set')\n",
    "plt.plot(x_len, y_val_loss, marker='.', c='blue', label='testing set')\n",
    "plt.grid()\n",
    "plt.xlabel('epoch')\n",
    "plt.ylabel('loss')\n",
    "plt.show()"
   ]
  },
  {
   "cell_type": "markdown",
   "metadata": {},
   "source": [
    "---"
   ]
  },
  {
   "cell_type": "markdown",
   "metadata": {},
   "source": [
    "## 한국어 Word2Vec 사용 ( GRU )\n",
    "\n",
    "- 가장 좋은 결과를 보여준 하이퍼 파라미터 : GRU(40)  \n",
    "\n",
    "loss : 0.39577534794807434  \n",
    "accuracy : 0.851211428642273\n",
    "\n",
    "- 2번째로 좋은 결과를 보여준 하이퍼 파라미터 : GRU(26)\n",
    "   - 정확도는 85를 넘지 못했지만 2번째로 낮은 loss 값을 보여주었다.  \n",
    "   \n",
    "loss : 0.3983360230922699  \n",
    "accuracy : 0.8460646271705627"
   ]
  },
  {
   "cell_type": "code",
   "execution_count": 105,
   "metadata": {
    "scrolled": false
   },
   "outputs": [
    {
     "name": "stdout",
     "output_type": "stream",
     "text": [
      "Model: \"sequential_24\"\n",
      "_________________________________________________________________\n",
      "Layer (type)                 Output Shape              Param #   \n",
      "=================================================================\n",
      "embedding_24 (Embedding)     (None, 51, 200)           2000000   \n",
      "_________________________________________________________________\n",
      "gru_23 (GRU)                 (None, 26)                17784     \n",
      "_________________________________________________________________\n",
      "dense_44 (Dense)             (None, 8)                 216       \n",
      "_________________________________________________________________\n",
      "dense_45 (Dense)             (None, 1)                 9         \n",
      "=================================================================\n",
      "Total params: 2,018,009\n",
      "Trainable params: 2,018,009\n",
      "Non-trainable params: 0\n",
      "_________________________________________________________________\n"
     ]
    }
   ],
   "source": [
    "vocab_size = 10000    # 어휘 사전의 크기입니다(10,000개의 단어)\n",
    "word_vector_dim = 200  # 워드 벡터의 차원수 (변경가능한 하이퍼파라미터)\n",
    "\n",
    "# model 설계 \n",
    "model = keras.Sequential()\n",
    "model.add(keras.layers.Embedding(vocab_size, \n",
    "                                 word_vector_dim, \n",
    "                                 embeddings_initializer=Constant(embedding_matrix),  # 카피한 임베딩을 여기서 활용\n",
    "                                 input_length=maxlen))   # trainable을 True로 주면 Fine-tuning\n",
    "# trainable [Fine-tuining] :\n",
    "# 기존에 학습되어져 있는 모델을 기반으로 아키텍쳐를 새로운 목적(나의 이미지 데이터에 맞게)\n",
    "# 변형하고 이미 학습된 모델 Weights로 부터 학습을 업데이트하는 방법\n",
    "\n",
    "model.add(keras.layers.GRU(26))   # RNN 모델 중 GRU 레이어를 사용하였습니다. \n",
    "\n",
    "model.add(keras.layers.Dense(8, activation='relu'))\n",
    "model.add(keras.layers.Dense(1, activation='sigmoid'))  # 최종 출력은 긍정/부정을 나타내는 1dim 입니다.\n",
    "\n",
    "model.summary()"
   ]
  },
  {
   "cell_type": "code",
   "execution_count": 106,
   "metadata": {
    "scrolled": true
   },
   "outputs": [
    {
     "name": "stdout",
     "output_type": "stream",
     "text": [
      "Epoch 1/9\n",
      "229/229 [==============================] - 17s 73ms/step - loss: 0.6665 - accuracy: 0.5690 - val_loss: 0.5635 - val_accuracy: 0.7087\n",
      "Epoch 2/9\n",
      "229/229 [==============================] - 16s 71ms/step - loss: 0.4452 - accuracy: 0.7924 - val_loss: 0.3872 - val_accuracy: 0.8279\n",
      "Epoch 3/9\n",
      "229/229 [==============================] - 16s 72ms/step - loss: 0.3380 - accuracy: 0.8548 - val_loss: 0.3445 - val_accuracy: 0.8506\n",
      "Epoch 4/9\n",
      "229/229 [==============================] - 16s 72ms/step - loss: 0.2966 - accuracy: 0.8763 - val_loss: 0.3349 - val_accuracy: 0.8571\n",
      "Epoch 5/9\n",
      "229/229 [==============================] - 16s 71ms/step - loss: 0.2709 - accuracy: 0.8890 - val_loss: 0.3391 - val_accuracy: 0.8573\n",
      "Epoch 6/9\n",
      "229/229 [==============================] - 16s 72ms/step - loss: 0.2493 - accuracy: 0.8997 - val_loss: 0.3419 - val_accuracy: 0.8597\n",
      "Epoch 7/9\n",
      "229/229 [==============================] - 16s 72ms/step - loss: 0.2291 - accuracy: 0.9094 - val_loss: 0.3468 - val_accuracy: 0.8567\n",
      "Epoch 8/9\n",
      "229/229 [==============================] - 17s 72ms/step - loss: 0.2116 - accuracy: 0.9184 - val_loss: 0.3597 - val_accuracy: 0.8560\n",
      "Epoch 9/9\n",
      "229/229 [==============================] - 16s 72ms/step - loss: 0.1961 - accuracy: 0.9259 - val_loss: 0.3841 - val_accuracy: 0.8547\n"
     ]
    }
   ],
   "source": [
    "# 학습의 진행 GRU(26)\n",
    "model.compile(optimizer='adam',\n",
    "              loss='binary_crossentropy',\n",
    "              metrics=['accuracy'])\n",
    "              \n",
    "epochs=9  # 몇 epoch를 훈련하면 좋을지 결과를 보면서 바꾸어 봅시다. \n",
    "\n",
    "history = model.fit(partial_x_train,\n",
    "                    partial_y_train,\n",
    "                    epochs=epochs,\n",
    "                    batch_size=512,\n",
    "                    validation_data=(x_val, y_val),\n",
    "                    verbose=1)"
   ]
  },
  {
   "cell_type": "code",
   "execution_count": 80,
   "metadata": {
    "scrolled": true
   },
   "outputs": [
    {
     "name": "stdout",
     "output_type": "stream",
     "text": [
      "Epoch 1/10\n",
      "229/229 [==============================] - 19s 82ms/step - loss: 0.6881 - accuracy: 0.5191 - val_loss: 0.6136 - val_accuracy: 0.6816\n",
      "Epoch 2/10\n",
      "229/229 [==============================] - 19s 81ms/step - loss: 0.4529 - accuracy: 0.7871 - val_loss: 0.3842 - val_accuracy: 0.8279\n",
      "Epoch 3/10\n",
      "229/229 [==============================] - 19s 83ms/step - loss: 0.3329 - accuracy: 0.8569 - val_loss: 0.3331 - val_accuracy: 0.8555\n",
      "Epoch 4/10\n",
      "229/229 [==============================] - 19s 82ms/step - loss: 0.2888 - accuracy: 0.8801 - val_loss: 0.3298 - val_accuracy: 0.8585\n",
      "Epoch 5/10\n",
      "229/229 [==============================] - 19s 83ms/step - loss: 0.2644 - accuracy: 0.8920 - val_loss: 0.3289 - val_accuracy: 0.8603\n",
      "Epoch 6/10\n",
      "229/229 [==============================] - 19s 82ms/step - loss: 0.2415 - accuracy: 0.9031 - val_loss: 0.3377 - val_accuracy: 0.8618\n",
      "Epoch 7/10\n",
      "229/229 [==============================] - 19s 82ms/step - loss: 0.2205 - accuracy: 0.9136 - val_loss: 0.3465 - val_accuracy: 0.8570\n",
      "Epoch 8/10\n",
      "229/229 [==============================] - 19s 82ms/step - loss: 0.2021 - accuracy: 0.9222 - val_loss: 0.3570 - val_accuracy: 0.8569\n",
      "Epoch 9/10\n",
      "229/229 [==============================] - 19s 83ms/step - loss: 0.1843 - accuracy: 0.9311 - val_loss: 0.3807 - val_accuracy: 0.8558\n",
      "Epoch 10/10\n",
      "229/229 [==============================] - 19s 82ms/step - loss: 0.1689 - accuracy: 0.9382 - val_loss: 0.3919 - val_accuracy: 0.8543\n"
     ]
    }
   ],
   "source": [
    "# 학습의 진행 GRU(40)\n",
    "model.compile(optimizer='adam',\n",
    "              loss='binary_crossentropy',\n",
    "              metrics=['accuracy'])\n",
    "              \n",
    "epochs=10  # 몇 epoch를 훈련하면 좋을지 결과를 보면서 바꾸어 봅시다. \n",
    "\n",
    "history = model.fit(partial_x_train,\n",
    "                    partial_y_train,\n",
    "                    epochs=epochs,\n",
    "                    batch_size=512,\n",
    "                    validation_data=(x_val, y_val),\n",
    "                    verbose=1)"
   ]
  },
  {
   "cell_type": "code",
   "execution_count": 108,
   "metadata": {
    "scrolled": true
   },
   "outputs": [
    {
     "name": "stdout",
     "output_type": "stream",
     "text": [
      "1537/1537 - 4s - loss: 0.3983 - accuracy: 0.8461\n",
      "[0.3983360230922699, 0.8460646271705627]\n"
     ]
    }
   ],
   "source": [
    "# 테스트셋을 통한 모델 평가 GRU(26)\n",
    "results = model.evaluate(x_test,  y_test, verbose=2)\n",
    "\n",
    "print(results)"
   ]
  },
  {
   "cell_type": "code",
   "execution_count": 81,
   "metadata": {
    "scrolled": true
   },
   "outputs": [
    {
     "name": "stdout",
     "output_type": "stream",
     "text": [
      "1537/1537 - 5s - loss: 0.3958 - accuracy: 0.8512\n",
      "[0.39577534794807434, 0.851211428642273]\n"
     ]
    }
   ],
   "source": [
    "# 테스트셋을 통한 모델 평가 GRU(40)\n",
    "results = model.evaluate(x_test,  y_test, verbose=2)\n",
    "\n",
    "print(results)"
   ]
  },
  {
   "cell_type": "code",
   "execution_count": 109,
   "metadata": {},
   "outputs": [
    {
     "name": "stdout",
     "output_type": "stream",
     "text": [
      "dict_keys(['loss', 'accuracy', 'val_loss', 'val_accuracy'])\n"
     ]
    }
   ],
   "source": [
    "history_dict = history.history\n",
    "print(history_dict.keys()) # epoch에 따른 그래프를 그려볼 수 있는 항목들"
   ]
  },
  {
   "cell_type": "markdown",
   "metadata": {},
   "source": [
    "### 그래프로 시각화\n",
    "- Word2Vec를 하고 난 후의 성능이 어떻게 바뀌었는지 확인"
   ]
  },
  {
   "cell_type": "code",
   "execution_count": 110,
   "metadata": {
    "scrolled": true
   },
   "outputs": [
    {
     "data": {
      "image/png": "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\n",
      "text/plain": [
       "<Figure size 432x288 with 1 Axes>"
      ]
     },
     "metadata": {
      "needs_background": "light"
     },
     "output_type": "display_data"
    }
   ],
   "source": [
    "import matplotlib.pyplot as plt\n",
    "\n",
    "acc = history_dict['accuracy']\n",
    "val_acc = history_dict['val_accuracy']\n",
    "loss = history_dict['loss']\n",
    "val_loss = history_dict['val_loss']\n",
    "\n",
    "epochs = range(1, len(acc) + 1)\n",
    "\n",
    "# \"bo\"는 \"파란색 점\"입니다\n",
    "plt.plot(epochs, loss, 'bo', label='Training loss')\n",
    "# b는 \"파란 실선\"입니다\n",
    "plt.plot(epochs, val_loss, 'b', label='Validation loss')\n",
    "plt.title('Training and validation loss')\n",
    "plt.xlabel('Epochs')\n",
    "plt.ylabel('Loss')\n",
    "plt.legend()\n",
    "\n",
    "plt.show()"
   ]
  },
  {
   "cell_type": "code",
   "execution_count": 111,
   "metadata": {},
   "outputs": [
    {
     "data": {
      "image/png": "iVBORw0KGgoAAAANSUhEUgAAAYgAAAEWCAYAAAB8LwAVAAAAOXRFWHRTb2Z0d2FyZQBNYXRwbG90bGliIHZlcnNpb24zLjMuMiwgaHR0cHM6Ly9tYXRwbG90bGliLm9yZy8vihELAAAACXBIWXMAAAsTAAALEwEAmpwYAAAtO0lEQVR4nO3deZxWZf3/8debTWRRBMUMFLBQkpTFCRWXMM0oTXN7CFKKVoRLppVpaWoZv0wt/VqakVslRq6k5W6atpgMihtuiGziwiKILMry+f1xzsDNcGa4Z5h7zj0z7+fjcT/us1zn3J/7vmfO576u65zrKCIwMzOrrlXeAZiZWXlygjAzs0xOEGZmlskJwszMMjlBmJlZJicIMzPL5ARhRZN0n6QTG7psniTNlHRwCfYbkj6ZTl8r6cfFlK3H64yS9GB94zSrjXwdRPMm6YOC2Q7Ah8CadP5bETGh8aMqH5JmAt+IiIcbeL8B9I2I6Q1VVlJv4A2gbUSsbpBAzWrRJu8ArLQiolPVdG0HQ0ltfNCxcuG/x/LgJqYWStIwSXMlnSPpbeBGSdtI+puk+ZLeS6d7FmzzmKRvpNOjJf1L0uVp2TckfbGeZftIelzSUkkPS7pa0s01xF1MjBdL+ne6vwclbVuw/muSZklaKOm8Wj6fvSW9Lal1wbIjJT2XTg+R9F9JiyW9Jek3ktrVsK+bJP2sYP7sdJt5kk6uVvZQSc9Iel/SHEkXFax+PH1eLOkDSftUfbYF2w+VNFnSkvR5aLGfTR0/566Sbkzfw3uSJhWsO0LS1PQ9vC5peLp8g+Y8SRdVfc+SeqdNbV+XNBv4R7r8tvR7WJL+jfQv2H5LSb9Mv88l6d/YlpL+Lunb1d7Pc5K+kvVerWZOEC3bx4CuQC9gDMnfw43p/E7ACuA3tWy/F/AKsC1wKXC9JNWj7C3AU0A34CLga7W8ZjExHg+cBHQH2gHfB5C0G/DbdP8fT1+vJxki4klgGfC5avu9JZ1eA5yVvp99gIOAU2uJmzSG4Wk8nwf6AtX7P5YBJwBdgEOBUwoObAekz10iolNE/LfavrsCfweuSt/br4C/S+pW7T1s9Nlk2NTn/CeSJsv+6b6uSGMYAvwRODt9DwcAM2t4jSyfBT4FfCGdv4/kc+oOPA0UNoleDuwJDCX5O/4BsBb4A/DVqkKSBgA9gHvrEIcBRIQfLeRB8o96cDo9DPgIaF9L+YHAewXzj5E0UQGMBqYXrOsABPCxupQlOfisBjoUrL8ZuLnI95QV4/kF86cC96fTFwATC9Z1TD+Dg2vY98+AG9LpziQH7141lD0TuKtgPoBPptM3AT9Lp28ALikot0th2Yz9XglckU73Tsu2KVg/GvhXOv014Klq2/8XGL2pz6YunzOwA8mBeJuMcr+rire2v790/qKq77ngve1cSwxd0jJbkySwFcCAjHJbAItI+nUgSSTXlOJ/qrk/XINo2eZHxMqqGUkdJP0urbK/T9Kk0aWwmaWat6smImJ5OtmpjmU/DiwqWAYwp6aAi4zx7YLp5QUxfbxw3xGxDFhY02uR1BaOkrQFcBTwdETMSuPYJW12eTuN4/+R1CY2ZYMYgFnV3t9ekh5Nm3aWAGOL3G/VvmdVWzaL5NdzlZo+mw1s4nPekeQ7ey9j0x2B14uMN8u6z0ZSa0mXpM1U77O+JrJt+mif9VoR8SFwK/BVSa2AkSQ1HqsjJ4iWrfopbN8DdgX2ioitWN+kUVOzUUN4C+gqqUPBsh1rKb85Mb5VuO/0NbvVVDgippEcYL/Ihs1LkDRVvUzyK3Ur4Ef1iYGkBlXoFuBuYMeI2Bq4tmC/mzrlcB5Jk1ChnYA3i4iruto+5zkk31mXjO3mAJ+oYZ/LSGqPVT6WUabwPR4PHEHSDLc1SS2jKoYFwMpaXusPwCiSpr/lUa05zorjBGGFOpNU2xen7dkXlvoF01/klcBFktpJ2gf4colivB04TNJ+aYfyT9n0/8AtwBkkB8jbqsXxPvCBpH7AKUXGcCswWtJuaYKqHn9nkl/nK9P2/OML1s0nadrZuYZ93wvsIul4SW0kHQfsBvytyNiqx5H5OUfEWyR9A9ekndltJVUlkOuBkyQdJKmVpB7p5wMwFRiRlq8Ajikihg9JankdSGppVTGsJWmu+5Wkj6e1jX3S2h5pQlgL/BLXHurNCcIKXQlsSfLr7Eng/kZ63VEkHb0LSdr9/0JyYMhyJfWMMSJeBE4jOei/BbwHzN3EZn8m6a/5R0QsKFj+fZKD91Lg92nMxcRwX/oe/gFMT58LnQr8VNJSkj6TWwu2XQ6MA/6t5OypvavteyFwGMmv/4UknbaHVYu7WFdS++f8NWAVSS3qXZI+GCLiKZJO8CuAJcA/WV+r+THJL/73gJ+wYY0syx9JanBvAtPSOAp9H3gemEzS5/ALNjym/RHYnaRPy+rBF8pZ2ZH0F+DliCh5DcaaL0knAGMiYr+8Y2mqXIOw3En6jKRPpE0Sw0nanSflHJY1YWnz3anA+LxjacqcIKwcfIzkFMwPSM7hPyUinsk1ImuyJH2BpL/mHTbdjGW1cBOTmZllcg3CzMwyNavB+rbddtvo3bt33mGYmTUZU6ZMWRAR22Wta1YJonfv3lRWVuYdhplZkyGp+tX367iJyczMMjlBmJlZJicIMzPL1Kz6ILKsWrWKuXPnsnLlyk0XtkbXvn17evbsSdu2bfMOxcyqafYJYu7cuXTu3JnevXtT871sLA8RwcKFC5k7dy59+vTJOxwzq6bZNzGtXLmSbt26OTmUIUl069bNtTuzepowAXr3hlatkucJEza1Rd00+xoE4ORQxvzdmNXPhAkwZgwsT2+1NWtWMg8walTDvEazr0GYmTVH5523PjlUWb48Wd5QnCBKaOHChQwcOJCBAwfysY99jB49eqyb/+ijj2rdtrKykjPOOGOTrzF06NCGCtfMmpDZs+u2vD6cIKppyDa9bt26MXXqVKZOncrYsWM566yz1s23a9eO1atX17htRUUFV1111SZf4z//+U/9AzSzopS6rb8+dqp+s9pNLK8PJ4gCVW16s2ZBxPo2vYb8Yxg9ejTf/e53OfDAAznnnHN46qmnGDp0KIMGDWLo0KG88sorADz22GMcdthhAFx00UWcfPLJDBs2jJ133nmDxNGpU6d15YcNG8YxxxxDv379GDVqFFUj9d57773069eP/fbbjzPOOGPdfgvNnDmT/fffn8GDBzN48OANEs+ll17K7rvvzoABAzj33HMBmD59OgcffDADBgxg8ODBvP765tyn3qx8NcZxoT7GjYMOHTZc1qFDsrzBRESzeey5555R3bRp0zZaVpNevSKSP4ENH716Fb2LGl144YVx2WWXxYknnhiHHnporF69OiIilixZEqtWrYqIiIceeiiOOuqoiIh49NFH49BDD1237T777BMrV66M+fPnR9euXeOjjz6KiIiOHTuuK7/VVlvFnDlzYs2aNbH33nvHE088EStWrIiePXvGjBkzIiJixIgR6/ZbaNmyZbFixYqIiHj11Vej6rO89957Y5999olly5ZFRMTChQsjImLIkCFx5513RkTEihUr1q2vj7p8R2aNrZTHhc11881JHFLyfPPNdd8HUBk1HFNbxFlMxWqMNj2AY489ltatWwOwZMkSTjzxRF577TUksWrVqsxtDj30ULbYYgu22GILunfvzjvvvEPPnj03KDNkyJB1ywYOHMjMmTPp1KkTO++887rrDEaOHMn48RvfZGvVqlWcfvrpTJ06ldatW/Pqq68C8PDDD3PSSSfRIf2p0rVrV5YuXcqbb77JkUceCSQXu5k1V411XKiPUaMa7oylLG5iKtAYbXoAHTt2XDf94x//mAMPPJAXXniBe+65p8ZrArbYYot1061bt87sv8gqE0XeEOqKK65g++2359lnn6WysnJdJ3pEbHQqarH7NGsOGuu4UI6cIAo0SpteNUuWLKFHjx4A3HTTTQ2+/379+jFjxgxmzpwJwF/+8pca49hhhx1o1aoVf/rTn1izZg0AhxxyCDfccAPL0/PpFi1axFZbbUXPnj2ZNGkSAB9++OG69Waboxw7g/M4LpQLJ4gCo0bB+PHQqxdIyfP48aWtwv3gBz/ghz/8Ifvuu++6g3JD2nLLLbnmmmsYPnw4++23H9tvvz1bb731RuVOPfVU/vCHP7D33nvz6quvrqvlDB8+nMMPP5yKigoGDhzI5ZdfDsCf/vQnrrrqKvbYYw+GDh3K22+/3eCxW8tSrp3BeRwXykWzuid1RUVFVL9h0EsvvcSnPvWpnCIqDx988AGdOnUiIjjttNPo27cvZ511Vt5hrePvyCCpMczKuHVNr16QVoCtBCRNiYiKrHWuQbQAv//97xk4cCD9+/dnyZIlfOtb38o7JLONlHNncEvls5hagLPOOqusagxmWXbaKbsG0RI6g8tVSWsQkoZLekXSdEnnZqzfRtJdkp6T9JSkTxe7rZk1Ly25M7hclSxBSGoNXA18EdgNGClpt2rFfgRMjYg9gBOA/6vDtmZWT+V4tlBL7gwuV6VsYhoCTI+IGQCSJgJHANMKyuwG/BwgIl6W1FvS9sDORWxrZvXQGMNE11epL/yyuillE1MPYE7B/Nx0WaFngaMAJA0BegE9i9zWzOqhMYaJtuahlAki604w1c+pvQTYRtJU4NvAM8DqIrdNXkQaI6lSUuX8+fM3I9zSGDZsGA888MAGy6688kpOPfXUWrepOl33S1/6EosXL96ozEUXXbTumoSaTJo0iWnT1le6LrjgAh5++OE6RG/Nkc8WsmKVMkHMBXYsmO8JzCssEBHvR8RJETGQpA9iO+CNYrYt2Mf4iKiIiIrtttuuAcNvGCNHjmTixIkbLJs4cSIjR44savt7772XLl261Ou1qyeIn/70pxx88MH12pc1Hy156Airm1ImiMlAX0l9JLUDRgB3FxaQ1CVdB/AN4PGIeL+YbZuKY445hr/97W98+OGHQDKs9rx589hvv/045ZRTqKiooH///lx44YWZ2/fu3ZsFCxYAMG7cOHbddVcOPvjgdcOCQ3Kdw2c+8xkGDBjA0UcfzfLly/nPf/7D3Xffzdlnn83AgQN5/fXXGT16NLfffjsAjzzyCIMGDWL33Xfn5JNPXhdf7969ufDCCxk8eDC77747L7/88kYxeWjwps1nC1mxStZJHRGrJZ0OPAC0Bm6IiBcljU3XXwt8CvijpDUkHdBfr23bzY3pzDNh6tTN3cuGBg6EK6+seX23bt0YMmQI999/P0cccQQTJ07kuOOOQxLjxo2ja9eurFmzhoMOOojnnnuOPfbYI3M/U6ZMYeLEiTzzzDOsXr2awYMHs+eeewJw1FFH8c1vfhOA888/n+uvv55vf/vbHH744Rx22GEcc8wxG+xr5cqVjB49mkceeYRddtmFE044gd/+9receeaZAGy77bY8/fTTXHPNNVx++eVcd911G2zfvXt3HnroIdq3b89rr73GyJEjqays5L777mPSpEn873//o0OHDixatAiAUaNGce6553LkkUeycuVK1q5dW/cPuomaMCFp2589O/mFPm5c/p2wVa9fbnFZ+SnphXIRcS9wb7Vl1xZM/xfoW+y2TVVVM1NVgrjhhhsAuPXWWxk/fjyrV6/mrbfeYtq0aTUmiCeeeIIjjzxy3bDbhx9++Lp1L7zwAueffz6LFy/mgw8+4Atf+EKt8bzyyiv06dOHXXbZBYATTzyRq6++el2COOqoowDYc889ufPOOzfa3kODF8dnC1lT16KupK7tl34pfeUrX+G73/0uTz/9NCtWrGDw4MG88cYbXH755UyePJltttmG0aNH1zjUd5Xqw25XGT16NJMmTWLAgAHcdNNNPPbYY7XuZ1Pjb1UNG17TsOKFQ4OvXbt23UHfQ4NvqLazhXxwtqbAYzE1gk6dOjFs2DBOPvnkdZ3T77//Ph07dmTrrbfmnXfe4b777qt1HwcccAB33XUXK1asYOnSpdxzzz3r1i1dupQddtiBVatWMaHgiqfOnTuzdOnSjfbVr18/Zs6cyfTp04FkZNbPfvazRb8fDw1eHJ8tZE2dE0QjGTlyJM8++ywjRowAYMCAAQwaNIj+/ftz8skns++++9a6/eDBgznuuOMYOHAgRx99NPvvv/+6dRdffDF77bUXn//85+nXr9+65SNGjOCyyy5j0KBBG3QMt2/fnhtvvJFjjz2W3XffnVatWjF27Nii34uHBi+Ozxayps7DfVvumut3VL0PApKzhTx8hJUTD/dtlgOPLWRNnROENQvlOPgcJMlg5kxYuzZ5dnKwpqRFnMWUdXaNlYeGaOIs59NJzZqyZl+DaN++PQsXLmzRp1uWq4hg4cKFm31thAefMyuNZl+D6NmzJ3PnzqUcB/KzJIH37Nlzs/bh00nNSqPZJ4i2bdvSp0+fvMOwEvKtKs1Ko9k3MVnz58HnzErDCcKaPJ9OalYazb6JyVoGDz5n1vBcgzAzs0xOEGZmlskJwszMMrkPwqyMrVoFK1bAypXJc+GjIZYBdOwInTolz8U+ssq3a5ecJGDNhxOE1Uk53UIzApYsgbffhrfeSp6XL0+Wb+pRtX1jlIlIDvT1OaCnt9qol3btYMst1z/at18/3bEjbLttEtuyZfDeezBnTjJd9ahKIMVq3br4ZLKp5LPFFsn+WrXa8DlrWW1lnLA2jxOEFa2xxjz66CN4553kgF948K8+/fbbycG0XEnrH23bbniALjxod+4M3btvfBDPOrDXtCxrvtVmNiCvXZt814VJI+vxwQe1r1+yBObN23h5Yyk2mRRTpnXr5Lus76NNm83bvqZHu3bJ31FDK+n9ICQNB/4PaA1cFxGXVFu/NXAzsBNJsro8Im5M180ElgJrgNU1jVdeKOt+ENZwevfOvmK5V69kpNLaRMDixRsf6LMO/gsXZu+jWzfYYQf42MeSR/Xp7bdf/09SeHDOehRTpthyWWWsdmvXJjWUmpLKhx8mZdasSR5V0zU9F1OmIcquXp3UBuvz2Jza4KZ07578qKqP2u4HUbIahKTWwNXA54G5wGRJd0fEtIJipwHTIuLLkrYDXpE0ISI+StcfGBELShWj1U1NYxvNmgVPPbXpX/wffrjxtltssf5Av8sucMAB2Qf/7t2TX0nWPLRqtb5JqaWoamosfGxOwil8pLeRb3ClbGIaAkyPiBkAkiYCRwCFCSKAzkrG4u4ELAJWlzAm2ww9eybt1Fn22mvD+W233fDAX9Mv/6239i9uaxmk5EdOU/qhU8oE0QMoPJzMBaodRvgNcDcwD+gMHBcRa9N1ATwoKYDfRcT4rBeRNAYYA7CTR2drcEuWwD33wG23JbWA6tq2hRNOgK98ZcNf+23bNnqoZtbASpkgsn4XVu/w+AIwFfgc8AngIUlPRMT7wL4RMU9S93T5yxHx+EY7TBLHeEj6IBryDbRUixfDX/8Kt98ODz6YdBr37AmnnQZbbQU33ZTUJPI+i8nMSquUCWIusGPBfE+SmkKhk4BLIukpny7pDaAf8FREzAOIiHcl3UXSZLVRgrCGsWhRkhRuuw0efjhp19xpJzj9dDj2WBgyZP1ZMT/5Sb6xmlnjKGWCmAz0ldQHeBMYARxfrcxs4CDgCUnbA7sCMyR1BFpFxNJ0+hDgpyWMtUVasAAmTUpqCo88knSY9e4NZ54JxxwDn/mM+wfMWrKSJYiIWC3pdOABktNcb4iIFyWNTddfC1wM3CTpeZImqXMiYoGknYG70vtItwFuiYj7SxVrSzJ/Ptx1V1JTePTR5NS7nXeG730vqSkMHuykYGaJkl4H0dh8HUS2d96BO+9MagqPPZacz923b5IQjjkGBg50UjBrqXK5DsLy9dZbSVK47TZ4/PHkHOxdd4Uf/ShJDLvv7qRgZrVzgmhG3nwT7rgjqSn8619JUthtN7jggqSm0L+/k4KZFc8JoombMydJCrfdBv/5T7Js992TM42OPjpJEGZm9eEE0QTNmpXUEm6/HZ58Mlk2YAD87GdJTWHXXfONz8yaByeIJuKNN5KEcNttMHlysmzwYPj5z5OaQt+++cZnZs2PE0QZmzMHbrklSQpTpiTLPvMZ+MUvkprCzjvnG5+ZNW9OEGVqwQIYNCgZ+nqvveDyy5OaQu/eeUdmZi2FE0SZuvDCZEykykrYc8+8ozGzlmgz7zllpfD883DttXDKKU4OZpYfJ4gyE5GMhdSliwfFM7N8uYmpzPz1r/CPf8Cvfw1du+YdjZm1ZK5BlJEPP0wGzevfH8aOzTsaM2vpXIMoI1deCTNmwEMPQRt/M2aWM9cgysTbbydXQh9+OBx8cN7RmJk5QZSNH/0oaWL65S/zjsTMLOEEUQYqK+HGG5Ozlz75ybyjMTNLOEHkLAK+8x3o3h3OPz/vaMzM1nNXaM4mTkyG6b7uOthqq7yjMTNbzzWIHC1fDj/4QTIq6+jReUdjZrahkiYIScMlvSJpuqRzM9ZvLekeSc9KelHSScVu2xxceinMnZuc3tq6dd7RmJltqGQJQlJr4Grgi8BuwEhJ1e9vdhowLSIGAMOAX0pqV+S2Tdrs2UmCOO442H//vKMxM9tYKWsQQ4DpETEjIj4CJgJHVCsTQGdJAjoBi4DVRW7bpJ1zTtJBfemleUdiZpatlAmiBzCnYH5uuqzQb4BPAfOA54HvRMTaIrcFQNIYSZWSKufPn99QsZfUv/6VdE7/4Aew0055R2Nmlq2UCUIZy6La/BeAqcDHgYHAbyRtVeS2ycKI8RFREREV2223Xf2jbSRr1ybXO/TokSSImkyYkNwcqFWr5HnChEYK0MwsVcrTXOcCOxbM9ySpKRQ6CbgkIgKYLukNoF+R2zZJf/hDcvvQCROgY8fsMhMmwJgxyVlOALNmJfMAo0Y1TpxmZqWsQUwG+krqI6kdMAK4u1qZ2cBBAJK2B3YFZhS5bZPz/vvwwx/C0KEwcmTN5c47b31yqLJ8ebLczKyxlKwGERGrJZ0OPAC0Bm6IiBcljU3XXwtcDNwk6XmSZqVzImIBQNa2pYq1sYwbB++8A/fcA8pqREvNnl235WZmpaCkdad5qKioiMrKyrzDyDR9enKfh+OPT8Zdqk3v3kmzUnW9esHMmaWIzsxaKklTIqIia52vpG4k3/8+tGsH/+//bbrsuHHQocOGyzp0SJabmTUWJ4hG8PDDya1EzzsPdthh0+VHjYLx45Mag5Q8jx/vDmoza1xuYiqx1ath4MCkk3naNGjfPu+IzMzW26wmJkmHSXJNo57Gj4cXX0xuBOTkYGZNSTEH/hHAa5IulfSpUgfUnCxaBD/+MRx4IHzlK3lHY2ZWN5tMEBHxVWAQ8Dpwo6T/psNbdC55dE3cT34Cixcno7XWdlqrmVk5KqrpKCLeB+4gGTRvB+BI4GlJ3y5hbE3atGlw9dXJFdB77JF3NGZmdVdMH8SXJd0F/ANoCwyJiC8CA4Dvlzi+JikCzjoLOneGn/4072jMzOqnmCupjwWuiIjHCxdGxHJJJ5cmrKbt73+HBx+EK66AJjB+oJlZpk2e5iqpD/BWRKxM57cEto+ImaUPr27K4TTXjz6CT386uUPcc89B27a5hmNmVqvNvZL6NmBtwfyadJll+PWv4bXXktqDk4OZNWXFJIg26V3dAEin25UupKbr3XeTPocvfQmGD887GjOzzVNMgpgv6fCqGUlHAAtKF1LTdf75yRXTv/pV3pGYmW2+YjqpxwITJP2GZEjuOcAJJY2qCXrmGbjuuuRucbvumnc0Zmabb5MJIiJeB/aW1ImkU3tp6cNqWiKSxNCtG1xwQd7RmJk1jKJuGCTpUKA/0F7pJcER4TP8U7ffDo8/DtdeC1265B2NmVnDKOZCuWuB44BvkzQxHQv0KnFcTcaKFXD22cnV0t/4Rt7RmJk1nGI6qYdGxAnAexHxE2AfYMfShtV0/PKXyd3f/u//kmsfzMyai2ISxMr0ebmkjwOrgD6lC6npePNN+PnP4eijYdiwvKMxM2tYxSSIeyR1AS4DngZmAn8uZueShkt6RdJ0SedmrD9b0tT08YKkNZK6putmSno+XVdedwFKnXsurFkDl12WdyRmZg2v1k7q9EZBj0TEYuAOSX8D2kfEkk3tWFJr4Grg88BcYLKkuyNiWlWZiLiMJPEg6cvAWRGxqGA3B0ZEWV5z8eSTcPPN8KMfQR/Xp8ysGaq1BhERa4FfFsx/WExySA0BpkfEjPTq64nAEbWUH0mRNZO8rV0L3/lOcn/pH/4w72jMzEqjmCamByUdLdX5ljc9SC6qqzI3XbYRSR2A4ST3nKgS6WtPkTSmphdJb15UKaly/vz5dQyxfiZMgKeegksugU6dGuUlzcwaXTHXQXwX6AislrSS5FTXiIitNrFdVkKpaejYLwP/rta8tG9EzJPUHXhI0svVhxwnCWQ8MB6S0Vw3EdNm++ADOOccGDIEvvrVUr+amVl+irmSur63Fp3LhqfD9gTm1VB2BNWalyJiXvr8bnrDoiHARgmisf385/DWW3DHHdCqqPvxmZk1TZtMEJIOyFqe9Wu+mslA3/R+Em+SJIHjM/a/NfBZ4KsFyzoCrSJiaTp9CJD7ldtvvJFc9/DVr8I+++QdjZlZaRXTxHR2wXR7kl/yU4DP1bZRRKyWdDrwANAauCEiXpQ0Nl1/bVr0SODBiFhWsPn2wF1pt0cb4JaIuL+IWEvq7LOTi+EuuSTvSMzMSq+YJqYvF85L2hG4tJidR8S9wL3Vll1bbf4m4KZqy2aQ3PO6bDz2WNKsdPHF0COzq93MrHmpTyv6XODTDR1IOVuzJhmttVcv+N738o7GzKxxFNMH8WvWn33UChgIPFvCmMrO9dfDs8/CrbfCllvmHY2ZWeMopg+icJiL1cCfI+LfJYqn7CxeDOedB/vvD8cck3c0ZmaNp5gEcTuwMiLWQDKEhqQOEbG8tKGVh4svhoULk9Fa63ypoJlZE1ZMH8QjQGHDypbAw6UJp7y88gpcdRV8/eswaFDe0ZiZNa5iEkT7iPigaiad7lC6kMrH974HHTrAz36WdyRmZo2vmASxTNLgqhlJewIrShdSebj/fvj73+HHP4btt887GjOzxldMH8SZwG2SqobJ2IHkFqTN1qpVcNZZ0LcvnHFG3tGYmeWjmAvlJkvqB+xKMgDfyxGxquSR5eiaa+Dll+Huu6Fdu7yjMTPLxyabmCSdBnSMiBci4nmgk6RTSx9aPhYsgIsugkMOgcMOyzsaM7P8FNMH8c30jnIARMR7wDdLFlHOLrgAli6FK67waa1m1rIVkyBaFd4sKL2VaLNseHnuOfjd7+DUU2G33fKOxswsX8V0Uj8A3CrpWpIhN8YC95U0qhxEJOMtdemSNDGZmbV0xSSIc4AxwCkkndTPkJzJ1KxMmgSPPgq/+Q107Zp3NGZm+dtkE1NErAWeBGYAFcBBwEsljqtRrVwJ3/8+9O8P3/pW3tGYmZWHGmsQknYhuQvcSGAh8BeAiDiwcUJrPFdeCTNmwEMPQZti6lRmZi1AbYfDl4EngC9HxHQASWc1SlSNaPFiGDcOjjgCDj4472jMzMpHbQniaJIaxKOS7gcmkvRBNCtdusA998COO+YdiZlZeamxDyIi7oqI44B+wGPAWcD2kn4r6ZBidi5puKRXJE2XdG7G+rMlTU0fL0haI6lrMds2pGHD4BOfKOUrmJk1PcV0Ui+LiAkRcRjQE5gKbPKAnV4vcTXwRWA3YKSkDa4uiIjLImJgRAwEfgj8MyIWFbOtmZmVVp3uSR0RiyLidxHxuSKKDwGmR8SMiPiIpInqiFrKjwT+XM9tzcysgdUpQdRRD2BOwfzcdNlGJHUAhgN31GPbMZIqJVXOnz9/s4M2M7NEKRNEVod21FD2y8C/I2JRXbeNiPERURERFdttt109wjQzsyylTBBzgcJzg3oC82ooO4L1zUt13dbMzEqglAliMtBXUh9J7UiSwN3VC0naGvgs8Ne6bmtmZqVTsuuGI2K1pNNJBvtrDdwQES9KGpuuvzYteiTwYEQs29S2pYrVzMw2poiaugWanoqKiqisrMw7DDOzJkPSlIioyFpXyiYmMzNrwpwgzMwskxOEmZllcoIwM7NMThBmZpbJCcLMzDI5QZiZWSYnCDMzy+QEYWZmmZwgzMwskxOEmZllcoIwM7NMThBmZpbJCcLMzDI5QZiZWSYnCDMzy+QEYWZmmZwgzMwskxOEmZllKmmCkDRc0iuSpks6t4YywyRNlfSipH8WLJ8p6fl0nW80bWbWyNqUaseSWgNXA58H5gKTJd0dEdMKynQBrgGGR8RsSd2r7ebAiFhQqhjNzKxmpaxBDAGmR8SMiPgImAgcUa3M8cCdETEbICLeLWE8ZmZWB6VMED2AOQXzc9NlhXYBtpH0mKQpkk4oWBfAg+nyMTW9iKQxkiolVc6fP7/Bgjcza+lK1sQEKGNZZLz+nsBBwJbAfyU9GRGvAvtGxLy02ekhSS9HxOMb7TBiPDAeoKKiovr+zcysnkpZg5gL7Fgw3xOYl1Hm/ohYlvY1PA4MAIiIeenzu8BdJE1WZmbWSEqZICYDfSX1kdQOGAHcXa3MX4H9JbWR1AHYC3hJUkdJnQEkdQQOAV4oYaxmZlZNyZqYImK1pNOBB4DWwA0R8aKksen6ayPiJUn3A88Ba4HrIuIFSTsDd0mqivGWiLi/VLGamdnGFNF8mu0rKiqistKXTJiZFUvSlIioyFrnK6nNzCyTE4SZmWVygjAzs0xOEGZmlskJwszMMjlBmJlZJicIMzPL5ARhZmaZnCDMzCyTE4SZmWVygjAzs0xOEGZmlskJwszMMjlBmJlZJicIMzPL5ARhZmaZnCDMzCyTE4SZmWVygjAzs0wlTRCShkt6RdJ0SefWUGaYpKmSXpT0z7psa2ZmpdOmVDuW1Bq4Gvg8MBeYLOnuiJhWUKYLcA0wPCJmS+pe7LZmZlZapaxBDAGmR8SMiPgImAgcUa3M8cCdETEbICLercO2ZmZWQqVMED2AOQXzc9NlhXYBtpH0mKQpkk6ow7YASBojqVJS5fz58xsodDMzK1kTE6CMZZHx+nsCBwFbAv+V9GSR2yYLI8YD4wEqKioyy5iZWd2VMkHMBXYsmO8JzMsosyAilgHLJD0ODChyWzMzK6FSNjFNBvpK6iOpHTACuLtamb8C+0tqI6kDsBfwUpHbmplZCZWsBhERqyWdDjwAtAZuiIgXJY1N118bES9Juh94DlgLXBcRLwBkbVuqWM3MbGOKaD7N9hUVFVFZWZl3GGZmTYakKRFRkbXOV1KbmVkmJwgzM8vkBGFmZpmcIMzMLJMThJmZZXKCMDOzTE4QZmaWyQnCzMwytfgEMWEC9O4NrVolzxMm5B2RmVl5KOVgfWVvwgQYMwaWL0/mZ81K5gFGjcovLjOzctCiaxDnnbc+OVRZvjxZbmbW0rXoBDF7dt2Wm5m1JC06Qey0U92Wm5m1JC06QYwbBx06bLisQ4dkuZlZS9eiE8SoUTB+PPTqBVLyPH68O6jNzKCFn8UESTJwQjAz21iLrkGYmVnNnCDMzCyTE4SZmWVygjAzs0xOEGZmlkkRkXcMDUbSfGBWPTffFljQgOE0FMdVN46rbhxX3TTHuHpFxHZZK5pVgtgckiojoiLvOKpzXHXjuOrGcdVNS4vLTUxmZpbJCcLMzDI5Qaw3Pu8AauC46sZx1Y3jqpsWFZf7IMzMLJNrEGZmlskJwszMMrX4BCHpBknvSnoh71iqSNpR0qOSXpL0oqTv5B0TgKT2kp6S9Gwa10/yjqmQpNaSnpH0t7xjKSRppqTnJU2VVJl3PFUkdZF0u6SX07+1fcogpl3Tz6nq8b6kM/OOC0DSWenf/QuS/iypfd4xAUj6ThrTiw39WbX4PghJBwAfAH+MiE/nHQ+ApB2AHSLiaUmdgSnAVyJiWs5xCegYER9Iagv8C/hORDyZZ1xVJH0XqAC2iojD8o6niqSZQEVElNUFVpL+ADwREddJagd0iIjFOYe1jqTWwJvAXhFR3wtgGyqWHiR/77tFxApJtwL3RsRNOcf1aWAiMAT4CLgfOCUiXmuI/bf4GkREPA4syjuOQhHxVkQ8nU4vBV4CeuQbFUTig3S2bfooi18YknoChwLX5R1LUyBpK+AA4HqAiPionJJD6iDg9byTQ4E2wJaS2gAdgHk5xwPwKeDJiFgeEauBfwJHNtTOW3yCKHeSegODgP/lHAqwrhlnKvAu8FBElEVcwJXAD4C1OceRJYAHJU2RNCbvYFI7A/OBG9Nmueskdcw7qGpGAH/OOwiAiHgTuByYDbwFLImIB/ONCoAXgAMkdZPUAfgSsGND7dwJooxJ6gTcAZwZEe/nHQ9ARKyJiIFAT2BIWsXNlaTDgHcjYkresdRg34gYDHwROC1t1sxbG2Aw8NuIGAQsA87NN6T10iavw4Hb8o4FQNI2wBFAH+DjQEdJX803KoiIl4BfAA+RNC89C6xuqP07QZSptI3/DmBCRNyZdzzVpc0RjwHD840EgH2Bw9O2/onA5yTdnG9I60XEvPT5XeAukvbivM0F5hbUAG8nSRjl4ovA0xHxTt6BpA4G3oiI+RGxCrgTGJpzTABExPURMTgiDiBpLm+Q/gdwgihLaWfw9cBLEfGrvOOpImk7SV3S6S1J/mlezjUoICJ+GBE9I6I3SbPEPyIi9193AJI6picakDbhHELSLJCriHgbmCNp13TRQUCuJ0FUM5IyaV5KzQb2ltQh/f88iKRvMHeSuqfPOwFH0YCfW5uG2lFTJenPwDBgW0lzgQsj4vp8o2Jf4GvA82l7P8CPIuLe/EICYAfgD+nZJa2AWyOirE4pLUPbA3clxxTaALdExP35hrTOt4EJaXPODOCknOMBIG1L/zzwrbxjqRIR/5N0O/A0SRPOM5TPsBt3SOoGrAJOi4j3GmrHLf40VzMzy+YmJjMzy+QEYWZmmZwgzMwskxOEmZllcoIwM7NMThBmmyBpTbURRhvsimNJvctpJGGzQi3+OgizIqxIhxcxa1FcgzCrp/Q+D79I75HxlKRPpst7SXpE0nPp807p8u0l3ZXeT+NZSVVDNbSW9Pt0PP8H06vUkXSGpGnpfibm9DatBXOCMNu0Las1MR1XsO79iBgC/IZkRFnS6T9GxB7ABOCqdPlVwD8jYgDJuEcvpsv7AldHRH9gMXB0uvxcYFC6n7GleWtmNfOV1GabIOmDiOiUsXwm8LmImJEOrvh2RHSTtIDkhk+r0uVvRcS2kuYDPSPiw4J99CYZNr1vOn8O0DYifibpfpKbWU0CJhXci8OsUbgGYbZ5oobpmspk+bBgeg3r+wYPBa4G9gSmpDeqMWs0ThBmm+e4guf/ptP/IRlVFmAUya0qAR4BToF1N17aqqadSmoF7BgRj5LcCKkLsFEtxqyU/IvEbNO2LBhVF+D+iKg61XULSf8j+bE1Ml12BnCDpLNJ7tpWNUrqd4Dxkr5OUlM4heTuZFlaAzdL2hoQcEUZ3hLUmjn3QZjVU9oHURERC/KOxawU3MRkZmaZXIMwM7NMrkGYmVkmJwgzM8vkBGFmZpmcIMzMLJMThJmZZfr/9ohn4XG8wIwAAAAASUVORK5CYII=\n",
      "text/plain": [
       "<Figure size 432x288 with 1 Axes>"
      ]
     },
     "metadata": {
      "needs_background": "light"
     },
     "output_type": "display_data"
    }
   ],
   "source": [
    "plt.clf()   # 그림을 초기화합니다\n",
    "\n",
    "plt.plot(epochs, acc, 'bo', label='Training acc')\n",
    "plt.plot(epochs, val_acc, 'b', label='Validation acc')\n",
    "plt.title('Training and validation accuracy')\n",
    "plt.xlabel('Epochs')\n",
    "plt.ylabel('Accuracy')\n",
    "plt.legend()\n",
    "\n",
    "plt.show()"
   ]
  },
  {
   "cell_type": "code",
   "execution_count": 112,
   "metadata": {
    "scrolled": false
   },
   "outputs": [
    {
     "data": {
      "image/png": "iVBORw0KGgoAAAANSUhEUgAAAYIAAAEGCAYAAABo25JHAAAAOXRFWHRTb2Z0d2FyZQBNYXRwbG90bGliIHZlcnNpb24zLjMuMiwgaHR0cHM6Ly9tYXRwbG90bGliLm9yZy8vihELAAAACXBIWXMAAAsTAAALEwEAmpwYAAAsK0lEQVR4nO3deXxU9dXH8c8hkLApqAioICCoiIpLAI0WJVgX6sZT3LCCFhRBceni1rrVtdXig1uLFnErFqziUkWxRajUYkXcQa2oSBEf0bpgQNlynj/OxIQQIDOZYSaZ7/v1uq/Mcu/NAfGee3/L+Zm7IyIi+atRtgMQEZHsUiIQEclzSgQiInlOiUBEJM8pEYiI5LnG2Q4gWW3atPHOnTundOzy5ctp0aJFegNKg1yNC3I3NsWVHMWVnIYY19y5cz9z921r/NLd69VWXFzsqZoxY0bKx2ZSrsblnruxKa7kKK7kNMS4gJd8A9dVNQ2JiOQ5JQIRkTynRCAikueUCERE8pwSgYhInlMiEBHJc/mTCGbPZseJE2H27GxHIiKSU+rdhLKUzJ4N/fvT5dtvYeJEmD4dSkqyHZWISE7IjyeCmTNh1SoMYOXKeC8iIkC+JIJ+/aCoCK/6XkREgHxJBCUlMH06X/TuDeXlsNVW2Y5IRCRn5EciACgp4a1LLoEmTeCOO7IdjYhIzsifRACs3morGDQI7rkHVqzIdjgiIjkhrxIBAKNGwZdfwuTJ2Y5ERCQn5F8i6NsXevSA3/8+25GIiOSE/EsEZjByJMyZA3PnZjsaEZGsy79EADB0KDRvDuPGZTsSEZGsy89E0KoVnHwyPPAAfPVVtqMREcmq/EwEEM1DK1bA/fdnOxIRkazK30RQXAy9e0ensfum9xcRaaDyNxFADCWdPx9mzcp2JCIiWZPfieDEE6F1aw0lFZG8lt+JoHlzOPVUePhhWLo029GIiGRFficCiE7j1athwoRsRyIikhVKBN27Q2lpFKJbuzbb0YiIbHZKBBBPBQsXwrRp2Y5ERGSzUyIAGDgQ2rXTTGMRyUtKBACFhXD66fDkk7BoUbajERHZrJQIKowYET/vvDO7cYiIbGZKBBV23BF+8AMYPx5Wrcp2NCIim40SQVWjRsEnn8Bjj2U7EhGRzUaJoKrDD4fOnTXTWETyihJBVQUF0VcwYwa8/Xa2oxER2SwymgjM7Agze8fMFpjZxRvYp5+ZvWpm88zs75mMp1aGD4cmTWKCmYhIHshYIjCzAuB2YADQAxhsZj2q7dMa+B1wjLvvDhyfqXhqrW1bGDQI7rkn1isQEWngMvlE0AdY4O7vu/sqYBJwbLV9TgamuPsiAHfPjcpvo0bBl1/C5MnZjkREJOPMM7Qoi5kdBxzh7qcn3g8B9nP30VX2GQs0AXYHtgBudvf7ajjXCGAEQLt27YonTZqUUkxlZWW0bNly0zu60/vHP2Zts2a8vBk6jmsdVxbkamyKKzmKKzkNMa7S0tK57t6rxi/dPSMb0cwzvsr7IcCt1fa5DXgBaAG0Ad4FdtnYeYuLiz1VM2bMqP3Ot9ziDu4vvZTy76utpOLazHI1NsWVHMWVnIYYF/CSb+C6msmmocVAxyrvOwBLatjnaXdf7u6fAc8Be2UwptobOjTWK1D9IRFp4DKZCOYAO5tZFzMrBE4CHq+2z2NAXzNrbGbNgf2AtzIYU+21agWDB8MDD8BXX2U7GhGRjMlYInD3NcBoYBpxcX/Q3eeZ2UgzG5nY5y3gaeB14EWiKenNTMWUtFGjYuTQfet1W4iINBiNM3lyd58KTK322bhq728EbsxkHCkrLobevaN5aPRoMMt2RCIiaaeZxZsyahTMnw+zZmU7EhGRjFAi2JQTT4TWrVV/SEQaLCWCTWneHE49FR5+GJbmxnw3EZF0UiKojZEjYfVqmDAh25GIiKSdEkFtdO8OpaVRiG7t2mxHIyKSVkoEtTVyJCxcCNOmZTsSEZG0UiKorYEDoV07zTQWkQZHiaC2Cgvh9NPhySdh0aJsRyMikjZ5kwj+8Q/4zW92ZfbsOpzkjDPAHe68M21xiYhkW14kgtmzoX9/ePrp7SgtJfVk0KkTHHkkjB8Pq1alNUYRkWzJi0QwcyaUl8frlStjSeKUjRoFn3wCjz2WjtBERLIuLxJBv37RxG8Wi/A0b16Hkx1+OHTurJnGItJg5EUiKCmB6dPhtNM+oH37qCyd8sJsBQUwYkQ8Vrz9dlrjFBHJhrxIBBDJYOjQRVxzDcyZA088UYeTDR8OTZpoKKmINAh5kwgqDB0K3brB5ZdX9hskrW1bGDQI7r031isQEanH8i4RNGkCV1wBr74KU6bU4UQjR8KXX8LkyWmKTEQkO/IuEUCsQLnbbpEQUi4ddNBB0KOHOo1FpN7Ly0RQUAC/+lWsNzNpUoonMYungjlzYO7ctMYnIrI55WUigGji79kTrrwS1qxJ8SRDh8ZYVHUai0g9lreJoFEjuPpqWLCgDmvTt2oV7UwPPABffZXW+ERENpe8TQQARx8da9NfdVUdKkaMGhUjh1LOJiIi2ZXXicAsngo+/BDuuivFkxQXRzYZN64Os9RERLInrxMBwGGHwYEHwjXXwDffpHiSUaOi53nWrLTGJiKyOeR9IjCLJLBkSaxEmZITT4TWrTWUVETqpbxPBBBF6fr3h+uvh+XLUzhB8+Zw6qnw8MNRmVREpB5RIki4+mpYuhRuuy3FE4wcCatXw913pzUuEZFMUyJIOOAAGDAAbrgBli1L4QTdu8ejxR131GG6sojI5qdEUMVVV8Hnn8PNN6d4glGjYOFCmDYtnWGJiGSUEkEVvXrBwIEwZgx88UUKJxg4ENq1U6exiNQrSgTV/OpXMUl4zJgUDi4shNNPhyefjMkJIiL1gBJBNT17xmjQsWPh009TOMEZZ8TPP/whnWGJiGSMEkENrrwyJpfdcEMKB3fqBEceCePH16FuhYjI5qNEUIPu3eGUU2Io6ccfp3CCUaNiPsFjj6U9NhGRdMtoIjCzI8zsHTNbYGYX1/B9PzP7ysxeTWyXZzKeZFx+eUwLuP76FA4+/PB4MlCnsYjUAxlLBGZWANwODAB6AIPNrEcNu85y970T21WZiidZXbvCsGExLWDRoiQPLiiAM8+EGTPg7bczEp+ISLpk8omgD7DA3d9391XAJODYDP6+tLv00vh57bUpHDx8eCyQrEVrRCTHmWeodLKZHQcc4e6nJ94PAfZz99FV9ukHPAwsBpYAP3f3eTWcawQwAqBdu3bFk1JcX7KsrIyWLVsmdcwtt3Tj8ce35777XmT77b9N6tjdrr6arV98kdl//jPlTZumNa7NJVdjU1zJUVzJaYhxlZaWznX3XjV+6e4Z2YDjgfFV3g8Bbq22z5ZAy8TrHwDvbuq8xcXFnqoZM2YkfcySJe5Nm7qfemoKv3DmTHdwnzAh7XFtLrkam+JKjuJKTkOMC3jJN3BdzWTT0GKgY5X3HYi7/qpJaJm7lyVeTwWamFmbDMaUtO22g7PPhvvvT6G5/6CDoEcPdRqLSE7LZCKYA+xsZl3MrBA4CXi86g5m1t7MLPG6TyKe/2YwppRcdBE0axazjpNiFlVJ58yBuXMzEpuISF1lLBG4+xpgNDANeAt40N3nmdlIMxuZ2O044E0zew24BTgp8QiTU7bdFs49FyZPhjfeSPLgoUNjvQJ1GotIjsroPAJ3n+ruu7h7V3e/NvHZOHcfl3h9m7vv7u57ufv+7v7PTMZTFz//OWyxBVxxRZIHtmoFgwfDAw9EESMRkRyjmcW1tPXW8NOfwiOPpNDKM2oUrFgB992XkdhEROpCiSAJ558fCeHyZOc/FxdD797RPJR7LV8ikueUCJLQqhVccAFMnQqzZyd58MiRMH8+zJqVkdhERFKlRJCkc86Btm3hssuSPPCkk6B1aw0lFZGco0SQpBYt4OKLYfp0mDkziQObN4dTT4WHH47KpCIiOUKJIAUjR8L228dTQVJN/iNHRknTu+/OWGwiIslSIkhBs2bwy1/CP/4Bf/1rEgd27w79+kVJ07VrMxWeiEhSlAhSNHx4LDlw6aVJPhWMGgULF8K0aZkKTUQkKUoEKSoqiqahOXPgiSeSOHDgQGjXTp3GIpIzlAjqYOjQWMDmssugvLyWBxUWxuPEk0/Chx9mND4RkdpQIqiDJk1iofvXXoMpU5I4cMSI+PmHP2QiLBGRpCgR1NHgwbDbblGDqNb9v506wZFHwvjxsGpVRuMTEdkUJYI6KiiI8tTz50NSC6eNGhXzCR59NFOhiYjUihJBGgwaBD17RjPRmjW1POjww+PJQOWpRSTLlAjSoFEjuPpqWLAgiQKjBQVw5pkwYwbNFy3KaHwiIhujRJAmRx8dBUavuiqJZv/hw6GggF1vuCGFKnYiIumhRJAmZvFU8OGHcNddtTzovfcA2HLePDjkECUDEcmKWiUCMzvPzLa0cJeZvWxmh2U6uPrmsMPgwAPhmmvgm29qccDMmeCOAXz7LcyYkdkARURqUNsngmHuvgw4DNgW+DHw64xFVU+ZRRJYsiTKCW1Sv35QVISbRZ2KBQsyHaKIyHpqmwgs8fMHwN3u/lqVz6SKfv2gf3+4/npYvnwTO5eUwPTpfDB8OBx1VFQlnThxc4QpIvKd2iaCuWb2DJEIppnZFkBtiyrknauvhqVL4bbbarFzSQmLfvSjWKegXz8YNgyefz7TIYqIfKe2iWA4cDHQ291XAE2I5iGpwQEHwIABcMMNsGxZLQ8qLIxk0KlTFKZ7//1Mhigi8p3aJoIS4B13/9LMTgEuBb7KXFj131VXweefw9ixSRy09dZRynTt2hiP+pX+ikUk82qbCH4PrDCzvYALgQ+B2k6dyku9esWN/U03wRdfJHHgLrvEk8G//w0nnJDEVGURkdTUNhGscXcHjgVudvebgS0yF1bD8KtfxU39mDFJHlhaGusVPPMMnH9+JkITEflObRPB12Z2CTAEeNLMCoh+AtmInj3hxBOjeejTT5M8+PTT4ec/h9tvr2Wvs4hIamqbCE4EVhLzCf4P2AG4MWNRNSBXXhmTy264IYWDf/1rOOYYOO88eOqpdIcmIgLUMhEkLv4TgVZmdhTwrburj6AWuneHU06Jm/qPP07y4IKCmFdQ8Wjx5psZiVFE8lttS0ycALwIHA+cAPzLzI7LZGANyeWXw+rVMcksaS1bwl/+Ej+POiomKIiIpFFtm4Z+ScwhONXdhwJ9gMsyF1bD0rVrzBO74w5IqeJ0hw7w+OORBAYOjLpEIiJpUttE0Mjdq96K/jeJYwW49NL4ee21KZ6gVy+4//6oUDpsWNQmEhFJg9pezJ82s2lmdpqZnQY8CUzNXFgNz447xpr1EybUYdLwoEFw3XXwpz9FHQsRkTSobWfxBcCdQE9gL+BOd78ok4E1RL/4BTRuHLOOU3bxxXDqqXDFFUkukiwiUrNaN++4+8Pu/lN3/4m7P1KbY8zsCDN7x8wWmNnFG9mvt5mtbegd0NttB2edFS08b7+d4knMorOhb1847TR44YV0higieWijicDMvjazZTVsX5vZRsupJSad3Q4MAHoAg82sxwb2+w0wLfU/Rv1x0UXQrFnMOk5ZURFMmQI77ADHHhvLoomIpGijicDdt3D3LWvYtnD3LTdx7j7AAnd/391XAZOIEhXVnQM8DOTFuMi2beHcc6NV54036nCiNm3gySdh5coYVlrrMqciIusyz9Dok0QzzxHufnri/RBgP3cfXWWfHYAHgP7AXcAT7v5QDecaAYwAaNeuXfGkFNvGy8rKaNmyZUrHptOyZY05+eT92XffL7jqqnl1imuruXPpeeGFfN67N29eey1eUJDWWHPl76w6xZUcxZWchhhXaWnpXHfvVeOX7p6RjZh8Nr7K+yHArdX2+TOwf+L1PcBxmzpvcXGxp2rGjBkpH5tuV17pDu4vvZSGuH7/+zjZeeelI7R15NLfWVWKKzmKKzkNMS7gJd/AdTWTcwEWAx2rvO8ALKm2Ty9gkpktBI4DfmdmAzMYU844//xYfuDyy9NwspEj44Q33xxVS0VEkpDJRDAH2NnMuphZIXAS8HjVHdy9i7t3dvfOwEPAWe7+aAZjyhmtWsEFF8DUqTBv3qa6W2rht7+FI4+Ec86J8tUiIrWUsUTg7muA0cRooLeAB919npmNNLORmfq99ck558BWW8F11+3G7Nl1PFlBQUw069EDjj8e5s9PS4wi0vBltEyEu091913cvau7X5v4bJy7j6th39O8ho7ihuz116GsDJYsacb3vge33lrHyhFbbBFLXTZrFiOJkl4EQURy1ezZMHHijnW/aayB6gVl0cyZUF4er8vLY1jp/vvDI49Ufp60HXeExx6Lmtc//GEMLxWRemnlSnj2WRg6FA48EO66qwuHHELak4ESQRb16weFhdCoUTnNmsGFF8Jnn8X1e4894N57o3x10vbbLw7+xz/gjDNUoE6knnCP+UVjxsARR0TT8SGHxLIkMTTQWLUqbiLTSYkgi0pKYPp0GDZsIdOnw29+A++8E039hYVRQaJrV7jlFlixIsmTn3BCFDW6//4UF0IQkc1hyRK47z4YMgS23z7Wofr5z6NgwOmnRwX6adOixbdRo3IKC+MmMp0ap/d0kqySEli5chElJTsBUZTupJNiQbKnn45r+HnnRbHRc8+F0aPjLqFWLr00Mssvfwk77xydyCKSVcuXw9//Dn/9a2zz5sXnbdrA978Phx4aW8eO6x43fTpMmLCQYcN2oqQkvTEpEeQoMxgwILbnn4/liy+/PNY+PvNM+OlP4+5hkycZPx4++CAaGTt3ht69N0f4IpKwdi28/HLlhf/556PJt6goakcOHRoX/r32gkYbaaOpftOYTkoE9cCBB8ZqlW+8Ec1HY8fGCKOhQ6NfYeedN3Jw06bR+7zffnDMMfDii+vfaohIWi1cGBf9Z56Jzt7PP4/P99475n4eeih873vR3JML1EdQj+y5J/zxj/Dvf0fb4f33Q/fu0Yz0yisbObBt2xhWumIFHH10jFkVkbT58su43zrrrLgx69IlFqKaPTvuvyZOhE8+if9Pb7ghEkGuJAFQIqiXdtoJbr89OpMuvDD6EvbdN0YZzJy5gUFCu+8ODz4YjxUnnxzPqyKSktWrY1DeFVdEk80228Rov4qbs5tvjjmd//kP3H13/C/Xtm22o94wJYJ6rF276ExetCh+vvIKlJbCAQfESIP15iIcfngMQfrLX2JhBBGpFfdYTOrWW+MOf5tton3/mmviu1/8Ap57Dv773/jf69xzYbfdopuuPlAfQQPQqlWsYHneeXDPPXDjjbFeze67x/X+pJOgSZPEzmefHSOJxoyBXXeNeQYi8p2KGbwrVsQyH888A3/7W9zdQwzp/tGPonmntDSJUXw5TImgAWnWDEaNimv7gw/GSKOhQ+Gyy2Jc8rBh0Lw5cNNN8O670aC5004xY0UkT5WXx0V+wYK46N90E6xZ04Xx4+P7ikldl14aF/8uXbIbbyYoETRAjRtHm+TgwbGI2fXXR4G7q66Kp4azz25M60mTYjjSccfFuse77prtsEUyZu3auNi/+25c8BcsqHz9/vs1VWIxzOLG6pZboqZjQ6ZE0ICZRe25o46CWbPiCeHSS2MI6siRrfjJhKfY7qji2OGFF6LhU6SeWrMm+suqX+grLvarVlXu26wZdOsWHbtHHRUjfbp1i6agwYNh5cpyiooaccopDT8JgBJB3ujbN7bXXotEMGYM3HxzR04b8DoXPtWfroMGxXNxYWG2QxXZoDVrYrRcTXf2H3ywbm2u5s3j4r777tFn1q1b5QV/u+02PHkrkzN4c5USQZ7Zay944IEoWXHjjXD33e0Zv/pNTvj7ZC46/lr2fvTK+jPUQRqk1atjQlb1u/p3343P16yp3Ldly7iw9+wJgwbF64oLfvv2qf1TzuQM3lylRJCnunaFceNiHPTYsY34/dgfMunxIgbs9h4X39mVvn2VDyT9ysuj1s6yZTHn5b77duXRR6MNv+Kiv3DhutNcttgiLuz77hu1FCvu6rt1iyHU+ndad0oEeW677aKp6JKLC/ndwZMY+0Z/Dj445iIcfTS89loXCgqiWUny1+rV8PXXcQHf1Lax/b7+uvqEx+145ploxtltN+jVK9roqzbjbLutLvaZpkQgALTeyvjFv47l/IMHcPer+3DNO7/hkn8WAp2YNAm23jpGmu6wQ2wdOlS+rnjfsmW2/xRSwT1Gwnz7bcyAve++rnzwQdQdTPbivWwZfPPNpn+nWdy9b7nluluHDut/9vzzsX5SeXl0xv7ylzEpS7JDiUAqNWtG879M5uw+ffjii/ZcYRdS7oaZs9NORps2Mfriuefgiy/WP3zLLddPEtVft2mz8QqL9VnFRKSiolhpruJCnI1t/eGQHfnzn2uOu0mTmJRY9SLevj3sssv6F/CNbc2b1/6/7QEHRGmUlSvLKSxsRGlpXf7mpa6UCGRd7drBE09wSK9zuM7PYRVNKPTV3HLGe5SM2PO73VasiAU1Fi+Gjz6Krerrt96K1TKrlzRq0iTKZ28sYWy/fZTozbSKu+aysmi3Liur3Kq/39Rnn30Wf26onIhUV0VFUTx2Q1vr1hv/vmnTeBqYOjX+rI0awfDhMTa+6gV8c/xdV1exKFO+jc7JVUoEsr4996RkcGem33sIM+lHP/5Oyev7Ard9t0vF0Lxu3TZ8mrVro+Ji9SRR8frVVyuLola37bYbfqr45BOYMqUb8+dDp06pX7zLypKrvde0KbRoEU1gVbeK6RdLlsRSgmZReuDQQzd9od7QFkuY1j62DZk9O8ogV4yL//GPYZ996n7edMjH0Tm5SolAanbmmZRM7s/+K/+FucPts+M2/4ILonhdLXrvCgri7n777Te8Ho47fPVVzU8VFa9ffBE+/bT6kR149NGaz9m48foX6xYtomO8+mcbe1/1sxYt4rwbMnt2lCGouOBecw05cZerO2+pDSUCqVlJCTz7LB9MmMBOJ5wQt+9jx8aSaXvuGcWLTjqpzhPQzKKJo3XrmPizIStXxh33r38di66Vl8cd88iRUUev6sU7G3PicvmCqztv2ZQG2m0naVFSwqKKMosXXBBTN++5J27jTz01hhH99rcxrCTDioqi2Ndpp8XrRo3KKSqCU06BHj1gxx1jZFM2J0aXlMCPfrQop5KASG0oEUjtFRZGAnj99eiB3GWXSBAdO0a96yVLMh5CxZ33sGELmT49N5pfROo7JQJJnlk0ET37LMyZE0uj/fa3MUj9xz+GefMy+ut15y2SXkoEUje9esHkyVEf4MwzYyGEPfaAI4/cyLqZIpJLlAgkPXbaKdbxW7QoFj6YMyfGUPbpE8mhaqUwEckpSgSSXttsE0uiffhhVLX76is48cToT7jtthjELyI5RYlAMqNZs2gqeustmDIlahacc04M77n8cli6NNsRikiCEoFkVkEB/M//wD//GfUO+vaNxRA6dYpJAO++m+0IRfKeEoFsPgceCI8+Gk8Jp5wCd98dayUPGhRLZYpIVigRyObXvTv84Q/Rj3DJJTBjRowJ7dsXHn88pg2LyGaT0URgZkeY2TtmtsDMLq7h+2PN7HUze9XMXjKz72UyHskx7dvDtdfGSKOxY+E//4nFZXffPepIfPtttiMUyQsZSwRmVgDcDgwAegCDzaxHtd2mA3u5+97AMCBNBXylXmnZEs47L9YpfOCB6Gg+44yYoHbddTUvfiAiaZPJJ4I+wAJ3f9/dVwGTgGOr7uDuZe7fzThqAWj2UT5r3DjWKZw7F/72N9h771i6qmNHOP/8aEoSkbQzz9DMTzM7DjjC3U9PvB8C7Ofuo6vt9z/A9UBb4Eh3n13DuUYAIwDatWtXPGnSpJRiKisro2UOrqeYq3FB9mNr8d57dJw8mbbPPou5s7RfPz7v3Rs+/phv+vRh2cZKlmZBtv++NkRxJachxlVaWjrX3XvV+KW7Z2QDjgfGV3k/BLh1I/sfBPxtU+ctLi72VM2YMSPlYzMpV+Nyz6HYFi1y/9nP3Js3dwcvB/fGjd1vusl9xYpsR/ednPn7qkZxJachxgW85Bu4rmayaWgx0LHK+w7ABstTuvtzQFcza5PBmKS+6tgxCtv97GdghkGUrfjpT6P+9IABcMstmpcgkoJMJoI5wM5m1sXMCoGTgMer7mBm3cxiqSsz2xcoBP6bwZikvhswAJo2pbxRo+hUvukmGDEC3nsvOpx32SXWzzznnCiVXdM6mCKyjoytUObua8xsNDANKAAmuPs8MxuZ+H4cMAgYamargW+AExOPMCI1SyxIsHDCBHYaNqxyQYKbb45k8PTT8NRTcNddUduoqAgOPjgSyIABkShqscymSD7J6FKV7j4VmFrts3FVXv8G+E0mY5AGqKSERStXslP1BQm6do11K88+O+YgPPdcJIWnnoKf/CS2Ll0iIRxxBPTvH4sRi+Q5zSyWhqlpUzjsMPjf/4W334b334ff/S7WSrjnHjjmmOhbOPTQaF566y2tnSB5S4lA8kOXLjBqVJSw+Pxz+OtfYfRo+Oij6IDu0aNyn8ceg7KybEcsstkoEUj+KSqC738fxoyB+fNh4cJYO2HvveGPf4SBA+Np4ZBDYqTSvHl6WpAGTYlApFOnWDvh0Ufhv/+F6dNjJvPSpXDBBdGc1KlTjE565BFYtizbEYuklRKBSFWFhdGJfMMN8MYbURDvzjtjbeZJk+CHP4xV2EpLK/epeFqYPZsdJ06E2etNjhfJaUoEIhvTsWMUwJsyBT77LEpm/+xn0c9w0UXQs2fsc/TR0K8fXSZMiCYlJQOpR5QIRGqrsBD69YNf/xpeew0WL45y2fvvH53Pq1Zh5eXwzTfRtDRxYjxRiOQ4JQKRVO2wAwwfDg89FImgqAg3g0aN4M03YxW2Tp1iO+UUuOOO6JxWx7PkmIxOKBPJG337wowZfFAx47lPH3j9dZg1K7a//S2eECD6GPr2rdz22SdKcItkif71iaRL9RnP++wT27nnxlPAggWViWHWrBilBDG7uWKpzr59Yb/9oHnzrP0xJP8oEYhsDmaw886xDRsWny1Zsm5iuPLKSBhNmkBxcWVi+N73YKutshq+NGxKBCLZsv32cOKJsQF8+SU8/3xlYhg7Fm68MZLIHnus25y0ww7ZjFwaGCUCkVzRujUceWRsEKOPXnyxMjHcd1/US4Ioh1E1MaiqqtSBEoFIrmrWLEpoH3xwvF+zJoatPvdcJIannorkANC2bTQhHXRQJIa99oKCguzFLvWKEoFIfdG4cfQdFBdHSW13eOeddfsZpkyJfbfYAg44IJLCVlvRac6cqLFUvXS3CEoEIvWXGXTvHtsZZ8RnixevmxguvRSAzgD33guDBkWZjJKSmN+g5iRBiUCkYenQAQYPjg3gssvguutixrN7lNh+6KH4rn37SAj77x8/e/WK5ijJO0oEIg3ZD34AY8ZQvnIljYqKYNo0aNkyaiFVbI88Evs2bhyluEtKKjc9NeQFJQKRhmxDazzvsw+cdVa8/vRTeOGFysRw111w663xXfv2lU8MemposJQIRBq6Da3xXGHbbaN66tFHx/s1a6K8dtWnhopZ0HpqaJCUCERkXY0bV5bH0FNDXlAiEJFN29hTQ0WCqOmpoSJBdO6sp4YcpkQgIslL9qmhXbt1m5N69YJXX40V3TS/IeuUCEQkPZJ5aigogPJyurjH/IZx4+Dkk6Fp06yFn8+0MI2IZEbFU8NZZ0UpjHffhaVL4fHHoxyGOwawenUs8LPFFlEa47TT4JZbYkLc119n+Q+RH/REICKbT8VTQ5s2cMghMb+hsDAmvi1fDq+8Ak8/HU8JEP0K3brBvvtGUqn42aZNdv8cDYwSgYhsfhua31Dh44/h5ZcjMbz8MvzrXzB5cuX3HTuumxj23TdKc6tDOiVKBCKSHRub37DdduuW5Ab4/HN49dV1E8Rf/lK5BnSbNus/OXTtGmtIy0YpEYhI/bD11tC/f2wVyspibeiKxPDKK3DTTdHvANHvsPfe6yaI7t1jFTj5jhKBiNRfLVtGue0DDqj8bOVKmD9/3SeHP/wBVqyI74uKoGfPdZ8c9tyzchLc7Nl5N6xViUBEGpaioso5DhXWroV//3vdJ4cHH4Q774zvCwpgt92ieuv06XRZswb++Ed49tm8SAZKBCLS8FVc6HfbLeYrQPQtfPjhuk8Os2bB6tUxrPXbb+HQQ6FPn1gzumLbfXdo1Sqbf5q0UyIQkfxkFqUvOneOxXogJr3174+vXIk1bgylpTFjesKEGN5aoWPHdZPDHntEkqmnNZYymgjM7AjgZqAAGO/uv672/Y+AixJvy4BR7v5aJmMSEdmgkhJ49lk+qD6stbwcFi2CN99cd5s+HVatin0aNYo5D9UTRLduOd85nbFEYGYFwO3AocBiYI6ZPe7u86vs9gFwsLt/YWYDgDuB/TIVk4jIJtU0rLVRo8qnh6OOqvx8zRpYsGD9BPHoo5E8AAoLY6RS9QTRqVPODG3N5BNBH2CBu78PYGaTgGOB7xKBu/+zyv4vAB0yGI+ISHo1bly5bvRxx1V+/u238Pbb6yaH55+HBx6o3KdFi+hvqJ4g2rff7BPjzCsmY6T7xGbHAUe4++mJ90OA/dx99Ab2/znQvWL/at+NAEYAtGvXrnjSpEkpxVRWVkbLli1TOjaTcjUuyN3YFFdyFFdyMhVXwfLltPjwQ1p88ME6W+EXX3y3z+ott2R5584s79Klcuvcmeb/+Q/NXnyRb/r0Ydnuuyf9u0tLS+e6e68av3T3jGzA8US/QMX7IcCtG9i3FHgL2GZT5y0uLvZUzZgxI+VjMylX43LP3dgUV3IUV3I2e1xLl7rPmOF+663uZ57pfuCB7q1aucfYpu+2cjP3Zs3c//nPpH8F8JJv4LqayaahxUDHKu87AEuq72RmPYHxwAB3/28G4xERyU3bbgv9+sVWwR0++iialW65BZ56CnOPzumZM9M6vyGTiWAOsLOZdQE+Ak4CTq66g5ntCEwBhrj7vzMYi4hI/WIWE9w6dIh5CzNnVlZrrZow0iBjXdbuvgYYDUwjmn0edPd5ZjbSzEYmdrsc2Ab4nZm9amYvZSoeEZF6q6Ja67BhMWQ1zbOdMzqPwN2nAlOrfTauyuvTgfU6h0VEpJqNVWuto9wYxCoiIlmjRCAikueUCERE8pwSgYhInlMiEBHJc0oEIiJ5LmO1hjLFzD4FPkzx8DbAZ2kMJ11yNS7I3dgUV3IUV3IaYlyd3H3bmr6od4mgLszsJd9Q0aUsytW4IHdjU1zJUVzJybe41DQkIpLnlAhERPJcviWCO7MdwAbkalyQu7EpruQoruTkVVx51UcgIiLry7cnAhERqUaJQEQkz+VNIjCzI8zsHTNbYGYXZzseADObYGZLzezNbMdSlZl1NLMZZvaWmc0zs/OyHROAmTU1sxfN7LVEXL/KdkxVmVmBmb1iZk9kO5YKZrbQzN7ItfU+zKy1mT1kZm8n/p2lv7Zy8jHtmvh7qtiWmdn52Y4LwMx+kvg3/6aZ/cnMmqb1/PnQR2BmBcC/gUOJJTTnAIPdfX6W4zoIKAPuc/c9shlLVWa2HbCdu79sZlsAc4GBOfD3ZUALdy8zsybAP4Dz3P2FbMZVwcx+CvQCtnT3o7IdD0QiAHq5e05NjjKze4FZ7j7ezAqB5u7+ZZbD+k7imvERsJ+7pzqBNV2x7ED8W+/h7t+Y2YPAVHe/J12/I1+eCPoAC9z9fXdfBUwCjs1yTLj7c8Dn2Y6jOnf/2N1fTrz+mlhhbofsRgWJNbjLEm+bJLacuJMxsw7AkcT627IRZrYlcBBwF4C7r8qlJJBwCPBetpNAFY2BZmbWGGhODeu/10W+JIIdgP9Ueb+YHLiw1Qdm1hnYB/hXlkMBvmt+eRVYCvzV3XMiLmAscCFQnuU4qnPgGTOba2Yjsh1Mwk7Ap8Ddiaa08WbWIttBVXMS8KdsBwHg7h8BvwUWAR8DX7n7M+n8HfmSCKyGz3LiTjKXmVlL4GHgfHdflu14ANx9rbvvDXQA+phZ1pvUzOwoYKm7z812LDU40N33BQYAZyeaI7OtMbAv8Ht33wdYDuREvx1AoqnqGODP2Y4FwMy2IlowugDbAy3M7JR0/o58SQSLgY5V3ncgzY9WDU2iDf5hYKK7T8l2PNUlmhJmAkdkNxIADgSOSbTHTwL6m9kfsxtScPcliZ9LgUeIZtJsWwwsrvI09xCRGHLFAOBld/8k24EkfB/4wN0/dffVwBTggHT+gnxJBHOAnc2sSyLbnwQ8nuWYclaiU/Yu4C13vynb8VQws23NrHXidTPif5C3sxoU4O6XuHsHd+9M/Nt61t3TeseWCjNrkejsJ9H0chiQ9RFq7v5/wH/MbNfER4cAWR2IUM1gcqRZKGERsL+ZNU/8v3kI0W+XNo3TebJc5e5rzGw0MA0oACa4+7wsh4WZ/QnoB7Qxs8XAFe5+V3ajAuIOdwjwRqI9HuAX7j41eyEBsB1wb2JERyPgQXfPmaGaOagd8EhcO2gMPODuT2c3pO+cA0xM3Ji9D/w4y/EAYGbNidGFZ2Y7lgru/i8zewh4GVgDvEKaS03kxfBRERHZsHxpGhIRkQ1QIhARyXNKBCIieU6JQEQkzykRiIjkOSUCkc3IzPrlUnVSEVAiEBHJe0oEIjUws1MSax+8amZ3JIrdlZnZGDN72cymm9m2iX33NrMXzOx1M3skURsGM+tmZn9LrJ/wspl1TZy+ZZVa/BMTs0VFskaJQKQaM9sNOJEo2LY3sBb4EdCCqEGzL/B34IrEIfcBF7l7T+CNKp9PBG53972I2jAfJz7fBzgf6EFU4jwww38kkY3KixITIkk6BCgG5iRu1psRZa/LgcmJff4ITDGzVkBrd/974vN7gT8navzs4O6PALj7twCJ873o7osT718FOhMLj4hkhRKByPoMuNfdL1nnQ7PLqu23sfosG2vuWVnl9Vr0/6FkmZqGRNY3HTjOzNoCmNnWZtaJ+P/luMQ+JwP/cPevgC/MrG/i8yHA3xPrNyw2s4GJcxQlCpqJ5BzdiYhU4+7zzexSYmWvRsBq4GxiAZXdzWwu8BXRjwBwKjAucaGvWklzCHCHmV2VOMfxm/GPIVJrqj4qUktmVubuLbMdh0i6qWlIRCTP6YlARCTP6YlARCTPKRGIiOQ5JQIRkTynRCAikueUCERE8tz/A+a36ay/y74BAAAAAElFTkSuQmCC\n",
      "text/plain": [
       "<Figure size 432x288 with 1 Axes>"
      ]
     },
     "metadata": {
      "needs_background": "light"
     },
     "output_type": "display_data"
    }
   ],
   "source": [
    "y_loss = history.history['loss']\n",
    "y_val_loss = history.history['val_loss']\n",
    "x_len = np.arange(len(y_loss))\n",
    "plt.plot(x_len, y_loss, marker='.', c='red', label='Traing set')\n",
    "plt.plot(x_len, y_val_loss, marker='.', c='blue', label='testing set')\n",
    "plt.grid()\n",
    "plt.xlabel('epoch')\n",
    "plt.ylabel('loss')\n",
    "plt.show()"
   ]
  },
  {
   "cell_type": "markdown",
   "metadata": {},
   "source": [
    "- 전반적으로 Word2Vec를 활용하면 그래프가 좀더 완만한 형상을 띄운것을 알 수 있다."
   ]
  },
  {
   "cell_type": "markdown",
   "metadata": {},
   "source": [
    "### 네이버 영화 리뷰 감성 분석을 마치며\n",
    "\n",
    "- 기존의 딥러닝은 이미지 분류로만 사용했는데 처음으로 자연어 처리(NLP)를 진행하면서 지금까지 했던 프로젝트 중에서 새로운 것을 배워가고 활용했다는 느낌이 가장 많이 들었던 것 같다.  \n",
    "\n",
    "\n",
    "- 개인적으로는 이론적인 부분은 이미지 분류가 자연어 처리보다 좀 더 이해가 되었고 활용 적인 부분에서는 자연어 처리가 이미지 분류보다 더 어렵지 않게 다룰 수 있던거 같다.\n",
    "\n",
    "\n",
    "- 그리고 이번 프로젝트에서 크게 기억 남는 것은 워드 임베딩이 자연어 처리에서 왜 중요한지 알게 되었습니다.<br> 물론, GRU같은 경우 loss가 0.37에서 0.39로 증가 하고 accuracy도 큰 변화가 없었지만,  ( 1D-CNN + RNN )에 워드 임베딩을 적용하면서 loss가 0.51 -> 0.34,  accuracy가 0.78 -> 0.85로 성능이 크게 향상된 것을 직접 확인할 수 있어서 **워드 임베딩**에 중요성을 더 알게된것 같습니다.\n",
    "\n",
    "\n",
    "- 이렇게 프로젝트를 무사히 마치면서 하루만 쉬고 싶지만 아직 진행중인 프로젝트랑 해야할 숙제들이 남아 있어서 이번 주도 제대로 못 쉬고 넘길것 같네요. 머신러닝이나 딥러닝이나 막상 해보면 뭔가 할만한것 같은 느낌이 들지만... CS231n 등의 강의를 보면 이론적인 부분은 정말 어렵기도 하고 아직 가야할 산이 많다는 느낌이 든다.\n",
    "\n",
    "\n",
    "- 그래도 강의를 듣고 모델을 사용하고 하면서 처음에 접했을때 보다는 더 발전했다고 생각한다. "
   ]
  },
  {
   "cell_type": "code",
   "execution_count": null,
   "metadata": {},
   "outputs": [],
   "source": []
  }
 ],
 "metadata": {
  "kernelspec": {
   "display_name": "Python 3",
   "language": "python",
   "name": "python3"
  },
  "language_info": {
   "codemirror_mode": {
    "name": "ipython",
    "version": 3
   },
   "file_extension": ".py",
   "mimetype": "text/x-python",
   "name": "python",
   "nbconvert_exporter": "python",
   "pygments_lexer": "ipython3",
   "version": "3.7.9"
  }
 },
 "nbformat": 4,
 "nbformat_minor": 4
}
