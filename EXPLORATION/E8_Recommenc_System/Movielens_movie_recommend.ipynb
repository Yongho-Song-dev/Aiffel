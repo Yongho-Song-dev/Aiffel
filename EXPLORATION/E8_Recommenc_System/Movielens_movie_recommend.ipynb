{
 "cells": [
  {
   "cell_type": "markdown",
   "metadata": {},
   "source": [
    "## Movielens 영화 추천\n",
    "Movielens 데이터 implict 방식으로 추천 시스템 만들기\n",
    "\n",
    "- 유저가 영화에 대해 평점을 매긴 데이터가 데이터 크기 별로 있습니다. \n",
    "  - MovieLens 1M Dataset 사용\n",
    "\n",
    "\n",
    "- 별점 데이터는 대표적인 explicit 데이터입니다. 하지만 implicit 데이터로 간주하고 테스트할 수 있습니다.\n",
    "\n",
    "\n",
    "- 별점을 **시청횟수**로 해석해서 생각하겠습니다.\n",
    "\n",
    "\n",
    "- 유저가 3점 미만으로 준 데이터는 선호하지 않는다고 가정하겠습니다.\n",
    "\n",
    "#### 데이터셋 다운로드 (Ubuntu) \n",
    "wget http://files.grouplens.org/datasets/movielens/ml-1m.zip\n"
   ]
  },
  {
   "cell_type": "markdown",
   "metadata": {},
   "source": [
    "### 데이터 준비 및 전처리\n",
    "- 3점 미만으로 준 데이터는 선호하지 않는다고 가정했으니, 3점 이상의 데이터만 남긴다.\n",
    "\n",
    "- 메타 데이터 읽어오기, 컬럼명 정리 등의 작업 진행\n"
   ]
  },
  {
   "cell_type": "code",
   "execution_count": 2,
   "metadata": {},
   "outputs": [],
   "source": [
    "# 모듈 임포트\n",
    "import pandas as pd\n",
    "import numpy as np"
   ]
  },
  {
   "cell_type": "code",
   "execution_count": 3,
   "metadata": {},
   "outputs": [
    {
     "data": {
      "text/html": [
       "<div>\n",
       "<style scoped>\n",
       "    .dataframe tbody tr th:only-of-type {\n",
       "        vertical-align: middle;\n",
       "    }\n",
       "\n",
       "    .dataframe tbody tr th {\n",
       "        vertical-align: top;\n",
       "    }\n",
       "\n",
       "    .dataframe thead th {\n",
       "        text-align: right;\n",
       "    }\n",
       "</style>\n",
       "<table border=\"1\" class=\"dataframe\">\n",
       "  <thead>\n",
       "    <tr style=\"text-align: right;\">\n",
       "      <th></th>\n",
       "      <th>user_id</th>\n",
       "      <th>movie_id</th>\n",
       "      <th>rating</th>\n",
       "      <th>timestamp</th>\n",
       "    </tr>\n",
       "  </thead>\n",
       "  <tbody>\n",
       "    <tr>\n",
       "      <th>0</th>\n",
       "      <td>1</td>\n",
       "      <td>1193</td>\n",
       "      <td>5</td>\n",
       "      <td>978300760</td>\n",
       "    </tr>\n",
       "    <tr>\n",
       "      <th>1</th>\n",
       "      <td>1</td>\n",
       "      <td>661</td>\n",
       "      <td>3</td>\n",
       "      <td>978302109</td>\n",
       "    </tr>\n",
       "    <tr>\n",
       "      <th>2</th>\n",
       "      <td>1</td>\n",
       "      <td>914</td>\n",
       "      <td>3</td>\n",
       "      <td>978301968</td>\n",
       "    </tr>\n",
       "    <tr>\n",
       "      <th>3</th>\n",
       "      <td>1</td>\n",
       "      <td>3408</td>\n",
       "      <td>4</td>\n",
       "      <td>978300275</td>\n",
       "    </tr>\n",
       "    <tr>\n",
       "      <th>4</th>\n",
       "      <td>1</td>\n",
       "      <td>2355</td>\n",
       "      <td>5</td>\n",
       "      <td>978824291</td>\n",
       "    </tr>\n",
       "  </tbody>\n",
       "</table>\n",
       "</div>"
      ],
      "text/plain": [
       "   user_id  movie_id  rating  timestamp\n",
       "0        1      1193       5  978300760\n",
       "1        1       661       3  978302109\n",
       "2        1       914       3  978301968\n",
       "3        1      3408       4  978300275\n",
       "4        1      2355       5  978824291"
      ]
     },
     "execution_count": 3,
     "metadata": {},
     "output_type": "execute_result"
    }
   ],
   "source": [
    "# 인덱싱은 이미 완료되어 있다.\n",
    "import os\n",
    "rating_file_path=os.getenv('HOME') + '/aiffel/recommendata_iu/data/ml-1m/ratings.dat'\n",
    "ratings_cols = ['user_id', 'movie_id', 'rating', 'timestamp']\n",
    "ratings = pd.read_csv(rating_file_path, sep='::', names=ratings_cols, engine='python')\n",
    "orginal_data_size = len(ratings)\n",
    "ratings.head()"
   ]
  },
  {
   "cell_type": "code",
   "execution_count": 4,
   "metadata": {},
   "outputs": [
    {
     "name": "stdout",
     "output_type": "stream",
     "text": [
      "orginal_data_size: 1000209, filtered_data_size: 836478\n",
      "Ratio of Remaining Data is 83.63%\n"
     ]
    }
   ],
   "source": [
    "# 3점 이상만 남깁니다.\n",
    "ratings = ratings[ratings['rating']>=3]\n",
    "filtered_data_size = len(ratings)\n",
    "\n",
    "print(f'orginal_data_size: {orginal_data_size}, filtered_data_size: {filtered_data_size}')\n",
    "print(f'Ratio of Remaining Data is {filtered_data_size / orginal_data_size:.2%}')"
   ]
  },
  {
   "cell_type": "code",
   "execution_count": 5,
   "metadata": {},
   "outputs": [],
   "source": [
    "# rating 컬럼의 이름을 count로 바꿉니다.\n",
    "ratings.rename(columns={'rating':'count'}, inplace=True)"
   ]
  },
  {
   "cell_type": "code",
   "execution_count": 6,
   "metadata": {},
   "outputs": [
    {
     "data": {
      "text/plain": [
       "0          5\n",
       "1          3\n",
       "2          3\n",
       "3          4\n",
       "4          5\n",
       "          ..\n",
       "1000203    3\n",
       "1000205    5\n",
       "1000206    5\n",
       "1000207    4\n",
       "1000208    4\n",
       "Name: count, Length: 836478, dtype: int64"
      ]
     },
     "execution_count": 6,
     "metadata": {},
     "output_type": "execute_result"
    }
   ],
   "source": [
    "ratings['count']"
   ]
  },
  {
   "cell_type": "code",
   "execution_count": 7,
   "metadata": {
    "scrolled": true
   },
   "outputs": [
    {
     "data": {
      "text/html": [
       "<div>\n",
       "<style scoped>\n",
       "    .dataframe tbody tr th:only-of-type {\n",
       "        vertical-align: middle;\n",
       "    }\n",
       "\n",
       "    .dataframe tbody tr th {\n",
       "        vertical-align: top;\n",
       "    }\n",
       "\n",
       "    .dataframe thead th {\n",
       "        text-align: right;\n",
       "    }\n",
       "</style>\n",
       "<table border=\"1\" class=\"dataframe\">\n",
       "  <thead>\n",
       "    <tr style=\"text-align: right;\">\n",
       "      <th></th>\n",
       "      <th>movie_id</th>\n",
       "      <th>title</th>\n",
       "      <th>genre</th>\n",
       "    </tr>\n",
       "  </thead>\n",
       "  <tbody>\n",
       "    <tr>\n",
       "      <th>0</th>\n",
       "      <td>1</td>\n",
       "      <td>Toy Story (1995)</td>\n",
       "      <td>Animation|Children's|Comedy</td>\n",
       "    </tr>\n",
       "    <tr>\n",
       "      <th>1</th>\n",
       "      <td>2</td>\n",
       "      <td>Jumanji (1995)</td>\n",
       "      <td>Adventure|Children's|Fantasy</td>\n",
       "    </tr>\n",
       "    <tr>\n",
       "      <th>2</th>\n",
       "      <td>3</td>\n",
       "      <td>Grumpier Old Men (1995)</td>\n",
       "      <td>Comedy|Romance</td>\n",
       "    </tr>\n",
       "    <tr>\n",
       "      <th>3</th>\n",
       "      <td>4</td>\n",
       "      <td>Waiting to Exhale (1995)</td>\n",
       "      <td>Comedy|Drama</td>\n",
       "    </tr>\n",
       "    <tr>\n",
       "      <th>4</th>\n",
       "      <td>5</td>\n",
       "      <td>Father of the Bride Part II (1995)</td>\n",
       "      <td>Comedy</td>\n",
       "    </tr>\n",
       "  </tbody>\n",
       "</table>\n",
       "</div>"
      ],
      "text/plain": [
       "   movie_id                               title                         genre\n",
       "0         1                    Toy Story (1995)   Animation|Children's|Comedy\n",
       "1         2                      Jumanji (1995)  Adventure|Children's|Fantasy\n",
       "2         3             Grumpier Old Men (1995)                Comedy|Romance\n",
       "3         4            Waiting to Exhale (1995)                  Comedy|Drama\n",
       "4         5  Father of the Bride Part II (1995)                        Comedy"
      ]
     },
     "execution_count": 7,
     "metadata": {},
     "output_type": "execute_result"
    }
   ],
   "source": [
    "# 영화 제목을 보기 위해 메타 데이터를 읽어옵니다.\n",
    "movie_file_path=os.getenv('HOME') + '/aiffel/recommendata_iu/data/ml-1m/movies.dat'\n",
    "cols = ['movie_id', 'title', 'genre'] \n",
    "movies = pd.read_csv(movie_file_path, sep='::', names=cols, engine='python')\n",
    "movies.head()"
   ]
  },
  {
   "cell_type": "code",
   "execution_count": 8,
   "metadata": {},
   "outputs": [
    {
     "data": {
      "text/plain": [
       "0        Animation|Children's|Comedy\n",
       "1       Adventure|Children's|Fantasy\n",
       "2                     Comedy|Romance\n",
       "3                       Comedy|Drama\n",
       "4                             Comedy\n",
       "                    ...             \n",
       "3878                          Comedy\n",
       "3879                           Drama\n",
       "3880                           Drama\n",
       "3881                           Drama\n",
       "3882                  Drama|Thriller\n",
       "Name: genre, Length: 3883, dtype: object"
      ]
     },
     "execution_count": 8,
     "metadata": {},
     "output_type": "execute_result"
    }
   ],
   "source": [
    "movies[\"genre\"]"
   ]
  },
  {
   "cell_type": "code",
   "execution_count": 9,
   "metadata": {},
   "outputs": [
    {
     "data": {
      "text/html": [
       "<div>\n",
       "<style scoped>\n",
       "    .dataframe tbody tr th:only-of-type {\n",
       "        vertical-align: middle;\n",
       "    }\n",
       "\n",
       "    .dataframe tbody tr th {\n",
       "        vertical-align: top;\n",
       "    }\n",
       "\n",
       "    .dataframe thead th {\n",
       "        text-align: right;\n",
       "    }\n",
       "</style>\n",
       "<table border=\"1\" class=\"dataframe\">\n",
       "  <thead>\n",
       "    <tr style=\"text-align: right;\">\n",
       "      <th></th>\n",
       "      <th>movie_id</th>\n",
       "      <th>title</th>\n",
       "      <th>genre</th>\n",
       "    </tr>\n",
       "  </thead>\n",
       "  <tbody>\n",
       "    <tr>\n",
       "      <th>0</th>\n",
       "      <td>1</td>\n",
       "      <td>toy story (1995)</td>\n",
       "      <td>animation|children's|comedy</td>\n",
       "    </tr>\n",
       "    <tr>\n",
       "      <th>1</th>\n",
       "      <td>2</td>\n",
       "      <td>jumanji (1995)</td>\n",
       "      <td>adventure|children's|fantasy</td>\n",
       "    </tr>\n",
       "    <tr>\n",
       "      <th>2</th>\n",
       "      <td>3</td>\n",
       "      <td>grumpier old men (1995)</td>\n",
       "      <td>comedy|romance</td>\n",
       "    </tr>\n",
       "    <tr>\n",
       "      <th>3</th>\n",
       "      <td>4</td>\n",
       "      <td>waiting to exhale (1995)</td>\n",
       "      <td>comedy|drama</td>\n",
       "    </tr>\n",
       "    <tr>\n",
       "      <th>4</th>\n",
       "      <td>5</td>\n",
       "      <td>father of the bride part ii (1995)</td>\n",
       "      <td>comedy</td>\n",
       "    </tr>\n",
       "  </tbody>\n",
       "</table>\n",
       "</div>"
      ],
      "text/plain": [
       "   movie_id                               title                         genre\n",
       "0         1                    toy story (1995)   animation|children's|comedy\n",
       "1         2                      jumanji (1995)  adventure|children's|fantasy\n",
       "2         3             grumpier old men (1995)                comedy|romance\n",
       "3         4            waiting to exhale (1995)                  comedy|drama\n",
       "4         5  father of the bride part ii (1995)                        comedy"
      ]
     },
     "execution_count": 9,
     "metadata": {},
     "output_type": "execute_result"
    }
   ],
   "source": [
    "# 검색을 쉽게하기 위해 genre 문자열과 제목을 소문자로 바꿔줍시다.\n",
    "movies['genre'] = movies['genre'].str.lower()\n",
    "movies['title'] = movies['title'].str.lower()\n",
    "movies.head(5)"
   ]
  },
  {
   "cell_type": "code",
   "execution_count": 10,
   "metadata": {},
   "outputs": [
    {
     "data": {
      "text/plain": [
       "3883"
      ]
     },
     "execution_count": 10,
     "metadata": {},
     "output_type": "execute_result"
    }
   ],
   "source": [
    "# 영화의 개수\n",
    "len(movies)"
   ]
  },
  {
   "cell_type": "code",
   "execution_count": 11,
   "metadata": {},
   "outputs": [
    {
     "data": {
      "text/html": [
       "<div>\n",
       "<style scoped>\n",
       "    .dataframe tbody tr th:only-of-type {\n",
       "        vertical-align: middle;\n",
       "    }\n",
       "\n",
       "    .dataframe tbody tr th {\n",
       "        vertical-align: top;\n",
       "    }\n",
       "\n",
       "    .dataframe thead th {\n",
       "        text-align: right;\n",
       "    }\n",
       "</style>\n",
       "<table border=\"1\" class=\"dataframe\">\n",
       "  <thead>\n",
       "    <tr style=\"text-align: right;\">\n",
       "      <th></th>\n",
       "      <th>movie_id</th>\n",
       "      <th>title</th>\n",
       "    </tr>\n",
       "  </thead>\n",
       "  <tbody>\n",
       "    <tr>\n",
       "      <th>0</th>\n",
       "      <td>1</td>\n",
       "      <td>toy story</td>\n",
       "    </tr>\n",
       "    <tr>\n",
       "      <th>1</th>\n",
       "      <td>2</td>\n",
       "      <td>jumanji</td>\n",
       "    </tr>\n",
       "    <tr>\n",
       "      <th>2</th>\n",
       "      <td>3</td>\n",
       "      <td>grumpier old men</td>\n",
       "    </tr>\n",
       "    <tr>\n",
       "      <th>3</th>\n",
       "      <td>4</td>\n",
       "      <td>waiting to exhale</td>\n",
       "    </tr>\n",
       "    <tr>\n",
       "      <th>4</th>\n",
       "      <td>5</td>\n",
       "      <td>father of the bride part ii</td>\n",
       "    </tr>\n",
       "    <tr>\n",
       "      <th>...</th>\n",
       "      <td>...</td>\n",
       "      <td>...</td>\n",
       "    </tr>\n",
       "    <tr>\n",
       "      <th>3878</th>\n",
       "      <td>3948</td>\n",
       "      <td>meet the parents</td>\n",
       "    </tr>\n",
       "    <tr>\n",
       "      <th>3879</th>\n",
       "      <td>3949</td>\n",
       "      <td>requiem for a dream</td>\n",
       "    </tr>\n",
       "    <tr>\n",
       "      <th>3880</th>\n",
       "      <td>3950</td>\n",
       "      <td>tigerland</td>\n",
       "    </tr>\n",
       "    <tr>\n",
       "      <th>3881</th>\n",
       "      <td>3951</td>\n",
       "      <td>two family house</td>\n",
       "    </tr>\n",
       "    <tr>\n",
       "      <th>3882</th>\n",
       "      <td>3952</td>\n",
       "      <td>contender, the</td>\n",
       "    </tr>\n",
       "  </tbody>\n",
       "</table>\n",
       "<p>3883 rows × 2 columns</p>\n",
       "</div>"
      ],
      "text/plain": [
       "      movie_id                        title\n",
       "0            1                    toy story\n",
       "1            2                      jumanji\n",
       "2            3             grumpier old men\n",
       "3            4            waiting to exhale\n",
       "4            5  father of the bride part ii\n",
       "...        ...                          ...\n",
       "3878      3948             meet the parents\n",
       "3879      3949          requiem for a dream\n",
       "3880      3950                    tigerland\n",
       "3881      3951             two family house\n",
       "3882      3952               contender, the\n",
       "\n",
       "[3883 rows x 2 columns]"
      ]
     },
     "execution_count": 11,
     "metadata": {},
     "output_type": "execute_result"
    }
   ],
   "source": [
    "# 검색이 용이하게 title에 있는 (년도) 데이터 지우기\n",
    "# 검색을 하기위한 pandas를 만들었다.\n",
    "# 년도는 다르지만 같은 이름인 경우가 발생\n",
    "# 대부분 같은 시리즈의 리메이크 요소이니 같은 영화라 생각하고 진행하겠다.\n",
    "\n",
    "movies['title'] = movies['title'].str.replace(r\"\\([0-9]*\\)\",\" \")\n",
    "movies['title'] = movies['title'].str.strip()  # 공백이 있을 수 있으니 양끝 공백 제거\n",
    "search_movies = movies[['movie_id', 'title']].copy()\n",
    "\n",
    "search_movies"
   ]
  },
  {
   "cell_type": "markdown",
   "metadata": {},
   "source": [
    "년도 정보를 제거하면서 같은 제목을 가진 영화가 남아 있게 되었다.\n",
    "\n",
    "\n",
    "- 이름이 같은 정보는 나중에 내가 원하는 영화가 아닌 다른 데이터를 가져올 수 있고 같은 이름이면 대체로 비슷한 유형의 영화이니 같은 데이터를 처음 나온 데이터만 남기는 전처리를 진행한다."
   ]
  },
  {
   "cell_type": "code",
   "execution_count": 12,
   "metadata": {},
   "outputs": [
    {
     "data": {
      "text/html": [
       "<div>\n",
       "<style scoped>\n",
       "    .dataframe tbody tr th:only-of-type {\n",
       "        vertical-align: middle;\n",
       "    }\n",
       "\n",
       "    .dataframe tbody tr th {\n",
       "        vertical-align: top;\n",
       "    }\n",
       "\n",
       "    .dataframe thead th {\n",
       "        text-align: right;\n",
       "    }\n",
       "</style>\n",
       "<table border=\"1\" class=\"dataframe\">\n",
       "  <thead>\n",
       "    <tr style=\"text-align: right;\">\n",
       "      <th></th>\n",
       "      <th>movie_id</th>\n",
       "      <th>title</th>\n",
       "    </tr>\n",
       "  </thead>\n",
       "  <tbody>\n",
       "    <tr>\n",
       "      <th>1672</th>\n",
       "      <td>1721</td>\n",
       "      <td>titanic</td>\n",
       "    </tr>\n",
       "    <tr>\n",
       "      <th>2088</th>\n",
       "      <td>2157</td>\n",
       "      <td>chambermaid on the titanic, the</td>\n",
       "    </tr>\n",
       "    <tr>\n",
       "      <th>3334</th>\n",
       "      <td>3403</td>\n",
       "      <td>raise the titanic</td>\n",
       "    </tr>\n",
       "    <tr>\n",
       "      <th>3335</th>\n",
       "      <td>3404</td>\n",
       "      <td>titanic</td>\n",
       "    </tr>\n",
       "  </tbody>\n",
       "</table>\n",
       "</div>"
      ],
      "text/plain": [
       "      movie_id                            title\n",
       "1672      1721                          titanic\n",
       "2088      2157  chambermaid on the titanic, the\n",
       "3334      3403                raise the titanic\n",
       "3335      3404                          titanic"
      ]
     },
     "execution_count": 12,
     "metadata": {},
     "output_type": "execute_result"
    }
   ],
   "source": [
    "search_movies[search_movies['title'].str.contains(\"titanic\")]\n",
    "# 년도 정보를 제거하면서 같은 제목을 가진 영화가 남아 있게 되었다.\n",
    "# 이름이 같은 정보는 나중에 내가 원하는 영화가 아닌 다른 데이터를 가져올 수 있고\n",
    "# 같은 이름이면 대체로 비슷한 유형의 영화이니 같은 데이터를 처음 나온 데이터만 남기는\n",
    "# 전처리를 진행한다."
   ]
  },
  {
   "cell_type": "code",
   "execution_count": 668,
   "metadata": {
    "scrolled": true
   },
   "outputs": [
    {
     "data": {
      "text/html": [
       "<div>\n",
       "<style scoped>\n",
       "    .dataframe tbody tr th:only-of-type {\n",
       "        vertical-align: middle;\n",
       "    }\n",
       "\n",
       "    .dataframe tbody tr th {\n",
       "        vertical-align: top;\n",
       "    }\n",
       "\n",
       "    .dataframe thead th {\n",
       "        text-align: right;\n",
       "    }\n",
       "</style>\n",
       "<table border=\"1\" class=\"dataframe\">\n",
       "  <thead>\n",
       "    <tr style=\"text-align: right;\">\n",
       "      <th></th>\n",
       "      <th>movie_id</th>\n",
       "      <th>title</th>\n",
       "      <th>genre</th>\n",
       "    </tr>\n",
       "  </thead>\n",
       "  <tbody>\n",
       "    <tr>\n",
       "      <th>1672</th>\n",
       "      <td>1721</td>\n",
       "      <td>titanic (1997)</td>\n",
       "      <td>drama|romance</td>\n",
       "    </tr>\n",
       "    <tr>\n",
       "      <th>2088</th>\n",
       "      <td>2157</td>\n",
       "      <td>chambermaid on the titanic, the (1998)</td>\n",
       "      <td>romance</td>\n",
       "    </tr>\n",
       "    <tr>\n",
       "      <th>3334</th>\n",
       "      <td>3403</td>\n",
       "      <td>raise the titanic (1980)</td>\n",
       "      <td>drama|thriller</td>\n",
       "    </tr>\n",
       "    <tr>\n",
       "      <th>3335</th>\n",
       "      <td>3404</td>\n",
       "      <td>titanic (1953)</td>\n",
       "      <td>action|drama</td>\n",
       "    </tr>\n",
       "  </tbody>\n",
       "</table>\n",
       "</div>"
      ],
      "text/plain": [
       "      movie_id                                   title           genre\n",
       "1672      1721                          titanic (1997)   drama|romance\n",
       "2088      2157  chambermaid on the titanic, the (1998)         romance\n",
       "3334      3403                raise the titanic (1980)  drama|thriller\n",
       "3335      3404                          titanic (1953)    action|drama"
      ]
     },
     "execution_count": 668,
     "metadata": {},
     "output_type": "execute_result"
    }
   ],
   "source": [
    "# 년도 데이터를 제거하기 전의 모습\n",
    "movies[movies['title'].str.contains(\"titanic\")]"
   ]
  },
  {
   "cell_type": "markdown",
   "metadata": {},
   "source": [
    "### Pandas 중복 데이터 제거\n",
    "- **pandas.DataFrame.drop_duplicates**\n",
    "\n",
    "- pandas의 drop_duplicates는 중복된 값을 제거한 뒤 DataFrame을 반환합니다.\n",
    "\n",
    "#### subset: 중복제거할 column 결정\n",
    "  - DataFrame의 column 혹은 [column, column]으로 명시하면 명시된 column을 기준으로 중복제거가 일어납니다.\n",
    "  - subset을 명시하지 않으면 전체 데이터 셋을 기준으로 중복제거를 합니다.\n",
    "  \n",
    "#### keep: 중복된 값에 대한 처리 \n",
    "default  : **\"first\"**\n",
    "  - first: 첫 번째 중복 값을 남기고, 이외 중복 값을 모두 제거합니다.\n",
    "  - last: 마지막 번째 중복 값을 남기고, 이외 중복 값을 모두 제거합니다.\n",
    "  - False: 중복된 값들을 모두 제거합니다.\n",
    "\n",
    "#### inplace: 원본데이터 자체에서 진행하는지 새로운 DataFrame을 만들지 정하는boolean 값\n",
    "default : **False**\n",
    "  - True면 원본 DataFrame 자체에서 중복제거를 합니다. 반환 값은 None\n",
    "  - False면 원본 DataFrame을 건들지 않고 중복제거한 새로운 DataFrame을 만들어 값을 반환합니다.\n",
    "  "
   ]
  },
  {
   "cell_type": "code",
   "execution_count": 13,
   "metadata": {},
   "outputs": [
    {
     "name": "stdout",
     "output_type": "stream",
     "text": [
      "중복 제거 전 데이터 개수 :  3883\n",
      "중복 제거 후 데이터 개수 :  3841\n"
     ]
    }
   ],
   "source": [
    "# 이름이 같은 데이터 제거시 3841개의 데이터가 남는다.\n",
    "# 중복 데이터의 개수가 많지 않으니 제거해서 사용한다.\n",
    "\n",
    "print(\"중복 제거 전 데이터 개수 : \", len(movies))\n",
    "movies.drop_duplicates(\"title\",inplace=True)\n",
    "print(\"중복 제거 후 데이터 개수 : \", len(movies) )\n"
   ]
  },
  {
   "cell_type": "code",
   "execution_count": 14,
   "metadata": {},
   "outputs": [
    {
     "data": {
      "text/plain": [
       "0                         toy story\n",
       "1                           jumanji\n",
       "2                  grumpier old men\n",
       "3                 waiting to exhale\n",
       "4       father of the bride part ii\n",
       "                   ...             \n",
       "3878               meet the parents\n",
       "3879            requiem for a dream\n",
       "3880                      tigerland\n",
       "3881               two family house\n",
       "3882                 contender, the\n",
       "Name: title, Length: 3841, dtype: object"
      ]
     },
     "execution_count": 14,
     "metadata": {},
     "output_type": "execute_result"
    }
   ],
   "source": [
    "# 중복 제거 데이터 확인\n",
    "movies['title']"
   ]
  },
  {
   "cell_type": "markdown",
   "metadata": {},
   "source": [
    "---\n",
    "## 데이터 분석하기\n",
    "- ratings에 있는 유니크한 영화 개수\n",
    "- rating에 있는 유니크한 사용자 수\n",
    "- 가장 인기 있는 영화 30개(인기순)"
   ]
  },
  {
   "cell_type": "code",
   "execution_count": 889,
   "metadata": {},
   "outputs": [
    {
     "data": {
      "text/html": [
       "<div>\n",
       "<style scoped>\n",
       "    .dataframe tbody tr th:only-of-type {\n",
       "        vertical-align: middle;\n",
       "    }\n",
       "\n",
       "    .dataframe tbody tr th {\n",
       "        vertical-align: top;\n",
       "    }\n",
       "\n",
       "    .dataframe thead th {\n",
       "        text-align: right;\n",
       "    }\n",
       "</style>\n",
       "<table border=\"1\" class=\"dataframe\">\n",
       "  <thead>\n",
       "    <tr style=\"text-align: right;\">\n",
       "      <th></th>\n",
       "      <th>user_id</th>\n",
       "      <th>movie_id</th>\n",
       "      <th>count</th>\n",
       "      <th>timestamp</th>\n",
       "    </tr>\n",
       "  </thead>\n",
       "  <tbody>\n",
       "    <tr>\n",
       "      <th>0</th>\n",
       "      <td>1</td>\n",
       "      <td>1193</td>\n",
       "      <td>5</td>\n",
       "      <td>978300760</td>\n",
       "    </tr>\n",
       "    <tr>\n",
       "      <th>1</th>\n",
       "      <td>1</td>\n",
       "      <td>661</td>\n",
       "      <td>3</td>\n",
       "      <td>978302109</td>\n",
       "    </tr>\n",
       "    <tr>\n",
       "      <th>2</th>\n",
       "      <td>1</td>\n",
       "      <td>914</td>\n",
       "      <td>3</td>\n",
       "      <td>978301968</td>\n",
       "    </tr>\n",
       "    <tr>\n",
       "      <th>3</th>\n",
       "      <td>1</td>\n",
       "      <td>3408</td>\n",
       "      <td>4</td>\n",
       "      <td>978300275</td>\n",
       "    </tr>\n",
       "    <tr>\n",
       "      <th>4</th>\n",
       "      <td>1</td>\n",
       "      <td>2355</td>\n",
       "      <td>5</td>\n",
       "      <td>978824291</td>\n",
       "    </tr>\n",
       "  </tbody>\n",
       "</table>\n",
       "</div>"
      ],
      "text/plain": [
       "   user_id  movie_id  count  timestamp\n",
       "0        1      1193      5  978300760\n",
       "1        1       661      3  978302109\n",
       "2        1       914      3  978301968\n",
       "3        1      3408      4  978300275\n",
       "4        1      2355      5  978824291"
      ]
     },
     "execution_count": 889,
     "metadata": {},
     "output_type": "execute_result"
    }
   ],
   "source": [
    "ratings.head(5)"
   ]
  },
  {
   "cell_type": "markdown",
   "metadata": {},
   "source": [
    "### ratings에 있는 고유한 영화 개수"
   ]
  },
  {
   "cell_type": "code",
   "execution_count": 890,
   "metadata": {},
   "outputs": [],
   "source": [
    "# 고유한 영화를 찾아내는 코드\n",
    "unique_movies = movies[\"movie_id\"].unique()"
   ]
  },
  {
   "cell_type": "markdown",
   "metadata": {},
   "source": [
    "### ratings에 있는 고유한 사용자의 수"
   ]
  },
  {
   "cell_type": "code",
   "execution_count": 891,
   "metadata": {},
   "outputs": [],
   "source": [
    "# 고유한 영화, 사용자를 찾아내는 코드\n",
    "unique_users = ratings[\"user_id\"].unique()"
   ]
  },
  {
   "cell_type": "markdown",
   "metadata": {},
   "source": [
    "### 가장 인기 있는 영화 30개(인기순)\n",
    "아래 2가지를 따로 기준 잡아서 인기순 30를 나열하겠습니다.\n",
    "\n",
    "- 1. 총 리뷰의 평균 값을 기준으로 30개\n",
    "\n",
    "\n",
    "- 2. 평점을 준 count의 수가 많은 순으로 30개\n",
    "\n",
    "\n",
    "#### 평균을 기준으로 할때 표본 데이터의 부족 발생 문제  \n",
    "\n",
    "위와 같이 하는 이유는 해당 영화를 봤지만 평점을 매긴 사람이 10명일때, 10명 모두 5점을 준 경우  \n",
    "평균으로 했을때 5점 만점이 되어서 인기가 있다고 나타날 수 있다.  \n",
    "\n",
    "그리고 1000명이 해당 영화의 점수를 줘서 평균 4.5가 된 영화를 생각해보면, 준수한 성적 이지만 위의 5.0보다는  \n",
    "작기 때문에 인기가 덜 하다고 여길 수가 있다.\n",
    "\n",
    "#### 총합을 기준으로 했을때 본 사람이 다른 영화보다 몇 배나 많지만 모두 1,2 점을 준 경우\n",
    "\n",
    "위와 같은 경우에는 예를들어, A 영화의 총합이 1000이고 B 영화의 총합이 500인 경우 A영화가 더 인기가 있구나라고 생각할 수 있지만, 데이터를 봤을때 A는 1000명이 봐서 1점을 준 경우이고 B는 100명이 봐서 모두 5점을 준 경우라고 생각하면 얘기가 달라지게 된다.\n",
    "\n",
    "<br>\n",
    "\n",
    "- 위의 경우와 같이 평균으로만 인기를 판단하면 생기는 문제와 총합으로만 봤을때 생기는 문제가 있기에,  \n",
    "위의 2가지 경우를 따로 기준 잡아 인기순으로 표현하겠습니다."
   ]
  },
  {
   "cell_type": "markdown",
   "metadata": {},
   "source": [
    "---\n",
    "ratings 데이터와 movies 데이터를 movie_id를 기준으로 하나로 merge해 준다.\n",
    "- 유저들이 해당 movie에 어떤 rating을 매겼는지 구하기 위해 합쳐준다."
   ]
  },
  {
   "cell_type": "code",
   "execution_count": 48,
   "metadata": {},
   "outputs": [
    {
     "data": {
      "text/html": [
       "<div>\n",
       "<style scoped>\n",
       "    .dataframe tbody tr th:only-of-type {\n",
       "        vertical-align: middle;\n",
       "    }\n",
       "\n",
       "    .dataframe tbody tr th {\n",
       "        vertical-align: top;\n",
       "    }\n",
       "\n",
       "    .dataframe thead th {\n",
       "        text-align: right;\n",
       "    }\n",
       "</style>\n",
       "<table border=\"1\" class=\"dataframe\">\n",
       "  <thead>\n",
       "    <tr style=\"text-align: right;\">\n",
       "      <th></th>\n",
       "      <th>user_id</th>\n",
       "      <th>movie_id</th>\n",
       "      <th>count</th>\n",
       "      <th>title</th>\n",
       "    </tr>\n",
       "  </thead>\n",
       "  <tbody>\n",
       "    <tr>\n",
       "      <th>0</th>\n",
       "      <td>1</td>\n",
       "      <td>1193</td>\n",
       "      <td>5</td>\n",
       "      <td>one flew over the cuckoo's nest</td>\n",
       "    </tr>\n",
       "    <tr>\n",
       "      <th>1</th>\n",
       "      <td>2</td>\n",
       "      <td>1193</td>\n",
       "      <td>5</td>\n",
       "      <td>one flew over the cuckoo's nest</td>\n",
       "    </tr>\n",
       "    <tr>\n",
       "      <th>2</th>\n",
       "      <td>12</td>\n",
       "      <td>1193</td>\n",
       "      <td>4</td>\n",
       "      <td>one flew over the cuckoo's nest</td>\n",
       "    </tr>\n",
       "    <tr>\n",
       "      <th>3</th>\n",
       "      <td>15</td>\n",
       "      <td>1193</td>\n",
       "      <td>4</td>\n",
       "      <td>one flew over the cuckoo's nest</td>\n",
       "    </tr>\n",
       "    <tr>\n",
       "      <th>4</th>\n",
       "      <td>17</td>\n",
       "      <td>1193</td>\n",
       "      <td>5</td>\n",
       "      <td>one flew over the cuckoo's nest</td>\n",
       "    </tr>\n",
       "    <tr>\n",
       "      <th>5</th>\n",
       "      <td>18</td>\n",
       "      <td>1193</td>\n",
       "      <td>4</td>\n",
       "      <td>one flew over the cuckoo's nest</td>\n",
       "    </tr>\n",
       "    <tr>\n",
       "      <th>6</th>\n",
       "      <td>19</td>\n",
       "      <td>1193</td>\n",
       "      <td>5</td>\n",
       "      <td>one flew over the cuckoo's nest</td>\n",
       "    </tr>\n",
       "    <tr>\n",
       "      <th>7</th>\n",
       "      <td>24</td>\n",
       "      <td>1193</td>\n",
       "      <td>5</td>\n",
       "      <td>one flew over the cuckoo's nest</td>\n",
       "    </tr>\n",
       "    <tr>\n",
       "      <th>8</th>\n",
       "      <td>28</td>\n",
       "      <td>1193</td>\n",
       "      <td>3</td>\n",
       "      <td>one flew over the cuckoo's nest</td>\n",
       "    </tr>\n",
       "    <tr>\n",
       "      <th>9</th>\n",
       "      <td>33</td>\n",
       "      <td>1193</td>\n",
       "      <td>5</td>\n",
       "      <td>one flew over the cuckoo's nest</td>\n",
       "    </tr>\n",
       "  </tbody>\n",
       "</table>\n",
       "</div>"
      ],
      "text/plain": [
       "   user_id  movie_id  count                            title\n",
       "0        1      1193      5  one flew over the cuckoo's nest\n",
       "1        2      1193      5  one flew over the cuckoo's nest\n",
       "2       12      1193      4  one flew over the cuckoo's nest\n",
       "3       15      1193      4  one flew over the cuckoo's nest\n",
       "4       17      1193      5  one flew over the cuckoo's nest\n",
       "5       18      1193      4  one flew over the cuckoo's nest\n",
       "6       19      1193      5  one flew over the cuckoo's nest\n",
       "7       24      1193      5  one flew over the cuckoo's nest\n",
       "8       28      1193      3  one flew over the cuckoo's nest\n",
       "9       33      1193      5  one flew over the cuckoo's nest"
      ]
     },
     "execution_count": 48,
     "metadata": {},
     "output_type": "execute_result"
    }
   ],
   "source": [
    "user_ratings_movie = pd.merge(ratings[[\"user_id\",\"movie_id\", \"count\"]], movies[[\"movie_id\",\"title\"]], on=\"movie_id\")\n",
    "user_ratings_movie[:10]"
   ]
  },
  {
   "cell_type": "markdown",
   "metadata": {},
   "source": [
    "#### 1. 총 리뷰의 평균 값을 기준으로 30개\n",
    "위에서 merge한 두 데이터 프레임을 title를 기준으로 병합을 진행 합니다.\n",
    "  - 같은 title일 경우 같은 movie_id를 가지고 있다.\n",
    "그리고 각 title 별로 count를 묶어 주었고 묶은 count열을 mean으로 평균을 낸 후 \n",
    "**내림차순**으로 30개의 데이터를 나타낸다."
   ]
  },
  {
   "cell_type": "code",
   "execution_count": 44,
   "metadata": {
    "scrolled": true
   },
   "outputs": [
    {
     "data": {
      "text/plain": [
       "title\n",
       "gate of heavenly peace, the                                     5.000000\n",
       "criminal lovers (les amants criminels)                          5.000000\n",
       "foreign student                                                 5.000000\n",
       "country life                                                    5.000000\n",
       "identification of a woman (identificazione di una donna)        5.000000\n",
       "song of freedom                                                 5.000000\n",
       "follow the bitch                                                5.000000\n",
       "schlafes bruder (brother of sleep)                              5.000000\n",
       "black sunday (la maschera del demonio)                          5.000000\n",
       "one little indian                                               5.000000\n",
       "paralyzing fear: the story of polio in america, a               5.000000\n",
       "message to love: the isle of wight festival                     5.000000\n",
       "late bloomers                                                   5.000000\n",
       "ulysses (ulisse)                                                5.000000\n",
       "smashing time                                                   5.000000\n",
       "baby, the                                                       5.000000\n",
       "lured                                                           5.000000\n",
       "zachariah                                                       5.000000\n",
       "bittersweet motel                                               5.000000\n",
       "i am cuba (soy cuba/ya kuba)                                    4.800000\n",
       "seven chances                                                   4.750000\n",
       "lamerica                                                        4.750000\n",
       "apple, the (sib)                                                4.666667\n",
       "sunset strip                                                    4.666667\n",
       "firelight                                                       4.666667\n",
       "sanjuro                                                         4.647059\n",
       "seven samurai (the magnificent seven) (shichinin no samurai)    4.629690\n",
       "world of apu, the (apur sansar)                                 4.603774\n",
       "godfather, the                                                  4.598523\n",
       "shawshank redemption, the                                       4.596627\n",
       "Name: count, dtype: float64"
      ]
     },
     "execution_count": 44,
     "metadata": {},
     "output_type": "execute_result"
    }
   ],
   "source": [
    "group_ratings_movie = user_ratings_movie['count'].groupby(user_ratings_movie['title'])\n",
    "group_ratings_movie.mean().sort_values( axis=0, ascending=False).head(30)"
   ]
  },
  {
   "cell_type": "markdown",
   "metadata": {},
   "source": [
    "---\n",
    "#### 2. 평점을 준 count의 수가 많은 순으로 30개\n",
    "1.에서 한 절차와 같이 merge한 두 데이터 프레임을 title를 기준으로 병합을 진행 합니다.\n",
    "  - 같은 title일 경우 같은 movie_id를 가지고 있다.\n",
    "그리고 각 title 별로 count를 묶어 주었고 묶은 count열을 sum으로 총 합을 낸 후 \n",
    "**내림차순**으로 30개의 데이터를 나타낸다."
   ]
  },
  {
   "cell_type": "code",
   "execution_count": 45,
   "metadata": {
    "scrolled": true
   },
   "outputs": [
    {
     "data": {
      "text/plain": [
       "title\n",
       "american beauty                                   14449\n",
       "star wars: episode iv - a new hope                13178\n",
       "star wars: episode v - the empire strikes back    12648\n",
       "saving private ryan                               11348\n",
       "star wars: episode vi - return of the jedi        11303\n",
       "raiders of the lost ark                           11179\n",
       "silence of the lambs, the                         11096\n",
       "matrix, the                                       10903\n",
       "sixth sense, the                                  10703\n",
       "terminator 2: judgment day                        10513\n",
       "fargo                                             10465\n",
       "schindler's list                                  10317\n",
       "braveheart                                        10125\n",
       "shawshank redemption, the                         10085\n",
       "back to the future                                10081\n",
       "godfather, the                                     9965\n",
       "princess bride, the                                9866\n",
       "jurassic park                                      9601\n",
       "l.a. confidential                                  9515\n",
       "shakespeare in love                                9503\n",
       "men in black                                       9057\n",
       "pulp fiction                                       9053\n",
       "being john malkovich                               8964\n",
       "groundhog day                                      8727\n",
       "e.t. the extra-terrestrial                         8696\n",
       "forrest gump                                       8679\n",
       "terminator, the                                    8571\n",
       "toy story                                          8475\n",
       "ghostbusters                                       8282\n",
       "alien                                              8244\n",
       "Name: count, dtype: int64"
      ]
     },
     "execution_count": 45,
     "metadata": {},
     "output_type": "execute_result"
    }
   ],
   "source": [
    "group_ratings_movie = user_ratings_movie['count'].groupby(user_ratings_movie['title'])\n",
    "group_ratings_movie.sum().sort_values( axis=0, ascending=False).head(30)"
   ]
  },
  {
   "cell_type": "markdown",
   "metadata": {},
   "source": [
    "인기순 같은 경우 어떤 기준으로 할 지 판단해서 진행하는 거여서 어느 방법이 더 좋은지는 크게 의미가 없는것 같습니다. 2 방법 모두 각자의 장점과 단점이 있어서요.\n",
    "\n",
    "- 그렇지만 위의 결과만 봤을때 group_ratings_movie.sum()의 결과로 나온 영화는 들어본 것들이 많지만(스타워크 터미네이터, 매트린스, 양들의 침묵 등) 평균으로 했을때는 대부분 모르는 영화이여서 현재 데이터 상으로 봤을때는 총 합을 기준으로 인기를 나타내는게 더 좋은것 같습니다. "
   ]
  },
  {
   "cell_type": "markdown",
   "metadata": {},
   "source": [
    "### 선호하는 영화를 골라서 rating에 추가하기\n",
    "- 사용자 초기 정보 세팅\n",
    "- 내가 선호하는 영화 5가지를 추가하여 모델 검증에 사용한다."
   ]
  },
  {
   "cell_type": "code",
   "execution_count": 893,
   "metadata": {},
   "outputs": [
    {
     "data": {
      "text/html": [
       "<div>\n",
       "<style scoped>\n",
       "    .dataframe tbody tr th:only-of-type {\n",
       "        vertical-align: middle;\n",
       "    }\n",
       "\n",
       "    .dataframe tbody tr th {\n",
       "        vertical-align: top;\n",
       "    }\n",
       "\n",
       "    .dataframe thead th {\n",
       "        text-align: right;\n",
       "    }\n",
       "</style>\n",
       "<table border=\"1\" class=\"dataframe\">\n",
       "  <thead>\n",
       "    <tr style=\"text-align: right;\">\n",
       "      <th></th>\n",
       "      <th>movie_id</th>\n",
       "      <th>title</th>\n",
       "      <th>genre</th>\n",
       "    </tr>\n",
       "  </thead>\n",
       "  <tbody>\n",
       "    <tr>\n",
       "      <th>0</th>\n",
       "      <td>1</td>\n",
       "      <td>toy story</td>\n",
       "      <td>animation|children's|comedy</td>\n",
       "    </tr>\n",
       "    <tr>\n",
       "      <th>1</th>\n",
       "      <td>2</td>\n",
       "      <td>jumanji</td>\n",
       "      <td>adventure|children's|fantasy</td>\n",
       "    </tr>\n",
       "    <tr>\n",
       "      <th>2</th>\n",
       "      <td>3</td>\n",
       "      <td>grumpier old men</td>\n",
       "      <td>comedy|romance</td>\n",
       "    </tr>\n",
       "    <tr>\n",
       "      <th>3</th>\n",
       "      <td>4</td>\n",
       "      <td>waiting to exhale</td>\n",
       "      <td>comedy|drama</td>\n",
       "    </tr>\n",
       "    <tr>\n",
       "      <th>4</th>\n",
       "      <td>5</td>\n",
       "      <td>father of the bride part ii</td>\n",
       "      <td>comedy</td>\n",
       "    </tr>\n",
       "  </tbody>\n",
       "</table>\n",
       "</div>"
      ],
      "text/plain": [
       "   movie_id                        title                         genre\n",
       "0         1                    toy story   animation|children's|comedy\n",
       "1         2                      jumanji  adventure|children's|fantasy\n",
       "2         3             grumpier old men                comedy|romance\n",
       "3         4            waiting to exhale                  comedy|drama\n",
       "4         5  father of the bride part ii                        comedy"
      ]
     },
     "execution_count": 893,
     "metadata": {},
     "output_type": "execute_result"
    }
   ],
   "source": [
    "movies.head(5)"
   ]
  },
  {
   "cell_type": "code",
   "execution_count": 894,
   "metadata": {},
   "outputs": [
    {
     "data": {
      "text/html": [
       "<div>\n",
       "<style scoped>\n",
       "    .dataframe tbody tr th:only-of-type {\n",
       "        vertical-align: middle;\n",
       "    }\n",
       "\n",
       "    .dataframe tbody tr th {\n",
       "        vertical-align: top;\n",
       "    }\n",
       "\n",
       "    .dataframe thead th {\n",
       "        text-align: right;\n",
       "    }\n",
       "</style>\n",
       "<table border=\"1\" class=\"dataframe\">\n",
       "  <thead>\n",
       "    <tr style=\"text-align: right;\">\n",
       "      <th></th>\n",
       "      <th>movie_id</th>\n",
       "      <th>title</th>\n",
       "    </tr>\n",
       "  </thead>\n",
       "  <tbody>\n",
       "    <tr>\n",
       "      <th>908</th>\n",
       "      <td>920</td>\n",
       "      <td>gone with the wind</td>\n",
       "    </tr>\n",
       "  </tbody>\n",
       "</table>\n",
       "</div>"
      ],
      "text/plain": [
       "     movie_id               title\n",
       "908       920  gone with the wind"
      ]
     },
     "execution_count": 894,
     "metadata": {},
     "output_type": "execute_result"
    }
   ],
   "source": [
    "search_movies[search_movies['title']== \"gone with the wind\"]"
   ]
  },
  {
   "cell_type": "code",
   "execution_count": 895,
   "metadata": {},
   "outputs": [
    {
     "data": {
      "text/html": [
       "<div>\n",
       "<style scoped>\n",
       "    .dataframe tbody tr th:only-of-type {\n",
       "        vertical-align: middle;\n",
       "    }\n",
       "\n",
       "    .dataframe tbody tr th {\n",
       "        vertical-align: top;\n",
       "    }\n",
       "\n",
       "    .dataframe thead th {\n",
       "        text-align: right;\n",
       "    }\n",
       "</style>\n",
       "<table border=\"1\" class=\"dataframe\">\n",
       "  <thead>\n",
       "    <tr style=\"text-align: right;\">\n",
       "      <th></th>\n",
       "      <th>movie_id</th>\n",
       "      <th>title</th>\n",
       "    </tr>\n",
       "  </thead>\n",
       "  <tbody>\n",
       "    <tr>\n",
       "      <th>0</th>\n",
       "      <td>1</td>\n",
       "      <td>toy story</td>\n",
       "    </tr>\n",
       "  </tbody>\n",
       "</table>\n",
       "</div>"
      ],
      "text/plain": [
       "   movie_id      title\n",
       "0         1  toy story"
      ]
     },
     "execution_count": 895,
     "metadata": {},
     "output_type": "execute_result"
    }
   ],
   "source": [
    "search_movies[search_movies['title']==\"toy story\"]"
   ]
  },
  {
   "cell_type": "code",
   "execution_count": 896,
   "metadata": {},
   "outputs": [
    {
     "data": {
      "text/html": [
       "<div>\n",
       "<style scoped>\n",
       "    .dataframe tbody tr th:only-of-type {\n",
       "        vertical-align: middle;\n",
       "    }\n",
       "\n",
       "    .dataframe tbody tr th {\n",
       "        vertical-align: top;\n",
       "    }\n",
       "\n",
       "    .dataframe thead th {\n",
       "        text-align: right;\n",
       "    }\n",
       "</style>\n",
       "<table border=\"1\" class=\"dataframe\">\n",
       "  <thead>\n",
       "    <tr style=\"text-align: right;\">\n",
       "      <th></th>\n",
       "      <th>movie_id</th>\n",
       "      <th>title</th>\n",
       "    </tr>\n",
       "  </thead>\n",
       "  <tbody>\n",
       "    <tr>\n",
       "      <th>1</th>\n",
       "      <td>2</td>\n",
       "      <td>jumanji</td>\n",
       "    </tr>\n",
       "  </tbody>\n",
       "</table>\n",
       "</div>"
      ],
      "text/plain": [
       "   movie_id    title\n",
       "1         2  jumanji"
      ]
     },
     "execution_count": 896,
     "metadata": {},
     "output_type": "execute_result"
    }
   ],
   "source": [
    "search_movies[search_movies['title']==\"jumanji\"]"
   ]
  },
  {
   "cell_type": "code",
   "execution_count": 897,
   "metadata": {},
   "outputs": [
    {
     "data": {
      "text/html": [
       "<div>\n",
       "<style scoped>\n",
       "    .dataframe tbody tr th:only-of-type {\n",
       "        vertical-align: middle;\n",
       "    }\n",
       "\n",
       "    .dataframe tbody tr th {\n",
       "        vertical-align: top;\n",
       "    }\n",
       "\n",
       "    .dataframe thead th {\n",
       "        text-align: right;\n",
       "    }\n",
       "</style>\n",
       "<table border=\"1\" class=\"dataframe\">\n",
       "  <thead>\n",
       "    <tr style=\"text-align: right;\">\n",
       "      <th></th>\n",
       "      <th>movie_id</th>\n",
       "      <th>title</th>\n",
       "    </tr>\n",
       "  </thead>\n",
       "  <tbody>\n",
       "    <tr>\n",
       "      <th>2047</th>\n",
       "      <td>2116</td>\n",
       "      <td>lord of the rings, the</td>\n",
       "    </tr>\n",
       "  </tbody>\n",
       "</table>\n",
       "</div>"
      ],
      "text/plain": [
       "      movie_id                   title\n",
       "2047      2116  lord of the rings, the"
      ]
     },
     "execution_count": 897,
     "metadata": {},
     "output_type": "execute_result"
    }
   ],
   "source": [
    "search_movies[search_movies['title'].str.contains(\"lord of the rings, the\")]"
   ]
  },
  {
   "cell_type": "code",
   "execution_count": 637,
   "metadata": {
    "scrolled": true
   },
   "outputs": [
    {
     "data": {
      "text/html": [
       "<div>\n",
       "<style scoped>\n",
       "    .dataframe tbody tr th:only-of-type {\n",
       "        vertical-align: middle;\n",
       "    }\n",
       "\n",
       "    .dataframe tbody tr th {\n",
       "        vertical-align: top;\n",
       "    }\n",
       "\n",
       "    .dataframe thead th {\n",
       "        text-align: right;\n",
       "    }\n",
       "</style>\n",
       "<table border=\"1\" class=\"dataframe\">\n",
       "  <thead>\n",
       "    <tr style=\"text-align: right;\">\n",
       "      <th></th>\n",
       "      <th>movie_id</th>\n",
       "      <th>title</th>\n",
       "    </tr>\n",
       "  </thead>\n",
       "  <tbody>\n",
       "    <tr>\n",
       "      <th>2255</th>\n",
       "      <td>2324</td>\n",
       "      <td>life is beautiful (la vita � bella)</td>\n",
       "    </tr>\n",
       "  </tbody>\n",
       "</table>\n",
       "</div>"
      ],
      "text/plain": [
       "      movie_id                                title\n",
       "2255      2324  life is beautiful (la vita � bella)"
      ]
     },
     "execution_count": 637,
     "metadata": {},
     "output_type": "execute_result"
    }
   ],
   "source": [
    "# 영화 제목이 겹쳐서 년도를 찾아서 불러왔습니다.\n",
    "# Titanic : 1721 drama / romance\n",
    "search_movies[search_movies['title'].str.contains(\"life is beautiful\")] "
   ]
  },
  {
   "cell_type": "code",
   "execution_count": 905,
   "metadata": {},
   "outputs": [
    {
     "data": {
      "text/html": [
       "<div>\n",
       "<style scoped>\n",
       "    .dataframe tbody tr th:only-of-type {\n",
       "        vertical-align: middle;\n",
       "    }\n",
       "\n",
       "    .dataframe tbody tr th {\n",
       "        vertical-align: top;\n",
       "    }\n",
       "\n",
       "    .dataframe thead th {\n",
       "        text-align: right;\n",
       "    }\n",
       "</style>\n",
       "<table border=\"1\" class=\"dataframe\">\n",
       "  <thead>\n",
       "    <tr style=\"text-align: right;\">\n",
       "      <th></th>\n",
       "      <th>user_id</th>\n",
       "      <th>movie_id</th>\n",
       "      <th>count</th>\n",
       "      <th>timestamp</th>\n",
       "    </tr>\n",
       "  </thead>\n",
       "  <tbody>\n",
       "    <tr>\n",
       "      <th>0</th>\n",
       "      <td>1</td>\n",
       "      <td>1193</td>\n",
       "      <td>5</td>\n",
       "      <td>978300760</td>\n",
       "    </tr>\n",
       "    <tr>\n",
       "      <th>1</th>\n",
       "      <td>1</td>\n",
       "      <td>661</td>\n",
       "      <td>3</td>\n",
       "      <td>978302109</td>\n",
       "    </tr>\n",
       "    <tr>\n",
       "      <th>2</th>\n",
       "      <td>1</td>\n",
       "      <td>914</td>\n",
       "      <td>3</td>\n",
       "      <td>978301968</td>\n",
       "    </tr>\n",
       "    <tr>\n",
       "      <th>3</th>\n",
       "      <td>1</td>\n",
       "      <td>3408</td>\n",
       "      <td>4</td>\n",
       "      <td>978300275</td>\n",
       "    </tr>\n",
       "    <tr>\n",
       "      <th>4</th>\n",
       "      <td>1</td>\n",
       "      <td>2355</td>\n",
       "      <td>5</td>\n",
       "      <td>978824291</td>\n",
       "    </tr>\n",
       "    <tr>\n",
       "      <th>...</th>\n",
       "      <td>...</td>\n",
       "      <td>...</td>\n",
       "      <td>...</td>\n",
       "      <td>...</td>\n",
       "    </tr>\n",
       "    <tr>\n",
       "      <th>1000203</th>\n",
       "      <td>6040</td>\n",
       "      <td>1090</td>\n",
       "      <td>3</td>\n",
       "      <td>956715518</td>\n",
       "    </tr>\n",
       "    <tr>\n",
       "      <th>1000205</th>\n",
       "      <td>6040</td>\n",
       "      <td>1094</td>\n",
       "      <td>5</td>\n",
       "      <td>956704887</td>\n",
       "    </tr>\n",
       "    <tr>\n",
       "      <th>1000206</th>\n",
       "      <td>6040</td>\n",
       "      <td>562</td>\n",
       "      <td>5</td>\n",
       "      <td>956704746</td>\n",
       "    </tr>\n",
       "    <tr>\n",
       "      <th>1000207</th>\n",
       "      <td>6040</td>\n",
       "      <td>1096</td>\n",
       "      <td>4</td>\n",
       "      <td>956715648</td>\n",
       "    </tr>\n",
       "    <tr>\n",
       "      <th>1000208</th>\n",
       "      <td>6040</td>\n",
       "      <td>1097</td>\n",
       "      <td>4</td>\n",
       "      <td>956715569</td>\n",
       "    </tr>\n",
       "  </tbody>\n",
       "</table>\n",
       "<p>836478 rows × 4 columns</p>\n",
       "</div>"
      ],
      "text/plain": [
       "         user_id  movie_id  count  timestamp\n",
       "0              1      1193      5  978300760\n",
       "1              1       661      3  978302109\n",
       "2              1       914      3  978301968\n",
       "3              1      3408      4  978300275\n",
       "4              1      2355      5  978824291\n",
       "...          ...       ...    ...        ...\n",
       "1000203     6040      1090      3  956715518\n",
       "1000205     6040      1094      5  956704887\n",
       "1000206     6040       562      5  956704746\n",
       "1000207     6040      1096      4  956715648\n",
       "1000208     6040      1097      4  956715569\n",
       "\n",
       "[836478 rows x 4 columns]"
      ]
     },
     "execution_count": 905,
     "metadata": {},
     "output_type": "execute_result"
    }
   ],
   "source": [
    "ratings"
   ]
  },
  {
   "cell_type": "markdown",
   "metadata": {},
   "source": [
    "#### 선호하는 영화의 이름을 해당하는 movie_id로 바꾸어 준다.\n",
    "- movie_id 같은 경우 기존에 movie_id로 인덱싱 되어 있었다. 따라서, 새로 넣어주는 movie_id 값도 ratings에 넣기전에 인덱싱을 한 후 넣어준다."
   ]
  },
  {
   "cell_type": "code",
   "execution_count": 916,
   "metadata": {
    "scrolled": false
   },
   "outputs": [],
   "source": [
    "# 영화 제목의 고유한 값에 해당하는 movie_id 값을 인덱싱 해준다. \n",
    "unique_movie_title = movies[\"title\"].unique()\n",
    "unique_movie_id = movies[\"movie_id\"].unique() \n",
    "# 고유한 영화를 indexing 하는 코드 \n",
    "movie_to_idx = {v:k for k,v in zip(unique_movie_id,unique_movie_title)}"
   ]
  },
  {
   "cell_type": "code",
   "execution_count": 915,
   "metadata": {},
   "outputs": [
    {
     "data": {
      "text/html": [
       "<div>\n",
       "<style scoped>\n",
       "    .dataframe tbody tr th:only-of-type {\n",
       "        vertical-align: middle;\n",
       "    }\n",
       "\n",
       "    .dataframe tbody tr th {\n",
       "        vertical-align: top;\n",
       "    }\n",
       "\n",
       "    .dataframe thead th {\n",
       "        text-align: right;\n",
       "    }\n",
       "</style>\n",
       "<table border=\"1\" class=\"dataframe\">\n",
       "  <thead>\n",
       "    <tr style=\"text-align: right;\">\n",
       "      <th></th>\n",
       "      <th>user_id</th>\n",
       "      <th>movie_id</th>\n",
       "      <th>count</th>\n",
       "      <th>timestamp</th>\n",
       "    </tr>\n",
       "  </thead>\n",
       "  <tbody>\n",
       "    <tr>\n",
       "      <th>1000203</th>\n",
       "      <td>6040</td>\n",
       "      <td>1090</td>\n",
       "      <td>3</td>\n",
       "      <td>956715518.0</td>\n",
       "    </tr>\n",
       "    <tr>\n",
       "      <th>1000205</th>\n",
       "      <td>6040</td>\n",
       "      <td>1094</td>\n",
       "      <td>5</td>\n",
       "      <td>956704887.0</td>\n",
       "    </tr>\n",
       "    <tr>\n",
       "      <th>1000206</th>\n",
       "      <td>6040</td>\n",
       "      <td>562</td>\n",
       "      <td>5</td>\n",
       "      <td>956704746.0</td>\n",
       "    </tr>\n",
       "    <tr>\n",
       "      <th>1000207</th>\n",
       "      <td>6040</td>\n",
       "      <td>1096</td>\n",
       "      <td>4</td>\n",
       "      <td>956715648.0</td>\n",
       "    </tr>\n",
       "    <tr>\n",
       "      <th>1000208</th>\n",
       "      <td>6040</td>\n",
       "      <td>1097</td>\n",
       "      <td>4</td>\n",
       "      <td>956715569.0</td>\n",
       "    </tr>\n",
       "    <tr>\n",
       "      <th>0</th>\n",
       "      <td>Yong</td>\n",
       "      <td>920</td>\n",
       "      <td>5</td>\n",
       "      <td>NaN</td>\n",
       "    </tr>\n",
       "    <tr>\n",
       "      <th>1</th>\n",
       "      <td>Yong</td>\n",
       "      <td>2324</td>\n",
       "      <td>5</td>\n",
       "      <td>NaN</td>\n",
       "    </tr>\n",
       "    <tr>\n",
       "      <th>2</th>\n",
       "      <td>Yong</td>\n",
       "      <td>1</td>\n",
       "      <td>5</td>\n",
       "      <td>NaN</td>\n",
       "    </tr>\n",
       "    <tr>\n",
       "      <th>3</th>\n",
       "      <td>Yong</td>\n",
       "      <td>2</td>\n",
       "      <td>5</td>\n",
       "      <td>NaN</td>\n",
       "    </tr>\n",
       "    <tr>\n",
       "      <th>4</th>\n",
       "      <td>Yong</td>\n",
       "      <td>2116</td>\n",
       "      <td>5</td>\n",
       "      <td>NaN</td>\n",
       "    </tr>\n",
       "  </tbody>\n",
       "</table>\n",
       "</div>"
      ],
      "text/plain": [
       "        user_id  movie_id  count    timestamp\n",
       "1000203    6040      1090      3  956715518.0\n",
       "1000205    6040      1094      5  956704887.0\n",
       "1000206    6040       562      5  956704746.0\n",
       "1000207    6040      1096      4  956715648.0\n",
       "1000208    6040      1097      4  956715569.0\n",
       "0          Yong       920      5          NaN\n",
       "1          Yong      2324      5          NaN\n",
       "2          Yong         1      5          NaN\n",
       "3          Yong         2      5          NaN\n",
       "4          Yong      2116      5          NaN"
      ]
     },
     "execution_count": 915,
     "metadata": {},
     "output_type": "execute_result"
    }
   ],
   "source": [
    "#  선호하는 영화의 이름은 꼭 데이터셋에 있는 것과 동일해야지 제대로된 검증이 된다. \n",
    "my_favorite = [\"gone with the wind\" , \"life is beautiful (la vita � bella)\" ,\"toy story\" \n",
    "               ,\"jumanji\", \"lord of the rings, the\"]\n",
    "\n",
    "# 넣을 영화를 movie_id의 대응하여 인덱싱을 해준다.\n",
    "indexing_my_favorite = map(lambda x : movie_to_idx[x], my_favorite)\n",
    "\n",
    "# 'Yong'이라는 user_id가 해당 영화의 선호를 5로 평가 평가한 것입니다.\n",
    "my_movieList = pd.DataFrame({'user_id': ['Yong']*5, 'movie_id': indexing_my_favorite, 'count':[5]*5})\n",
    "\n",
    "if not ratings.isin({'user_id':['Yong']})['user_id'].any():  # user_id에 'Yong'이라는 데이터가 없다면\n",
    "    ratings = ratings.append(my_movieList)                           # 위에 임의로 만든 my_favorite 데이터를 추가해 줍니다. \n",
    "\n",
    "ratings.tail(10)       # 잘 추가되었는지 확인해 봅시다."
   ]
  },
  {
   "cell_type": "markdown",
   "metadata": {},
   "source": [
    "### 각 컬럼에 대하여 indexing 진행\n",
    "- 위에서 인덱싱을 한 값을 이용한다.\n",
    "\n",
    "\n",
    "- movie 데이터의 경우 제대로 인덱싱이 되었는지 확인한다."
   ]
  },
  {
   "cell_type": "code",
   "execution_count": 677,
   "metadata": {},
   "outputs": [],
   "source": [
    "# 새로운 user_id가 추가되었으니 고유한 값을 찾는다.\n",
    "unique_users = ratings[\"user_id\"].unique()\n",
    "\n",
    "# 고유한 유저를 indexing 하는 코드 \n",
    "user_to_idx = {v:k for k,v in enumerate(unique_users)}"
   ]
  },
  {
   "cell_type": "code",
   "execution_count": 678,
   "metadata": {},
   "outputs": [
    {
     "name": "stdout",
     "output_type": "stream",
     "text": [
      "6039\n"
     ]
    }
   ],
   "source": [
    "print(user_to_idx['Yong'])"
   ]
  },
  {
   "cell_type": "code",
   "execution_count": 732,
   "metadata": {},
   "outputs": [],
   "source": [
    "enumerate_movie_to_idx = {v:k+1 for k,v in enumerate(unique_movie_title)}"
   ]
  },
  {
   "cell_type": "code",
   "execution_count": 741,
   "metadata": {},
   "outputs": [
    {
     "data": {
      "text/plain": [
       "array(['toy story', 'jumanji', 'grumpier old men', ..., 'tigerland',\n",
       "       'two family house', 'contender, the'], dtype=object)"
      ]
     },
     "execution_count": 741,
     "metadata": {},
     "output_type": "execute_result"
    }
   ],
   "source": [
    "unique_movie_title"
   ]
  },
  {
   "cell_type": "code",
   "execution_count": 742,
   "metadata": {},
   "outputs": [
    {
     "data": {
      "text/plain": [
       "array([   1,    2,    3, ..., 3950, 3951, 3952])"
      ]
     },
     "execution_count": 742,
     "metadata": {},
     "output_type": "execute_result"
    }
   ],
   "source": [
    "unique_movie_id"
   ]
  },
  {
   "cell_type": "code",
   "execution_count": 735,
   "metadata": {},
   "outputs": [
    {
     "name": "stdout",
     "output_type": "stream",
     "text": [
      "len(unique_movie_title) : 3841\n"
     ]
    }
   ],
   "source": [
    "print(\"len(unique_movie_title) :\", len(unique_movie_title))"
   ]
  },
  {
   "cell_type": "code",
   "execution_count": 908,
   "metadata": {},
   "outputs": [
    {
     "data": {
      "text/plain": [
       "3841"
      ]
     },
     "execution_count": 908,
     "metadata": {},
     "output_type": "execute_result"
    }
   ],
   "source": [
    "len(movie_to_idx)"
   ]
  },
  {
   "cell_type": "markdown",
   "metadata": {},
   "source": [
    "#### indexing_my_favorite값이 맞게 들어 갔는지 확인"
   ]
  },
  {
   "cell_type": "code",
   "execution_count": 909,
   "metadata": {
    "scrolled": false
   },
   "outputs": [
    {
     "data": {
      "text/plain": [
       "1"
      ]
     },
     "execution_count": 909,
     "metadata": {},
     "output_type": "execute_result"
    }
   ],
   "source": [
    "# indexing_my_favorite 해서 넣어줬을때의 해당 영화의 movie_id 값은 1 였다.\n",
    "movie_to_idx['toy story']"
   ]
  },
  {
   "cell_type": "code",
   "execution_count": 919,
   "metadata": {},
   "outputs": [
    {
     "data": {
      "text/plain": [
       "2"
      ]
     },
     "execution_count": 919,
     "metadata": {},
     "output_type": "execute_result"
    }
   ],
   "source": [
    "# indexing_my_favorite 해서 넣어줬을때의 해당 영화의 movie_id 값은 2 였다.\n",
    "movie_to_idx['jumanji']"
   ]
  },
  {
   "cell_type": "code",
   "execution_count": 917,
   "metadata": {},
   "outputs": [
    {
     "data": {
      "text/plain": [
       "2324"
      ]
     },
     "execution_count": 917,
     "metadata": {},
     "output_type": "execute_result"
    }
   ],
   "source": [
    "# indexing_my_favorite 해서 넣어줬을때의 해당 영화의 movie_id 값은 2324 였다.\n",
    "movie_to_idx['life is beautiful (la vita � bella)']"
   ]
  },
  {
   "cell_type": "code",
   "execution_count": 918,
   "metadata": {},
   "outputs": [
    {
     "data": {
      "text/plain": [
       "2116"
      ]
     },
     "execution_count": 918,
     "metadata": {},
     "output_type": "execute_result"
    }
   ],
   "source": [
    "# indexing_my_favorite 해서 넣어줬을때의 해당 영화의 movie_id 값은 2116 이다.\n",
    "movie_to_idx['lord of the rings, the']"
   ]
  },
  {
   "cell_type": "markdown",
   "metadata": {},
   "source": [
    "- 인덱싱 해서 movie_id에 넣어준 값들을 확인하면 값이 제대로 들어가 있다. "
   ]
  },
  {
   "cell_type": "markdown",
   "metadata": {},
   "source": [
    "#### movie_idx값에 맞는 인덱싱을 해주지 않았을 경우\n",
    "- 아래와 같은 경우 enumerate를 사용해 순서대로 인덱스 값을 매칭하게 만들었다.\n",
    "- 이런 경우 ratings에 있는 기존의 \"gone with the wind\"에 해당하는 id가 다른 영화를 가르키게 되버린다."
   ]
  },
  {
   "cell_type": "code",
   "execution_count": 738,
   "metadata": {
    "scrolled": true
   },
   "outputs": [
    {
     "data": {
      "text/plain": [
       "908"
      ]
     },
     "execution_count": 738,
     "metadata": {},
     "output_type": "execute_result"
    }
   ],
   "source": [
    "enumerate_movie_to_idx.get(\"gone with the wind\")"
   ]
  },
  {
   "cell_type": "markdown",
   "metadata": {},
   "source": [
    "#### movie_idx값에 맞는 인덱싱을 해준 경우\n",
    "- 아래와 같은 경우 movie_id를 고려하여 해당 값으로 인덱싱 한 경우이다.\n",
    "- 이런 경우 ratings에 있는 기존의 \"gone with the wind\"에 해당하는 id와 movie에서 뽑은 id가 같은 영화를 가리키게 되어서 올바른 추첨 시스템을 만들 수 있다."
   ]
  },
  {
   "cell_type": "code",
   "execution_count": 910,
   "metadata": {},
   "outputs": [
    {
     "data": {
      "text/plain": [
       "920"
      ]
     },
     "execution_count": 910,
     "metadata": {},
     "output_type": "execute_result"
    }
   ],
   "source": [
    "# movie_id 값에 맞게 인덱싱 된것을 확인할 수 있다.\n",
    "movie_to_idx['gone with the wind']"
   ]
  },
  {
   "cell_type": "code",
   "execution_count": 688,
   "metadata": {
    "scrolled": true
   },
   "outputs": [
    {
     "data": {
      "text/plain": [
       "0                                   1193\n",
       "1                                    661\n",
       "2                                    914\n",
       "3                                   3408\n",
       "4                                   2355\n",
       "                    ...                 \n",
       "0                     gone with the wind\n",
       "1    life is beautiful (la vita � bella)\n",
       "2                              toy story\n",
       "3                                jumanji\n",
       "4                 lord of the rings, the\n",
       "Name: movie_id, Length: 836483, dtype: object"
      ]
     },
     "execution_count": 688,
     "metadata": {},
     "output_type": "execute_result"
    }
   ],
   "source": [
    "# 컬럼 값 변경 전\n",
    "ratings['movie_id']"
   ]
  },
  {
   "cell_type": "markdown",
   "metadata": {},
   "source": [
    "---\n",
    "#### Indexing을 통해 데이터 컬럼 내 값을 바꾼다."
   ]
  },
  {
   "cell_type": "code",
   "execution_count": 920,
   "metadata": {},
   "outputs": [
    {
     "name": "stdout",
     "output_type": "stream",
     "text": [
      "user_id column indexing OK!!\n"
     ]
    }
   ],
   "source": [
    "# user_to_idx.get을 통해 user_id 컬럼의 모든 값을 인덱싱한 Series를 구해 봅시다. \n",
    "# 혹시 정상적으로 인덱싱되지 않은 row가 있다면 인덱스가 NaN이 될 테니 dropna()로 제거합니다. \n",
    "temp_user_data = ratings['user_id'].map(user_to_idx.get).dropna()\n",
    "if len(temp_user_data) == len(ratings):   # 모든 row가 정상적으로 인덱싱되었다면\n",
    "    print('user_id column indexing OK!!')\n",
    "    ratings['user_id'] = temp_user_data   # ratings['user_id']을 인덱싱된 Series로 교체해 줍니다. \n",
    "else:\n",
    "    print('user_id column indexing Fail!!')"
   ]
  },
  {
   "cell_type": "code",
   "execution_count": 46,
   "metadata": {
    "scrolled": true
   },
   "outputs": [
    {
     "data": {
      "text/html": [
       "<div>\n",
       "<style scoped>\n",
       "    .dataframe tbody tr th:only-of-type {\n",
       "        vertical-align: middle;\n",
       "    }\n",
       "\n",
       "    .dataframe tbody tr th {\n",
       "        vertical-align: top;\n",
       "    }\n",
       "\n",
       "    .dataframe thead th {\n",
       "        text-align: right;\n",
       "    }\n",
       "</style>\n",
       "<table border=\"1\" class=\"dataframe\">\n",
       "  <thead>\n",
       "    <tr style=\"text-align: right;\">\n",
       "      <th></th>\n",
       "      <th>user_id</th>\n",
       "      <th>movie_id</th>\n",
       "      <th>count</th>\n",
       "      <th>timestamp</th>\n",
       "    </tr>\n",
       "  </thead>\n",
       "  <tbody>\n",
       "    <tr>\n",
       "      <th>0</th>\n",
       "      <td>1</td>\n",
       "      <td>1193</td>\n",
       "      <td>5</td>\n",
       "      <td>978300760</td>\n",
       "    </tr>\n",
       "    <tr>\n",
       "      <th>1</th>\n",
       "      <td>1</td>\n",
       "      <td>661</td>\n",
       "      <td>3</td>\n",
       "      <td>978302109</td>\n",
       "    </tr>\n",
       "    <tr>\n",
       "      <th>2</th>\n",
       "      <td>1</td>\n",
       "      <td>914</td>\n",
       "      <td>3</td>\n",
       "      <td>978301968</td>\n",
       "    </tr>\n",
       "    <tr>\n",
       "      <th>3</th>\n",
       "      <td>1</td>\n",
       "      <td>3408</td>\n",
       "      <td>4</td>\n",
       "      <td>978300275</td>\n",
       "    </tr>\n",
       "    <tr>\n",
       "      <th>4</th>\n",
       "      <td>1</td>\n",
       "      <td>2355</td>\n",
       "      <td>5</td>\n",
       "      <td>978824291</td>\n",
       "    </tr>\n",
       "    <tr>\n",
       "      <th>5</th>\n",
       "      <td>1</td>\n",
       "      <td>1197</td>\n",
       "      <td>3</td>\n",
       "      <td>978302268</td>\n",
       "    </tr>\n",
       "    <tr>\n",
       "      <th>6</th>\n",
       "      <td>1</td>\n",
       "      <td>1287</td>\n",
       "      <td>5</td>\n",
       "      <td>978302039</td>\n",
       "    </tr>\n",
       "    <tr>\n",
       "      <th>7</th>\n",
       "      <td>1</td>\n",
       "      <td>2804</td>\n",
       "      <td>5</td>\n",
       "      <td>978300719</td>\n",
       "    </tr>\n",
       "    <tr>\n",
       "      <th>8</th>\n",
       "      <td>1</td>\n",
       "      <td>594</td>\n",
       "      <td>4</td>\n",
       "      <td>978302268</td>\n",
       "    </tr>\n",
       "    <tr>\n",
       "      <th>9</th>\n",
       "      <td>1</td>\n",
       "      <td>919</td>\n",
       "      <td>4</td>\n",
       "      <td>978301368</td>\n",
       "    </tr>\n",
       "  </tbody>\n",
       "</table>\n",
       "</div>"
      ],
      "text/plain": [
       "   user_id  movie_id  count  timestamp\n",
       "0        1      1193      5  978300760\n",
       "1        1       661      3  978302109\n",
       "2        1       914      3  978301968\n",
       "3        1      3408      4  978300275\n",
       "4        1      2355      5  978824291\n",
       "5        1      1197      3  978302268\n",
       "6        1      1287      5  978302039\n",
       "7        1      2804      5  978300719\n",
       "8        1       594      4  978302268\n",
       "9        1       919      4  978301368"
      ]
     },
     "execution_count": 46,
     "metadata": {},
     "output_type": "execute_result"
    }
   ],
   "source": [
    "ratings[:10]"
   ]
  },
  {
   "cell_type": "code",
   "execution_count": 815,
   "metadata": {
    "scrolled": true
   },
   "outputs": [
    {
     "data": {
      "text/plain": [
       "6039"
      ]
     },
     "execution_count": 815,
     "metadata": {},
     "output_type": "execute_result"
    }
   ],
   "source": [
    "user_to_idx['Yong']"
   ]
  },
  {
   "cell_type": "markdown",
   "metadata": {},
   "source": [
    "---\n",
    "movie_id의 경우 선호도 값을 찾은 후 바로 인덱싱을 해주었다."
   ]
  },
  {
   "cell_type": "markdown",
   "metadata": {},
   "source": [
    "### CSR matrix 평가 행렬 사용\n",
    "- CSR Matrix는 Sparse한 matrix에서 0이 아닌 유효한 데이터로 채워지는 데이터의 값과 좌표 정보만으로 구성하여 메모리 사용량을 최소화하면서도 Sparse한 matrix와 동일한 행렬을 표현할 수 있도록 하는 데이터 구조\n",
    "\n",
    "\n",
    "\n",
    "``` python\n",
    "csr_matrix((data, (row_ind, col_ind)), [shape=(M, N)])  \n",
    "where data, row_ind and col_ind satisfy the relationship  \n",
    "a[row_ind[k], col_ind[k]] = data[k]., M,N은 matrix의 shape\n",
    "```\n",
    "\n",
    "---\n",
    "- 유저 X 아이템 평가행렬의 구조이므로 user_id와 movie_id를 이용한다."
   ]
  },
  {
   "cell_type": "code",
   "execution_count": 922,
   "metadata": {
    "scrolled": true
   },
   "outputs": [
    {
     "data": {
      "text/plain": [
       "<6040x3953 sparse matrix of type '<class 'numpy.int64'>'\n",
       "\twith 836483 stored elements in Compressed Sparse Row format>"
      ]
     },
     "execution_count": 922,
     "metadata": {},
     "output_type": "execute_result"
    }
   ],
   "source": [
    "# 위에 CSR matrix 구조 설명보고 만들어봅시다.\n",
    "from scipy.sparse import csr_matrix\n",
    "\n",
    "num_user = ratings['user_id'].nunique()\n",
    "num_movie = ratings['movie_id'].nunique()\n",
    "\n",
    "csr_data = csr_matrix((ratings['count'], (ratings.user_id, ratings.movie_id)))\n",
    "# shape를 빼주면 자동으로 맞춰준다.\n",
    "csr_data"
   ]
  },
  {
   "cell_type": "code",
   "execution_count": 923,
   "metadata": {},
   "outputs": [
    {
     "data": {
      "text/plain": [
       "0    1193\n",
       "1     661\n",
       "2     914\n",
       "3    3408\n",
       "4    2355\n",
       "Name: movie_id, dtype: int64"
      ]
     },
     "execution_count": 923,
     "metadata": {},
     "output_type": "execute_result"
    }
   ],
   "source": [
    "ratings['movie_id'].head(5)"
   ]
  },
  {
   "cell_type": "markdown",
   "metadata": {},
   "source": [
    "###  als_model = AlternatingLeastSquares 모델을 구성하여 훈련\n",
    "Matrix Factorization 모델을 implicit 패키지를 사용하여 학습한다.\n",
    "\n",
    "- 이 패키지에 구현된 **als(AlternatingLeastSquares) 모델**을 사용하겠습니다.  <br>**Matrix Factorization**에서 쪼개진 두 Feature Matrix를 한꺼번에 훈련하는 것은 잘 수렴하지 않기 때문에, <br>**한쪽을 고정**시키고 **다른 쪽을 학습**하는 방식을 번갈아 수행하는 **AlternatingLeastSquares** 방식이 효과적인 것으로 알려져 있습니다."
   ]
  },
  {
   "cell_type": "code",
   "execution_count": 924,
   "metadata": {},
   "outputs": [],
   "source": [
    "from implicit.als import AlternatingLeastSquares\n",
    "import os\n",
    "import numpy as np\n",
    "\n",
    "# implicit 라이브러리에서 권장하고 있는 부분입니다. 학습 내용과는 무관합니다.\n",
    "os.environ['OPENBLAS_NUM_THREADS']='1'\n",
    "os.environ['KMP_DUPLICATE_LIB_OK']='True'\n",
    "os.environ['MKL_NUM_THREADS']='1'"
   ]
  },
  {
   "cell_type": "markdown",
   "metadata": {},
   "source": [
    "#### AlternatingLeastSquares 클래스의 __init__ 파라미터 \n",
    "1. **factors** : 유저와 아이템의 벡터를 몇 차원으로 할 것인지 \n",
    "2. **regularization** : 과적합을 방지하기 위해 정규화 값을 얼마나 사용할 것인지 \n",
    "3. **use_gpu** : GPU를 사용할 것인지 \n",
    "4. **iterations** : epochs와 같은 의미입니다. 데이터를 몇 번 반복해서 학습할 것인지\n",
    "\n",
    "- 1,4를 늘릴수록 학습데이터를 잘 학습하게 되지만 과적합의 우려가 있으니 좋은 값을 찾아야 합니다."
   ]
  },
  {
   "cell_type": "code",
   "execution_count": 989,
   "metadata": {},
   "outputs": [],
   "source": [
    "# Implicit AlternatingLeastSquares 모델의 선언\n",
    "# factors :         500  , 500 차원\n",
    "# regularization  : 0.01   , 정규화 값 0.01 선언\n",
    "# use_gpu     :    False   , GPU 사용 안함\n",
    "# iterations   :    15    , 데이터를 15번 반복해서 학습\n",
    "als_model = AlternatingLeastSquares(factors=200, regularization=0.01, use_gpu=False, iterations=10, dtype=np.float32)"
   ]
  },
  {
   "cell_type": "code",
   "execution_count": 990,
   "metadata": {},
   "outputs": [
    {
     "data": {
      "text/plain": [
       "<3953x6040 sparse matrix of type '<class 'numpy.int64'>'\n",
       "\twith 836483 stored elements in Compressed Sparse Column format>"
      ]
     },
     "execution_count": 990,
     "metadata": {},
     "output_type": "execute_result"
    }
   ],
   "source": [
    "# als 모델은 input으로 (item X user 꼴의 matrix를 받기 때문에 Transpose해줍니다.)\n",
    "csr_data_transpose = csr_data.T\n",
    "csr_data_transpose"
   ]
  },
  {
   "cell_type": "code",
   "execution_count": 991,
   "metadata": {},
   "outputs": [
    {
     "data": {
      "application/vnd.jupyter.widget-view+json": {
       "model_id": "e8696ede1bbc419daa6b5e215771782b",
       "version_major": 2,
       "version_minor": 0
      },
      "text/plain": [
       "  0%|          | 0/10 [00:00<?, ?it/s]"
      ]
     },
     "metadata": {},
     "output_type": "display_data"
    }
   ],
   "source": [
    "# 모델 훈련\n",
    "als_model.fit(csr_data_transpose)"
   ]
  },
  {
   "cell_type": "markdown",
   "metadata": {},
   "source": [
    "- 모델이 1) 저의 벡터와 linkin park의 벡터를 어떻게 만들고 있는지와   \n",
    "  2) 두 벡터를 곱하면 어떤 값이 나오는지 살펴보겠습니다."
   ]
  },
  {
   "cell_type": "code",
   "execution_count": 992,
   "metadata": {},
   "outputs": [
    {
     "name": "stdout",
     "output_type": "stream",
     "text": [
      "벡터 생성\n"
     ]
    }
   ],
   "source": [
    "my, toy_story = user_to_idx['Yong'], movie_to_idx['toy story']\n",
    "my_vector, toy_story_vector = als_model.user_factors[my], als_model.item_factors[toy_story]\n",
    "\n",
    "print('벡터 생성')"
   ]
  },
  {
   "cell_type": "code",
   "execution_count": 993,
   "metadata": {},
   "outputs": [
    {
     "name": "stdout",
     "output_type": "stream",
     "text": [
      "my_vector factor :  200\n"
     ]
    },
    {
     "data": {
      "text/plain": [
       "array([ 0.1712223 ,  0.13495584,  0.21607728, -0.33905253, -0.5237309 ,\n",
       "        0.18975076, -0.27350718, -0.36331016, -0.10748999, -0.54118556,\n",
       "       -0.21329589, -0.16663527, -0.59613156,  0.83017564,  0.10209788,\n",
       "        0.08220019,  0.27623445,  0.04218477,  0.5545737 ,  0.9491033 ,\n",
       "        0.18532953, -0.23850702, -0.0277379 , -0.18780982,  0.10207154,\n",
       "       -0.6464343 ,  0.39138228, -0.57874024,  0.6738896 , -0.5907967 ,\n",
       "        0.24202184, -0.4314531 , -0.28341216,  0.7218278 ,  0.15370806,\n",
       "       -0.04128717,  0.15286718, -0.7295264 ,  0.7401819 , -0.17477477,\n",
       "       -0.42612854,  0.49021754, -0.49355426, -0.2914742 , -0.40619737,\n",
       "       -0.45216808,  0.53277683,  0.14190663, -0.40435243, -0.34908462],\n",
       "      dtype=float32)"
      ]
     },
     "execution_count": 993,
     "metadata": {},
     "output_type": "execute_result"
    }
   ],
   "source": [
    "# 50까지만 출력한다.\n",
    "print(\"my_vector factor : \", len(my_vector))\n",
    "my_vector[:50]"
   ]
  },
  {
   "cell_type": "code",
   "execution_count": 994,
   "metadata": {},
   "outputs": [
    {
     "name": "stdout",
     "output_type": "stream",
     "text": [
      "toy_story_vector  factor:  200\n"
     ]
    },
    {
     "data": {
      "text/plain": [
       "array([ 0.00591625,  0.02251895,  0.00193943, -0.00459603, -0.0201217 ,\n",
       "        0.00220069,  0.02561007, -0.02412628,  0.00523313, -0.01856709,\n",
       "        0.01643783,  0.01763688, -0.01879058,  0.03436386, -0.01539018,\n",
       "       -0.00126405,  0.02327666,  0.02270289, -0.01752822,  0.02418223,\n",
       "       -0.00512319, -0.01064339,  0.01162533, -0.00327519,  0.02098029,\n",
       "       -0.01367118,  0.02124303,  0.0052428 , -0.00210772,  0.0112145 ,\n",
       "        0.02307367, -0.00957799, -0.00065794,  0.00714944,  0.00119135,\n",
       "       -0.00545777,  0.00820752, -0.01610825,  0.02046845, -0.00715402,\n",
       "        0.01867579,  0.0166378 ,  0.00951574, -0.00558572, -0.02106855,\n",
       "       -0.01623646,  0.0158587 ,  0.0092024 ,  0.01762382,  0.00846494],\n",
       "      dtype=float32)"
      ]
     },
     "execution_count": 994,
     "metadata": {},
     "output_type": "execute_result"
    }
   ],
   "source": [
    "# 50까지만 출력한다.\n",
    "print(\"toy_story_vector  factor: \",len(toy_story_vector))\n",
    "toy_story_vector[:50]"
   ]
  },
  {
   "cell_type": "code",
   "execution_count": 995,
   "metadata": {
    "scrolled": true
   },
   "outputs": [
    {
     "data": {
      "text/plain": [
       "0.7073903"
      ]
     },
     "execution_count": 995,
     "metadata": {},
     "output_type": "execute_result"
    }
   ],
   "source": [
    "# my_vector와 toy_story_vector를 내적하는 코드\n",
    "np.dot(my_vector, toy_story_vector)"
   ]
  },
  {
   "cell_type": "markdown",
   "metadata": {},
   "source": [
    "#### toy_story의 대한 선호도가 높게 나왔다.\n",
    "\n",
    "- \"바람과 함께 사라지다 (gone with the wind)\"를 넣어서 추가로 확인해 봅시다."
   ]
  },
  {
   "cell_type": "code",
   "execution_count": 996,
   "metadata": {},
   "outputs": [
    {
     "name": "stdout",
     "output_type": "stream",
     "text": [
      "벡터 생성\n"
     ]
    }
   ],
   "source": [
    "my, gone_wind = user_to_idx['Yong'], movie_to_idx['gone with the wind']\n",
    "my_vector, gone_wind_vector = als_model.user_factors[my], als_model.item_factors[gone_wind]\n",
    "\n",
    "print('벡터 생성')"
   ]
  },
  {
   "cell_type": "code",
   "execution_count": 997,
   "metadata": {
    "scrolled": true
   },
   "outputs": [
    {
     "data": {
      "text/plain": [
       "0.71783626"
      ]
     },
     "execution_count": 997,
     "metadata": {},
     "output_type": "execute_result"
    }
   ],
   "source": [
    "# my_vector와 Jumanji_vector를 내적하는 코드\n",
    "# \n",
    "np.dot(my_vector, gone_wind_vector)"
   ]
  },
  {
   "cell_type": "markdown",
   "metadata": {},
   "source": [
    "- 선호도를 나타냈던 영화에 대해 높은 값이 나타난다."
   ]
  },
  {
   "cell_type": "code",
   "execution_count": 1010,
   "metadata": {},
   "outputs": [],
   "source": [
    "my, life = user_to_idx['Yong'], movie_to_idx['life is beautiful (la vita � bella)']\n",
    "my_vector, life_vector = als_model.user_factors[my], als_model.item_factors[life]\n"
   ]
  },
  {
   "cell_type": "code",
   "execution_count": 1011,
   "metadata": {},
   "outputs": [
    {
     "data": {
      "text/plain": [
       "0.7936193"
      ]
     },
     "execution_count": 1011,
     "metadata": {},
     "output_type": "execute_result"
    }
   ],
   "source": [
    "np.dot(my_vector, life_vector)"
   ]
  },
  {
   "cell_type": "markdown",
   "metadata": {},
   "source": [
    "###  내가 좋아하는 영화와 비슷한 영화 추천 받기\n",
    "- 모델이 판단하는 내가 선호를 보인 영화의 비슷한 유형을 가진 영화 추천\n",
    "---\n",
    "AlternatingLeastSquares 클래스에 구현되어 있는 similar_items 메서드를 통하여 비슷한 영화를 찾습니다. 처음으로는 제가 좋아하는 coldplay로 찾아보겠습니다."
   ]
  },
  {
   "cell_type": "code",
   "execution_count": 998,
   "metadata": {
    "scrolled": true
   },
   "outputs": [
    {
     "data": {
      "text/plain": [
       "[(920, 1.0),\n",
       " (2067, 0.4024211),\n",
       " (2594, 0.3521815),\n",
       " (1944, 0.3285628),\n",
       " (987, 0.3282611),\n",
       " (2979, 0.32481512),\n",
       " (2982, 0.3227572),\n",
       " (437, 0.32162464),\n",
       " (1565, 0.32146284),\n",
       " (969, 0.3212055),\n",
       " (3805, 0.3183625),\n",
       " (59, 0.31833473),\n",
       " (600, 0.31778145),\n",
       " (956, 0.31747356),\n",
       " (3218, 0.31722203)]"
      ]
     },
     "execution_count": 998,
     "metadata": {},
     "output_type": "execute_result"
    }
   ],
   "source": [
    "favorite_movie = 'gone with the wind'\n",
    "movies_id = movie_to_idx[favorite_movie]\n",
    "similar_movies = als_model.similar_items(movies_id, N=15)\n",
    "similar_movies"
   ]
  },
  {
   "cell_type": "markdown",
   "metadata": {},
   "source": [
    "**(영화 id, 유사도) Tuple** 로 반환하고 있습니다.  \n",
    "영화의 id를 다시 영화의 이름으로 매핑 시켜 주겠습니다."
   ]
  },
  {
   "cell_type": "code",
   "execution_count": 999,
   "metadata": {
    "scrolled": false
   },
   "outputs": [
    {
     "data": {
      "text/plain": [
       "['gone with the wind',\n",
       " 'doctor zhivago',\n",
       " 'open your eyes (abre los ojos)',\n",
       " 'from here to eternity',\n",
       " 'bliss',\n",
       " 'body shots',\n",
       " 'guardian, the',\n",
       " 'cops and robbersons',\n",
       " 'head above water',\n",
       " 'african queen, the',\n",
       " 'knightriders',\n",
       " 'confessional, the (le confessionnal)',\n",
       " 'love and a .45',\n",
       " 'penny serenade',\n",
       " 'poison']"
      ]
     },
     "execution_count": 999,
     "metadata": {},
     "output_type": "execute_result"
    }
   ],
   "source": [
    "#movie_to_idx 를 뒤집어, index로부터 artist 이름을 얻는 dict를 생성합니다. \n",
    "idx_to_movie = {v:k for k,v in movie_to_idx.items()}\n",
    "[idx_to_movie[i[0]] for i in similar_movies]"
   ]
  },
  {
   "cell_type": "markdown",
   "metadata": {},
   "source": [
    "- '바람과 함께 사라지다'의 장르가 [로맨스,드라마,전쟁]이고 추천 상위 영화들의 장르가 [로맨스,전쟁]에 해당하는걸 보니 모델이 괜찮게 학습 되었네요.\n",
    "\n",
    "몇 번 더 반복해서 확인하기 위해 위의 코드를 함수로 만들고 확인해보겠습니다."
   ]
  },
  {
   "cell_type": "code",
   "execution_count": 1001,
   "metadata": {},
   "outputs": [],
   "source": [
    "def get_similar_artist(movie_title: str):\n",
    "    movie_id = movie_to_idx[movie_title]\n",
    "    similar_movie = als_model.similar_items(movie_id)\n",
    "    similar_movie = [idx_to_movie[i[0]] for i in similar_movie]\n",
    "    return similar_movie"
   ]
  },
  {
   "cell_type": "code",
   "execution_count": 1003,
   "metadata": {},
   "outputs": [
    {
     "data": {
      "text/plain": [
       "['titanic',\n",
       " 'snow day',\n",
       " \"you've got mail\",\n",
       " 'jerry maguire',\n",
       " 'sheltering sky, the',\n",
       " 'walking dead, the',\n",
       " 'faust',\n",
       " 'tetsuo ii: body hammer',\n",
       " \"mr. holland's opus\",\n",
       " 'nina takes a lover']"
      ]
     },
     "execution_count": 1003,
     "metadata": {},
     "output_type": "execute_result"
    }
   ],
   "source": [
    "get_similar_artist('titanic')\n",
    "# 장르에 로맨스,드라마가 포함된 영화들이 주로 나왔습니다."
   ]
  },
  {
   "cell_type": "markdown",
   "metadata": {},
   "source": [
    "### 좋아할 만한 영화 추천받기\n",
    "---\n",
    "**AlternatingLeastSquares** 클래스에 구현되어 있는 **recommend** 메서드를 통하여 제가 좋아할 만한 영화를 추천받습니다. **filter_already_liked_items** 는 유저가 이미 평가한 아이템은 제외하는 Argument입니다."
   ]
  },
  {
   "cell_type": "code",
   "execution_count": 1004,
   "metadata": {},
   "outputs": [
    {
     "data": {
      "text/plain": [
       "[(3114, 0.41189498),\n",
       " (2355, 0.27623743),\n",
       " (34, 0.27190125),\n",
       " (2542, 0.19932821),\n",
       " (2628, 0.19135176),\n",
       " (953, 0.18488841),\n",
       " (3489, 0.18354334),\n",
       " (2054, 0.18191189),\n",
       " (367, 0.17769884),\n",
       " (317, 0.15774038),\n",
       " (588, 0.15235038),\n",
       " (2253, 0.15020035),\n",
       " (2804, 0.14974684),\n",
       " (653, 0.14703573),\n",
       " (249, 0.144313),\n",
       " (1242, 0.14169982),\n",
       " (919, 0.14125776),\n",
       " (1183, 0.13938583),\n",
       " (1175, 0.13800839),\n",
       " (2366, 0.13758011)]"
      ]
     },
     "execution_count": 1004,
     "metadata": {},
     "output_type": "execute_result"
    }
   ],
   "source": [
    "user = user_to_idx['Yong']\n",
    "# recommend에서는 user*item CSR Matrix를 받습니다.\n",
    "movie_recommended = als_model.recommend(user, csr_data, N=20, filter_already_liked_items=True)\n",
    "movie_recommended"
   ]
  },
  {
   "cell_type": "code",
   "execution_count": 1005,
   "metadata": {},
   "outputs": [
    {
     "data": {
      "text/plain": [
       "['toy story 2',\n",
       " \"bug's life, a\",\n",
       " 'babe',\n",
       " 'lock, stock & two smoking barrels',\n",
       " 'star wars: episode i - the phantom menace',\n",
       " \"it's a wonderful life\",\n",
       " 'hook',\n",
       " 'honey, i shrunk the kids',\n",
       " 'mask, the',\n",
       " 'santa clause, the',\n",
       " 'aladdin',\n",
       " 'toys',\n",
       " 'christmas story, a',\n",
       " 'dragonheart',\n",
       " 'immortal beloved',\n",
       " 'glory',\n",
       " 'wizard of oz, the',\n",
       " 'english patient, the',\n",
       " 'delicatessen',\n",
       " 'king kong']"
      ]
     },
     "execution_count": 1005,
     "metadata": {},
     "output_type": "execute_result"
    }
   ],
   "source": [
    "[idx_to_movie[i[0]] for i in movie_recommended]"
   ]
  },
  {
   "cell_type": "markdown",
   "metadata": {},
   "source": [
    "- 유저에게 영화 추천은 **비슷한 영화 추천**과 마찬가지로 **(영화 id, 유사도) Tuple** 로 반환하고 있습니다.\n",
    "\n",
    "\n",
    "- toy story를 선호도에 넣었는데 toy story 2가 바로 나왔네요"
   ]
  },
  {
   "cell_type": "markdown",
   "metadata": {},
   "source": [
    "모델이 **'toy story 2'**를 왜 추천했을까요?  \n",
    "\n",
    "**AlternatingLeastSquares** 클래스에 구현된 **explain** 메소드를 사용하면 제가 기록을 남긴 데이터 중 이 추천에 기여한 정도를 확인할 수 있습니다."
   ]
  },
  {
   "cell_type": "code",
   "execution_count": 1007,
   "metadata": {},
   "outputs": [],
   "source": [
    "rihanna = movie_to_idx['toy story 2']\n",
    "explain = als_model.explain(user, csr_data, itemid=rihanna)"
   ]
  },
  {
   "cell_type": "markdown",
   "metadata": {},
   "source": [
    "이 method(explain)는 추천한 콘텐츠의 점수에 기여한 다른 콘텐츠와 기여도(합이 콘텐츠의 점수가 됩니다.)를 반환합니다.   \n",
    "\n",
    "어떤 영화들이 추천에 얼마나 기여하고 있는 걸까요?"
   ]
  },
  {
   "cell_type": "code",
   "execution_count": 1009,
   "metadata": {},
   "outputs": [
    {
     "data": {
      "text/plain": [
       "[('toy story', 0.3370125760957794),\n",
       " ('lord of the rings, the', 0.04709104377614426),\n",
       " ('life is beautiful (la vita � bella)', 0.01815034304169759),\n",
       " ('jumanji', 0.005904436511437617),\n",
       " ('gone with the wind', -0.006566305820911774)]"
      ]
     },
     "execution_count": 1009,
     "metadata": {},
     "output_type": "execute_result"
    }
   ],
   "source": [
    "[(idx_to_movie[i[0]], i[1]) for i in explain[1]]"
   ]
  },
  {
   "cell_type": "markdown",
   "metadata": {},
   "source": [
    "**toy story**와 **lord of the ring**이 영화 추천에 영향을 주었네요.\n",
    "\n",
    "- \"toy story\"가 선호 영화에 있어서 \"toy story 2\"가 추천 영화에 있는걸 보니 모델이 나쁘지 않게 학습이 되었네요."
   ]
  },
  {
   "cell_type": "markdown",
   "metadata": {},
   "source": [
    "---\n",
    "### 회고\n"
   ]
  },
  {
   "cell_type": "markdown",
   "metadata": {},
   "source": [
    "- 다른 프로젝트보다 더 데이터의 준비 과정이나 전처리에 대해 생각해 봤었고 생각한대로 진행하면서 Pandas 문법이 더 익숙해진 것 같습니다. 그리고 추천 시스템을 처음 진행하는데 생각보다 더 재미있어서 즐겁게 프로젝트를 진행한 것 같습니다.\n",
    "\n",
    "\n",
    "- 데이터 전처리를 진행하면서 느낀점이 있는데 **데이터의 의미**를 생각하지 않은 상태에서 데이터를 전처리 하는 것과 데이터의 의미를 생각하면서 전처리를 진행하는 것의 상당한 차이가 있다는것이 느껴졌습니다. <br><br> 데이터를 제대로 생각하지 않고 전처리를 할 때 모델의 추천 영화가 아예 다른 장르와 느낌의 영화로 추천을 했다면, 다시 데이터의 의미를 생각한 후 전처리를 진행하고 모델을 학습하니 해당 영화와 비슷한 느낌이 나는 영화를 진짜 추천을 해줘서 신기했습니다. \n",
    "물론 다른 느낌의 영화도 추천을 해주긴 했지만 그 빈도가 **데이터의 의미**를 생각하지 않고 전처리 했을때 보다 훨씬 줄어들어서 왜 머신러닝이 Data-driven이라고 하는지 전처리를 하면서 많이 알게된 것 같습니다.\n",
    "\n",
    "\n",
    "- 그리고 프로젝트 주제의 관점으로 봤을때 추천 시스템이 쉽게 접하는 시스템이고 추천 시스템을 제공하는 대표적인 플랫폼인 유튜브나 넷플릭스 등의 시스템에서 어떠한 알고리즘 방식으로 시스템을 구축했는지 궁굼했는데 이번의 얕게나마 그 일부를 알게 돼서 만족할 만한 프로젝트를 진행한 것 같습니다."
   ]
  },
  {
   "cell_type": "code",
   "execution_count": null,
   "metadata": {},
   "outputs": [],
   "source": []
  }
 ],
 "metadata": {
  "kernelspec": {
   "display_name": "Python 3",
   "language": "python",
   "name": "python3"
  },
  "language_info": {
   "codemirror_mode": {
    "name": "ipython",
    "version": 3
   },
   "file_extension": ".py",
   "mimetype": "text/x-python",
   "name": "python",
   "nbconvert_exporter": "python",
   "pygments_lexer": "ipython3",
   "version": "3.7.9"
  }
 },
 "nbformat": 4,
 "nbformat_minor": 4
}
