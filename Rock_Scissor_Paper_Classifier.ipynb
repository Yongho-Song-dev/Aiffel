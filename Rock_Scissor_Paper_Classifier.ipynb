{
 "cells": [
  {
   "cell_type": "markdown",
   "metadata": {},
   "source": [
    "### 가위바위보 라벨링 진행 "
   ]
  },
  {
   "cell_type": "code",
   "execution_count": 86,
   "metadata": {},
   "outputs": [
    {
     "name": "stdout",
     "output_type": "stream",
     "text": [
      "학습데이터(x_train)의 이미지 개수는 7800 입니다.\n",
      "x_train shape: (6240, 28, 28, 3)\n",
      "y_train shape: (6240,)\n",
      "x_test shape: (1560, 28, 28, 3)\n",
      "y_test shape: (1560,)\n"
     ]
    }
   ],
   "source": [
    "import os, glob\n",
    "import numpy as np\n",
    "import matplotlib.pyplot as plt\n",
    "import tensorflow as tf\n",
    "from tensorflow import keras\n",
    "from PIL import Image\n",
    "from sklearn.model_selection import train_test_split\n",
    "\n",
    "\n",
    "def load_data(img_path):\n",
    "    # 가위 : 0, 바위 : 1, 보 : 2\n",
    "    number_of_data=7800   # 가위바위보 이미지 개수\n",
    "    img_size=28\n",
    "    color=3\n",
    "    #이미지 데이터와 라벨(가위 : 0, 바위 : 1, 보 : 2) 데이터를 담을 행렬(matrix) 영역을 생성\n",
    "    imgs=np.zeros(number_of_data*img_size*img_size*color,dtype=np.int32).reshape(number_of_data,img_size,img_size,color)\n",
    "    labels=np.zeros(number_of_data,dtype=np.int32)  # 0으로 호기화된 ndarray 배열 객체 반환\n",
    "\n",
    "    idx=0\n",
    "    for file in glob.iglob(img_path+'/scissor/*.jpg'):\n",
    "        img = np.array(Image.open(file),dtype=np.int32)\n",
    "        imgs[idx,:,:,:]=img    # 데이터 영역에 이미지 행렬을 복사\n",
    "        labels[idx]=0   # 가위 : 0\n",
    "        idx=idx+1\n",
    "\n",
    "    for file in glob.iglob(img_path+'/rock/*.jpg'):\n",
    "        img = np.array(Image.open(file),dtype=np.int32)\n",
    "        imgs[idx,:,:,:]=img    # 데이터 영역에 이미지 행렬을 복사\n",
    "        labels[idx]=1   # 바위 : 1\n",
    "        idx=idx+1\n",
    "    \n",
    "    for file in glob.iglob(img_path+'/paper/*.jpg'):\n",
    "        img = np.array(Image.open(file),dtype=np.int32)\n",
    "        imgs[idx,:,:,:]=img    # 데이터 영역에 이미지 행렬을 복사\n",
    "        labels[idx]=2   # 보 : 2\n",
    "        idx=idx+1\n",
    "        \n",
    "    print(\"학습데이터(x_train)의 이미지 개수는\",idx,\"입니다.\")\n",
    "    return imgs, labels\n",
    "\n",
    "trImage_dir_path = os.getenv(\"HOME\") + \"/aiffel/rock_scissor_paper_2\"\n",
    "data,label=load_data(trImage_dir_path)\n",
    "\n",
    "# 훈련 데이터의 25%는 검증 셋으로 나머지는 훈련용 데이터로 분할하는 코드이다.\n",
    "# 데이터가 각 사람마다 0~99, 100~199... 등으로 순차적으로 들어가 있기에 \n",
    "# batch를 나눌 경우 제대로 학습이 안될 수 있어서 shuffle=True를 옵션을 사용한다.\n",
    "# stratify을 label로 지정해서 각각의 class비율을 train / test에 유지 시켜준다. (한쪽에 쏠리는 경우 방지)\n",
    "# random_state=30 데이터 셋을 shuffle할 때 해당 int값을 보고 섞어서, 매번 데이터셋이 변경되는것을 방지\n",
    "x_train, x_valid, y_train,y_valid = train_test_split(\n",
    "    data,label, test_size=0.2, shuffle=True, stratify=label, random_state=40)\n",
    "\n",
    "# train, test 데이터 255로 나누어서 0~1의 값으로 정규화\n",
    "x_train_norm = x_train/255.0 \n",
    "x_valid_norm = x_valid/255.0  \n",
    "\n",
    "print(\"x_train shape: {}\".format(x_train.shape))\n",
    "print(\"y_train shape: {}\".format(y_train.shape))\n",
    "\n",
    "print(\"x_test shape: {}\".format(x_valid.shape))\n",
    "print(\"y_test shape: {}\".format(y_valid.shape))"
   ]
  },
  {
   "cell_type": "markdown",
   "metadata": {},
   "source": [
    "### 딥러닝 네트워크 설계"
   ]
  },
  {
   "cell_type": "code",
   "execution_count": 97,
   "metadata": {},
   "outputs": [
    {
     "name": "stdout",
     "output_type": "stream",
     "text": [
      "Model: \"sequential_25\"\n",
      "_________________________________________________________________\n",
      "Layer (type)                 Output Shape              Param #   \n",
      "=================================================================\n",
      "conv2d_79 (Conv2D)           (None, 28, 28, 64)        1792      \n",
      "_________________________________________________________________\n",
      "max_pooling2d_79 (MaxPooling (None, 14, 14, 64)        0         \n",
      "_________________________________________________________________\n",
      "conv2d_80 (Conv2D)           (None, 14, 14, 128)       73856     \n",
      "_________________________________________________________________\n",
      "max_pooling2d_80 (MaxPooling (None, 7, 7, 128)         0         \n",
      "_________________________________________________________________\n",
      "dropout_50 (Dropout)         (None, 7, 7, 128)         0         \n",
      "_________________________________________________________________\n",
      "conv2d_81 (Conv2D)           (None, 7, 7, 128)         147584    \n",
      "_________________________________________________________________\n",
      "max_pooling2d_81 (MaxPooling (None, 3, 3, 128)         0         \n",
      "_________________________________________________________________\n",
      "conv2d_82 (Conv2D)           (None, 3, 3, 64)          73792     \n",
      "_________________________________________________________________\n",
      "max_pooling2d_82 (MaxPooling (None, 1, 1, 64)          0         \n",
      "_________________________________________________________________\n",
      "flatten_25 (Flatten)         (None, 64)                0         \n",
      "_________________________________________________________________\n",
      "dropout_51 (Dropout)         (None, 64)                0         \n",
      "_________________________________________________________________\n",
      "dense_50 (Dense)             (None, 128)               8320      \n",
      "_________________________________________________________________\n",
      "dense_51 (Dense)             (None, 3)                 387       \n",
      "=================================================================\n",
      "Total params: 305,731\n",
      "Trainable params: 305,731\n",
      "Non-trainable params: 0\n",
      "_________________________________________________________________\n",
      "None\n",
      "Model에 추가된 Layer 개수:  13\n"
     ]
    }
   ],
   "source": [
    "import tensorflow as tf\n",
    "from tensorflow import keras\n",
    "from tensorflow.keras.layers import Conv2D,MaxPooling2D,Dense\n",
    "import numpy as np\n",
    "tf.random.set_seed(2) # 실험환경 셋팅 seed 고정\n",
    "# 채널로 구성\n",
    "n_channel_1=64\n",
    "n_channel_2=128\n",
    "n_channel_3=128\n",
    "n_channel_4=64\n",
    "n_dense=128\n",
    "\n",
    "model=keras.models.Sequential()  # padding='same' 출력 이미지 사이즈가 입력 이미지 사이즈와 동일\n",
    "model.add(Conv2D(n_channel_1, (3,3),padding='same', activation='relu', input_shape=(28,28,3)))\n",
    "model.add(MaxPooling2D(2,2))\n",
    "# 컨볼루션 신경망 레이어 사용 (3x3)) 필터의 개수 64 활성화 함수(activation) =relu 설정[은익층으로 역전파를 통해 좋은 성능이 나온다.],\n",
    "# input_shape= 이미지 크기 28x28 픽셀  [ RGB 값해서 3의 값을 가져서 (28,28,3)이 된다.]\n",
    "model.add(Conv2D(n_channel_2, (3,3), padding='same', activation='relu'))\n",
    "model.add(MaxPooling2D((2,2)))\n",
    "model.add(tf.keras.layers.Dropout(0.4))  # dropout : 과적합(overfit) 문제 해결 \n",
    "\n",
    "model.add(Conv2D(n_channel_3, (3,3), padding='same', activation='relu'))\n",
    "model.add(MaxPooling2D((2,2)))\n",
    "model.add(Conv2D(n_channel_4, (3,3), padding='same', activation='relu'))\n",
    "model.add(MaxPooling2D((2,2)))\n",
    "\n",
    "model.add(keras.layers.Flatten())\n",
    "model.add(tf.keras.layers.Dropout(0.6))  # dropout : 과적합(overfit) 문제 해결 (0.6 이하 버림) \n",
    "model.add(Dense(n_dense, activation='relu'))   #\n",
    "model.add(Dense(3, activation='softmax'))   # softmax : 클래스 분류 문제에서 사용 =\n",
    "\n",
    "print(model.summary())\n",
    "print('Model에 추가된 Layer 개수: ', len(model.layers))\n"
   ]
  },
  {
   "cell_type": "markdown",
   "metadata": {},
   "source": [
    "### k fold cross validation (교차 검증)\n",
    "- 데이터의 대한 검증이 잘 이루어졌나 확인하기 위해 사용"
   ]
  },
  {
   "cell_type": "code",
   "execution_count": 117,
   "metadata": {},
   "outputs": [
    {
     "name": "stdout",
     "output_type": "stream",
     "text": [
      "Epoch 1/10\n",
      "390/390 [==============================] - 1s 2ms/step - loss: 1.2117 - accuracy: 0.4559 - val_loss: 1.0988 - val_accuracy: 0.3333\n",
      "Epoch 2/10\n",
      "390/390 [==============================] - 1s 2ms/step - loss: 0.6780 - accuracy: 0.6909 - val_loss: 1.0983 - val_accuracy: 0.3333\n",
      "Epoch 3/10\n",
      "390/390 [==============================] - 1s 2ms/step - loss: 0.4660 - accuracy: 0.8036 - val_loss: 1.0974 - val_accuracy: 0.3333\n",
      "Epoch 4/10\n",
      "390/390 [==============================] - 1s 2ms/step - loss: 0.3658 - accuracy: 0.8532 - val_loss: 1.0975 - val_accuracy: 0.3333\n",
      "Epoch 5/10\n",
      "390/390 [==============================] - 1s 2ms/step - loss: 0.2935 - accuracy: 0.8827 - val_loss: 1.0975 - val_accuracy: 0.3333\n",
      "Epoch 6/10\n",
      "390/390 [==============================] - 1s 2ms/step - loss: 0.2489 - accuracy: 0.9000 - val_loss: 1.0982 - val_accuracy: 0.3333\n",
      "Epoch 7/10\n",
      "390/390 [==============================] - 1s 2ms/step - loss: 0.1841 - accuracy: 0.9294 - val_loss: 1.0999 - val_accuracy: 0.3333\n",
      "Epoch 8/10\n",
      "390/390 [==============================] - 1s 2ms/step - loss: 0.1778 - accuracy: 0.9346 - val_loss: 1.0996 - val_accuracy: 0.3333\n",
      "Epoch 9/10\n",
      "390/390 [==============================] - 1s 2ms/step - loss: 0.1564 - accuracy: 0.9433 - val_loss: 1.1011 - val_accuracy: 0.3333\n",
      "Epoch 10/10\n",
      "390/390 [==============================] - 1s 2ms/step - loss: 0.1500 - accuracy: 0.9454 - val_loss: 1.1038 - val_accuracy: 0.3333\n",
      "82/82 [==============================] - 1s 11ms/step - loss: 0.0587 - accuracy: 0.9815\n",
      "Epoch 1/10\n",
      "390/390 [==============================] - 1s 3ms/step - loss: 1.1593 - accuracy: 0.4850 - val_loss: 1.0990 - val_accuracy: 0.3533\n",
      "Epoch 2/10\n",
      "390/390 [==============================] - 1s 2ms/step - loss: 0.6879 - accuracy: 0.6787 - val_loss: 1.0995 - val_accuracy: 0.3333\n",
      "Epoch 3/10\n",
      "390/390 [==============================] - 1s 2ms/step - loss: 0.5348 - accuracy: 0.7687 - val_loss: 1.1009 - val_accuracy: 0.3333\n",
      "Epoch 4/10\n",
      "390/390 [==============================] - 1s 2ms/step - loss: 0.4514 - accuracy: 0.8106 - val_loss: 1.1028 - val_accuracy: 0.3333\n",
      "Epoch 5/10\n",
      "390/390 [==============================] - 1s 2ms/step - loss: 0.3753 - accuracy: 0.8455 - val_loss: 1.1052 - val_accuracy: 0.3333\n",
      "Epoch 6/10\n",
      "390/390 [==============================] - 1s 2ms/step - loss: 0.3016 - accuracy: 0.8809 - val_loss: 1.1089 - val_accuracy: 0.3333\n",
      "Epoch 7/10\n",
      "390/390 [==============================] - 1s 2ms/step - loss: 0.2173 - accuracy: 0.9151 - val_loss: 1.1102 - val_accuracy: 0.3333\n",
      "Epoch 8/10\n",
      "390/390 [==============================] - 1s 2ms/step - loss: 0.2215 - accuracy: 0.9140 - val_loss: 1.0978 - val_accuracy: 0.5233\n",
      "Epoch 9/10\n",
      "390/390 [==============================] - 1s 2ms/step - loss: 0.2095 - accuracy: 0.9222 - val_loss: 1.1105 - val_accuracy: 0.3333\n",
      "Epoch 10/10\n",
      "390/390 [==============================] - 1s 2ms/step - loss: 0.1875 - accuracy: 0.9263 - val_loss: 1.1153 - val_accuracy: 0.3333\n",
      "82/82 [==============================] - 0s 1ms/step - loss: 0.0704 - accuracy: 0.9758\n",
      "Epoch 1/10\n",
      "390/390 [==============================] - 1s 2ms/step - loss: 1.4858 - accuracy: 0.4813 - val_loss: 1.0985 - val_accuracy: 0.3400\n",
      "Epoch 2/10\n",
      "390/390 [==============================] - 1s 2ms/step - loss: 0.7717 - accuracy: 0.6260 - val_loss: 1.1002 - val_accuracy: 0.3333\n",
      "Epoch 3/10\n",
      "390/390 [==============================] - 1s 2ms/step - loss: 0.6488 - accuracy: 0.7036 - val_loss: 1.1036 - val_accuracy: 0.3333\n",
      "Epoch 4/10\n",
      "390/390 [==============================] - 1s 2ms/step - loss: 0.5555 - accuracy: 0.7499 - val_loss: 1.1123 - val_accuracy: 0.3333\n",
      "Epoch 5/10\n",
      "390/390 [==============================] - 1s 2ms/step - loss: 0.4878 - accuracy: 0.7922 - val_loss: 1.1116 - val_accuracy: 0.3333\n",
      "Epoch 6/10\n",
      "390/390 [==============================] - 1s 2ms/step - loss: 0.4256 - accuracy: 0.8218 - val_loss: 1.1147 - val_accuracy: 0.3333\n",
      "Epoch 7/10\n",
      "390/390 [==============================] - 1s 2ms/step - loss: 0.3781 - accuracy: 0.8463 - val_loss: 1.1230 - val_accuracy: 0.3333\n",
      "Epoch 8/10\n",
      "390/390 [==============================] - 1s 2ms/step - loss: 0.3892 - accuracy: 0.8414 - val_loss: 1.1270 - val_accuracy: 0.3333\n",
      "Epoch 9/10\n",
      "390/390 [==============================] - 1s 2ms/step - loss: 0.2992 - accuracy: 0.8788 - val_loss: 1.1264 - val_accuracy: 0.3333\n",
      "Epoch 10/10\n",
      "390/390 [==============================] - 1s 2ms/step - loss: 0.2903 - accuracy: 0.8855 - val_loss: 1.1257 - val_accuracy: 0.3333\n",
      "82/82 [==============================] - 0s 1ms/step - loss: 0.1773 - accuracy: 0.9358\n",
      "Model: \"sequential_31\"\n",
      "_________________________________________________________________\n",
      "Layer (type)                 Output Shape              Param #   \n",
      "=================================================================\n",
      "conv2d_100 (Conv2D)          (None, 28, 28, 64)        1792      \n",
      "_________________________________________________________________\n",
      "max_pooling2d_100 (MaxPoolin (None, 14, 14, 64)        0         \n",
      "_________________________________________________________________\n",
      "conv2d_101 (Conv2D)          (None, 14, 14, 64)        36928     \n",
      "_________________________________________________________________\n",
      "max_pooling2d_101 (MaxPoolin (None, 7, 7, 64)          0         \n",
      "_________________________________________________________________\n",
      "dropout_62 (Dropout)         (None, 7, 7, 64)          0         \n",
      "_________________________________________________________________\n",
      "conv2d_102 (Conv2D)          (None, 7, 7, 128)         73856     \n",
      "_________________________________________________________________\n",
      "max_pooling2d_102 (MaxPoolin (None, 3, 3, 128)         0         \n",
      "_________________________________________________________________\n",
      "dropout_63 (Dropout)         (None, 3, 3, 128)         0         \n",
      "_________________________________________________________________\n",
      "conv2d_103 (Conv2D)          (None, 3, 3, 64)          73792     \n",
      "_________________________________________________________________\n",
      "max_pooling2d_103 (MaxPoolin (None, 1, 1, 64)          0         \n",
      "_________________________________________________________________\n",
      "flatten_31 (Flatten)         (None, 64)                0         \n",
      "_________________________________________________________________\n",
      "dense_62 (Dense)             (None, 128)               8320      \n",
      "_________________________________________________________________\n",
      "dense_63 (Dense)             (None, 3)                 387       \n",
      "=================================================================\n",
      "Total params: 195,075\n",
      "Trainable params: 195,075\n",
      "Non-trainable params: 0\n",
      "_________________________________________________________________\n",
      "None\n",
      "Model에 추가된 Layer 개수:  13\n",
      "kfold accuracy : ['0.98154', '0.97577', '0.93577']\n",
      "평균 kfold accuracy : 0.93577\n"
     ]
    }
   ],
   "source": [
    "import tensorflow as tf\n",
    "from tensorflow import keras\n",
    "from tensorflow.keras.layers import Conv2D,MaxPooling2D,Dense\n",
    "import numpy as np\n",
    "from sklearn.model_selection import KFold\n",
    "tf.random.set_seed(1) # 실험환경 셋팅 seed 고정\n",
    "# 채널로 구성\n",
    "n_channel_1=64\n",
    "n_channel_2=64\n",
    "n_channel_3=128\n",
    "n_channel_4=64\n",
    "n_dense=128\n",
    "k_fold = KFold(n_splits=3, shuffle=True)  # 데이터가 3개의 fold로 나뉘고 순차적으로 나뉘는게 아닌 섞인 상태에서 무작위로 지정된다.\n",
    "accuracy = []\n",
    "\n",
    "for train, valid in k_fold.split(data, label) :   # 교차 검증을 사용해 모델의 정확도를 검증한다.  n_splits=3, 3번 반복(fold의 개수는 3)\n",
    "    \n",
    "    model=keras.models.Sequential()  # padding='same' 출력 이미지 사이즈가 입력 이미지 사이즈와 동일\n",
    "    model.add(Conv2D(n_channel_1, (3,3),padding='same', activation='relu', input_shape=(28,28,3)))\n",
    "    model.add(MaxPooling2D(2,2))\n",
    "# 컨볼루션 신경망 레이어 사용 (3x3)) 필터의 개수 64 활성화 함수(activation) =relu 설정[은익층에 주로 사용] input_shape= 이미지 크기 28x28 픽셀\n",
    "# RGB 값해서 3의 값을 가져서 (28,28,3)이 된다.\n",
    "    model.add(Conv2D(n_channel_2, (3,3), padding='same', activation='relu'))\n",
    "    model.add(MaxPooling2D((2,2)))\n",
    "    model.add(tf.keras.layers.Dropout(0.3))  # dropout : 과적합(overfit) 문제 해결 \n",
    "\n",
    "    model.add(Conv2D(n_channel_3, (3,3), padding='same', activation='relu'))\n",
    "    model.add(MaxPooling2D((2,2)))\n",
    "    model.add(tf.keras.layers.Dropout(0.2))\n",
    "    model.add(Conv2D(n_channel_4, (3,3), padding='same', activation='relu'))\n",
    "    model.add(MaxPooling2D((2,2)))\n",
    "\n",
    "    model.add(keras.layers.Flatten())\n",
    "    model.add(Dense(n_dense, activation='relu'))\n",
    "    model.add(Dense(3, activation='softmax'))\n",
    "    \n",
    "    model.compile(loss='sparse_categorical_crossentropy',\n",
    "             optimizer=Adam(lr=0.001, beta_1=0.9, beta_2=0.999),\n",
    "              metrics=['accuracy'])\n",
    "    model.fit(data, label, epochs=10,\n",
    "                    batch_size=20, validation_data=(x_test_norm, y_test))\n",
    "    \n",
    "    kFold_accuracy = '%.5f' % (model.evaluate(data[valid], label[valid])[1])\n",
    "    accuracy.append(kFold_accuracy)\n",
    "\n",
    "print(model.summary())\n",
    "print('Model에 추가된 Layer 개수: ', len(model.layers))\n",
    "print(\"kfold accuracy :\", accuracy)\n",
    "print(\"평균 kfold accuracy :\", kFold_accuracy )"
   ]
  },
  {
   "cell_type": "markdown",
   "metadata": {},
   "source": [
    "### 딥러닝 네트워크 학습"
   ]
  },
  {
   "cell_type": "code",
   "execution_count": 98,
   "metadata": {},
   "outputs": [
    {
     "name": "stdout",
     "output_type": "stream",
     "text": [
      "Epoch 1/15\n",
      "156/156 [==============================] - 1s 4ms/step - loss: 1.0983 - accuracy: 0.3452 - val_loss: 1.0875 - val_accuracy: 0.3827\n",
      "Epoch 2/15\n",
      "156/156 [==============================] - 0s 3ms/step - loss: 0.9496 - accuracy: 0.5253 - val_loss: 0.7513 - val_accuracy: 0.6737\n",
      "Epoch 3/15\n",
      "156/156 [==============================] - 0s 3ms/step - loss: 0.6976 - accuracy: 0.7072 - val_loss: 0.5080 - val_accuracy: 0.8173\n",
      "Epoch 4/15\n",
      "156/156 [==============================] - 0s 3ms/step - loss: 0.5107 - accuracy: 0.7946 - val_loss: 0.3376 - val_accuracy: 0.8769\n",
      "Epoch 5/15\n",
      "156/156 [==============================] - 1s 3ms/step - loss: 0.3665 - accuracy: 0.8596 - val_loss: 0.2199 - val_accuracy: 0.9340\n",
      "Epoch 6/15\n",
      "156/156 [==============================] - 0s 3ms/step - loss: 0.2314 - accuracy: 0.9179 - val_loss: 0.1235 - val_accuracy: 0.9603\n",
      "Epoch 7/15\n",
      "156/156 [==============================] - 1s 3ms/step - loss: 0.1830 - accuracy: 0.9322 - val_loss: 0.1150 - val_accuracy: 0.9513\n",
      "Epoch 8/15\n",
      "156/156 [==============================] - 1s 3ms/step - loss: 0.1407 - accuracy: 0.9490 - val_loss: 0.0794 - val_accuracy: 0.9724\n",
      "Epoch 9/15\n",
      "156/156 [==============================] - 1s 3ms/step - loss: 0.1188 - accuracy: 0.9563 - val_loss: 0.0488 - val_accuracy: 0.9865\n",
      "Epoch 10/15\n",
      "156/156 [==============================] - 0s 3ms/step - loss: 0.0978 - accuracy: 0.9644 - val_loss: 0.0323 - val_accuracy: 0.9872\n",
      "Epoch 11/15\n",
      "156/156 [==============================] - 0s 3ms/step - loss: 0.0713 - accuracy: 0.9739 - val_loss: 0.0348 - val_accuracy: 0.9897\n",
      "Epoch 12/15\n",
      "156/156 [==============================] - 0s 3ms/step - loss: 0.0577 - accuracy: 0.9812 - val_loss: 0.0339 - val_accuracy: 0.9904\n",
      "Epoch 13/15\n",
      "156/156 [==============================] - 1s 3ms/step - loss: 0.0583 - accuracy: 0.9792 - val_loss: 0.0310 - val_accuracy: 0.9897\n",
      "Epoch 14/15\n",
      "156/156 [==============================] - 1s 3ms/step - loss: 0.0622 - accuracy: 0.9801 - val_loss: 0.0294 - val_accuracy: 0.9936\n",
      "Epoch 15/15\n",
      "156/156 [==============================] - 0s 3ms/step - loss: 0.0542 - accuracy: 0.9825 - val_loss: 0.0292 - val_accuracy: 0.9942\n"
     ]
    }
   ],
   "source": [
    "from tensorflow.keras.optimizers import Adam\n",
    "# categorical_crossentropy\n",
    "\n",
    "model.compile(loss='sparse_categorical_crossentropy',\n",
    "             optimizer=Adam(lr=0.0005, beta_1=0.9, beta_2=0.999),\n",
    "              metrics=['accuracy'])\n",
    "#model_history = model.fit(x_train, y_train, epochs=10)\n",
    "#keras.optimizers.Adadelta(lr=1.0, rho=0.95, epsilon=None, decay=0.0)\n",
    "# Adam 말고 다른 방식의 학습을 시도했지만 Adam이 제일 괜찮은 결과를 보였다.\n",
    "model_his=model.fit(x_train_norm, y_train, epochs=15,\n",
    "                    batch_size=40,\n",
    "                   validation_data=(x_valid_norm, y_valid))\n",
    "# model.fit()에 대한 데이터를 model_his에 저장시켜 valid 데이터와 train데이터의 정확도 그래프를 그려본다."
   ]
  },
  {
   "cell_type": "markdown",
   "metadata": {},
   "source": [
    "### train, valid 확인 그래프\n",
    "- model.fit()에서 validation_data=(x_valid_norm, y_valid))를 가지고 오른쪽 아래로 내려가는 그래프를 그렸다.\n",
    "- 오른쪽 아래로 내려가서 0에 가까워 질수록 훈련 데이터가 검증 데이터에 대한 정확도가 높다.\n",
    "- 2개의 데이터가 서로 비슷한 방향과 가까운 거리일 수록 잘 학습된 데이터이다."
   ]
  },
  {
   "cell_type": "code",
   "execution_count": 99,
   "metadata": {},
   "outputs": [
    {
     "data": {
      "image/png": "[encoded data removed]",
      "text/plain": [
       "<Figure size 432x288 with 1 Axes>"
      ]
     },
     "metadata": {
      "needs_background": "light"
     },
     "output_type": "display_data"
    }
   ],
   "source": [
    "y_loss = model_his.history['loss']\n",
    "y_val_loss = model_his.history['val_loss']\n",
    "x_len = np.arange(len(y_loss))\n",
    "plt.plot(x_len, y_loss, marker='.', c='red', label='Traing set')\n",
    "plt.plot(x_len, y_val_loss, marker='.', c='blue', label='testing set')\n",
    "plt.grid()\n",
    "plt.xlabel('epoch')\n",
    "plt.ylabel('loss')\n",
    "plt.show()"
   ]
  },
  {
   "cell_type": "markdown",
   "metadata": {},
   "source": [
    "### 딥러닝 네트워크 테스트 데이터 (검증)"
   ]
  },
  {
   "cell_type": "code",
   "execution_count": 100,
   "metadata": {},
   "outputs": [
    {
     "name": "stdout",
     "output_type": "stream",
     "text": [
      "학습데이터(x_test)의 이미지 개수는 300 입니다.\n",
      "x_test shape: (300, 28, 28, 3)\n",
      "y_test shape: (300,)\n"
     ]
    }
   ],
   "source": [
    "# x_test, y_test를 만드는 방법은 x_train, y_train을 만드는 방법과 아주 유사합니다.\n",
    "import os\n",
    "def load_data(img_path) :\n",
    "    # 가위 : 0, 바위 : 1, 보 : 2\n",
    "    number_of_data=300   # 가위바위보 이미지 개수 총합에 주의하세요.\n",
    "    img_size=28\n",
    "    color=3\n",
    "    #이미지 데이터와 라벨(가위 : 0, 바위 : 1, 보 : 2) 데이터를 담을 행렬(matrix) 영역을 생성합니다.\n",
    "    imgs=np.zeros(number_of_data*img_size*img_size*color,dtype=np.int32).reshape(number_of_data,img_size,img_size,color)\n",
    "    labels=np.zeros(number_of_data,dtype=np.int32)\n",
    "\n",
    "    idx=0\n",
    "    for file in glob.iglob(img_path+'/scissor/*.jpg'):\n",
    "        img = np.array(Image.open(file),dtype=np.int32)\n",
    "        imgs[idx,:,:,:]=img    # 데이터 영역에 이미지 행렬을 복사\n",
    "        labels[idx]=0   # 가위 : 0\n",
    "        idx=idx+1\n",
    "\n",
    "    for file in glob.iglob(img_path+'/rock/*.jpg'):\n",
    "        img = np.array(Image.open(file),dtype=np.int32)\n",
    "        imgs[idx,:,:,:]=img    # 데이터 영역에 이미지 행렬을 복사\n",
    "        labels[idx]=1   # 바위 : 1\n",
    "        idx=idx+1       \n",
    "    \n",
    "    for file in glob.iglob(img_path+'/paper/*.jpg'):\n",
    "        img = np.array(Image.open(file),dtype=np.int32)\n",
    "        imgs[idx,:,:,:]=img    # 데이터 영역에 이미지 행렬을 복사\n",
    "        labels[idx]=2   # 보 : 2\n",
    "        idx=idx+1\n",
    "        \n",
    "    print(\"학습데이터(x_test)의 이미지 개수는\",idx,\"입니다.\")\n",
    "    return imgs, labels\n",
    "\n",
    "image_dir_path = os.getenv(\"HOME\") + \"/aiffel/rock_scissor_paper_test\"\n",
    "(x_test, y_test)=load_data(image_dir_path)\n",
    "x_test_norm = x_test/255.0   # 입력은 0~1 사이의 값으로 정규화\n",
    "\n",
    "print(\"x_test shape: {}\".format(x_test.shape))\n",
    "print(\"y_test shape: {}\".format(y_test.shape))"
   ]
  },
  {
   "cell_type": "code",
   "execution_count": 106,
   "metadata": {},
   "outputs": [
    {
     "name": "stdout",
     "output_type": "stream",
     "text": [
      "10/10 - 0s - loss: 1.3462 - accuracy: 0.6633\n",
      "test_loss: 1.3462342023849487 \n",
      "test_accuracy: 0.6633333563804626\n"
     ]
    }
   ],
   "source": [
    "# model을 학습시키는 코드를 직접 작성해 보세요.\n",
    "# Hint! model.evaluate()을 사용해 봅시다.\n",
    "import random\n",
    "test_loss, test_accuracy = model.evaluate(x_test_norm, y_test, verbose=2)\n",
    "print(\"test_loss: {} \".format(test_loss))\n",
    "print(\"test_accuracy: {}\".format(test_accuracy))\n",
    "\n",
    "\n",
    "# loss 데이터 확인\n",
    "predicted_result= model.predict(x_test_norm)  # model이 추론한 확률값. \n",
    "predicted_labels = np.argmax(predicted_result, axis=1)"
   ]
  },
  {
   "cell_type": "markdown",
   "metadata": {},
   "source": [
    "### 예측하는데 실패한 test 데이터 보기"
   ]
  },
  {
   "cell_type": "code",
   "execution_count": 108,
   "metadata": {},
   "outputs": [
    {
     "name": "stdout",
     "output_type": "stream",
     "text": [
      "예측확률분포: [0.37192628 0.00249155 0.6255822 ]\n",
      "라벨: 1, 예측결과: 2\n"
     ]
    },
    {
     "data": {
      "image/png": "[encoded data removed]",
      "text/plain": [
       "<Figure size 432x288 with 1 Axes>"
      ]
     },
     "metadata": {
      "needs_background": "light"
     },
     "output_type": "display_data"
    },
    {
     "name": "stdout",
     "output_type": "stream",
     "text": [
      "예측확률분포: [0.3821236 0.3806609 0.2372155]\n",
      "라벨: 1, 예측결과: 0\n"
     ]
    },
    {
     "data": {
      "image/png": "[encoded data removed]",
      "text/plain": [
       "<Figure size 432x288 with 1 Axes>"
      ]
     },
     "metadata": {
      "needs_background": "light"
     },
     "output_type": "display_data"
    },
    {
     "name": "stdout",
     "output_type": "stream",
     "text": [
      "예측확률분포: [2.2114123e-01 7.6608168e-04 7.7809268e-01]\n",
      "라벨: 0, 예측결과: 2\n"
     ]
    },
    {
     "data": {
      "image/png": "[encoded data removed]",
      "text/plain": [
       "<Figure size 432x288 with 1 Axes>"
      ]
     },
     "metadata": {
      "needs_background": "light"
     },
     "output_type": "display_data"
    },
    {
     "name": "stdout",
     "output_type": "stream",
     "text": [
      "예측확률분포: [0.98240066 0.00144218 0.01615713]\n",
      "라벨: 1, 예측결과: 0\n"
     ]
    },
    {
     "data": {
      "image/png": "[encoded data removed]",
      "text/plain": [
       "<Figure size 432x288 with 1 Axes>"
      ]
     },
     "metadata": {
      "needs_background": "light"
     },
     "output_type": "display_data"
    },
    {
     "name": "stdout",
     "output_type": "stream",
     "text": [
      "예측확률분포: [0.31603864 0.00091608 0.6830453 ]\n",
      "라벨: 0, 예측결과: 2\n"
     ]
    },
    {
     "data": {
      "image/png": "[encoded data removed]",
      "text/plain": [
       "<Figure size 432x288 with 1 Axes>"
      ]
     },
     "metadata": {
      "needs_background": "light"
     },
     "output_type": "display_data"
    },
    {
     "name": "stdout",
     "output_type": "stream",
     "text": [
      "예측확률분포: [0.20349567 0.01381907 0.7826853 ]\n",
      "라벨: 0, 예측결과: 2\n"
     ]
    },
    {
     "data": {
      "image/png": "[encoded data removed]",
      "text/plain": [
       "<Figure size 432x288 with 1 Axes>"
      ]
     },
     "metadata": {
      "needs_background": "light"
     },
     "output_type": "display_data"
    },
    {
     "name": "stdout",
     "output_type": "stream",
     "text": [
      "예측확률분포: [3.9027372e-01 7.8978832e-05 6.0964733e-01]\n",
      "라벨: 0, 예측결과: 2\n"
     ]
    },
    {
     "data": {
      "image/png": "[encoded data removed]",
      "text/plain": [
       "<Figure size 432x288 with 1 Axes>"
      ]
     },
     "metadata": {
      "needs_background": "light"
     },
     "output_type": "display_data"
    },
    {
     "name": "stdout",
     "output_type": "stream",
     "text": [
      "예측확률분포: [9.951739e-01 5.153685e-04 4.310849e-03]\n",
      "라벨: 1, 예측결과: 0\n"
     ]
    },
    {
     "data": {
      "image/png": "[encoded data removed]",
      "text/plain": [
       "<Figure size 432x288 with 1 Axes>"
      ]
     },
     "metadata": {
      "needs_background": "light"
     },
     "output_type": "display_data"
    },
    {
     "name": "stdout",
     "output_type": "stream",
     "text": [
      "예측확률분포: [0.70634395 0.1156992  0.1779568 ]\n",
      "라벨: 1, 예측결과: 0\n"
     ]
    },
    {
     "data": {
      "image/png": "[encoded data removed]",
      "text/plain": [
       "<Figure size 432x288 with 1 Axes>"
      ]
     },
     "metadata": {
      "needs_background": "light"
     },
     "output_type": "display_data"
    },
    {
     "name": "stdout",
     "output_type": "stream",
     "text": [
      "예측확률분포: [1.2281144e-04 2.6280275e-06 9.9987459e-01]\n",
      "라벨: 0, 예측결과: 2\n"
     ]
    },
    {
     "data": {
      "image/png": "[encoded data removed]",
      "text/plain": [
       "<Figure size 432x288 with 1 Axes>"
      ]
     },
     "metadata": {
      "needs_background": "light"
     },
     "output_type": "display_data"
    },
    {
     "name": "stdout",
     "output_type": "stream",
     "text": [
      "예측확률분포: [0.9897736  0.00244822 0.00777823]\n",
      "라벨: 1, 예측결과: 0\n"
     ]
    },
    {
     "data": {
      "image/png": "[encoded data removed]",
      "text/plain": [
       "<Figure size 432x288 with 1 Axes>"
      ]
     },
     "metadata": {
      "needs_background": "light"
     },
     "output_type": "display_data"
    },
    {
     "name": "stdout",
     "output_type": "stream",
     "text": [
      "예측확률분포: [0.9459565  0.01302263 0.04102087]\n",
      "라벨: 1, 예측결과: 0\n"
     ]
    },
    {
     "data": {
      "image/png": "[encoded data removed]",
      "text/plain": [
       "<Figure size 432x288 with 1 Axes>"
      ]
     },
     "metadata": {
      "needs_background": "light"
     },
     "output_type": "display_data"
    },
    {
     "name": "stdout",
     "output_type": "stream",
     "text": [
      "예측확률분포: [5.4982054e-04 2.3607104e-06 9.9944776e-01]\n",
      "라벨: 0, 예측결과: 2\n"
     ]
    },
    {
     "data": {
      "image/png": "[encoded data removed]",
      "text/plain": [
       "<Figure size 432x288 with 1 Axes>"
      ]
     },
     "metadata": {
      "needs_background": "light"
     },
     "output_type": "display_data"
    },
    {
     "name": "stdout",
     "output_type": "stream",
     "text": [
      "예측확률분포: [0.8491696  0.01233442 0.1384959 ]\n",
      "라벨: 2, 예측결과: 0\n"
     ]
    },
    {
     "data": {
      "image/png": "[encoded data removed]",
      "text/plain": [
       "<Figure size 432x288 with 1 Axes>"
      ]
     },
     "metadata": {
      "needs_background": "light"
     },
     "output_type": "display_data"
    },
    {
     "name": "stdout",
     "output_type": "stream",
     "text": [
      "예측확률분포: [0.00132086 0.46601045 0.53266865]\n",
      "라벨: 0, 예측결과: 2\n"
     ]
    },
    {
     "data": {
      "image/png": "[encoded data removed]",
      "text/plain": [
       "<Figure size 432x288 with 1 Axes>"
      ]
     },
     "metadata": {
      "needs_background": "light"
     },
     "output_type": "display_data"
    }
   ],
   "source": [
    "wrong_predict_list=[]\n",
    "\n",
    "for i, _ in enumerate(predicted_labels):\n",
    "    # i번째 예측한 라벨과 실제 라벨이 다른 경우\n",
    "    if predicted_labels[i] != y_test[i]:\n",
    "        wrong_predict_list.append(i)\n",
    "\n",
    "# wrong_predict_list 에서 랜덤하게 15개 확인\n",
    "samples = random.choices(population=wrong_predict_list, k=15)  \n",
    "\n",
    "for n in samples:\n",
    "    print(\"예측확률분포: \" + str(predicted_result[n]))\n",
    "    print(\"라벨: \" + str(y_test[n]) + \", 예측결과: \" + str(predicted_labels[n]))\n",
    "    plt.imshow(x_test[n], cmap=plt.cm.binary)  # binary를 이미지로 보여주는 imshow\n",
    "    plt.show()"
   ]
  },
  {
   "cell_type": "markdown",
   "metadata": {},
   "source": [
    "#### 위의 15개의 이미지를 랜덤으로 여러번 확인해본 결과 \n",
    "#### 대체로 손이 그늘지거나 주변 손보다 어두운 경우 모델이 예측을 실패했다."
   ]
  },
  {
   "cell_type": "markdown",
   "metadata": {},
   "source": [
    "### Image Genetator  test\n",
    "#### (이미지 개수 증가시키기)\n",
    "- 데이터의 개수가 부족해서 정확도가 낮은것 같아서 Image Genetator 시도해서 이미지를 늘렸다."
   ]
  },
  {
   "cell_type": "code",
   "execution_count": 43,
   "metadata": {},
   "outputs": [
    {
     "name": "stdout",
     "output_type": "stream",
     "text": [
      "Found 3 images belonging to 3 classes.\n"
     ]
    }
   ],
   "source": [
    "from tensorflow.keras.preprocessing.image import ImageDataGenerator\n",
    "import tensorflow as tf\n",
    "import numpy as np\n",
    "\n",
    "\n",
    "train_datagen = ImageDataGenerator(rescale = 1./255,\n",
    "                                   rotation_range = 20,\n",
    "                                   zoom_range = 0.2,\n",
    "                                   horizontal_flip = True)\n",
    "# rescale =\"이미지 크기 변경\", rotation_range =\"이미지 회전\", zoom_range=\"이미지 확대/축소\"\n",
    "# horizontal_flip =\"이미지 수평 반전\" 등을 해서 이미지를 생성시키는 ImageDataGenerator이다.\n",
    "\n",
    "test_datagen = ImageDataGenerator(rescale=1./255)  # test 데이터는 이미지 크기만 조정해서 데이터 생성\n",
    "\n",
    "train_generator = train_datagen.flow_from_directory('/home/ssac27/aiffel/imgGeneator test',\n",
    "                                                 target_size = (28,28),\n",
    "                                                 batch_size = 32,\n",
    "                                                 class_mode = 'categorical')\n",
    "# 폴더명에 맞춰서 라벨링 해주기 위한 'flow_from_directory' 훈련 이미지 가져오기\n",
    "\n",
    "validation_generator = test_datagen.flow_from_directory(\n",
    "        'data/validation',\n",
    "        target_size=(28, 28),\n",
    "        batch_size=32,\n",
    "        class_mode='binary')\n",
    "# 검증데이터 flow_from_directory로 폴더명에 맞춰 라벨링해준 후 불러오기\n",
    "\n",
    "#batch_size 크기에 맞춰서 이미지를 가지고 온다."
   ]
  },
  {
   "cell_type": "markdown",
   "metadata": {},
   "source": [
    "## 회고\n",
    "\n",
    "- 과적합을 해결하기위해 DropOut을 사용하고 0~1로 테이터 정규화를 사용했다. 그리고 train_test_split를 사용해 훈련 데이터가 valid를 통해 제대로 된 훈련을하게 만들었지만 데이터의 개수가 10000개를 넘지못해 정확도가 생각보다 덜 나온것 같다.\n",
    "\n",
    "\n",
    "- k-fold로 검증을 진행하고 model.fit(validation_data)그래프로 훈련 데이터와 검증 데이터를 눈으로 확인하면서 하이퍼 파라미터 값을 조정하니 처음20~40%에 달하는 정확도가 50%이상으로 금세 올라간것을 확인했다. \n",
    "\n",
    "\n",
    "- 위의 작업들을 계속 반복하면서 모델학습에서 검증 과정의 중요성을 알게된것 같다.\n",
    "\n",
    "\n",
    "- 모델을 만들면서 처음에는 쉽게만 여겨졌던 프로젝트가 생각보다 많이 어려워서 좀 더 열심히 해야겠단 생각이 듭니다."
   ]
  },
  {
   "cell_type": "code",
   "execution_count": null,
   "metadata": {},
   "outputs": [],
   "source": []
  }
 ],
 "metadata": {
  "kernelspec": {
   "display_name": "Python 3",
   "language": "python",
   "name": "python3"
  },
  "language_info": {
   "codemirror_mode": {
    "name": "ipython",
    "version": 3
   },
   "file_extension": ".py",
   "mimetype": "text/x-python",
   "name": "python",
   "nbconvert_exporter": "python",
   "pygments_lexer": "ipython3",
   "version": "3.7.9"
  }
 },
 "nbformat": 4,
 "nbformat_minor": 4
}
